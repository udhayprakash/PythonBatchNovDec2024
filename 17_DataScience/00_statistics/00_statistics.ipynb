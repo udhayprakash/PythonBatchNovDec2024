{
 "cells": [
  {
   "cell_type": "markdown",
   "metadata": {},
   "source": [
    "# Statistics\n",
    "\n",
    "\n",
    "This module was introducted in python 3.4\n",
    "As of python 3.8, these functions support int, float, Decimal and Fraction."
   ]
  },
  {
   "cell_type": "code",
   "execution_count": 1,
   "metadata": {},
   "outputs": [],
   "source": [
    "import statistics"
   ]
  },
  {
   "cell_type": "code",
   "execution_count": 3,
   "metadata": {},
   "outputs": [
    {
     "data": {
      "text/plain": [
       "['Counter',\n",
       " 'Decimal',\n",
       " 'Fraction',\n",
       " 'LinearRegression',\n",
       " 'NormalDist',\n",
       " 'StatisticsError',\n",
       " '_SQRT2',\n",
       " '__all__',\n",
       " '__annotations__',\n",
       " '__builtins__',\n",
       " '__cached__',\n",
       " '__doc__',\n",
       " '__file__',\n",
       " '__loader__',\n",
       " '__name__',\n",
       " '__package__',\n",
       " '__spec__',\n",
       " '_coerce',\n",
       " '_convert',\n",
       " '_decimal_sqrt_of_frac',\n",
       " '_exact_ratio',\n",
       " '_fail_neg',\n",
       " '_float_sqrt_of_frac',\n",
       " '_integer_sqrt_of_frac_rto',\n",
       " '_isfinite',\n",
       " '_mean_stdev',\n",
       " '_normal_dist_inv_cdf',\n",
       " '_rank',\n",
       " '_sqrt_bit_width',\n",
       " '_ss',\n",
       " '_sum',\n",
       " 'bisect_left',\n",
       " 'bisect_right',\n",
       " 'correlation',\n",
       " 'count',\n",
       " 'covariance',\n",
       " 'defaultdict',\n",
       " 'erf',\n",
       " 'exp',\n",
       " 'fabs',\n",
       " 'fmean',\n",
       " 'fsum',\n",
       " 'geometric_mean',\n",
       " 'groupby',\n",
       " 'harmonic_mean',\n",
       " 'hypot',\n",
       " 'itemgetter',\n",
       " 'linear_regression',\n",
       " 'log',\n",
       " 'math',\n",
       " 'mean',\n",
       " 'median',\n",
       " 'median_grouped',\n",
       " 'median_high',\n",
       " 'median_low',\n",
       " 'mode',\n",
       " 'multimode',\n",
       " 'namedtuple',\n",
       " 'numbers',\n",
       " 'pstdev',\n",
       " 'pvariance',\n",
       " 'quantiles',\n",
       " 'random',\n",
       " 'reduce',\n",
       " 'repeat',\n",
       " 'sqrt',\n",
       " 'stdev',\n",
       " 'sumprod',\n",
       " 'sys',\n",
       " 'tau',\n",
       " 'variance']"
      ]
     },
     "execution_count": 3,
     "metadata": {},
     "output_type": "execute_result"
    }
   ],
   "source": [
    "dir(statistics)"
   ]
  },
  {
   "cell_type": "code",
   "execution_count": 4,
   "metadata": {},
   "outputs": [
    {
     "name": "stdout",
     "output_type": "stream",
     "text": [
      "\n",
      "Basic statistics module.\n",
      "\n",
      "This module provides functions for calculating statistics of data, including\n",
      "averages, variance, and standard deviation.\n",
      "\n",
      "Calculating averages\n",
      "--------------------\n",
      "\n",
      "==================  ==================================================\n",
      "Function            Description\n",
      "==================  ==================================================\n",
      "mean                Arithmetic mean (average) of data.\n",
      "fmean               Fast, floating point arithmetic mean.\n",
      "geometric_mean      Geometric mean of data.\n",
      "harmonic_mean       Harmonic mean of data.\n",
      "median              Median (middle value) of data.\n",
      "median_low          Low median of data.\n",
      "median_high         High median of data.\n",
      "median_grouped      Median, or 50th percentile, of grouped data.\n",
      "mode                Mode (most common value) of data.\n",
      "multimode           List of modes (most common values of data).\n",
      "quantiles           Divide data into intervals with equal probability.\n",
      "==================  ==================================================\n",
      "\n",
      "Calculate the arithmetic mean (\"the average\") of data:\n",
      "\n",
      ">>> mean([-1.0, 2.5, 3.25, 5.75])\n",
      "2.625\n",
      "\n",
      "\n",
      "Calculate the standard median of discrete data:\n",
      "\n",
      ">>> median([2, 3, 4, 5])\n",
      "3.5\n",
      "\n",
      "\n",
      "Calculate the median, or 50th percentile, of data grouped into class intervals\n",
      "centred on the data values provided. E.g. if your data points are rounded to\n",
      "the nearest whole number:\n",
      "\n",
      ">>> median_grouped([2, 2, 3, 3, 3, 4])  #doctest: +ELLIPSIS\n",
      "2.8333333333...\n",
      "\n",
      "This should be interpreted in this way: you have two data points in the class\n",
      "interval 1.5-2.5, three data points in the class interval 2.5-3.5, and one in\n",
      "the class interval 3.5-4.5. The median of these data points is 2.8333...\n",
      "\n",
      "\n",
      "Calculating variability or spread\n",
      "---------------------------------\n",
      "\n",
      "==================  =============================================\n",
      "Function            Description\n",
      "==================  =============================================\n",
      "pvariance           Population variance of data.\n",
      "variance            Sample variance of data.\n",
      "pstdev              Population standard deviation of data.\n",
      "stdev               Sample standard deviation of data.\n",
      "==================  =============================================\n",
      "\n",
      "Calculate the standard deviation of sample data:\n",
      "\n",
      ">>> stdev([2.5, 3.25, 5.5, 11.25, 11.75])  #doctest: +ELLIPSIS\n",
      "4.38961843444...\n",
      "\n",
      "If you have previously calculated the mean, you can pass it as the optional\n",
      "second argument to the four \"spread\" functions to avoid recalculating it:\n",
      "\n",
      ">>> data = [1, 2, 2, 4, 4, 4, 5, 6]\n",
      ">>> mu = mean(data)\n",
      ">>> pvariance(data, mu)\n",
      "2.5\n",
      "\n",
      "\n",
      "Statistics for relations between two inputs\n",
      "-------------------------------------------\n",
      "\n",
      "==================  ====================================================\n",
      "Function            Description\n",
      "==================  ====================================================\n",
      "covariance          Sample covariance for two variables.\n",
      "correlation         Pearson's correlation coefficient for two variables.\n",
      "linear_regression   Intercept and slope for simple linear regression.\n",
      "==================  ====================================================\n",
      "\n",
      "Calculate covariance, Pearson's correlation, and simple linear regression\n",
      "for two inputs:\n",
      "\n",
      ">>> x = [1, 2, 3, 4, 5, 6, 7, 8, 9]\n",
      ">>> y = [1, 2, 3, 1, 2, 3, 1, 2, 3]\n",
      ">>> covariance(x, y)\n",
      "0.75\n",
      ">>> correlation(x, y)  #doctest: +ELLIPSIS\n",
      "0.31622776601...\n",
      ">>> linear_regression(x, y)  #doctest:\n",
      "LinearRegression(slope=0.1, intercept=1.5)\n",
      "\n",
      "\n",
      "Exceptions\n",
      "----------\n",
      "\n",
      "A single exception is defined: StatisticsError is a subclass of ValueError.\n",
      "\n",
      "\n"
     ]
    }
   ],
   "source": [
    "print(statistics.__doc__)\n"
   ]
  },
  {
   "cell_type": "markdown",
   "metadata": {},
   "source": [
    "1. statistics.mean\n",
    "- Arithmetic mean (or  average)\n",
    "- sum of the data divided by the number of data points.\n",
    "- It is a measure of the central location of the data."
   ]
  },
  {
   "cell_type": "code",
   "execution_count": 5,
   "metadata": {},
   "outputs": [
    {
     "data": {
      "text/plain": [
       "2.8"
      ]
     },
     "execution_count": 5,
     "metadata": {},
     "output_type": "execute_result"
    }
   ],
   "source": [
    "statistics.mean([1, 2, 3, 4, 4])"
   ]
  },
  {
   "cell_type": "code",
   "execution_count": 7,
   "metadata": {},
   "outputs": [
    {
     "data": {
      "text/plain": [
       "2.8"
      ]
     },
     "execution_count": 7,
     "metadata": {},
     "output_type": "execute_result"
    }
   ],
   "source": [
    "values = [1, 2, 3, 4, 4]\n",
    "\n",
    "sum(values)/ len(values)"
   ]
  },
  {
   "cell_type": "code",
   "execution_count": 8,
   "metadata": {},
   "outputs": [
    {
     "data": {
      "text/plain": [
       "2.625"
      ]
     },
     "execution_count": 8,
     "metadata": {},
     "output_type": "execute_result"
    }
   ],
   "source": [
    "statistics.mean([-1.0, 2.5, 3.25, 5.75])"
   ]
  },
  {
   "cell_type": "code",
   "execution_count": 9,
   "metadata": {},
   "outputs": [
    {
     "data": {
      "text/plain": [
       "2.5625"
      ]
     },
     "execution_count": 9,
     "metadata": {},
     "output_type": "execute_result"
    }
   ],
   "source": [
    "statistics.mean([1, 2, 3, 4, -1.0, 2.5, 3.25, 5.75])"
   ]
  },
  {
   "cell_type": "code",
   "execution_count": 10,
   "metadata": {},
   "outputs": [
    {
     "name": "stdout",
     "output_type": "stream",
     "text": [
      "3/7\n"
     ]
    }
   ],
   "source": [
    "from fractions import Fraction as F\n",
    "\n",
    "print(F(3, 7))"
   ]
  },
  {
   "cell_type": "code",
   "execution_count": 11,
   "metadata": {},
   "outputs": [
    {
     "data": {
      "text/plain": [
       "0.42857142857142855"
      ]
     },
     "execution_count": 11,
     "metadata": {},
     "output_type": "execute_result"
    }
   ],
   "source": [
    "3/7"
   ]
  },
  {
   "cell_type": "code",
   "execution_count": 12,
   "metadata": {},
   "outputs": [
    {
     "data": {
      "text/plain": [
       "Fraction(13, 21)"
      ]
     },
     "execution_count": 12,
     "metadata": {},
     "output_type": "execute_result"
    }
   ],
   "source": [
    "statistics.mean([F(3, 7), F(1, 21), F(5, 3), F(1, 3)])"
   ]
  },
  {
   "cell_type": "code",
   "execution_count": 13,
   "metadata": {},
   "outputs": [
    {
     "name": "stdout",
     "output_type": "stream",
     "text": [
      "0.5\n",
      "0.53432423434234343243434\n"
     ]
    }
   ],
   "source": [
    "from decimal import Decimal as D\n",
    "\n",
    "print(D(\"0.5\"))\n",
    "print(D(\"0.53432423434234343243434\"))"
   ]
  },
  {
   "cell_type": "code",
   "execution_count": 14,
   "metadata": {},
   "outputs": [
    {
     "data": {
      "text/plain": [
       "0.5343242343423434"
      ]
     },
     "execution_count": 14,
     "metadata": {},
     "output_type": "execute_result"
    }
   ],
   "source": [
    "0.53432423434234343243434"
   ]
  },
  {
   "cell_type": "code",
   "execution_count": 15,
   "metadata": {},
   "outputs": [
    {
     "data": {
      "text/plain": [
       "Decimal('0.5625')"
      ]
     },
     "execution_count": 15,
     "metadata": {},
     "output_type": "execute_result"
    }
   ],
   "source": [
    "statistics.mean([D(\"0.5\"), D(\"0.75\"), D(\"0.625\"), D(\"0.375\")])"
   ]
  },
  {
   "cell_type": "markdown",
   "metadata": {},
   "source": [
    "2. statistics.fmean\n",
    "- Convert data to floats and compute the arithmetic mean.\n",
    "- This runs faster than the mean() function and it always returns a float. \n",
    "- The data may be a sequence or iterable."
   ]
  },
  {
   "cell_type": "code",
   "execution_count": 16,
   "metadata": {},
   "outputs": [
    {
     "data": {
      "text/plain": [
       "2.8"
      ]
     },
     "execution_count": 16,
     "metadata": {},
     "output_type": "execute_result"
    }
   ],
   "source": [
    "statistics.fmean([1, 2, 3, 4, 4])"
   ]
  },
  {
   "cell_type": "code",
   "execution_count": 17,
   "metadata": {},
   "outputs": [
    {
     "data": {
      "text/plain": [
       "1.0"
      ]
     },
     "execution_count": 17,
     "metadata": {},
     "output_type": "execute_result"
    }
   ],
   "source": [
    "statistics.fmean([1, 1, 1, 1, 1, 1, 1])"
   ]
  },
  {
   "cell_type": "code",
   "execution_count": 18,
   "metadata": {},
   "outputs": [
    {
     "data": {
      "text/plain": [
       "1.25"
      ]
     },
     "execution_count": 18,
     "metadata": {},
     "output_type": "execute_result"
    }
   ],
   "source": [
    "statistics.fmean([1, 1, 1, 1, 1, 1, 1, 3])"
   ]
  },
  {
   "cell_type": "code",
   "execution_count": 19,
   "metadata": {},
   "outputs": [
    {
     "data": {
      "text/plain": [
       "2.625"
      ]
     },
     "execution_count": 19,
     "metadata": {},
     "output_type": "execute_result"
    }
   ],
   "source": [
    "statistics.fmean([-1.0, 2.5, 3.25, 5.75])"
   ]
  },
  {
   "cell_type": "markdown",
   "metadata": {},
   "source": [
    "3.statistics.geometric_mean\n",
    "- Convert data to floats and compute the geometric mean.\n",
    "- Indicates the central tendency or typical value of the data using the product \n",
    "   of the values (as opposed to the arithmetic mean which uses their sum).\n",
    "- Raises a StatisticsError if the input dataset is empty, if it contains a zero,\n",
    "  or if it contains a negative value. \n",
    "- The data may be a sequence or iterable."
   ]
  },
  {
   "cell_type": "code",
   "execution_count": 21,
   "metadata": {},
   "outputs": [
    {
     "data": {
      "text/plain": [
       "2.8"
      ]
     },
     "execution_count": 21,
     "metadata": {},
     "output_type": "execute_result"
    }
   ],
   "source": [
    "statistics.mean([1, 2, 3, 4, 4])\n"
   ]
  },
  {
   "cell_type": "code",
   "execution_count": 22,
   "metadata": {},
   "outputs": [
    {
     "data": {
      "text/plain": [
       "2.491461879231035"
      ]
     },
     "execution_count": 22,
     "metadata": {},
     "output_type": "execute_result"
    }
   ],
   "source": [
    "statistics.geometric_mean([1, 2, 3, 4, 4])\n"
   ]
  },
  {
   "cell_type": "code",
   "execution_count": 24,
   "metadata": {},
   "outputs": [
    {
     "name": "stdout",
     "output_type": "stream",
     "text": [
      "product 96\n"
     ]
    },
    {
     "data": {
      "text/plain": [
       "2.491461879231035"
      ]
     },
     "execution_count": 24,
     "metadata": {},
     "output_type": "execute_result"
    }
   ],
   "source": [
    "from functools import reduce\n",
    "values = [1, 2, 3, 4, 4]\n",
    "product = reduce(lambda x,y: x * y, values)\n",
    "print('product', product)\n",
    "\n",
    "product ** (1/ len(values))"
   ]
  },
  {
   "cell_type": "code",
   "execution_count": 25,
   "metadata": {},
   "outputs": [
    {
     "data": {
      "text/plain": [
       "2.5"
      ]
     },
     "execution_count": 25,
     "metadata": {},
     "output_type": "execute_result"
    }
   ],
   "source": [
    "round(statistics.geometric_mean([1, 2, 3, 4, 4]), 1)\n"
   ]
  },
  {
   "cell_type": "code",
   "execution_count": 26,
   "metadata": {},
   "outputs": [
    {
     "data": {
      "text/plain": [
       "2.3333333333333335"
      ]
     },
     "execution_count": 26,
     "metadata": {},
     "output_type": "execute_result"
    }
   ],
   "source": [
    "statistics.mean([1, 2, 3, 4, 4, 0])\n"
   ]
  },
  {
   "cell_type": "code",
   "execution_count": 27,
   "metadata": {},
   "outputs": [
    {
     "name": "stdout",
     "output_type": "stream",
     "text": [
      "geometric mean requires a non-empty dataset containing positive numbers\n"
     ]
    }
   ],
   "source": [
    "try:\n",
    "    statistics.geometric_mean([1, 2, 3, 4, 4, 0])\n",
    "except statistics.StatisticsError as ex:\n",
    "    print(ex)"
   ]
  },
  {
   "cell_type": "code",
   "execution_count": 28,
   "metadata": {},
   "outputs": [
    {
     "data": {
      "text/plain": [
       "0"
      ]
     },
     "execution_count": 28,
     "metadata": {},
     "output_type": "execute_result"
    }
   ],
   "source": [
    "0 ** 23"
   ]
  },
  {
   "cell_type": "markdown",
   "metadata": {},
   "source": [
    "4.statistics.harmonic_mean\n",
    "- Return the harmonic mean of data, a sequence or iterable of real-valued numbers.\n",
    "- Also, called as subcontrary mean\n",
    "- reciprocal of the arithmetic mean() of the reciprocals of the data.\n",
    "-  harmonic mean of three values a, b and c is 3/(1/a + 1/b + 1/c)\n",
    "- StatisticsError is raised if data is empty, or any element is less than zero.\n",
    "\n",
    "- harmonic mean is a type of average, a measure of the central location of the data. \n",
    "- It is often appropriate when averaging rates or ratios"
   ]
  },
  {
   "cell_type": "markdown",
   "metadata": {},
   "source": [
    "Question: Suppose a car travels 10 km at 40 km/hr, then another 10 km at 60 km/hr. What is the average speed?\n",
    "\n"
   ]
  },
  {
   "cell_type": "code",
   "execution_count": 29,
   "metadata": {},
   "outputs": [
    {
     "data": {
      "text/plain": [
       "48.0"
      ]
     },
     "execution_count": 29,
     "metadata": {},
     "output_type": "execute_result"
    }
   ],
   "source": [
    "statistics.harmonic_mean([40, 60])"
   ]
  },
  {
   "cell_type": "markdown",
   "metadata": {},
   "source": [
    "Question: Suppose an investor purchases an equal value of shares in each of three companies, with P/E (price/earning) ratios of 2.5, 3 and 10. What is the average P/E ratio for the investor’s portfolio?\n",
    "\n"
   ]
  },
  {
   "cell_type": "code",
   "execution_count": 30,
   "metadata": {},
   "outputs": [
    {
     "data": {
      "text/plain": [
       "3.6"
      ]
     },
     "execution_count": 30,
     "metadata": {},
     "output_type": "execute_result"
    }
   ],
   "source": [
    "statistics.harmonic_mean([2.5, 3, 10])  # For an equal investment portfolio."
   ]
  },
  {
   "cell_type": "code",
   "execution_count": 31,
   "metadata": {},
   "outputs": [
    {
     "data": {
      "text/plain": [
       "3.5999999999999996"
      ]
     },
     "execution_count": 31,
     "metadata": {},
     "output_type": "execute_result"
    }
   ],
   "source": [
    "values = [2.5, 3, 10]\n",
    "\n",
    "len(values)/sum([ (1/val) for val in values])"
   ]
  },
  {
   "cell_type": "markdown",
   "metadata": {},
   "source": [
    "5.statistics.median\n",
    "- Return the median (middle value) of numeric data, using the common “mean of middle two” method.\n",
    "- This is suited for when your data is discrete, and you don’t mind that the median may not be an actual data point.\n",
    "Calculate the standard median of discrete data:"
   ]
  },
  {
   "cell_type": "code",
   "execution_count": 32,
   "metadata": {},
   "outputs": [
    {
     "data": {
      "text/plain": [
       "3"
      ]
     },
     "execution_count": 32,
     "metadata": {},
     "output_type": "execute_result"
    }
   ],
   "source": [
    "statistics.median([1, 2, 3, 8, 9])\n"
   ]
  },
  {
   "cell_type": "code",
   "execution_count": 33,
   "metadata": {},
   "outputs": [
    {
     "data": {
      "text/plain": [
       "3.5"
      ]
     },
     "execution_count": 33,
     "metadata": {},
     "output_type": "execute_result"
    }
   ],
   "source": [
    "statistics.median([2, 3, 4, 5])\n"
   ]
  },
  {
   "cell_type": "code",
   "execution_count": 34,
   "metadata": {},
   "outputs": [
    {
     "data": {
      "text/plain": [
       "3.5"
      ]
     },
     "execution_count": 34,
     "metadata": {},
     "output_type": "execute_result"
    }
   ],
   "source": [
    "(3 + 4) / 2"
   ]
  },
  {
   "cell_type": "markdown",
   "metadata": {},
   "source": [
    "6.statistics.median_low\n",
    "- Return the low median of numeric data.\n",
    "- The low median is always a member of the data set. \n",
    "- When the number of data points is odd, the middle value is returned. \n",
    "- When it is even, the smaller of the two middle values is returned."
   ]
  },
  {
   "cell_type": "code",
   "execution_count": 35,
   "metadata": {},
   "outputs": [
    {
     "data": {
      "text/plain": [
       "3"
      ]
     },
     "execution_count": 35,
     "metadata": {},
     "output_type": "execute_result"
    }
   ],
   "source": [
    "statistics.median_low([1, 2, 3, 8, 9])"
   ]
  },
  {
   "cell_type": "code",
   "execution_count": 36,
   "metadata": {},
   "outputs": [
    {
     "data": {
      "text/plain": [
       "3"
      ]
     },
     "execution_count": 36,
     "metadata": {},
     "output_type": "execute_result"
    }
   ],
   "source": [
    "statistics.median_low([2, 3, 4, 5])\n"
   ]
  },
  {
   "cell_type": "markdown",
   "metadata": {},
   "source": [
    "7.statistics.median_high\n",
    "- Return the high median of data.\n",
    "- The high median is always a member of the data set. \n",
    "- When the number of data points is odd, the middle value is returned. \n",
    "- When it is even, the larger of the two middle values is returned."
   ]
  },
  {
   "cell_type": "code",
   "execution_count": 37,
   "metadata": {},
   "outputs": [
    {
     "data": {
      "text/plain": [
       "3"
      ]
     },
     "execution_count": 37,
     "metadata": {},
     "output_type": "execute_result"
    }
   ],
   "source": [
    "statistics.median_high([1, 2, 3, 8, 9])\n"
   ]
  },
  {
   "cell_type": "code",
   "execution_count": 38,
   "metadata": {},
   "outputs": [
    {
     "data": {
      "text/plain": [
       "4"
      ]
     },
     "execution_count": 38,
     "metadata": {},
     "output_type": "execute_result"
    }
   ],
   "source": [
    "statistics.median_high([2, 3, 4, 5])\n"
   ]
  },
  {
   "cell_type": "markdown",
   "metadata": {},
   "source": [
    "8.statistics.median_grouped(data, interval=1)\n",
    "- Return the median of grouped continuous data, calculated as the 50th percentile, using interpolation. \n",
    "- If data is empty, StatisticsError is raised. \n",
    "- Data can be a sequence or iterable."
   ]
  },
  {
   "cell_type": "code",
   "execution_count": 39,
   "metadata": {},
   "outputs": [
    {
     "data": {
      "text/plain": [
       "3.0"
      ]
     },
     "execution_count": 39,
     "metadata": {},
     "output_type": "execute_result"
    }
   ],
   "source": [
    "statistics.median_grouped([1, 2, 3, 8, 9])\n"
   ]
  },
  {
   "cell_type": "code",
   "execution_count": 40,
   "metadata": {},
   "outputs": [
    {
     "data": {
      "text/plain": [
       "3.5"
      ]
     },
     "execution_count": 40,
     "metadata": {},
     "output_type": "execute_result"
    }
   ],
   "source": [
    "statistics.median_grouped([2, 3, 4, 5])\n"
   ]
  },
  {
   "cell_type": "markdown",
   "metadata": {},
   "source": [
    "Optional argument interval represents the class interval, and defaults to 1. Changing the class interval naturally will change the interpolation:\n",
    "\n"
   ]
  },
  {
   "cell_type": "code",
   "execution_count": 41,
   "metadata": {},
   "outputs": [
    {
     "data": {
      "text/plain": [
       "3.5"
      ]
     },
     "execution_count": 41,
     "metadata": {},
     "output_type": "execute_result"
    }
   ],
   "source": [
    "statistics.median_grouped([2, 3, 4, 5], interval=1)\n"
   ]
  },
  {
   "cell_type": "code",
   "execution_count": 42,
   "metadata": {},
   "outputs": [
    {
     "data": {
      "text/plain": [
       "3.0"
      ]
     },
     "execution_count": 42,
     "metadata": {},
     "output_type": "execute_result"
    }
   ],
   "source": [
    "statistics.median_grouped([2, 3, 4, 5], interval=2)"
   ]
  },
  {
   "cell_type": "code",
   "execution_count": 43,
   "metadata": {},
   "outputs": [
    {
     "data": {
      "text/plain": [
       "2.5"
      ]
     },
     "execution_count": 43,
     "metadata": {},
     "output_type": "execute_result"
    }
   ],
   "source": [
    "statistics.median_grouped([2, 3, 4, 5], interval=3)"
   ]
  },
  {
   "cell_type": "markdown",
   "metadata": {},
   "source": [
    "NOTE: This function does not check whether the data points are at least interval apart.\n",
    "\n"
   ]
  },
  {
   "cell_type": "markdown",
   "metadata": {},
   "source": [
    "9.statistics.mode(data)\n",
    "- Return the single most common data point from discrete or nominal data.\n",
    "- The mode (when it exists) is the most typical value and serves as a measure of central location."
   ]
  },
  {
   "cell_type": "code",
   "execution_count": 44,
   "metadata": {},
   "outputs": [
    {
     "data": {
      "text/plain": [
       "3"
      ]
     },
     "execution_count": 44,
     "metadata": {},
     "output_type": "execute_result"
    }
   ],
   "source": [
    "statistics.mode([1, 1, 2, 3, 3, 3, 3, 4])  # Its single mode data"
   ]
  },
  {
   "cell_type": "code",
   "execution_count": 45,
   "metadata": {},
   "outputs": [
    {
     "data": {
      "text/plain": [
       "1"
      ]
     },
     "execution_count": 45,
     "metadata": {},
     "output_type": "execute_result"
    }
   ],
   "source": [
    "statistics.mode(\n",
    "    [1, 1, 2, 2, 3, 3, 4]\n",
    ")  # Its multi-mode data ( 1, 2 & 3 each are two times)"
   ]
  },
  {
   "cell_type": "code",
   "execution_count": 46,
   "metadata": {},
   "outputs": [
    {
     "data": {
      "text/plain": [
       "2"
      ]
     },
     "execution_count": 46,
     "metadata": {},
     "output_type": "execute_result"
    }
   ],
   "source": [
    "statistics.mode(\n",
    "    [2, 2, 3, 1, 1, 3, 4]\n",
    ")  # Its multi-mode data ( 1, 2 & 3 each are two times)"
   ]
  },
  {
   "cell_type": "code",
   "execution_count": 47,
   "metadata": {},
   "outputs": [
    {
     "data": {
      "text/plain": [
       "'red'"
      ]
     },
     "execution_count": 47,
     "metadata": {},
     "output_type": "execute_result"
    }
   ],
   "source": [
    "statistics.mode([\"red\", \"blue\", \"blue\", \"red\", \"green\", \"red\", \"red\"])\n"
   ]
  },
  {
   "cell_type": "code",
   "execution_count": 48,
   "metadata": {},
   "outputs": [
    {
     "data": {
      "text/plain": [
       "'blue'"
      ]
     },
     "execution_count": 48,
     "metadata": {},
     "output_type": "execute_result"
    }
   ],
   "source": [
    "statistics.mode([\"blue\", \"blue\", \"red\", \"green\", \"red\"])\n"
   ]
  },
  {
   "cell_type": "markdown",
   "metadata": {},
   "source": [
    "10.statistics.multimode(data)\n",
    "- Return a list of the most frequently occurring values in the order they were \n",
    "  first encountered in the data. \n",
    "- Will return more than one result if there are multiple modes or an empty list if the data is empty:"
   ]
  },
  {
   "cell_type": "code",
   "execution_count": 49,
   "metadata": {},
   "outputs": [
    {
     "data": {
      "text/plain": [
       "['red']"
      ]
     },
     "execution_count": 49,
     "metadata": {},
     "output_type": "execute_result"
    }
   ],
   "source": [
    "statistics.multimode([\"red\", \"blue\", \"blue\", \"red\", \"green\", \"red\", \"red\"])"
   ]
  },
  {
   "cell_type": "code",
   "execution_count": 50,
   "metadata": {},
   "outputs": [
    {
     "data": {
      "text/plain": [
       "['red', 'blue']"
      ]
     },
     "execution_count": 50,
     "metadata": {},
     "output_type": "execute_result"
    }
   ],
   "source": [
    "statistics.multimode([\"red\", \"blue\", \"blue\", \"red\", \"green\"])"
   ]
  },
  {
   "cell_type": "code",
   "execution_count": 51,
   "metadata": {},
   "outputs": [
    {
     "data": {
      "text/plain": [
       "[1, 2, 3]"
      ]
     },
     "execution_count": 51,
     "metadata": {},
     "output_type": "execute_result"
    }
   ],
   "source": [
    "statistics.multimode(\n",
    "    [1, 1, 2, 2, 3, 3, 4]\n",
    ")  # Its multi-mode data ( 1, 2 & 3 each are two times)"
   ]
  },
  {
   "cell_type": "code",
   "execution_count": 52,
   "metadata": {},
   "outputs": [
    {
     "data": {
      "text/plain": [
       "1"
      ]
     },
     "execution_count": 52,
     "metadata": {},
     "output_type": "execute_result"
    }
   ],
   "source": [
    "# To get the minimum mode data point\n",
    "min(statistics.multimode([1, 1, 2, 2, 3, 3, 4]))"
   ]
  },
  {
   "cell_type": "code",
   "execution_count": 53,
   "metadata": {},
   "outputs": [
    {
     "data": {
      "text/plain": [
       "3"
      ]
     },
     "execution_count": 53,
     "metadata": {},
     "output_type": "execute_result"
    }
   ],
   "source": [
    "\n",
    "# To get the maximum mode data point\n",
    "max(statistics.multimode([1, 1, 2, 2, 3, 3, 4]))"
   ]
  },
  {
   "cell_type": "markdown",
   "metadata": {},
   "source": [
    "11.statistics.variance(data, xbar=None)\n",
    "- Variance, or second moment about the mean, is a measure of the variability (spread or dispersion) of data. \n",
    "- A large variance indicates that the data is spread out; a small variance indicate viceversa"
   ]
  },
  {
   "cell_type": "code",
   "execution_count": 55,
   "metadata": {},
   "outputs": [
    {
     "name": "stdout",
     "output_type": "stream",
     "text": [
      "mean_val = 4.454545454545454\n",
      "variance = 5.872727272727273\n"
     ]
    }
   ],
   "source": [
    "mean_val = statistics.mean([2, 5, 3, 2, 8, 3, 9, 4, 2, 5, 6])\n",
    "print(f'{mean_val = }')\n",
    "variance = statistics.variance([2, 5, 3, 2, 8, 3, 9, 4, 2, 5, 6])\n",
    "print(f'{variance = }')"
   ]
  },
  {
   "cell_type": "markdown",
   "metadata": {},
   "source": [
    "12.statistics.pvariance(data, mu=None)\n",
    "- Return the population variance of data, a non-empty sequence or iterable of real-valued numbers.\n",
    "- In variance(), only the sample mean is taken into consideration, while \n",
    "  during pvariance(), the mean of entire population is taken into consideration."
   ]
  },
  {
   "cell_type": "code",
   "execution_count": 56,
   "metadata": {},
   "outputs": [
    {
     "data": {
      "text/plain": [
       "5.338842975206612"
      ]
     },
     "execution_count": 56,
     "metadata": {},
     "output_type": "execute_result"
    }
   ],
   "source": [
    "statistics.pvariance([2, 5, 3, 2, 8, 3, 9, 4, 2, 5, 6])"
   ]
  },
  {
   "cell_type": "code",
   "execution_count": 57,
   "metadata": {},
   "outputs": [
    {
     "data": {
      "text/plain": [
       "5.338842975206612"
      ]
     },
     "execution_count": 57,
     "metadata": {},
     "output_type": "execute_result"
    }
   ],
   "source": [
    "data = [2, 5, 3, 2, 8, 3, 9, 4, 2, 5, 6]\n",
    "m = statistics.mean(data)\n",
    "statistics.pvariance(data, mu=m)"
   ]
  },
  {
   "cell_type": "markdown",
   "metadata": {},
   "source": [
    "NOTE: Apparently, the Python interpreter doesn't even check whether the value entered for mu is the actual mean of data-set or not. Thus providing incorrect value would lead to impossible answers\n",
    "\n"
   ]
  },
  {
   "cell_type": "code",
   "execution_count": 62,
   "metadata": {},
   "outputs": [
    {
     "name": "stdout",
     "output_type": "stream",
     "text": [
      "mean value:3.5\n",
      "pvariance :2.5\n"
     ]
    }
   ],
   "source": [
    "data = [1, 2, 2, 4, 4, 4, 5, 6]\n",
    "mu = statistics.mean(data)\n",
    "print(f\"mean value:{mu}\")\n",
    "\n",
    "pv = statistics.pvariance(data, mu)\n",
    "print(f\"pvariance :{pv}\")"
   ]
  },
  {
   "cell_type": "markdown",
   "metadata": {},
   "source": [
    "13.statistics.stdev(data, xbar=None)\n"
   ]
  },
  {
   "cell_type": "code",
   "execution_count": 58,
   "metadata": {},
   "outputs": [
    {
     "data": {
      "text/plain": [
       "4.389618434442793"
      ]
     },
     "execution_count": 58,
     "metadata": {},
     "output_type": "execute_result"
    }
   ],
   "source": [
    "statistics.stdev([2.5, 3.25, 5.5, 11.25, 11.75])\n"
   ]
  },
  {
   "cell_type": "markdown",
   "metadata": {},
   "source": [
    "14.statistics.pstdev(data, mu=None)\n"
   ]
  },
  {
   "cell_type": "code",
   "execution_count": 59,
   "metadata": {},
   "outputs": [
    {
     "name": "stdout",
     "output_type": "stream",
     "text": [
      "Population Standard Deviation: 1.4142135623730951\n"
     ]
    }
   ],
   "source": [
    "# Calculate the population standard deviation\n",
    "pstdev_value = statistics.pstdev([1, 2, 3, 4, 5])\n",
    "\n",
    "print(\"Population Standard Deviation:\", pstdev_value)"
   ]
  },
  {
   "cell_type": "code",
   "execution_count": 60,
   "metadata": {},
   "outputs": [
    {
     "name": "stdout",
     "output_type": "stream",
     "text": [
      "Sample Standard Deviation: 2.028719418583763\n"
     ]
    }
   ],
   "source": [
    "stdev = statistics.pstdev([1, 2, 3, 4, 5], mu=statistics.mean(data))\n",
    "\n",
    "print(\"Sample Standard Deviation:\", stdev)"
   ]
  },
  {
   "cell_type": "markdown",
   "metadata": {},
   "source": [
    "13.statistics.stdev(data, xbar=None)\n"
   ]
  },
  {
   "cell_type": "code",
   "execution_count": 63,
   "metadata": {},
   "outputs": [
    {
     "data": {
      "text/plain": [
       "4.389618434442793"
      ]
     },
     "execution_count": 63,
     "metadata": {},
     "output_type": "execute_result"
    }
   ],
   "source": [
    "statistics.stdev([2.5, 3.25, 5.5, 11.25, 11.75])\n"
   ]
  },
  {
   "cell_type": "markdown",
   "metadata": {},
   "source": [
    "14.statistics.pstdev(data, mu=None)\n"
   ]
  },
  {
   "cell_type": "code",
   "execution_count": 64,
   "metadata": {},
   "outputs": [
    {
     "name": "stdout",
     "output_type": "stream",
     "text": [
      "Population Standard Deviation: 1.4142135623730951\n"
     ]
    }
   ],
   "source": [
    "# Calculate the population standard deviation\n",
    "pstdev_value = statistics.pstdev([1, 2, 3, 4, 5])\n",
    "\n",
    "print(\"Population Standard Deviation:\", pstdev_value)"
   ]
  },
  {
   "cell_type": "code",
   "execution_count": 65,
   "metadata": {},
   "outputs": [
    {
     "name": "stdout",
     "output_type": "stream",
     "text": [
      "Sample Standard Deviation: 1.5\n"
     ]
    }
   ],
   "source": [
    "stdev = statistics.pstdev([1, 2, 3, 4, 5], mu=statistics.mean(data))\n",
    "\n",
    "print(\"Sample Standard Deviation:\", stdev)"
   ]
  },
  {
   "cell_type": "code",
   "execution_count": 66,
   "metadata": {},
   "outputs": [
    {
     "name": "stdout",
     "output_type": "stream",
     "text": [
      "Population Standard Deviation (with specified mean): 1.5\n"
     ]
    }
   ],
   "source": [
    "stdev = statistics.pstdev([1, 2, 3, 4, 5], mu=3.5)  # mean = 3.5\n",
    "\n",
    "print(\"Population Standard Deviation (with specified mean):\", stdev)"
   ]
  },
  {
   "cell_type": "markdown",
   "metadata": {},
   "source": [
    "15.statistics.quantiles(data, *, n=4, method='exclusive')\n"
   ]
  },
  {
   "cell_type": "code",
   "execution_count": 67,
   "metadata": {},
   "outputs": [
    {
     "name": "stdout",
     "output_type": "stream",
     "text": [
      "[2.75, 5.5, 8.25]\n"
     ]
    }
   ],
   "source": [
    "# Computing Exclusive Quantiles:\n",
    "\n",
    "data = [1, 2, 3, 4, 5, 6, 7, 8, 9, 10]\n",
    "quantiles = statistics.quantiles(data, n=4, method=\"exclusive\")\n",
    "print(quantiles)"
   ]
  },
  {
   "cell_type": "code",
   "execution_count": 68,
   "metadata": {},
   "outputs": [
    {
     "name": "stdout",
     "output_type": "stream",
     "text": [
      "[3.25, 5.5, 7.75]\n"
     ]
    }
   ],
   "source": [
    "# Computing Inclusive Quantiles:\n",
    "\n",
    "data = [1, 2, 3, 4, 5, 6, 7, 8, 9, 10]\n",
    "quantiles = statistics.quantiles(data, n=4, method=\"inclusive\")\n",
    "print(quantiles)"
   ]
  },
  {
   "cell_type": "code",
   "execution_count": 69,
   "metadata": {},
   "outputs": [
    {
     "name": "stdout",
     "output_type": "stream",
     "text": [
      "[3.6666666666666665, 7.333333333333333]\n"
     ]
    }
   ],
   "source": [
    "# Customizing the Number of Quantiles:\n",
    "\n",
    "data = [1, 2, 3, 4, 5, 6, 7, 8, 9, 10]\n",
    "quantiles = statistics.quantiles(data, n=3, method=\"exclusive\")\n",
    "print(quantiles)"
   ]
  },
  {
   "cell_type": "code",
   "execution_count": 70,
   "metadata": {},
   "outputs": [
    {
     "name": "stdout",
     "output_type": "stream",
     "text": [
      "[3.0249999999999995, 6.05, 9.075000000000001]\n"
     ]
    }
   ],
   "source": [
    "# Using a List of Floats:\n",
    "\n",
    "data = [1.1, 2.2, 3.3, 4.4, 5.5, 6.6, 7.7, 8.8, 9.9, 10.0]\n",
    "quantiles = statistics.quantiles(data, n=4, method=\"exclusive\")\n",
    "print(quantiles)"
   ]
  },
  {
   "cell_type": "code",
   "execution_count": null,
   "metadata": {},
   "outputs": [],
   "source": []
  }
 ],
 "metadata": {
  "kernelspec": {
   "display_name": ".venv",
   "language": "python",
   "name": "python3"
  },
  "language_info": {
   "codemirror_mode": {
    "name": "ipython",
    "version": 3
   },
   "file_extension": ".py",
   "mimetype": "text/x-python",
   "name": "python",
   "nbconvert_exporter": "python",
   "pygments_lexer": "ipython3",
   "version": "3.12.1"
  }
 },
 "nbformat": 4,
 "nbformat_minor": 2
}
