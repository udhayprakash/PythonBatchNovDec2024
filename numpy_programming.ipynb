{
  "nbformat": 4,
  "nbformat_minor": 0,
  "metadata": {
    "colab": {
      "provenance": [],
      "authorship_tag": "ABX9TyNu8pvfA3a51ZtKdUBLWjsR",
      "include_colab_link": true
    },
    "kernelspec": {
      "name": "python3",
      "display_name": "Python 3"
    },
    "language_info": {
      "name": "python"
    }
  },
  "cells": [
    {
      "cell_type": "markdown",
      "metadata": {
        "id": "view-in-github",
        "colab_type": "text"
      },
      "source": [
        "<a href=\"https://colab.research.google.com/github/udhayprakash/PythonBatchNovDec2024/blob/class36/numpy_programming.ipynb\" target=\"_parent\"><img src=\"https://colab.research.google.com/assets/colab-badge.svg\" alt=\"Open In Colab\"/></a>"
      ]
    },
    {
      "cell_type": "markdown",
      "source": [
        "# Numpy\n"
      ],
      "metadata": {
        "id": "oxzuJ4_57Kol"
      }
    },
    {
      "cell_type": "markdown",
      "source": [
        "\n",
        "\n",
        "### Basics - creating Numpy array\n",
        "\n",
        "Q) Difference between Python List and Numpy array?\n",
        "\n",
        "Ans) numpy array is a list which contains **elements** of same data type only"
      ],
      "metadata": {
        "id": "RyBPsron1CSF"
      }
    },
    {
      "cell_type": "code",
      "source": [
        "import numpy as np"
      ],
      "metadata": {
        "id": "SjjwvD4y1SNA"
      },
      "execution_count": 2,
      "outputs": []
    },
    {
      "cell_type": "code",
      "source": [
        "np"
      ],
      "metadata": {
        "id": "v1q8W_CI1i26",
        "outputId": "ef7154c9-96e5-480c-e8f6-d4222268675c",
        "colab": {
          "base_uri": "https://localhost:8080/"
        }
      },
      "execution_count": 3,
      "outputs": [
        {
          "output_type": "execute_result",
          "data": {
            "text/plain": [
              "<module 'numpy' from '/usr/local/lib/python3.11/dist-packages/numpy/__init__.py'>"
            ]
          },
          "metadata": {},
          "execution_count": 3
        }
      ]
    },
    {
      "cell_type": "code",
      "source": [
        "print(np.__doc__)"
      ],
      "metadata": {
        "id": "wJxR2m6B1j4P",
        "outputId": "5ba584ba-a280-46a4-c196-145f461327ef",
        "colab": {
          "base_uri": "https://localhost:8080/"
        }
      },
      "execution_count": 4,
      "outputs": [
        {
          "output_type": "stream",
          "name": "stdout",
          "text": [
            "\n",
            "NumPy\n",
            "=====\n",
            "\n",
            "Provides\n",
            "  1. An array object of arbitrary homogeneous items\n",
            "  2. Fast mathematical operations over arrays\n",
            "  3. Linear Algebra, Fourier Transforms, Random Number Generation\n",
            "\n",
            "How to use the documentation\n",
            "----------------------------\n",
            "Documentation is available in two forms: docstrings provided\n",
            "with the code, and a loose standing reference guide, available from\n",
            "`the NumPy homepage <https://numpy.org>`_.\n",
            "\n",
            "We recommend exploring the docstrings using\n",
            "`IPython <https://ipython.org>`_, an advanced Python shell with\n",
            "TAB-completion and introspection capabilities.  See below for further\n",
            "instructions.\n",
            "\n",
            "The docstring examples assume that `numpy` has been imported as ``np``::\n",
            "\n",
            "  >>> import numpy as np\n",
            "\n",
            "Code snippets are indicated by three greater-than signs::\n",
            "\n",
            "  >>> x = 42\n",
            "  >>> x = x + 1\n",
            "\n",
            "Use the built-in ``help`` function to view a function's docstring::\n",
            "\n",
            "  >>> help(np.sort)\n",
            "  ... # doctest: +SKIP\n",
            "\n",
            "For some objects, ``np.info(obj)`` may provide additional help.  This is\n",
            "particularly true if you see the line \"Help on ufunc object:\" at the top\n",
            "of the help() page.  Ufuncs are implemented in C, not Python, for speed.\n",
            "The native Python help() does not know how to view their help, but our\n",
            "np.info() function does.\n",
            "\n",
            "To search for documents containing a keyword, do::\n",
            "\n",
            "  >>> np.lookfor('keyword')\n",
            "  ... # doctest: +SKIP\n",
            "\n",
            "General-purpose documents like a glossary and help on the basic concepts\n",
            "of numpy are available under the ``doc`` sub-module::\n",
            "\n",
            "  >>> from numpy import doc\n",
            "  >>> help(doc)\n",
            "  ... # doctest: +SKIP\n",
            "\n",
            "Available subpackages\n",
            "---------------------\n",
            "lib\n",
            "    Basic functions used by several sub-packages.\n",
            "random\n",
            "    Core Random Tools\n",
            "linalg\n",
            "    Core Linear Algebra Tools\n",
            "fft\n",
            "    Core FFT routines\n",
            "polynomial\n",
            "    Polynomial tools\n",
            "testing\n",
            "    NumPy testing tools\n",
            "distutils\n",
            "    Enhancements to distutils with support for\n",
            "    Fortran compilers support and more  (for Python <= 3.11).\n",
            "\n",
            "Utilities\n",
            "---------\n",
            "test\n",
            "    Run numpy unittests\n",
            "show_config\n",
            "    Show numpy build configuration\n",
            "matlib\n",
            "    Make everything matrices.\n",
            "__version__\n",
            "    NumPy version string\n",
            "\n",
            "Viewing documentation using IPython\n",
            "-----------------------------------\n",
            "\n",
            "Start IPython and import `numpy` usually under the alias ``np``: `import\n",
            "numpy as np`.  Then, directly past or use the ``%cpaste`` magic to paste\n",
            "examples into the shell.  To see which functions are available in `numpy`,\n",
            "type ``np.<TAB>`` (where ``<TAB>`` refers to the TAB key), or use\n",
            "``np.*cos*?<ENTER>`` (where ``<ENTER>`` refers to the ENTER key) to narrow\n",
            "down the list.  To view the docstring for a function, use\n",
            "``np.cos?<ENTER>`` (to view the docstring) and ``np.cos??<ENTER>`` (to view\n",
            "the source code).\n",
            "\n",
            "Copies vs. in-place operation\n",
            "-----------------------------\n",
            "Most of the functions in `numpy` return a copy of the array argument\n",
            "(e.g., `np.sort`).  In-place versions of these functions are often\n",
            "available as array methods, i.e. ``x = np.array([1,2,3]); x.sort()``.\n",
            "Exceptions to this rule are documented.\n",
            "\n",
            "\n"
          ]
        }
      ]
    },
    {
      "cell_type": "code",
      "source": [
        "print(dir(np))\n"
      ],
      "metadata": {
        "id": "s3ZS6jTp1oqM",
        "outputId": "6344d9db-17ce-4a49-925a-1fdb49462144",
        "colab": {
          "base_uri": "https://localhost:8080/"
        }
      },
      "execution_count": 5,
      "outputs": [
        {
          "output_type": "stream",
          "name": "stdout",
          "text": [
            "['ALLOW_THREADS', 'BUFSIZE', 'CLIP', 'DataSource', 'ERR_CALL', 'ERR_DEFAULT', 'ERR_IGNORE', 'ERR_LOG', 'ERR_PRINT', 'ERR_RAISE', 'ERR_WARN', 'FLOATING_POINT_SUPPORT', 'FPE_DIVIDEBYZERO', 'FPE_INVALID', 'FPE_OVERFLOW', 'FPE_UNDERFLOW', 'False_', 'Inf', 'Infinity', 'MAXDIMS', 'MAY_SHARE_BOUNDS', 'MAY_SHARE_EXACT', 'NAN', 'NINF', 'NZERO', 'NaN', 'PINF', 'PZERO', 'RAISE', 'RankWarning', 'SHIFT_DIVIDEBYZERO', 'SHIFT_INVALID', 'SHIFT_OVERFLOW', 'SHIFT_UNDERFLOW', 'ScalarType', 'True_', 'UFUNC_BUFSIZE_DEFAULT', 'UFUNC_PYVALS_NAME', 'WRAP', '_CopyMode', '_NoValue', '_UFUNC_API', '__NUMPY_SETUP__', '__all__', '__annotations__', '__builtins__', '__cached__', '__config__', '__deprecated_attrs__', '__dir__', '__doc__', '__expired_functions__', '__file__', '__former_attrs__', '__future_scalars__', '__getattr__', '__loader__', '__name__', '__package__', '__path__', '__spec__', '__version__', '_add_newdoc_ufunc', '_builtins', '_distributor_init', '_financial_names', '_get_promotion_state', '_globals', '_int_extended_msg', '_mat', '_no_nep50_warning', '_pyinstaller_hooks_dir', '_pytesttester', '_set_promotion_state', '_specific_msg', '_typing', '_using_numpy2_behavior', '_utils', 'abs', 'absolute', 'add', 'add_docstring', 'add_newdoc', 'add_newdoc_ufunc', 'all', 'allclose', 'alltrue', 'amax', 'amin', 'angle', 'any', 'append', 'apply_along_axis', 'apply_over_axes', 'arange', 'arccos', 'arccosh', 'arcsin', 'arcsinh', 'arctan', 'arctan2', 'arctanh', 'argmax', 'argmin', 'argpartition', 'argsort', 'argwhere', 'around', 'array', 'array2string', 'array_equal', 'array_equiv', 'array_repr', 'array_split', 'array_str', 'asanyarray', 'asarray', 'asarray_chkfinite', 'ascontiguousarray', 'asfarray', 'asfortranarray', 'asmatrix', 'atleast_1d', 'atleast_2d', 'atleast_3d', 'average', 'bartlett', 'base_repr', 'binary_repr', 'bincount', 'bitwise_and', 'bitwise_not', 'bitwise_or', 'bitwise_xor', 'blackman', 'block', 'bmat', 'bool_', 'broadcast', 'broadcast_arrays', 'broadcast_shapes', 'broadcast_to', 'busday_count', 'busday_offset', 'busdaycalendar', 'byte', 'byte_bounds', 'bytes_', 'c_', 'can_cast', 'cast', 'cbrt', 'cdouble', 'ceil', 'cfloat', 'char', 'character', 'chararray', 'choose', 'clip', 'clongdouble', 'clongfloat', 'column_stack', 'common_type', 'compare_chararrays', 'compat', 'complex128', 'complex256', 'complex64', 'complex_', 'complexfloating', 'compress', 'concatenate', 'conj', 'conjugate', 'convolve', 'copy', 'copysign', 'copyto', 'corrcoef', 'correlate', 'cos', 'cosh', 'count_nonzero', 'cov', 'cross', 'csingle', 'ctypeslib', 'cumprod', 'cumproduct', 'cumsum', 'datetime64', 'datetime_as_string', 'datetime_data', 'deg2rad', 'degrees', 'delete', 'deprecate', 'deprecate_with_doc', 'diag', 'diag_indices', 'diag_indices_from', 'diagflat', 'diagonal', 'diff', 'digitize', 'disp', 'divide', 'divmod', 'dot', 'double', 'dsplit', 'dstack', 'dtype', 'dtypes', 'e', 'ediff1d', 'einsum', 'einsum_path', 'emath', 'empty', 'empty_like', 'equal', 'errstate', 'euler_gamma', 'exceptions', 'exp', 'exp2', 'expand_dims', 'expm1', 'extract', 'eye', 'fabs', 'fastCopyAndTranspose', 'fft', 'fill_diagonal', 'find_common_type', 'finfo', 'fix', 'flatiter', 'flatnonzero', 'flexible', 'flip', 'fliplr', 'flipud', 'float128', 'float16', 'float32', 'float64', 'float_', 'float_power', 'floating', 'floor', 'floor_divide', 'fmax', 'fmin', 'fmod', 'format_float_positional', 'format_float_scientific', 'format_parser', 'frexp', 'from_dlpack', 'frombuffer', 'fromfile', 'fromfunction', 'fromiter', 'frompyfunc', 'fromregex', 'fromstring', 'full', 'full_like', 'gcd', 'generic', 'genfromtxt', 'geomspace', 'get_array_wrap', 'get_include', 'get_printoptions', 'getbufsize', 'geterr', 'geterrcall', 'geterrobj', 'gradient', 'greater', 'greater_equal', 'half', 'hamming', 'hanning', 'heaviside', 'histogram', 'histogram2d', 'histogram_bin_edges', 'histogramdd', 'hsplit', 'hstack', 'hypot', 'i0', 'identity', 'iinfo', 'imag', 'in1d', 'index_exp', 'indices', 'inexact', 'inf', 'info', 'infty', 'inner', 'insert', 'int16', 'int32', 'int64', 'int8', 'int_', 'intc', 'integer', 'interp', 'intersect1d', 'intp', 'invert', 'is_busday', 'isclose', 'iscomplex', 'iscomplexobj', 'isfinite', 'isfortran', 'isin', 'isinf', 'isnan', 'isnat', 'isneginf', 'isposinf', 'isreal', 'isrealobj', 'isscalar', 'issctype', 'issubclass_', 'issubdtype', 'issubsctype', 'iterable', 'ix_', 'kaiser', 'kernel_version', 'kron', 'lcm', 'ldexp', 'left_shift', 'less', 'less_equal', 'lexsort', 'lib', 'linalg', 'linspace', 'little_endian', 'load', 'loadtxt', 'log', 'log10', 'log1p', 'log2', 'logaddexp', 'logaddexp2', 'logical_and', 'logical_not', 'logical_or', 'logical_xor', 'logspace', 'longcomplex', 'longdouble', 'longfloat', 'longlong', 'lookfor', 'ma', 'mask_indices', 'mat', 'matmul', 'matrix', 'max', 'maximum', 'maximum_sctype', 'may_share_memory', 'mean', 'median', 'memmap', 'meshgrid', 'mgrid', 'min', 'min_scalar_type', 'minimum', 'mintypecode', 'mod', 'modf', 'moveaxis', 'msort', 'multiply', 'nan', 'nan_to_num', 'nanargmax', 'nanargmin', 'nancumprod', 'nancumsum', 'nanmax', 'nanmean', 'nanmedian', 'nanmin', 'nanpercentile', 'nanprod', 'nanquantile', 'nanstd', 'nansum', 'nanvar', 'nbytes', 'ndarray', 'ndenumerate', 'ndim', 'ndindex', 'nditer', 'negative', 'nested_iters', 'newaxis', 'nextafter', 'nonzero', 'not_equal', 'numarray', 'number', 'obj2sctype', 'object_', 'ogrid', 'oldnumeric', 'ones', 'ones_like', 'outer', 'packbits', 'pad', 'partition', 'percentile', 'pi', 'piecewise', 'place', 'poly', 'poly1d', 'polyadd', 'polyder', 'polydiv', 'polyfit', 'polyint', 'polymul', 'polynomial', 'polysub', 'polyval', 'positive', 'power', 'printoptions', 'prod', 'product', 'promote_types', 'ptp', 'put', 'put_along_axis', 'putmask', 'quantile', 'r_', 'rad2deg', 'radians', 'random', 'ravel', 'ravel_multi_index', 'real', 'real_if_close', 'rec', 'recarray', 'recfromcsv', 'recfromtxt', 'reciprocal', 'record', 'remainder', 'repeat', 'require', 'reshape', 'resize', 'result_type', 'right_shift', 'rint', 'roll', 'rollaxis', 'roots', 'rot90', 'round', 'round_', 'row_stack', 's_', 'safe_eval', 'save', 'savetxt', 'savez', 'savez_compressed', 'sctype2char', 'sctypeDict', 'sctypes', 'searchsorted', 'select', 'set_numeric_ops', 'set_printoptions', 'set_string_function', 'setbufsize', 'setdiff1d', 'seterr', 'seterrcall', 'seterrobj', 'setxor1d', 'shape', 'shares_memory', 'short', 'show_config', 'show_runtime', 'sign', 'signbit', 'signedinteger', 'sin', 'sinc', 'single', 'singlecomplex', 'sinh', 'size', 'sometrue', 'sort', 'sort_complex', 'source', 'spacing', 'split', 'sqrt', 'square', 'squeeze', 'stack', 'std', 'str_', 'string_', 'subtract', 'sum', 'swapaxes', 'take', 'take_along_axis', 'tan', 'tanh', 'tensordot', 'test', 'testing', 'tile', 'timedelta64', 'trace', 'tracemalloc_domain', 'transpose', 'trapz', 'tri', 'tril', 'tril_indices', 'tril_indices_from', 'trim_zeros', 'triu', 'triu_indices', 'triu_indices_from', 'true_divide', 'trunc', 'typecodes', 'typename', 'ubyte', 'ufunc', 'uint', 'uint16', 'uint32', 'uint64', 'uint8', 'uintc', 'uintp', 'ulonglong', 'unicode_', 'union1d', 'unique', 'unpackbits', 'unravel_index', 'unsignedinteger', 'unwrap', 'ushort', 'vander', 'var', 'vdot', 'vectorize', 'version', 'void', 'vsplit', 'vstack', 'where', 'who', 'zeros', 'zeros_like']\n"
          ]
        }
      ]
    },
    {
      "cell_type": "code",
      "source": [
        "empty_arr = np.array([])\n",
        "empty_arr"
      ],
      "metadata": {
        "id": "Sz7z28TT6PuT",
        "outputId": "b82ca524-2449-416b-9b77-5c127cff73dc",
        "colab": {
          "base_uri": "https://localhost:8080/"
        }
      },
      "execution_count": 34,
      "outputs": [
        {
          "output_type": "execute_result",
          "data": {
            "text/plain": [
              "array([], dtype=float64)"
            ]
          },
          "metadata": {},
          "execution_count": 34
        }
      ]
    },
    {
      "cell_type": "code",
      "source": [
        "int_arr = np.array([1, 2, 3, 4, 5])\n",
        "int_arr"
      ],
      "metadata": {
        "id": "XKm_B-8C6V_h",
        "outputId": "4e1b37ec-d70f-45bc-86ec-4751d6ba82ac",
        "colab": {
          "base_uri": "https://localhost:8080/"
        }
      },
      "execution_count": 35,
      "outputs": [
        {
          "output_type": "execute_result",
          "data": {
            "text/plain": [
              "array([1, 2, 3, 4, 5])"
            ]
          },
          "metadata": {},
          "execution_count": 35
        }
      ]
    },
    {
      "cell_type": "code",
      "source": [
        "int_arr = np.array([1, 2, 3, 4, 5], int)\n",
        "int_arr"
      ],
      "metadata": {
        "id": "wjg-P_zZ6fRU",
        "outputId": "cc5d781f-5e36-4a9c-c236-7ec8228d0a2b",
        "colab": {
          "base_uri": "https://localhost:8080/"
        }
      },
      "execution_count": 36,
      "outputs": [
        {
          "output_type": "execute_result",
          "data": {
            "text/plain": [
              "array([1, 2, 3, 4, 5])"
            ]
          },
          "metadata": {},
          "execution_count": 36
        }
      ]
    },
    {
      "cell_type": "code",
      "source": [
        "int_arr = np.array([1, 2, 3, 4, 5], 'int32')\n",
        "int_arr"
      ],
      "metadata": {
        "id": "5YIziuc_6hyJ",
        "outputId": "36c3e554-edff-4c6a-a85a-76d522d909d2",
        "colab": {
          "base_uri": "https://localhost:8080/"
        }
      },
      "execution_count": 38,
      "outputs": [
        {
          "output_type": "execute_result",
          "data": {
            "text/plain": [
              "array([1, 2, 3, 4, 5], dtype=int32)"
            ]
          },
          "metadata": {},
          "execution_count": 38
        }
      ]
    },
    {
      "cell_type": "code",
      "source": [
        "str_arr = np.array(['ram', 'shyam', 'ganesh', 'mahesh', 'suresh'])\n",
        "str_arr"
      ],
      "metadata": {
        "id": "sf4D4pWb6pLi",
        "outputId": "94f423fb-915f-4e87-910e-f26dfa4ce397",
        "colab": {
          "base_uri": "https://localhost:8080/"
        }
      },
      "execution_count": 39,
      "outputs": [
        {
          "output_type": "execute_result",
          "data": {
            "text/plain": [
              "array(['ram', 'shyam', 'ganesh', 'mahesh', 'suresh'], dtype='<U6')"
            ]
          },
          "metadata": {},
          "execution_count": 39
        }
      ]
    },
    {
      "cell_type": "code",
      "source": [
        "str_arr = np.array(['ram', 'shyam', 'ganesh', 'mahesh', 'suresh'], str)\n",
        "str_arr"
      ],
      "metadata": {
        "id": "hdIDeIvF6y3n",
        "outputId": "fd05b266-66f4-4459-cc3c-85bb8c02a5ff",
        "colab": {
          "base_uri": "https://localhost:8080/"
        }
      },
      "execution_count": 40,
      "outputs": [
        {
          "output_type": "execute_result",
          "data": {
            "text/plain": [
              "array(['ram', 'shyam', 'ganesh', 'mahesh', 'suresh'], dtype='<U6')"
            ]
          },
          "metadata": {},
          "execution_count": 40
        }
      ]
    },
    {
      "cell_type": "code",
      "source": [
        "complex_arr = np.array([1, 2, 3, 4, 5], dtype=np.complex64)\n",
        "complex_arr"
      ],
      "metadata": {
        "id": "TzknuUsODF6q",
        "outputId": "a7439d6e-35dc-4335-8cdc-96e37ce43207",
        "colab": {
          "base_uri": "https://localhost:8080/"
        }
      },
      "execution_count": 120,
      "outputs": [
        {
          "output_type": "execute_result",
          "data": {
            "text/plain": [
              "array([1.+0.j, 2.+0.j, 3.+0.j, 4.+0.j, 5.+0.j], dtype=complex64)"
            ]
          },
          "metadata": {},
          "execution_count": 120
        }
      ]
    },
    {
      "cell_type": "markdown",
      "source": [
        "### List vs array"
      ],
      "metadata": {
        "id": "5OHQ62Cp66Sf"
      }
    },
    {
      "cell_type": "code",
      "source": [
        "mylist = [1, 3.3, '234', None, True]"
      ],
      "metadata": {
        "id": "ldJQcT1z1NiP"
      },
      "execution_count": 1,
      "outputs": []
    },
    {
      "cell_type": "code",
      "source": [
        "np.array([1, 3.3, '234', None, True])"
      ],
      "metadata": {
        "id": "wfvllQ371y6P",
        "outputId": "4a744916-317a-4b75-a6de-fa45f37fd20f",
        "colab": {
          "base_uri": "https://localhost:8080/"
        }
      },
      "execution_count": 6,
      "outputs": [
        {
          "output_type": "execute_result",
          "data": {
            "text/plain": [
              "array([1, 3.3, '234', None, True], dtype=object)"
            ]
          },
          "metadata": {},
          "execution_count": 6
        }
      ]
    },
    {
      "cell_type": "code",
      "source": [
        "arr1 = np.array([1, 3.3, '234', None, True])\n",
        "arr1"
      ],
      "metadata": {
        "id": "_gWNxzDR2C6a",
        "outputId": "be8e30be-872c-4259-ea98-3806548d4c44",
        "colab": {
          "base_uri": "https://localhost:8080/"
        }
      },
      "execution_count": 7,
      "outputs": [
        {
          "output_type": "execute_result",
          "data": {
            "text/plain": [
              "array([1, 3.3, '234', None, True], dtype=object)"
            ]
          },
          "metadata": {},
          "execution_count": 7
        }
      ]
    },
    {
      "cell_type": "code",
      "source": [
        "type(arr1)"
      ],
      "metadata": {
        "id": "mkMOZZXI2OTQ",
        "outputId": "8c76d9bf-dafd-4077-a119-cadd77d491dc",
        "colab": {
          "base_uri": "https://localhost:8080/"
        }
      },
      "execution_count": 8,
      "outputs": [
        {
          "output_type": "execute_result",
          "data": {
            "text/plain": [
              "numpy.ndarray"
            ]
          },
          "metadata": {},
          "execution_count": 8
        }
      ]
    },
    {
      "cell_type": "code",
      "source": [
        "arr1.dtype"
      ],
      "metadata": {
        "id": "JRXn5QoA2Q16",
        "outputId": "c65fc8ec-d070-4074-cca8-f0535a4813b2",
        "colab": {
          "base_uri": "https://localhost:8080/"
        }
      },
      "execution_count": 9,
      "outputs": [
        {
          "output_type": "execute_result",
          "data": {
            "text/plain": [
              "dtype('O')"
            ]
          },
          "metadata": {},
          "execution_count": 9
        }
      ]
    },
    {
      "cell_type": "code",
      "source": [
        "arr2 = np.array([12340, 12341, 12342, 12343, 12345])\n",
        "\n",
        "arr2"
      ],
      "metadata": {
        "id": "HSTNqfJ22XPj",
        "outputId": "11a8185d-bf4e-4663-8cd9-ceb5ecb86dab",
        "colab": {
          "base_uri": "https://localhost:8080/"
        }
      },
      "execution_count": 10,
      "outputs": [
        {
          "output_type": "execute_result",
          "data": {
            "text/plain": [
              "array([12340, 12341, 12342, 12343, 12345])"
            ]
          },
          "metadata": {},
          "execution_count": 10
        }
      ]
    },
    {
      "cell_type": "code",
      "source": [
        "type(arr2)"
      ],
      "metadata": {
        "id": "TQAdXLQg2lBE",
        "outputId": "0b64e9de-560e-44ec-a01b-bc4b076b9e17",
        "colab": {
          "base_uri": "https://localhost:8080/"
        }
      },
      "execution_count": 12,
      "outputs": [
        {
          "output_type": "execute_result",
          "data": {
            "text/plain": [
              "numpy.ndarray"
            ]
          },
          "metadata": {},
          "execution_count": 12
        }
      ]
    },
    {
      "cell_type": "code",
      "source": [
        "arr2.dtype"
      ],
      "metadata": {
        "id": "GwpN4H8c2mSh",
        "outputId": "f654a2c6-351c-4244-ad58-d57c803fc1f2",
        "colab": {
          "base_uri": "https://localhost:8080/"
        }
      },
      "execution_count": 13,
      "outputs": [
        {
          "output_type": "execute_result",
          "data": {
            "text/plain": [
              "dtype('int64')"
            ]
          },
          "metadata": {},
          "execution_count": 13
        }
      ]
    },
    {
      "cell_type": "code",
      "source": [
        "arr3 = np.array([12340, 12341, 12342, 12343, 12345], float)\n",
        "\n",
        "arr3"
      ],
      "metadata": {
        "id": "Y36_TWb22p_S",
        "outputId": "84b5e132-8daa-4253-e1d0-1637e6fe916a",
        "colab": {
          "base_uri": "https://localhost:8080/"
        }
      },
      "execution_count": 14,
      "outputs": [
        {
          "output_type": "execute_result",
          "data": {
            "text/plain": [
              "array([12340., 12341., 12342., 12343., 12345.])"
            ]
          },
          "metadata": {},
          "execution_count": 14
        }
      ]
    },
    {
      "cell_type": "code",
      "source": [
        "arr3.dtype"
      ],
      "metadata": {
        "id": "nhL8gGvN286R",
        "outputId": "c3381096-8ef5-416d-d838-3e88d33ce732",
        "colab": {
          "base_uri": "https://localhost:8080/"
        }
      },
      "execution_count": 15,
      "outputs": [
        {
          "output_type": "execute_result",
          "data": {
            "text/plain": [
              "dtype('float64')"
            ]
          },
          "metadata": {},
          "execution_count": 15
        }
      ]
    },
    {
      "cell_type": "code",
      "source": [
        "print(f'{len(arr1) =}')\n",
        "print(f'{len(arr2) =}')\n",
        "print(f'{len(arr3) =}')"
      ],
      "metadata": {
        "id": "pPa-EiBT3Bj5",
        "outputId": "91fedfaa-4030-49be-faf0-9d08f1dcedb9",
        "colab": {
          "base_uri": "https://localhost:8080/"
        }
      },
      "execution_count": 16,
      "outputs": [
        {
          "output_type": "stream",
          "name": "stdout",
          "text": [
            "len(arr1) =5\n",
            "len(arr2) =5\n",
            "len(arr3) =5\n"
          ]
        }
      ]
    },
    {
      "cell_type": "code",
      "source": [
        "print(f'{arr1.shape =}')\n",
        "print(f'{arr2.shape =}')\n",
        "print(f'{arr3.shape =}')\n"
      ],
      "metadata": {
        "id": "xExN6MNk3JYI",
        "outputId": "4c6d6ed0-99d6-447c-a3d8-c61dc98cedc6",
        "colab": {
          "base_uri": "https://localhost:8080/"
        }
      },
      "execution_count": 17,
      "outputs": [
        {
          "output_type": "stream",
          "name": "stdout",
          "text": [
            "arr1.shape =(5,)\n",
            "arr2.shape =(5,)\n",
            "arr3.shape =(5,)\n"
          ]
        }
      ]
    },
    {
      "cell_type": "markdown",
      "source": [
        "### Multi-dimensional Arrays\n",
        "\n"
      ],
      "metadata": {
        "id": "o3lKCMLs3d5p"
      }
    },
    {
      "cell_type": "code",
      "source": [
        "arr4 = np.array([(1, 2, 3), (5, 6, 7)], float)\n",
        "\n",
        "arr4"
      ],
      "metadata": {
        "id": "d_-uxY8D3ea4",
        "outputId": "be4758f8-0428-4749-e4f1-8eed7b2ed90f",
        "colab": {
          "base_uri": "https://localhost:8080/"
        }
      },
      "execution_count": 18,
      "outputs": [
        {
          "output_type": "execute_result",
          "data": {
            "text/plain": [
              "array([[1., 2., 3.],\n",
              "       [5., 6., 7.]])"
            ]
          },
          "metadata": {},
          "execution_count": 18
        }
      ]
    },
    {
      "cell_type": "code",
      "source": [
        "print(f'{len(arr4)  = }')\n",
        "print(f'{arr4.shape = }')"
      ],
      "metadata": {
        "id": "h4r77cq03oEo",
        "outputId": "f5487fb7-a638-412c-828d-d3be0bc72933",
        "colab": {
          "base_uri": "https://localhost:8080/"
        }
      },
      "execution_count": 19,
      "outputs": [
        {
          "output_type": "stream",
          "name": "stdout",
          "text": [
            "len(arr4)  = 2\n",
            "arr4.shape = (2, 3)\n"
          ]
        }
      ]
    },
    {
      "cell_type": "code",
      "source": [
        "arr5 = np.array([ [1, 2, 3], (5, 6, 7)], float)\n",
        "arr5"
      ],
      "metadata": {
        "id": "Y6Pam6az3weR",
        "outputId": "3e5b920c-af19-40db-cc71-79bc5cdefe52",
        "colab": {
          "base_uri": "https://localhost:8080/"
        }
      },
      "execution_count": 20,
      "outputs": [
        {
          "output_type": "execute_result",
          "data": {
            "text/plain": [
              "array([[1., 2., 3.],\n",
              "       [5., 6., 7.]])"
            ]
          },
          "metadata": {},
          "execution_count": 20
        }
      ]
    },
    {
      "cell_type": "code",
      "source": [
        "arr6 = np.array([ {1, 2, 3}, {5, 6, 7}], float)\n",
        "arr6"
      ],
      "metadata": {
        "id": "qKPB6iD0359t",
        "outputId": "fd9dbdaa-1261-419e-f29d-4aba3c823456",
        "colab": {
          "base_uri": "https://localhost:8080/",
          "height": 159
        }
      },
      "execution_count": 21,
      "outputs": [
        {
          "output_type": "error",
          "ename": "TypeError",
          "evalue": "float() argument must be a string or a real number, not 'set'",
          "traceback": [
            "\u001b[0;31m---------------------------------------------------------------------------\u001b[0m",
            "\u001b[0;31mTypeError\u001b[0m                                 Traceback (most recent call last)",
            "\u001b[0;32m<ipython-input-21-f1085967710e>\u001b[0m in \u001b[0;36m<cell line: 0>\u001b[0;34m()\u001b[0m\n\u001b[0;32m----> 1\u001b[0;31m \u001b[0marr6\u001b[0m \u001b[0;34m=\u001b[0m \u001b[0mnp\u001b[0m\u001b[0;34m.\u001b[0m\u001b[0marray\u001b[0m\u001b[0;34m(\u001b[0m\u001b[0;34m[\u001b[0m \u001b[0;34m{\u001b[0m\u001b[0;36m1\u001b[0m\u001b[0;34m,\u001b[0m \u001b[0;36m2\u001b[0m\u001b[0;34m,\u001b[0m \u001b[0;36m3\u001b[0m\u001b[0;34m}\u001b[0m\u001b[0;34m,\u001b[0m \u001b[0;34m{\u001b[0m\u001b[0;36m5\u001b[0m\u001b[0;34m,\u001b[0m \u001b[0;36m6\u001b[0m\u001b[0;34m,\u001b[0m \u001b[0;36m7\u001b[0m\u001b[0;34m}\u001b[0m\u001b[0;34m]\u001b[0m\u001b[0;34m,\u001b[0m \u001b[0mfloat\u001b[0m\u001b[0;34m)\u001b[0m\u001b[0;34m\u001b[0m\u001b[0;34m\u001b[0m\u001b[0m\n\u001b[0m\u001b[1;32m      2\u001b[0m \u001b[0marr6\u001b[0m\u001b[0;34m\u001b[0m\u001b[0;34m\u001b[0m\u001b[0m\n",
            "\u001b[0;31mTypeError\u001b[0m: float() argument must be a string or a real number, not 'set'"
          ]
        }
      ]
    },
    {
      "cell_type": "markdown",
      "source": [
        "### np.arrange"
      ],
      "metadata": {
        "id": "u35MNm9k4Q1S"
      }
    },
    {
      "cell_type": "code",
      "source": [
        "arr6 = np.arange(15)  # default start = 0, step = +1\n",
        "\n",
        "print(f'{arr6       =}')\n",
        "print(f'{len(arr6)  =}')\n",
        "print(f'{arr6.dtype =}')\n",
        "print(f'{arr6.shape =}')\n",
        "print(f'{arr6.ndim  =}')  # the number of axes (dimensions) of the array."
      ],
      "metadata": {
        "id": "6azXN6J14SyT",
        "outputId": "a7ad0918-8b38-4b27-fb71-1e7058a375a2",
        "colab": {
          "base_uri": "https://localhost:8080/"
        }
      },
      "execution_count": 23,
      "outputs": [
        {
          "output_type": "stream",
          "name": "stdout",
          "text": [
            "arr6       =array([ 0,  1,  2,  3,  4,  5,  6,  7,  8,  9, 10, 11, 12, 13, 14])\n",
            "len(arr6)  =15\n",
            "arr6.dtype =dtype('int64')\n",
            "arr6.shape =(15,)\n",
            "arr6.ndim  =1\n"
          ]
        }
      ]
    },
    {
      "cell_type": "code",
      "source": [
        "arr6 = np.arange(3, 15)  # default start = 0, step = +1\n",
        "\n",
        "print(f'{arr6       =}')\n",
        "print(f'{len(arr6)  =}')\n",
        "print(f'{arr6.dtype =}')\n",
        "print(f'{arr6.shape =}')\n",
        "print(f'{arr6.ndim  =}')  # the number of axes (dimensions) of the array."
      ],
      "metadata": {
        "id": "H7Ma98rH4mpO",
        "outputId": "9ce59dbe-bd54-4377-dd8c-62e58225bade",
        "colab": {
          "base_uri": "https://localhost:8080/"
        }
      },
      "execution_count": 24,
      "outputs": [
        {
          "output_type": "stream",
          "name": "stdout",
          "text": [
            "arr6       =array([ 3,  4,  5,  6,  7,  8,  9, 10, 11, 12, 13, 14])\n",
            "len(arr6)  =12\n",
            "arr6.dtype =dtype('int64')\n",
            "arr6.shape =(12,)\n",
            "arr6.ndim  =1\n"
          ]
        }
      ]
    },
    {
      "cell_type": "code",
      "source": [
        "arr6 = np.arange(3, 15, 2)  # default start = 0, step = +1\n",
        "\n",
        "print(f'{arr6       =}')\n",
        "print(f'{len(arr6)  =}')\n",
        "print(f'{arr6.dtype =}')\n",
        "print(f'{arr6.shape =}')\n",
        "print(f'{arr6.ndim  =}')  # the number of axes (dimensions) of the array."
      ],
      "metadata": {
        "id": "GB18hN8o4xL9",
        "outputId": "b4a9e280-f87d-41ec-c77a-2ee20d985296",
        "colab": {
          "base_uri": "https://localhost:8080/"
        }
      },
      "execution_count": 25,
      "outputs": [
        {
          "output_type": "stream",
          "name": "stdout",
          "text": [
            "arr6       =array([ 3,  5,  7,  9, 11, 13])\n",
            "len(arr6)  =6\n",
            "arr6.dtype =dtype('int64')\n",
            "arr6.shape =(6,)\n",
            "arr6.ndim  =1\n"
          ]
        }
      ]
    },
    {
      "cell_type": "code",
      "source": [
        "np.linspace(3, 15, 2) # here 2 is the number of element you want"
      ],
      "metadata": {
        "id": "AYogqkv8AAp7",
        "outputId": "de673a6c-b82f-435a-b267-8362b61530e1",
        "colab": {
          "base_uri": "https://localhost:8080/"
        }
      },
      "execution_count": 86,
      "outputs": [
        {
          "output_type": "execute_result",
          "data": {
            "text/plain": [
              "array([ 3., 15.])"
            ]
          },
          "metadata": {},
          "execution_count": 86
        }
      ]
    },
    {
      "cell_type": "code",
      "source": [
        "np.linspace(3, 15, 3) # here 3 is the number of element you want"
      ],
      "metadata": {
        "id": "_T-dh8giAVZC",
        "outputId": "74f66574-4104-48d0-a802-bd23e584e599",
        "colab": {
          "base_uri": "https://localhost:8080/"
        }
      },
      "execution_count": 87,
      "outputs": [
        {
          "output_type": "execute_result",
          "data": {
            "text/plain": [
              "array([ 3.,  9., 15.])"
            ]
          },
          "metadata": {},
          "execution_count": 87
        }
      ]
    },
    {
      "cell_type": "code",
      "source": [
        "np.linspace(3, 15, 3)"
      ],
      "metadata": {
        "id": "9eCyyJmpAVcd",
        "outputId": "e7959b0f-1294-484b-e2e7-a4bb70382b34",
        "colab": {
          "base_uri": "https://localhost:8080/"
        }
      },
      "execution_count": 88,
      "outputs": [
        {
          "output_type": "execute_result",
          "data": {
            "text/plain": [
              "array([ 3.,  9., 15.])"
            ]
          },
          "metadata": {},
          "execution_count": 88
        }
      ]
    },
    {
      "cell_type": "code",
      "source": [
        "np.linspace(3, 15, 6)"
      ],
      "metadata": {
        "id": "_DN_wAxlAVfq",
        "outputId": "65549ea7-83ea-429b-d4fc-bb74f7806a7a",
        "colab": {
          "base_uri": "https://localhost:8080/"
        }
      },
      "execution_count": 89,
      "outputs": [
        {
          "output_type": "execute_result",
          "data": {
            "text/plain": [
              "array([ 3. ,  5.4,  7.8, 10.2, 12.6, 15. ])"
            ]
          },
          "metadata": {},
          "execution_count": 89
        }
      ]
    },
    {
      "cell_type": "code",
      "source": [
        "np.linspace(3, 15, 12)  # step is calcuated dynamically, based on the number of values expected, from start, till end"
      ],
      "metadata": {
        "id": "FlyvoYBiAViw",
        "outputId": "9ab5ad1e-ded1-4052-d7f5-6392c4020f3f",
        "colab": {
          "base_uri": "https://localhost:8080/"
        }
      },
      "execution_count": 90,
      "outputs": [
        {
          "output_type": "execute_result",
          "data": {
            "text/plain": [
              "array([ 3.        ,  4.09090909,  5.18181818,  6.27272727,  7.36363636,\n",
              "        8.45454545,  9.54545455, 10.63636364, 11.72727273, 12.81818182,\n",
              "       13.90909091, 15.        ])"
            ]
          },
          "metadata": {},
          "execution_count": 90
        }
      ]
    },
    {
      "cell_type": "code",
      "source": [
        "np.linspace(3, 15, 898987987)"
      ],
      "metadata": {
        "id": "utwl8RbdAwD2",
        "outputId": "19c0a8a5-9ddc-47ce-cc6f-24847138390b",
        "colab": {
          "base_uri": "https://localhost:8080/"
        }
      },
      "execution_count": 91,
      "outputs": [
        {
          "output_type": "execute_result",
          "data": {
            "text/plain": [
              "array([ 3.        ,  3.00000001,  3.00000003, ..., 14.99999997,\n",
              "       14.99999999, 15.        ])"
            ]
          },
          "metadata": {},
          "execution_count": 91
        }
      ]
    },
    {
      "cell_type": "markdown",
      "source": [
        "if we need to disable this displaying behaviour, use\n",
        "\n",
        "np.set_printoptions(threshold=np.nan)"
      ],
      "metadata": {
        "id": "3btqlTEDA6l1"
      }
    },
    {
      "cell_type": "markdown",
      "source": [
        "### np.reshape"
      ],
      "metadata": {
        "id": "zlDtOLWY4-Vt"
      }
    },
    {
      "cell_type": "code",
      "source": [
        "arr6.reshape(3, 5) # 3 * 5 = 15"
      ],
      "metadata": {
        "id": "RkyFcq8H5AT1",
        "outputId": "dce4957f-43ab-486d-a06d-0eeb3a7e1a6e",
        "colab": {
          "base_uri": "https://localhost:8080/",
          "height": 141
        }
      },
      "execution_count": 26,
      "outputs": [
        {
          "output_type": "error",
          "ename": "ValueError",
          "evalue": "cannot reshape array of size 6 into shape (3,5)",
          "traceback": [
            "\u001b[0;31m---------------------------------------------------------------------------\u001b[0m",
            "\u001b[0;31mValueError\u001b[0m                                Traceback (most recent call last)",
            "\u001b[0;32m<ipython-input-26-dad916595895>\u001b[0m in \u001b[0;36m<cell line: 0>\u001b[0;34m()\u001b[0m\n\u001b[0;32m----> 1\u001b[0;31m \u001b[0marr6\u001b[0m\u001b[0;34m.\u001b[0m\u001b[0mreshape\u001b[0m\u001b[0;34m(\u001b[0m\u001b[0;36m3\u001b[0m\u001b[0;34m,\u001b[0m \u001b[0;36m5\u001b[0m\u001b[0;34m)\u001b[0m \u001b[0;31m# 3 * 5 = 15\u001b[0m\u001b[0;34m\u001b[0m\u001b[0;34m\u001b[0m\u001b[0m\n\u001b[0m",
            "\u001b[0;31mValueError\u001b[0m: cannot reshape array of size 6 into shape (3,5)"
          ]
        }
      ]
    },
    {
      "cell_type": "code",
      "source": [
        "arr6.reshape(3, 2)  # 6 = 3 * 2"
      ],
      "metadata": {
        "id": "Be9yw4wU5Ln3",
        "outputId": "4ace25a7-e134-4a3e-8e77-e08e6e2165ae",
        "colab": {
          "base_uri": "https://localhost:8080/"
        }
      },
      "execution_count": 27,
      "outputs": [
        {
          "output_type": "execute_result",
          "data": {
            "text/plain": [
              "array([[ 3,  5],\n",
              "       [ 7,  9],\n",
              "       [11, 13]])"
            ]
          },
          "metadata": {},
          "execution_count": 27
        }
      ]
    },
    {
      "cell_type": "code",
      "source": [
        "arr6.reshape(2, 3)  # 6 = 3 * 2"
      ],
      "metadata": {
        "id": "LbsoQEvW5Q5r",
        "outputId": "c4c4b6e8-82dd-49da-e38a-32bb4ded4ecb",
        "colab": {
          "base_uri": "https://localhost:8080/"
        }
      },
      "execution_count": 28,
      "outputs": [
        {
          "output_type": "execute_result",
          "data": {
            "text/plain": [
              "array([[ 3,  5,  7],\n",
              "       [ 9, 11, 13]])"
            ]
          },
          "metadata": {},
          "execution_count": 28
        }
      ]
    },
    {
      "cell_type": "code",
      "source": [
        "arr6"
      ],
      "metadata": {
        "id": "qHWSp66V5TWc",
        "outputId": "3429f34a-7a9a-49b2-ef56-0ddadd64eb35",
        "colab": {
          "base_uri": "https://localhost:8080/"
        }
      },
      "execution_count": 29,
      "outputs": [
        {
          "output_type": "execute_result",
          "data": {
            "text/plain": [
              "array([ 3,  5,  7,  9, 11, 13])"
            ]
          },
          "metadata": {},
          "execution_count": 29
        }
      ]
    },
    {
      "cell_type": "code",
      "source": [
        "arr6 = arr6.reshape(2, 3)\n",
        "\n",
        "\n",
        "arr6.ndim"
      ],
      "metadata": {
        "id": "ippzS7745Ufr",
        "outputId": "7890b570-fd44-4b11-d330-cf6b76115093",
        "colab": {
          "base_uri": "https://localhost:8080/"
        }
      },
      "execution_count": 30,
      "outputs": [
        {
          "output_type": "execute_result",
          "data": {
            "text/plain": [
              "2"
            ]
          },
          "metadata": {},
          "execution_count": 30
        }
      ]
    },
    {
      "cell_type": "markdown",
      "source": [
        "### ndarray.itemsize\n",
        "\n",
        "\n",
        "\n",
        "the size in bytes of each element of the array.\n",
        "For example, an array of elements of type float64 has  8 (=6itemsize4/8),\n",
        "while one of type complex32 has itemsize 4 (=32/8).\n",
        "It is equivalent to ndarray.dtype.itemsize."
      ],
      "metadata": {
        "id": "PKTTGz7h5cTB"
      }
    },
    {
      "cell_type": "code",
      "source": [
        "arr6"
      ],
      "metadata": {
        "id": "DO52WDG55lz5",
        "outputId": "b256c5a5-e178-4aa1-8cbe-07bba9f54e15",
        "colab": {
          "base_uri": "https://localhost:8080/"
        }
      },
      "execution_count": 31,
      "outputs": [
        {
          "output_type": "execute_result",
          "data": {
            "text/plain": [
              "array([[ 3,  5,  7],\n",
              "       [ 9, 11, 13]])"
            ]
          },
          "metadata": {},
          "execution_count": 31
        }
      ]
    },
    {
      "cell_type": "code",
      "source": [
        "arr6.itemsize"
      ],
      "metadata": {
        "id": "jtXqIa085nSr",
        "outputId": "dca765f8-793e-42d7-ae14-8467f87448f0",
        "colab": {
          "base_uri": "https://localhost:8080/"
        }
      },
      "execution_count": 32,
      "outputs": [
        {
          "output_type": "execute_result",
          "data": {
            "text/plain": [
              "8"
            ]
          },
          "metadata": {},
          "execution_count": 32
        }
      ]
    },
    {
      "cell_type": "code",
      "source": [
        "print(f'{arr1 = } {arr1.itemsize =}')\n",
        "print(f'{arr2 = } {arr2.itemsize =}')\n",
        "print(f'{arr3 = } {arr3.itemsize =}')\n",
        "print(f'{arr4 = } {arr4.itemsize =}')\n",
        "print(f'{arr5 = } {arr5.itemsize =}')\n",
        "print(f'{arr6 = } {arr6.itemsize =}')"
      ],
      "metadata": {
        "id": "Xy9_7WF15pHK",
        "outputId": "e317819a-3fca-4a41-a9cf-b5997a92ab6a",
        "colab": {
          "base_uri": "https://localhost:8080/"
        }
      },
      "execution_count": 33,
      "outputs": [
        {
          "output_type": "stream",
          "name": "stdout",
          "text": [
            "arr1 = array([1, 3.3, '234', None, True], dtype=object) arr1.itemsize =8\n",
            "arr2 = array([12340, 12341, 12342, 12343, 12345]) arr2.itemsize =8\n",
            "arr3 = array([12340., 12341., 12342., 12343., 12345.]) arr3.itemsize =8\n",
            "arr4 = array([[1., 2., 3.],\n",
            "       [5., 6., 7.]]) arr4.itemsize =8\n",
            "arr5 = array([[1., 2., 3.],\n",
            "       [5., 6., 7.]]) arr5.itemsize =8\n",
            "arr6 = array([[ 3,  5,  7],\n",
            "       [ 9, 11, 13]]) arr6.itemsize =8\n"
          ]
        }
      ]
    },
    {
      "cell_type": "markdown",
      "source": [
        "### creating array likes"
      ],
      "metadata": {
        "id": "56mUL_Jv7d55"
      }
    },
    {
      "cell_type": "code",
      "source": [
        "arr6"
      ],
      "metadata": {
        "id": "06L5kzTy7enl",
        "outputId": "93152ac1-acfe-43a0-9334-2562fcbf0b56",
        "colab": {
          "base_uri": "https://localhost:8080/"
        }
      },
      "execution_count": 42,
      "outputs": [
        {
          "output_type": "execute_result",
          "data": {
            "text/plain": [
              "array([[ 3,  5,  7],\n",
              "       [ 9, 11, 13]])"
            ]
          },
          "metadata": {},
          "execution_count": 42
        }
      ]
    },
    {
      "cell_type": "code",
      "source": [
        "np.zeros_like(arr6)"
      ],
      "metadata": {
        "id": "uOcmlbWM7hRg",
        "outputId": "90e29ab4-e8e7-448d-8e90-7530d7b6060d",
        "colab": {
          "base_uri": "https://localhost:8080/"
        }
      },
      "execution_count": 43,
      "outputs": [
        {
          "output_type": "execute_result",
          "data": {
            "text/plain": [
              "array([[0, 0, 0],\n",
              "       [0, 0, 0]])"
            ]
          },
          "metadata": {},
          "execution_count": 43
        }
      ]
    },
    {
      "cell_type": "code",
      "source": [
        "np.ones_like(arr6)"
      ],
      "metadata": {
        "id": "_jyt3ytC7pD-",
        "outputId": "106b6a28-a1f1-4bc6-e050-5c208db19734",
        "colab": {
          "base_uri": "https://localhost:8080/"
        }
      },
      "execution_count": 44,
      "outputs": [
        {
          "output_type": "execute_result",
          "data": {
            "text/plain": [
              "array([[1, 1, 1],\n",
              "       [1, 1, 1]])"
            ]
          },
          "metadata": {},
          "execution_count": 44
        }
      ]
    },
    {
      "cell_type": "code",
      "source": [
        "np.zeros((3, 4))"
      ],
      "metadata": {
        "id": "0E1hgBm37tgK",
        "outputId": "1bf90f80-31b2-4a81-c434-c546a310cec2",
        "colab": {
          "base_uri": "https://localhost:8080/"
        }
      },
      "execution_count": 46,
      "outputs": [
        {
          "output_type": "execute_result",
          "data": {
            "text/plain": [
              "array([[0., 0., 0., 0.],\n",
              "       [0., 0., 0., 0.],\n",
              "       [0., 0., 0., 0.]])"
            ]
          },
          "metadata": {},
          "execution_count": 46
        }
      ]
    },
    {
      "cell_type": "code",
      "source": [
        "np.ones((3, 4))"
      ],
      "metadata": {
        "id": "jF9IJx7H7wXx",
        "outputId": "e911bdc9-44cb-49a5-d05d-aac1aed1f83e",
        "colab": {
          "base_uri": "https://localhost:8080/"
        }
      },
      "execution_count": 48,
      "outputs": [
        {
          "output_type": "execute_result",
          "data": {
            "text/plain": [
              "array([[1., 1., 1., 1.],\n",
              "       [1., 1., 1., 1.],\n",
              "       [1., 1., 1., 1.]])"
            ]
          },
          "metadata": {},
          "execution_count": 48
        }
      ]
    },
    {
      "cell_type": "code",
      "source": [
        "np.ones((3, 4, 2), dtype=np.int16)"
      ],
      "metadata": {
        "id": "ADAeoqvt72OE",
        "outputId": "7601f45c-2e96-4a41-d8fb-9150a695d580",
        "colab": {
          "base_uri": "https://localhost:8080/"
        }
      },
      "execution_count": 49,
      "outputs": [
        {
          "output_type": "execute_result",
          "data": {
            "text/plain": [
              "array([[[1, 1],\n",
              "        [1, 1],\n",
              "        [1, 1],\n",
              "        [1, 1]],\n",
              "\n",
              "       [[1, 1],\n",
              "        [1, 1],\n",
              "        [1, 1],\n",
              "        [1, 1]],\n",
              "\n",
              "       [[1, 1],\n",
              "        [1, 1],\n",
              "        [1, 1],\n",
              "        [1, 1]]], dtype=int16)"
            ]
          },
          "metadata": {},
          "execution_count": 49
        }
      ]
    },
    {
      "cell_type": "code",
      "source": [
        "np.ones((3, 4, 2), dtype=np.float128)"
      ],
      "metadata": {
        "id": "vjP5lY5X8AEk",
        "outputId": "feb87bc5-cf1b-415c-d920-c6b803a85851",
        "colab": {
          "base_uri": "https://localhost:8080/"
        }
      },
      "execution_count": 50,
      "outputs": [
        {
          "output_type": "execute_result",
          "data": {
            "text/plain": [
              "array([[[1., 1.],\n",
              "        [1., 1.],\n",
              "        [1., 1.],\n",
              "        [1., 1.]],\n",
              "\n",
              "       [[1., 1.],\n",
              "        [1., 1.],\n",
              "        [1., 1.],\n",
              "        [1., 1.]],\n",
              "\n",
              "       [[1., 1.],\n",
              "        [1., 1.],\n",
              "        [1., 1.],\n",
              "        [1., 1.]]], dtype=float128)"
            ]
          },
          "metadata": {},
          "execution_count": 50
        }
      ]
    },
    {
      "cell_type": "code",
      "source": [
        "np.ones((3, 4, 2), dtype=np.float128) * 356"
      ],
      "metadata": {
        "id": "Gq-pu-BA8Iu0",
        "outputId": "82fdd5ee-fcc2-4f48-ba31-8968ef248997",
        "colab": {
          "base_uri": "https://localhost:8080/"
        }
      },
      "execution_count": 51,
      "outputs": [
        {
          "output_type": "execute_result",
          "data": {
            "text/plain": [
              "array([[[356., 356.],\n",
              "        [356., 356.],\n",
              "        [356., 356.],\n",
              "        [356., 356.]],\n",
              "\n",
              "       [[356., 356.],\n",
              "        [356., 356.],\n",
              "        [356., 356.],\n",
              "        [356., 356.]],\n",
              "\n",
              "       [[356., 356.],\n",
              "        [356., 356.],\n",
              "        [356., 356.],\n",
              "        [356., 356.]]], dtype=float128)"
            ]
          },
          "metadata": {},
          "execution_count": 51
        }
      ]
    },
    {
      "cell_type": "code",
      "source": [
        "np.full((3, 4, 2), 356, dtype=np.float128)"
      ],
      "metadata": {
        "id": "godr_KH48OEi",
        "outputId": "df7ce8fb-702e-4ac8-9fe2-972d88ef9b2c",
        "colab": {
          "base_uri": "https://localhost:8080/"
        }
      },
      "execution_count": 53,
      "outputs": [
        {
          "output_type": "execute_result",
          "data": {
            "text/plain": [
              "array([[[356., 356.],\n",
              "        [356., 356.],\n",
              "        [356., 356.],\n",
              "        [356., 356.]],\n",
              "\n",
              "       [[356., 356.],\n",
              "        [356., 356.],\n",
              "        [356., 356.],\n",
              "        [356., 356.]],\n",
              "\n",
              "       [[356., 356.],\n",
              "        [356., 356.],\n",
              "        [356., 356.],\n",
              "        [356., 356.]]], dtype=float128)"
            ]
          },
          "metadata": {},
          "execution_count": 53
        }
      ]
    },
    {
      "cell_type": "code",
      "source": [
        "np.full((3, 3), 0.5, )"
      ],
      "metadata": {
        "id": "lzUYWLlv8TjB",
        "outputId": "cbed722a-8cde-4d88-e43b-46e8af8afbdb",
        "colab": {
          "base_uri": "https://localhost:8080/"
        }
      },
      "execution_count": 54,
      "outputs": [
        {
          "output_type": "execute_result",
          "data": {
            "text/plain": [
              "array([[0.5, 0.5, 0.5],\n",
              "       [0.5, 0.5, 0.5],\n",
              "       [0.5, 0.5, 0.5]])"
            ]
          },
          "metadata": {},
          "execution_count": 54
        }
      ]
    },
    {
      "cell_type": "code",
      "source": [
        "np.eye(3 )"
      ],
      "metadata": {
        "id": "36TsavFI8hNB",
        "outputId": "6e1d1c08-1ca2-4006-d35d-2d8b69a7c264",
        "colab": {
          "base_uri": "https://localhost:8080/"
        }
      },
      "execution_count": 57,
      "outputs": [
        {
          "output_type": "execute_result",
          "data": {
            "text/plain": [
              "array([[1., 0., 0.],\n",
              "       [0., 1., 0.],\n",
              "       [0., 0., 1.]])"
            ]
          },
          "metadata": {},
          "execution_count": 57
        }
      ]
    },
    {
      "cell_type": "code",
      "source": [
        "np.eye(5 )"
      ],
      "metadata": {
        "id": "Y2P0VTlm8kqc",
        "outputId": "2c0156e0-a690-49e8-9a42-b0de244c05eb",
        "colab": {
          "base_uri": "https://localhost:8080/"
        }
      },
      "execution_count": 58,
      "outputs": [
        {
          "output_type": "execute_result",
          "data": {
            "text/plain": [
              "array([[1., 0., 0., 0., 0.],\n",
              "       [0., 1., 0., 0., 0.],\n",
              "       [0., 0., 1., 0., 0.],\n",
              "       [0., 0., 0., 1., 0.],\n",
              "       [0., 0., 0., 0., 1.]])"
            ]
          },
          "metadata": {},
          "execution_count": 58
        }
      ]
    },
    {
      "cell_type": "code",
      "source": [
        "# The eye function returns matrices with ones along the kth diagonal:\n",
        "\n",
        "np.eye(5 , k=0)\n"
      ],
      "metadata": {
        "id": "qKxsuLNH8wDD",
        "outputId": "96730267-18c8-4e12-c318-abe77d1c403d",
        "colab": {
          "base_uri": "https://localhost:8080/"
        }
      },
      "execution_count": 59,
      "outputs": [
        {
          "output_type": "execute_result",
          "data": {
            "text/plain": [
              "array([[1., 0., 0., 0., 0.],\n",
              "       [0., 1., 0., 0., 0.],\n",
              "       [0., 0., 1., 0., 0.],\n",
              "       [0., 0., 0., 1., 0.],\n",
              "       [0., 0., 0., 0., 1.]])"
            ]
          },
          "metadata": {},
          "execution_count": 59
        }
      ]
    },
    {
      "cell_type": "code",
      "source": [
        "np.eye(5 , k=2)\n"
      ],
      "metadata": {
        "id": "WKOe8yE587m8",
        "outputId": "bc9d422c-6aa4-4d10-f34c-51b1dcb36543",
        "colab": {
          "base_uri": "https://localhost:8080/"
        }
      },
      "execution_count": 60,
      "outputs": [
        {
          "output_type": "execute_result",
          "data": {
            "text/plain": [
              "array([[0., 0., 1., 0., 0.],\n",
              "       [0., 0., 0., 1., 0.],\n",
              "       [0., 0., 0., 0., 1.],\n",
              "       [0., 0., 0., 0., 0.],\n",
              "       [0., 0., 0., 0., 0.]])"
            ]
          },
          "metadata": {},
          "execution_count": 60
        }
      ]
    },
    {
      "cell_type": "code",
      "source": [
        "np.eye(5 , k=-3)\n"
      ],
      "metadata": {
        "id": "53ddL3_x8-DP",
        "outputId": "993e2063-e888-4f8f-e112-62ab2bff9f3a",
        "colab": {
          "base_uri": "https://localhost:8080/"
        }
      },
      "execution_count": 61,
      "outputs": [
        {
          "output_type": "execute_result",
          "data": {
            "text/plain": [
              "array([[0., 0., 0., 0., 0.],\n",
              "       [0., 0., 0., 0., 0.],\n",
              "       [0., 0., 0., 0., 0.],\n",
              "       [1., 0., 0., 0., 0.],\n",
              "       [0., 1., 0., 0., 0.]])"
            ]
          },
          "metadata": {},
          "execution_count": 61
        }
      ]
    },
    {
      "cell_type": "code",
      "source": [
        "np.eye(5 , k=-67)\n"
      ],
      "metadata": {
        "id": "X4rTQeUk9Ej0",
        "outputId": "37d216fd-7f33-4776-d0cc-7380a95735b1",
        "colab": {
          "base_uri": "https://localhost:8080/"
        }
      },
      "execution_count": 62,
      "outputs": [
        {
          "output_type": "execute_result",
          "data": {
            "text/plain": [
              "array([[0., 0., 0., 0., 0.],\n",
              "       [0., 0., 0., 0., 0.],\n",
              "       [0., 0., 0., 0., 0.],\n",
              "       [0., 0., 0., 0., 0.],\n",
              "       [0., 0., 0., 0., 0.]])"
            ]
          },
          "metadata": {},
          "execution_count": 62
        }
      ]
    },
    {
      "cell_type": "code",
      "source": [
        "np.identity(4, dtype=float)"
      ],
      "metadata": {
        "id": "Zf4ORPOW9IEj",
        "outputId": "504060aa-8ef0-4385-9a93-3a6d4a184951",
        "colab": {
          "base_uri": "https://localhost:8080/"
        }
      },
      "execution_count": 63,
      "outputs": [
        {
          "output_type": "execute_result",
          "data": {
            "text/plain": [
              "array([[1., 0., 0., 0.],\n",
              "       [0., 1., 0., 0.],\n",
              "       [0., 0., 1., 0.],\n",
              "       [0., 0., 0., 1.]])"
            ]
          },
          "metadata": {},
          "execution_count": 63
        }
      ]
    },
    {
      "cell_type": "code",
      "source": [
        "np.identity(5)"
      ],
      "metadata": {
        "id": "bBeV9b3S9NSu",
        "outputId": "66e0e895-a0f6-482c-de9f-3d864f02d35b",
        "colab": {
          "base_uri": "https://localhost:8080/"
        }
      },
      "execution_count": 65,
      "outputs": [
        {
          "output_type": "execute_result",
          "data": {
            "text/plain": [
              "array([[1., 0., 0., 0., 0.],\n",
              "       [0., 1., 0., 0., 0.],\n",
              "       [0., 0., 1., 0., 0.],\n",
              "       [0., 0., 0., 1., 0.],\n",
              "       [0., 0., 0., 0., 1.]])"
            ]
          },
          "metadata": {},
          "execution_count": 65
        }
      ]
    },
    {
      "cell_type": "code",
      "source": [
        "np.identity(6, dtype=float)\n"
      ],
      "metadata": {
        "id": "jnjcZO0Y9RsE",
        "outputId": "a4056fba-b942-4730-f73a-37a0ee9ada0e",
        "colab": {
          "base_uri": "https://localhost:8080/"
        }
      },
      "execution_count": 66,
      "outputs": [
        {
          "output_type": "execute_result",
          "data": {
            "text/plain": [
              "array([[1., 0., 0., 0., 0., 0.],\n",
              "       [0., 1., 0., 0., 0., 0.],\n",
              "       [0., 0., 1., 0., 0., 0.],\n",
              "       [0., 0., 0., 1., 0., 0.],\n",
              "       [0., 0., 0., 0., 1., 0.],\n",
              "       [0., 0., 0., 0., 0., 1.]])"
            ]
          },
          "metadata": {},
          "execution_count": 66
        }
      ]
    },
    {
      "cell_type": "code",
      "source": [
        "np.identity(6, dtype=float, like=arr6)\n"
      ],
      "metadata": {
        "id": "obvXTcU59fQT",
        "outputId": "85edc32c-5d32-487b-e4ed-52d1c941ab08",
        "colab": {
          "base_uri": "https://localhost:8080/"
        }
      },
      "execution_count": 69,
      "outputs": [
        {
          "output_type": "execute_result",
          "data": {
            "text/plain": [
              "array([[1., 0., 0., 0., 0., 0.],\n",
              "       [0., 1., 0., 0., 0., 0.],\n",
              "       [0., 0., 1., 0., 0., 0.],\n",
              "       [0., 0., 0., 1., 0., 0.],\n",
              "       [0., 0., 0., 0., 1., 0.],\n",
              "       [0., 0., 0., 0., 0., 1.]])"
            ]
          },
          "metadata": {},
          "execution_count": 69
        }
      ]
    },
    {
      "cell_type": "code",
      "source": [
        "arr7 = np.identity(6, dtype=float, like=arr6)\n",
        "\n",
        "np.trace(arr7) # trace - summation of principal diagonal eleements"
      ],
      "metadata": {
        "id": "jtf1nV-2Rteh",
        "outputId": "1347e6d6-1113-4e35-b54e-5ee6f0a66734",
        "colab": {
          "base_uri": "https://localhost:8080/"
        }
      },
      "execution_count": 274,
      "outputs": [
        {
          "output_type": "execute_result",
          "data": {
            "text/plain": [
              "6.0"
            ]
          },
          "metadata": {},
          "execution_count": 274
        }
      ]
    },
    {
      "cell_type": "code",
      "source": [
        "arr6"
      ],
      "metadata": {
        "id": "ElLixco49ogl",
        "outputId": "36100536-1165-4437-c0ac-ec7e56c35d61",
        "colab": {
          "base_uri": "https://localhost:8080/"
        }
      },
      "execution_count": 70,
      "outputs": [
        {
          "output_type": "execute_result",
          "data": {
            "text/plain": [
              "array([[ 3,  5,  7],\n",
              "       [ 9, 11, 13]])"
            ]
          },
          "metadata": {},
          "execution_count": 70
        }
      ]
    },
    {
      "cell_type": "code",
      "source": [
        "np.version.full_version"
      ],
      "metadata": {
        "id": "ufbuDxCT97l-",
        "outputId": "c7931ef7-a72f-49d0-c9c1-c62c214feb2a",
        "colab": {
          "base_uri": "https://localhost:8080/",
          "height": 35
        }
      },
      "execution_count": 74,
      "outputs": [
        {
          "output_type": "execute_result",
          "data": {
            "text/plain": [
              "'1.26.4'"
            ],
            "application/vnd.google.colaboratory.intrinsic+json": {
              "type": "string"
            }
          },
          "metadata": {},
          "execution_count": 74
        }
      ]
    },
    {
      "cell_type": "code",
      "source": [
        "! pip install numpy==2.2"
      ],
      "metadata": {
        "id": "jx5uazUn-U2t",
        "outputId": "669c47f3-d183-40bc-8436-9178f364457a",
        "colab": {
          "base_uri": "https://localhost:8080/"
        }
      },
      "execution_count": 75,
      "outputs": [
        {
          "output_type": "stream",
          "name": "stdout",
          "text": [
            "Collecting numpy==2.2\n",
            "  Downloading numpy-2.2.0-cp311-cp311-manylinux_2_17_x86_64.manylinux2014_x86_64.whl.metadata (62 kB)\n",
            "\u001b[?25l     \u001b[90m━━━━━━━━━━━━━━━━━━━━━━━━━━━━━━━━━━━━━━━━\u001b[0m \u001b[32m0.0/62.0 kB\u001b[0m \u001b[31m?\u001b[0m eta \u001b[36m-:--:--\u001b[0m\r\u001b[2K     \u001b[90m━━━━━━━━━━━━━━━━━━━━━━━━━━━━━━━━━━━━━━━━\u001b[0m \u001b[32m62.0/62.0 kB\u001b[0m \u001b[31m2.5 MB/s\u001b[0m eta \u001b[36m0:00:00\u001b[0m\n",
            "\u001b[?25hDownloading numpy-2.2.0-cp311-cp311-manylinux_2_17_x86_64.manylinux2014_x86_64.whl (16.4 MB)\n",
            "\u001b[2K   \u001b[90m━━━━━━━━━━━━━━━━━━━━━━━━━━━━━━━━━━━━━━━━\u001b[0m \u001b[32m16.4/16.4 MB\u001b[0m \u001b[31m48.4 MB/s\u001b[0m eta \u001b[36m0:00:00\u001b[0m\n",
            "\u001b[?25hInstalling collected packages: numpy\n",
            "  Attempting uninstall: numpy\n",
            "    Found existing installation: numpy 1.26.4\n",
            "    Uninstalling numpy-1.26.4:\n",
            "      Successfully uninstalled numpy-1.26.4\n",
            "\u001b[31mERROR: pip's dependency resolver does not currently take into account all the packages that are installed. This behaviour is the source of the following dependency conflicts.\n",
            "numba 0.60.0 requires numpy<2.1,>=1.22, but you have numpy 2.2.0 which is incompatible.\n",
            "tensorflow 2.17.1 requires numpy<2.0.0,>=1.23.5; python_version <= \"3.11\", but you have numpy 2.2.0 which is incompatible.\n",
            "gensim 4.3.3 requires numpy<2.0,>=1.18.5, but you have numpy 2.2.0 which is incompatible.\n",
            "cupy-cuda12x 12.2.0 requires numpy<1.27,>=1.20, but you have numpy 2.2.0 which is incompatible.\n",
            "pytensor 2.26.4 requires numpy<2,>=1.17.0, but you have numpy 2.2.0 which is incompatible.\n",
            "langchain 0.3.15 requires numpy<2,>=1.22.4; python_version < \"3.12\", but you have numpy 2.2.0 which is incompatible.\n",
            "thinc 8.2.5 requires numpy<2.0.0,>=1.19.0; python_version >= \"3.9\", but you have numpy 2.2.0 which is incompatible.\u001b[0m\u001b[31m\n",
            "\u001b[0mSuccessfully installed numpy-2.2.0\n"
          ]
        }
      ]
    },
    {
      "cell_type": "code",
      "source": [
        "np.random.random((2, 3))  # Create an array filled with random values\n"
      ],
      "metadata": {
        "id": "pEuFp6M6_HUc",
        "outputId": "4999ae61-604f-448b-babc-410079676336",
        "colab": {
          "base_uri": "https://localhost:8080/"
        }
      },
      "execution_count": 76,
      "outputs": [
        {
          "output_type": "execute_result",
          "data": {
            "text/plain": [
              "array([[0.4959262 , 0.71572141, 0.98137696],\n",
              "       [0.93870468, 0.54280569, 0.51495421]])"
            ]
          },
          "metadata": {},
          "execution_count": 76
        }
      ]
    },
    {
      "cell_type": "code",
      "source": [
        "np.empty((2, 3))  # uninitialized, output may vary\n"
      ],
      "metadata": {
        "id": "9weILiQW_Odo",
        "outputId": "27f1de57-c35d-4371-8d7a-c1409595541d",
        "colab": {
          "base_uri": "https://localhost:8080/"
        }
      },
      "execution_count": 77,
      "outputs": [
        {
          "output_type": "execute_result",
          "data": {
            "text/plain": [
              "array([[0.4959262 , 0.71572141, 0.98137696],\n",
              "       [0.93870468, 0.54280569, 0.51495421]])"
            ]
          },
          "metadata": {},
          "execution_count": 77
        }
      ]
    },
    {
      "cell_type": "code",
      "source": [
        "np.array([])"
      ],
      "metadata": {
        "id": "bIAQ_gVs_RTK",
        "outputId": "9b8a0506-8d99-44c4-e6b7-99fe9cbcdad9",
        "colab": {
          "base_uri": "https://localhost:8080/"
        }
      },
      "execution_count": 79,
      "outputs": [
        {
          "output_type": "execute_result",
          "data": {
            "text/plain": [
              "array([], dtype=float64)"
            ]
          },
          "metadata": {},
          "execution_count": 79
        }
      ]
    },
    {
      "cell_type": "code",
      "source": [
        "np.random.random((2, 3))"
      ],
      "metadata": {
        "id": "201LvEki_WIn",
        "outputId": "89c7b15d-0cf1-467d-8f53-aa15fd1ee0bc",
        "colab": {
          "base_uri": "https://localhost:8080/"
        }
      },
      "execution_count": 80,
      "outputs": [
        {
          "output_type": "execute_result",
          "data": {
            "text/plain": [
              "array([[0.50371387, 0.06843771, 0.9113586 ],\n",
              "       [0.19929773, 0.76767305, 0.84155286]])"
            ]
          },
          "metadata": {},
          "execution_count": 80
        }
      ]
    },
    {
      "cell_type": "code",
      "source": [
        "np.empty((2, 3))\n"
      ],
      "metadata": {
        "id": "9_KbBbv5_ee5",
        "outputId": "360b8087-4deb-499c-ccf0-42dff89714a9",
        "colab": {
          "base_uri": "https://localhost:8080/"
        }
      },
      "execution_count": 81,
      "outputs": [
        {
          "output_type": "execute_result",
          "data": {
            "text/plain": [
              "array([[0.50371387, 0.06843771, 0.9113586 ],\n",
              "       [0.19929773, 0.76767305, 0.84155286]])"
            ]
          },
          "metadata": {},
          "execution_count": 81
        }
      ]
    },
    {
      "cell_type": "code",
      "source": [
        "np.empty((2, 4))  # as they is not array of that dimenion, it created with random values\n"
      ],
      "metadata": {
        "id": "V6pQrhR0_f4F",
        "outputId": "929de5e9-c037-4ba4-d436-dffda19f4638",
        "colab": {
          "base_uri": "https://localhost:8080/"
        }
      },
      "execution_count": 82,
      "outputs": [
        {
          "output_type": "execute_result",
          "data": {
            "text/plain": [
              "array([[2.913477e-316, 0.000000e+000, 0.000000e+000, 0.000000e+000],\n",
              "       [0.000000e+000, 0.000000e+000, 0.000000e+000, 0.000000e+000]])"
            ]
          },
          "metadata": {},
          "execution_count": 82
        }
      ]
    },
    {
      "cell_type": "code",
      "source": [
        "np.random.random((2, 4))"
      ],
      "metadata": {
        "id": "tOpwIEO4_k7c",
        "outputId": "9d797920-7c2a-4820-e2b3-85ddc7689536",
        "colab": {
          "base_uri": "https://localhost:8080/"
        }
      },
      "execution_count": 83,
      "outputs": [
        {
          "output_type": "execute_result",
          "data": {
            "text/plain": [
              "array([[0.38793414, 0.04203469, 0.54827271, 0.40546048],\n",
              "       [0.71439185, 0.8800557 , 0.25086557, 0.52191348]])"
            ]
          },
          "metadata": {},
          "execution_count": 83
        }
      ]
    },
    {
      "cell_type": "code",
      "source": [
        "np.empty((2, 4))  #  empty will reuse exist8ing arrays, if created of that dimentsion\n"
      ],
      "metadata": {
        "id": "l9vqwV0R_sES",
        "outputId": "2986c89f-64c0-47f5-abbc-58770b26e34b",
        "colab": {
          "base_uri": "https://localhost:8080/"
        }
      },
      "execution_count": 84,
      "outputs": [
        {
          "output_type": "execute_result",
          "data": {
            "text/plain": [
              "array([[0.38793414, 0.04203469, 0.54827271, 0.40546048],\n",
              "       [0.71439185, 0.8800557 , 0.25086557, 0.52191348]])"
            ]
          },
          "metadata": {},
          "execution_count": 84
        }
      ]
    },
    {
      "cell_type": "markdown",
      "source": [
        "### Arithmetic Opertaions"
      ],
      "metadata": {
        "id": "s85icp2JBHyP"
      }
    },
    {
      "cell_type": "code",
      "source": [
        "a = np.array([20, 30, 40, 50])\n",
        "b = np.arange(4)\n"
      ],
      "metadata": {
        "id": "RZPb3-oaBJpk"
      },
      "execution_count": 92,
      "outputs": []
    },
    {
      "cell_type": "code",
      "source": [
        "print(a)\n",
        "print(b)"
      ],
      "metadata": {
        "id": "V2Z-hILJBOkB",
        "outputId": "5e1fe0b9-b0e2-4d5c-d411-3f70f2c01d22",
        "colab": {
          "base_uri": "https://localhost:8080/"
        }
      },
      "execution_count": 95,
      "outputs": [
        {
          "output_type": "stream",
          "name": "stdout",
          "text": [
            "[20 30 40 50]\n",
            "[0 1 2 3]\n"
          ]
        }
      ]
    },
    {
      "cell_type": "code",
      "source": [
        "a + b    # np.add(a, b)"
      ],
      "metadata": {
        "id": "hcey_NoxBPVO",
        "outputId": "2b7fdacf-30c9-4b64-fe19-4d7c8e06bc19",
        "colab": {
          "base_uri": "https://localhost:8080/"
        }
      },
      "execution_count": 96,
      "outputs": [
        {
          "output_type": "execute_result",
          "data": {
            "text/plain": [
              "array([20, 31, 42, 53])"
            ]
          },
          "metadata": {},
          "execution_count": 96
        }
      ]
    },
    {
      "cell_type": "code",
      "source": [
        "a - b"
      ],
      "metadata": {
        "id": "5WHG_ML6BWSD",
        "outputId": "07d06c01-3727-4795-edbe-f933afb25e29",
        "colab": {
          "base_uri": "https://localhost:8080/"
        }
      },
      "execution_count": 97,
      "outputs": [
        {
          "output_type": "execute_result",
          "data": {
            "text/plain": [
              "array([20, 29, 38, 47])"
            ]
          },
          "metadata": {},
          "execution_count": 97
        }
      ]
    },
    {
      "cell_type": "code",
      "source": [
        "a * b"
      ],
      "metadata": {
        "id": "ncnB1WOBBaEf",
        "outputId": "922d0e67-9641-4317-c990-257132c79c28",
        "colab": {
          "base_uri": "https://localhost:8080/"
        }
      },
      "execution_count": 98,
      "outputs": [
        {
          "output_type": "execute_result",
          "data": {
            "text/plain": [
              "array([  0,  30,  80, 150])"
            ]
          },
          "metadata": {},
          "execution_count": 98
        }
      ]
    },
    {
      "cell_type": "code",
      "source": [
        "a / b"
      ],
      "metadata": {
        "id": "yhkAg27lBbbs",
        "outputId": "ac85e233-edac-4c82-b940-5f8fe95ea83f",
        "colab": {
          "base_uri": "https://localhost:8080/"
        }
      },
      "execution_count": 99,
      "outputs": [
        {
          "output_type": "stream",
          "name": "stderr",
          "text": [
            "<ipython-input-99-d8e10abd5ab6>:1: RuntimeWarning: divide by zero encountered in divide\n",
            "  a / b\n"
          ]
        },
        {
          "output_type": "execute_result",
          "data": {
            "text/plain": [
              "array([        inf, 30.        , 20.        , 16.66666667])"
            ]
          },
          "metadata": {},
          "execution_count": 99
        }
      ]
    },
    {
      "cell_type": "code",
      "source": [
        "b / a"
      ],
      "metadata": {
        "id": "nr4jhJI2Bd4C",
        "outputId": "948ebdda-e005-4123-80d9-db00fa9bc372",
        "colab": {
          "base_uri": "https://localhost:8080/"
        }
      },
      "execution_count": 100,
      "outputs": [
        {
          "output_type": "execute_result",
          "data": {
            "text/plain": [
              "array([0.        , 0.03333333, 0.05      , 0.06      ])"
            ]
          },
          "metadata": {},
          "execution_count": 100
        }
      ]
    },
    {
      "cell_type": "code",
      "source": [
        "b //a"
      ],
      "metadata": {
        "id": "2cVjV4jMBkRH",
        "outputId": "5354e4a2-1cba-44cf-d3a7-72f38d14f722",
        "colab": {
          "base_uri": "https://localhost:8080/"
        }
      },
      "execution_count": 101,
      "outputs": [
        {
          "output_type": "execute_result",
          "data": {
            "text/plain": [
              "array([0, 0, 0, 0])"
            ]
          },
          "metadata": {},
          "execution_count": 101
        }
      ]
    },
    {
      "cell_type": "code",
      "source": [
        "b % a"
      ],
      "metadata": {
        "id": "qvp0se6qBnTz",
        "outputId": "0e9c6b58-3412-4211-d88c-bca60e57c085",
        "colab": {
          "base_uri": "https://localhost:8080/"
        }
      },
      "execution_count": 102,
      "outputs": [
        {
          "output_type": "execute_result",
          "data": {
            "text/plain": [
              "array([0, 1, 2, 3])"
            ]
          },
          "metadata": {},
          "execution_count": 102
        }
      ]
    },
    {
      "cell_type": "code",
      "source": [
        "b  ** a"
      ],
      "metadata": {
        "id": "osz5fQ8iBpl0",
        "outputId": "61e4b6ff-cebb-4f08-b427-9e65b4c33501",
        "colab": {
          "base_uri": "https://localhost:8080/"
        }
      },
      "execution_count": 103,
      "outputs": [
        {
          "output_type": "execute_result",
          "data": {
            "text/plain": [
              "array([                  0,                   1,       1099511627776,\n",
              "       6048575297968530377])"
            ]
          },
          "metadata": {},
          "execution_count": 103
        }
      ]
    },
    {
      "cell_type": "code",
      "source": [
        "b  ** 2"
      ],
      "metadata": {
        "id": "UGbETbQsBssx",
        "outputId": "4ac92d43-25c9-4b4d-cf32-c8ad5c912ba8",
        "colab": {
          "base_uri": "https://localhost:8080/"
        }
      },
      "execution_count": 104,
      "outputs": [
        {
          "output_type": "execute_result",
          "data": {
            "text/plain": [
              "array([0, 1, 4, 9])"
            ]
          },
          "metadata": {},
          "execution_count": 104
        }
      ]
    },
    {
      "cell_type": "code",
      "source": [
        "print(f'{a.shape =}')\n",
        "print(f'{b.shape =}')"
      ],
      "metadata": {
        "id": "CG9PZlhJBwim",
        "outputId": "7a30d6cb-0488-43f4-da86-c1855958ff5c",
        "colab": {
          "base_uri": "https://localhost:8080/"
        }
      },
      "execution_count": 105,
      "outputs": [
        {
          "output_type": "stream",
          "name": "stdout",
          "text": [
            "a.shape =(4,)\n",
            "b.shape =(4,)\n"
          ]
        }
      ]
    },
    {
      "cell_type": "code",
      "source": [
        "c = np.arange(3)\n",
        "c"
      ],
      "metadata": {
        "id": "3brduCfrB_df",
        "outputId": "177a5978-d66e-47eb-ecbe-6f07144259e4",
        "colab": {
          "base_uri": "https://localhost:8080/"
        }
      },
      "execution_count": 106,
      "outputs": [
        {
          "output_type": "execute_result",
          "data": {
            "text/plain": [
              "array([0, 1, 2])"
            ]
          },
          "metadata": {},
          "execution_count": 106
        }
      ]
    },
    {
      "cell_type": "code",
      "source": [
        "c.shape"
      ],
      "metadata": {
        "id": "N-q5pDy-CDKv",
        "outputId": "ded0b9c9-dddd-4e91-d7fb-4dc8592da597",
        "colab": {
          "base_uri": "https://localhost:8080/"
        }
      },
      "execution_count": 107,
      "outputs": [
        {
          "output_type": "execute_result",
          "data": {
            "text/plain": [
              "(3,)"
            ]
          },
          "metadata": {},
          "execution_count": 107
        }
      ]
    },
    {
      "cell_type": "code",
      "source": [
        "a + c"
      ],
      "metadata": {
        "id": "hFX5mcG_CD0F",
        "outputId": "ee1db65d-ac9d-4d0d-dcc1-a1b507d4f38a",
        "colab": {
          "base_uri": "https://localhost:8080/",
          "height": 141
        }
      },
      "execution_count": 108,
      "outputs": [
        {
          "output_type": "error",
          "ename": "ValueError",
          "evalue": "operands could not be broadcast together with shapes (4,) (3,) ",
          "traceback": [
            "\u001b[0;31m---------------------------------------------------------------------------\u001b[0m",
            "\u001b[0;31mValueError\u001b[0m                                Traceback (most recent call last)",
            "\u001b[0;32m<ipython-input-108-e81e582b6fa9>\u001b[0m in \u001b[0;36m<cell line: 0>\u001b[0;34m()\u001b[0m\n\u001b[0;32m----> 1\u001b[0;31m \u001b[0ma\u001b[0m \u001b[0;34m+\u001b[0m \u001b[0mc\u001b[0m\u001b[0;34m\u001b[0m\u001b[0;34m\u001b[0m\u001b[0m\n\u001b[0m",
            "\u001b[0;31mValueError\u001b[0m: operands could not be broadcast together with shapes (4,) (3,) "
          ]
        }
      ]
    },
    {
      "cell_type": "code",
      "source": [
        "10 * np.sin(a)  # element-wise multiplication\n"
      ],
      "metadata": {
        "id": "Lk-UNRRPCGSy",
        "outputId": "3d94f9e8-1cab-4a4d-f624-27e7401d4ab5",
        "colab": {
          "base_uri": "https://localhost:8080/"
        }
      },
      "execution_count": 109,
      "outputs": [
        {
          "output_type": "execute_result",
          "data": {
            "text/plain": [
              "array([ 9.12945251, -9.88031624,  7.4511316 , -2.62374854])"
            ]
          },
          "metadata": {},
          "execution_count": 109
        }
      ]
    },
    {
      "cell_type": "code",
      "source": [
        "a"
      ],
      "metadata": {
        "id": "Suudt8lQCMjh",
        "outputId": "76f48fbb-0228-4c78-90a4-5e36e9464321",
        "colab": {
          "base_uri": "https://localhost:8080/"
        }
      },
      "execution_count": 110,
      "outputs": [
        {
          "output_type": "execute_result",
          "data": {
            "text/plain": [
              "array([20, 30, 40, 50])"
            ]
          },
          "metadata": {},
          "execution_count": 110
        }
      ]
    },
    {
      "cell_type": "code",
      "source": [
        "a < 35"
      ],
      "metadata": {
        "id": "iB1dDplhCQXz",
        "outputId": "e092b82f-d470-4bed-edca-928a5452aee0",
        "colab": {
          "base_uri": "https://localhost:8080/"
        }
      },
      "execution_count": 111,
      "outputs": [
        {
          "output_type": "execute_result",
          "data": {
            "text/plain": [
              "array([ True,  True, False, False])"
            ]
          },
          "metadata": {},
          "execution_count": 111
        }
      ]
    },
    {
      "cell_type": "code",
      "source": [
        "# Assignment: compound operations , +=, -=, *=, /=, **="
      ],
      "metadata": {
        "id": "5fLHd-rzCRP5"
      },
      "execution_count": 112,
      "outputs": []
    },
    {
      "cell_type": "code",
      "source": [
        "A = np.array([[1, 1], [0, 1]])\n",
        "\n",
        "B = np.array([[2, 0], [3, 4]])"
      ],
      "metadata": {
        "id": "jmxWxBXMCc1p"
      },
      "execution_count": 113,
      "outputs": []
    },
    {
      "cell_type": "code",
      "source": [
        "A * B  # elementwise product\n"
      ],
      "metadata": {
        "id": "E9Vuj91iCecx",
        "outputId": "1783b966-b17e-44bc-ba1b-1e07512f42a3",
        "colab": {
          "base_uri": "https://localhost:8080/"
        }
      },
      "execution_count": 114,
      "outputs": [
        {
          "output_type": "execute_result",
          "data": {
            "text/plain": [
              "array([[2, 0],\n",
              "       [0, 4]])"
            ]
          },
          "metadata": {},
          "execution_count": 114
        }
      ]
    },
    {
      "cell_type": "code",
      "source": [
        "A @ B  # matrix product  - works only in Python >= 3.5"
      ],
      "metadata": {
        "id": "rvAhL-99CgX5",
        "outputId": "fed60f03-e612-4725-f6ae-d1b7315711c2",
        "colab": {
          "base_uri": "https://localhost:8080/"
        }
      },
      "execution_count": 115,
      "outputs": [
        {
          "output_type": "execute_result",
          "data": {
            "text/plain": [
              "array([[5, 4],\n",
              "       [3, 4]])"
            ]
          },
          "metadata": {},
          "execution_count": 115
        }
      ]
    },
    {
      "cell_type": "code",
      "source": [
        "A.dot(B)  # another matrix product"
      ],
      "metadata": {
        "id": "1WW9J6QzC0VF",
        "outputId": "5451b115-47dc-4e9d-8e0e-983a51998087",
        "colab": {
          "base_uri": "https://localhost:8080/"
        }
      },
      "execution_count": 116,
      "outputs": [
        {
          "output_type": "execute_result",
          "data": {
            "text/plain": [
              "array([[5, 4],\n",
              "       [3, 4]])"
            ]
          },
          "metadata": {},
          "execution_count": 116
        }
      ]
    },
    {
      "cell_type": "code",
      "source": [
        "a"
      ],
      "metadata": {
        "id": "fpcaHIX-C7xp",
        "outputId": "1e3b041b-a4fe-44a5-8d0a-a9ac5b3cae04",
        "colab": {
          "base_uri": "https://localhost:8080/"
        }
      },
      "execution_count": 122,
      "outputs": [
        {
          "output_type": "execute_result",
          "data": {
            "text/plain": [
              "array([20, 30, 40, 50])"
            ]
          },
          "metadata": {},
          "execution_count": 122
        }
      ]
    },
    {
      "cell_type": "code",
      "source": [
        "a.dtype"
      ],
      "metadata": {
        "id": "52ZROu-bDb7h",
        "outputId": "5d898fec-2c76-4f92-ef04-5fe43b4e1574",
        "colab": {
          "base_uri": "https://localhost:8080/"
        }
      },
      "execution_count": 123,
      "outputs": [
        {
          "output_type": "execute_result",
          "data": {
            "text/plain": [
              "dtype('int64')"
            ]
          },
          "metadata": {},
          "execution_count": 123
        }
      ]
    },
    {
      "cell_type": "code",
      "source": [
        "a.dtype.name"
      ],
      "metadata": {
        "id": "Fme54PoYDe20",
        "outputId": "67ac1b7b-6e08-4e31-9e44-cc321c355453",
        "colab": {
          "base_uri": "https://localhost:8080/",
          "height": 35
        }
      },
      "execution_count": 124,
      "outputs": [
        {
          "output_type": "execute_result",
          "data": {
            "text/plain": [
              "'int64'"
            ],
            "application/vnd.google.colaboratory.intrinsic+json": {
              "type": "string"
            }
          },
          "metadata": {},
          "execution_count": 124
        }
      ]
    },
    {
      "cell_type": "code",
      "source": [
        "a * 1j"
      ],
      "metadata": {
        "id": "WV9mDZAhDgUs",
        "outputId": "65232527-dbeb-43f2-cd9a-5d67d6f10ac1",
        "colab": {
          "base_uri": "https://localhost:8080/"
        }
      },
      "execution_count": 125,
      "outputs": [
        {
          "output_type": "execute_result",
          "data": {
            "text/plain": [
              "array([0.+20.j, 0.+30.j, 0.+40.j, 0.+50.j])"
            ]
          },
          "metadata": {},
          "execution_count": 125
        }
      ]
    },
    {
      "cell_type": "code",
      "source": [
        "d = np.exp(a * 1j)\n",
        "d"
      ],
      "metadata": {
        "id": "Wdp5BDHIDiz4",
        "outputId": "b160857b-ccad-4239-84a7-9d13370cf345",
        "colab": {
          "base_uri": "https://localhost:8080/"
        }
      },
      "execution_count": 127,
      "outputs": [
        {
          "output_type": "execute_result",
          "data": {
            "text/plain": [
              "array([ 0.40808206+0.91294525j,  0.15425145-0.98803162j,\n",
              "       -0.66693806+0.74511316j,  0.96496603-0.26237485j])"
            ]
          },
          "metadata": {},
          "execution_count": 127
        }
      ]
    },
    {
      "cell_type": "code",
      "source": [
        "d.dtype.name"
      ],
      "metadata": {
        "id": "Rzqh_iJhDmbF",
        "outputId": "259ed6d4-1c25-4816-800e-633787742f49",
        "colab": {
          "base_uri": "https://localhost:8080/",
          "height": 35
        }
      },
      "execution_count": 128,
      "outputs": [
        {
          "output_type": "execute_result",
          "data": {
            "text/plain": [
              "'complex128'"
            ],
            "application/vnd.google.colaboratory.intrinsic+json": {
              "type": "string"
            }
          },
          "metadata": {},
          "execution_count": 128
        }
      ]
    },
    {
      "cell_type": "code",
      "source": [
        "a = np.array([2, 4, 3, 34, 324, 213, 12, 23, 34, 45, 67, -234], float)\n"
      ],
      "metadata": {
        "id": "FFPHDgihDr82"
      },
      "execution_count": 277,
      "outputs": []
    },
    {
      "cell_type": "code",
      "source": [
        "print(f'{a.min() =}')\n",
        "print(f'{a.max() =}')\n",
        "print()\n",
        "\n",
        "print(f'{a.sum()    =}')\n",
        "print(f'{np.sum(a)  =}')\n",
        "print()\n",
        "\n",
        "# print(f'{a.trace()    =}')  # ValueError: diag requires an array of at least two dimensions\n",
        "# print(f'{np.trace(a)  =}')\n",
        "print()\n",
        "\n",
        "print(f'{a.prod()   =}')\n",
        "print(f'{np.prod(a) =}')\n",
        "print()\n",
        "\n",
        "print(f'{a.mean()   =}')\n",
        "print(f'{np.mean(a) =}')\n",
        "print()\n",
        "\n",
        "print(f'{a.var()   =}')\n",
        "print(f'{np.var(a) =}')\n",
        "print()\n",
        "\n",
        "print(f'{a.std()   =}')\n",
        "print(f'{np.std(a) =}')"
      ],
      "metadata": {
        "id": "ETPNBOiyDu9m",
        "outputId": "806dace4-94c9-4a79-a481-f0902acc8338",
        "colab": {
          "base_uri": "https://localhost:8080/"
        }
      },
      "execution_count": 278,
      "outputs": [
        {
          "output_type": "stream",
          "name": "stdout",
          "text": [
            "a.min() =-234.0\n",
            "a.max() =324.0\n",
            "\n",
            "a.sum()    =527.0\n",
            "np.sum(a)  =527.0\n",
            "\n",
            "\n",
            "a.prod()   =-3.728257888085453e+17\n",
            "np.prod(a) =-3.728257888085453e+17\n",
            "\n",
            "a.mean()   =43.916666666666664\n",
            "np.mean(a) =43.916666666666664\n",
            "\n",
            "a.var()   =15957.07638888889\n",
            "np.var(a) =15957.07638888889\n",
            "\n",
            "a.std()   =126.32132198836779\n",
            "np.std(a) =126.32132198836779\n"
          ]
        }
      ]
    },
    {
      "cell_type": "code",
      "source": [
        "a.shape"
      ],
      "metadata": {
        "id": "ImACCdDzDxJZ",
        "outputId": "7802fa18-7266-4aee-a937-2f495f0e5ef0",
        "colab": {
          "base_uri": "https://localhost:8080/"
        }
      },
      "execution_count": 135,
      "outputs": [
        {
          "output_type": "execute_result",
          "data": {
            "text/plain": [
              "(12,)"
            ]
          },
          "metadata": {},
          "execution_count": 135
        }
      ]
    },
    {
      "cell_type": "code",
      "source": [
        "a.reshape(3, 4)"
      ],
      "metadata": {
        "id": "7uMeZ9sEEflT",
        "outputId": "a0515699-b19a-4deb-c8ac-ab1eef595b58",
        "colab": {
          "base_uri": "https://localhost:8080/"
        }
      },
      "execution_count": 136,
      "outputs": [
        {
          "output_type": "execute_result",
          "data": {
            "text/plain": [
              "array([[   2.,    4.,    3.,   34.],\n",
              "       [ 324.,  213.,   12.,   23.],\n",
              "       [  34.,   45.,   67., -234.]])"
            ]
          },
          "metadata": {},
          "execution_count": 136
        }
      ]
    },
    {
      "cell_type": "code",
      "source": [
        "a"
      ],
      "metadata": {
        "id": "NqfbTluYEiOx",
        "outputId": "06d6c37b-4306-4bf4-a740-3ff07d769863",
        "colab": {
          "base_uri": "https://localhost:8080/"
        }
      },
      "execution_count": 137,
      "outputs": [
        {
          "output_type": "execute_result",
          "data": {
            "text/plain": [
              "array([   2.,    4.,    3.,   34.,  324.,  213.,   12.,   23.,   34.,\n",
              "         45.,   67., -234.])"
            ]
          },
          "metadata": {},
          "execution_count": 137
        }
      ]
    },
    {
      "cell_type": "code",
      "source": [
        "a = a.reshape(3, 4)\n",
        "a"
      ],
      "metadata": {
        "id": "l18ntl8BEjrS",
        "outputId": "ad7d58a3-ff80-4801-cecf-9dcc956798a6",
        "colab": {
          "base_uri": "https://localhost:8080/"
        }
      },
      "execution_count": 279,
      "outputs": [
        {
          "output_type": "execute_result",
          "data": {
            "text/plain": [
              "array([[   2.,    4.,    3.,   34.],\n",
              "       [ 324.,  213.,   12.,   23.],\n",
              "       [  34.,   45.,   67., -234.]])"
            ]
          },
          "metadata": {},
          "execution_count": 279
        }
      ]
    },
    {
      "cell_type": "code",
      "source": [
        "print(f'{a.min() =}')\n",
        "print(f'{a.max() =}')\n",
        "print()\n",
        "\n",
        "print(f'{a.sum()    =}')\n",
        "print(f'{np.sum(a)  =}')\n",
        "print()\n",
        "\n",
        "\n",
        "print(f'{a.trace()    =}')  # ValueError: diag requires an array of at least two dimensions\n",
        "print(f'{np.trace(a)  =}')\n",
        "print()\n",
        "\n",
        "print(f'{a.prod()   =}')\n",
        "print(f'{np.prod(a) =}')\n",
        "print()\n",
        "\n",
        "print(f'{a.mean()   =}')\n",
        "print(f'{np.mean(a) =}')\n",
        "print()\n",
        "\n",
        "print(f'{a.var()   =}')\n",
        "print(f'{np.var(a) =}')\n",
        "print()\n",
        "\n",
        "print(f'{a.std()   =}')\n",
        "print(f'{np.std(a) =}')"
      ],
      "metadata": {
        "id": "SolgmIk1El8D",
        "outputId": "d060cb35-085f-4c07-e870-e5f041895c77",
        "colab": {
          "base_uri": "https://localhost:8080/"
        }
      },
      "execution_count": 280,
      "outputs": [
        {
          "output_type": "stream",
          "name": "stdout",
          "text": [
            "a.min() =-234.0\n",
            "a.max() =324.0\n",
            "\n",
            "a.sum()    =527.0\n",
            "np.sum(a)  =527.0\n",
            "\n",
            "a.trace()    =282.0\n",
            "np.trace(a)  =282.0\n",
            "a.prod()   =-3.728257888085453e+17\n",
            "np.prod(a) =-3.728257888085453e+17\n",
            "\n",
            "a.mean()   =43.916666666666664\n",
            "np.mean(a) =43.916666666666664\n",
            "\n",
            "a.var()   =15957.07638888889\n",
            "np.var(a) =15957.07638888889\n",
            "\n",
            "a.std()   =126.32132198836779\n",
            "np.std(a) =126.32132198836779\n"
          ]
        }
      ]
    },
    {
      "cell_type": "markdown",
      "source": [
        "The argmin and argmax functions return the array indices of the minimum and maximum values\n",
        "\n"
      ],
      "metadata": {
        "id": "RtMd0-PrEwnE"
      }
    },
    {
      "cell_type": "code",
      "source": [
        "a = np.array([2, 4, 3, 34, 324, 213, 12, 23, 34, 45, 67, -234], float)\n",
        "#             0  1  2   3   4    5    6   7   8   9  10    11\n",
        "print(f\"a.argmin(): {a.argmin()}\")\n",
        "print(f\"a.argmax(): {a.argmax()}\")"
      ],
      "metadata": {
        "id": "NLvbcLzYExEk",
        "outputId": "9da39be5-c6cf-4004-ee7b-f574884d8e1a",
        "colab": {
          "base_uri": "https://localhost:8080/"
        }
      },
      "execution_count": 141,
      "outputs": [
        {
          "output_type": "stream",
          "name": "stdout",
          "text": [
            "a.argmin(): 11\n",
            "a.argmax(): 4\n"
          ]
        }
      ]
    },
    {
      "cell_type": "code",
      "source": [
        "a = np.array([[0, 2], [3, -1], [3, 5]], float)  # dim - 3, 1, 2\n",
        "\n",
        "a"
      ],
      "metadata": {
        "id": "8vDrMPYUE0zA",
        "outputId": "730c8dcc-2ae0-4afa-afb5-033b6b3abfbd",
        "colab": {
          "base_uri": "https://localhost:8080/"
        }
      },
      "execution_count": 143,
      "outputs": [
        {
          "output_type": "execute_result",
          "data": {
            "text/plain": [
              "array([[ 0.,  2.],\n",
              "       [ 3., -1.],\n",
              "       [ 3.,  5.]])"
            ]
          },
          "metadata": {},
          "execution_count": 143
        }
      ]
    },
    {
      "cell_type": "code",
      "source": [
        "print(f\"a.mean()      :{a.mean()}\")\n",
        "print(f\"a.mean(axis=0):{a.mean(axis=0)}\")  # (0 + 3 + 3)/3\n",
        "print(f\"a.mean(axis=1):{a.mean(axis=1)}\")  # (0 +2)/2, (3-1)/2 , ..."
      ],
      "metadata": {
        "id": "dqIrEGnvFHMw",
        "outputId": "1e7be3de-2304-43c0-fbb7-0bdd108e0160",
        "colab": {
          "base_uri": "https://localhost:8080/"
        }
      },
      "execution_count": 146,
      "outputs": [
        {
          "output_type": "stream",
          "name": "stdout",
          "text": [
            "a.mean()      :2.0\n",
            "a.mean(axis=0):[2. 2.]\n",
            "a.mean(axis=1):[1. 1. 4.]\n"
          ]
        }
      ]
    },
    {
      "cell_type": "code",
      "source": [
        "a.shape"
      ],
      "metadata": {
        "id": "DbiX4pvuFPlH",
        "outputId": "34703704-58aa-4726-da65-3325ae796ff5",
        "colab": {
          "base_uri": "https://localhost:8080/"
        }
      },
      "execution_count": 147,
      "outputs": [
        {
          "output_type": "execute_result",
          "data": {
            "text/plain": [
              "(3, 2)"
            ]
          },
          "metadata": {},
          "execution_count": 147
        }
      ]
    },
    {
      "cell_type": "code",
      "source": [
        "a = np.array([6, 2, 5, -1, 0], float)\n",
        "print(f\"sorted(a): {sorted(a)}\")\n",
        "print(f\"a        : {a}\")"
      ],
      "metadata": {
        "id": "eCq9Qyy3FWqi",
        "outputId": "762e44c5-c96d-48b7-e776-8718fadc55a7",
        "colab": {
          "base_uri": "https://localhost:8080/"
        }
      },
      "execution_count": 148,
      "outputs": [
        {
          "output_type": "stream",
          "name": "stdout",
          "text": [
            "sorted(a): [-1.0, 0.0, 2.0, 5.0, 6.0]\n",
            "a        : [ 6.  2.  5. -1.  0.]\n"
          ]
        }
      ]
    },
    {
      "cell_type": "code",
      "source": [
        "a.sort()\n",
        "a"
      ],
      "metadata": {
        "id": "2ERmHYTlFnck",
        "outputId": "0bcafdb3-763d-49a9-c3b2-f635b54c3961",
        "colab": {
          "base_uri": "https://localhost:8080/"
        }
      },
      "execution_count": 149,
      "outputs": [
        {
          "output_type": "execute_result",
          "data": {
            "text/plain": [
              "array([-1.,  0.,  2.,  5.,  6.])"
            ]
          },
          "metadata": {},
          "execution_count": 149
        }
      ]
    },
    {
      "cell_type": "markdown",
      "source": [
        "Values in an array can be \"clipped\" to be within a prespecified range. This is the same as applying min(max(x, minval), maxval) to each element x in an array.\n",
        "\n"
      ],
      "metadata": {
        "id": "QnpNFxz-FuRK"
      }
    },
    {
      "cell_type": "code",
      "source": [
        "a = np.array([6, 2, 5, -1, 0], float)\n",
        "a.clip(0, 5)"
      ],
      "metadata": {
        "id": "_-iC8MBNFuou",
        "outputId": "6b52e3f3-aa89-4d2a-acdf-620b45c4989f",
        "colab": {
          "base_uri": "https://localhost:8080/"
        }
      },
      "execution_count": 151,
      "outputs": [
        {
          "output_type": "execute_result",
          "data": {
            "text/plain": [
              "array([5., 2., 5., 0., 0.])"
            ]
          },
          "metadata": {},
          "execution_count": 151
        }
      ]
    },
    {
      "cell_type": "code",
      "source": [
        "a = np.array([6, 6, 1, 1, 4, 5, 5, 5, 7], float)\n",
        "np.unique(a)  # unique sorted ascending"
      ],
      "metadata": {
        "id": "-Hnk4z2tFzbY",
        "outputId": "53688226-4e60-49f4-cd9d-8299ef35d1b4",
        "colab": {
          "base_uri": "https://localhost:8080/"
        }
      },
      "execution_count": 152,
      "outputs": [
        {
          "output_type": "execute_result",
          "data": {
            "text/plain": [
              "array([1., 4., 5., 6., 7.])"
            ]
          },
          "metadata": {},
          "execution_count": 152
        }
      ]
    },
    {
      "cell_type": "code",
      "source": [
        "# For two dimensional arrays, the diagonal can be extracted:\n",
        "\n",
        "a = np.array([[1, 2], [3, 4]], float)\n",
        "# [\n",
        "#     [1, 2],\n",
        "#     [3, 4]\n",
        "# ]\n",
        "\n",
        "a.diagonal()"
      ],
      "metadata": {
        "id": "rPua7leKF-qJ",
        "outputId": "df7dbdc2-aece-4e0c-b06c-5761ebc7e1bf",
        "colab": {
          "base_uri": "https://localhost:8080/"
        }
      },
      "execution_count": 153,
      "outputs": [
        {
          "output_type": "execute_result",
          "data": {
            "text/plain": [
              "array([1., 4.])"
            ]
          },
          "metadata": {},
          "execution_count": 153
        }
      ]
    },
    {
      "cell_type": "code",
      "source": [
        "x = np.array([[1, 2], [3, 4]])\n",
        "\n",
        "print(x, np.sum(x))  # Compute sum of all elements; prints \"10\""
      ],
      "metadata": {
        "id": "HrjhzVWkGEQx",
        "outputId": "70412d99-095a-42bd-d019-90c6ea11ece8",
        "colab": {
          "base_uri": "https://localhost:8080/"
        }
      },
      "execution_count": 154,
      "outputs": [
        {
          "output_type": "stream",
          "name": "stdout",
          "text": [
            "[[1 2]\n",
            " [3 4]] 10\n"
          ]
        }
      ]
    },
    {
      "cell_type": "code",
      "source": [
        "print(np.sum(x, axis=0))  # Compute sum of each column; prints \"[4 6]\"\n"
      ],
      "metadata": {
        "id": "p5Olpd8sGKnj",
        "outputId": "73c5b449-4fb7-4ccf-8e2a-86f6d0681bb6",
        "colab": {
          "base_uri": "https://localhost:8080/"
        }
      },
      "execution_count": 155,
      "outputs": [
        {
          "output_type": "stream",
          "name": "stdout",
          "text": [
            "[4 6]\n"
          ]
        }
      ]
    },
    {
      "cell_type": "code",
      "source": [
        "print(np.sum(x, axis=1))  # Compute sum of each row; prints \"[3 7]\"\n"
      ],
      "metadata": {
        "id": "4zm-8HxJGQpc",
        "outputId": "e80cdaac-706d-4b1b-ecb8-262f0d8233ed",
        "colab": {
          "base_uri": "https://localhost:8080/"
        }
      },
      "execution_count": 156,
      "outputs": [
        {
          "output_type": "stream",
          "name": "stdout",
          "text": [
            "[3 7]\n"
          ]
        }
      ]
    },
    {
      "cell_type": "code",
      "source": [
        "b = np.arange(12).reshape(3, 4)\n",
        "b"
      ],
      "metadata": {
        "id": "-5eWd89eGV5x",
        "outputId": "e5814378-bfcc-4bfc-c667-c1b5685bbaf4",
        "colab": {
          "base_uri": "https://localhost:8080/"
        }
      },
      "execution_count": 157,
      "outputs": [
        {
          "output_type": "execute_result",
          "data": {
            "text/plain": [
              "array([[ 0,  1,  2,  3],\n",
              "       [ 4,  5,  6,  7],\n",
              "       [ 8,  9, 10, 11]])"
            ]
          },
          "metadata": {},
          "execution_count": 157
        }
      ]
    },
    {
      "cell_type": "code",
      "source": [
        "b.cumsum(axis=1)  # cumulative sum along each row\n"
      ],
      "metadata": {
        "id": "CbdzrHqKGZYw",
        "outputId": "ff843d40-bbcb-43a9-a089-0ce2b2eab63f",
        "colab": {
          "base_uri": "https://localhost:8080/"
        }
      },
      "execution_count": 158,
      "outputs": [
        {
          "output_type": "execute_result",
          "data": {
            "text/plain": [
              "array([[ 0,  1,  3,  6],\n",
              "       [ 4,  9, 15, 22],\n",
              "       [ 8, 17, 27, 38]])"
            ]
          },
          "metadata": {},
          "execution_count": 158
        }
      ]
    },
    {
      "cell_type": "code",
      "source": [
        "b.cumsum(axis=0)  # cumulative sum along each column\n"
      ],
      "metadata": {
        "id": "fA8hWXQwGcoC",
        "outputId": "246aab25-3313-44d9-b2f0-9533c92f174a",
        "colab": {
          "base_uri": "https://localhost:8080/"
        }
      },
      "execution_count": 159,
      "outputs": [
        {
          "output_type": "execute_result",
          "data": {
            "text/plain": [
              "array([[ 0,  1,  2,  3],\n",
              "       [ 4,  6,  8, 10],\n",
              "       [12, 15, 18, 21]])"
            ]
          },
          "metadata": {},
          "execution_count": 159
        }
      ]
    },
    {
      "cell_type": "code",
      "source": [
        "b.cumsum()\n"
      ],
      "metadata": {
        "id": "tzyfX7VNGoNJ",
        "outputId": "320fbee4-0d89-40bf-cf5f-09622d69298a",
        "colab": {
          "base_uri": "https://localhost:8080/"
        }
      },
      "execution_count": 160,
      "outputs": [
        {
          "output_type": "execute_result",
          "data": {
            "text/plain": [
              "array([ 0,  1,  3,  6, 10, 15, 21, 28, 36, 45, 55, 66])"
            ]
          },
          "metadata": {},
          "execution_count": 160
        }
      ]
    },
    {
      "cell_type": "code",
      "source": [
        "b.sum()"
      ],
      "metadata": {
        "id": "7LwQro4KGvR9",
        "outputId": "c2f723d8-cea6-45f8-844c-4670aa89b666",
        "colab": {
          "base_uri": "https://localhost:8080/"
        }
      },
      "execution_count": 161,
      "outputs": [
        {
          "output_type": "execute_result",
          "data": {
            "text/plain": [
              "66"
            ]
          },
          "metadata": {},
          "execution_count": 161
        }
      ]
    },
    {
      "cell_type": "code",
      "source": [
        "B = np.arange(3)\n",
        "B"
      ],
      "metadata": {
        "id": "zUY6-IPZG7lb",
        "outputId": "31958d59-9e17-4a13-cac4-07b246002d7e",
        "colab": {
          "base_uri": "https://localhost:8080/"
        }
      },
      "execution_count": 164,
      "outputs": [
        {
          "output_type": "execute_result",
          "data": {
            "text/plain": [
              "array([0, 1, 2])"
            ]
          },
          "metadata": {},
          "execution_count": 164
        }
      ]
    },
    {
      "cell_type": "code",
      "source": [
        "np.sqrt(B)\n"
      ],
      "metadata": {
        "id": "MMX_B-zMHA9S",
        "outputId": "2af1af31-b695-439b-818d-bcfc4a10683c",
        "colab": {
          "base_uri": "https://localhost:8080/"
        }
      },
      "execution_count": 165,
      "outputs": [
        {
          "output_type": "execute_result",
          "data": {
            "text/plain": [
              "array([0.        , 1.        , 1.41421356])"
            ]
          },
          "metadata": {},
          "execution_count": 165
        }
      ]
    },
    {
      "cell_type": "code",
      "source": [
        "B ** 0.5"
      ],
      "metadata": {
        "id": "aPXCEZ04HCQN",
        "outputId": "ee41ab0a-7591-4b5c-ba53-4a623ea24324",
        "colab": {
          "base_uri": "https://localhost:8080/"
        }
      },
      "execution_count": 166,
      "outputs": [
        {
          "output_type": "execute_result",
          "data": {
            "text/plain": [
              "array([0.        , 1.        , 1.41421356])"
            ]
          },
          "metadata": {},
          "execution_count": 166
        }
      ]
    },
    {
      "cell_type": "code",
      "source": [
        "b ** (1/2)  # PEMDAS"
      ],
      "metadata": {
        "colab": {
          "base_uri": "https://localhost:8080/"
        },
        "id": "0XgQo7b7HF7V",
        "outputId": "f969cd69-768c-4ee9-d900-91f7a0da6cc5"
      },
      "execution_count": 168,
      "outputs": [
        {
          "output_type": "execute_result",
          "data": {
            "text/plain": [
              "array([[0.        , 1.        , 1.41421356, 1.73205081],\n",
              "       [2.        , 2.23606798, 2.44948974, 2.64575131],\n",
              "       [2.82842712, 3.        , 3.16227766, 3.31662479]])"
            ]
          },
          "metadata": {},
          "execution_count": 168
        }
      ]
    },
    {
      "cell_type": "code",
      "source": [
        "b ** (1/3)  # PEMDAS"
      ],
      "metadata": {
        "outputId": "3ace5b9b-07e2-467f-9f73-1f2b05ee37f5",
        "colab": {
          "base_uri": "https://localhost:8080/"
        },
        "id": "nL_RpXrKHMX-"
      },
      "execution_count": 169,
      "outputs": [
        {
          "output_type": "execute_result",
          "data": {
            "text/plain": [
              "array([[0.        , 1.        , 1.25992105, 1.44224957],\n",
              "       [1.58740105, 1.70997595, 1.81712059, 1.91293118],\n",
              "       [2.        , 2.08008382, 2.15443469, 2.22398009]])"
            ]
          },
          "metadata": {},
          "execution_count": 169
        }
      ]
    },
    {
      "cell_type": "markdown",
      "source": [
        "### Array concatenation\n"
      ],
      "metadata": {
        "id": "2E67nU4_Hdfm"
      }
    },
    {
      "cell_type": "code",
      "source": [
        "a = np.array([1, 2], float)\n",
        "b = np.array([3, 4, 5, 6], float)\n",
        "c = np.array([7, 8, 9], float)\n",
        "\n",
        "np.concatenate((a, b, c))"
      ],
      "metadata": {
        "id": "gOIBeEDbHfCF",
        "outputId": "706f3bab-b329-4a38-8dd6-0ecb29fc9934",
        "colab": {
          "base_uri": "https://localhost:8080/"
        }
      },
      "execution_count": 170,
      "outputs": [
        {
          "output_type": "execute_result",
          "data": {
            "text/plain": [
              "array([1., 2., 3., 4., 5., 6., 7., 8., 9.])"
            ]
          },
          "metadata": {},
          "execution_count": 170
        }
      ]
    },
    {
      "cell_type": "code",
      "source": [
        "try:\n",
        "    a + b + c\n",
        "except ValueError as ex:\n",
        "    print(ex)"
      ],
      "metadata": {
        "id": "JB5Oh48pHhwq",
        "outputId": "5b1010a4-acdc-4729-ba9b-b43a0122116e",
        "colab": {
          "base_uri": "https://localhost:8080/"
        }
      },
      "execution_count": 171,
      "outputs": [
        {
          "output_type": "stream",
          "name": "stdout",
          "text": [
            "operands could not be broadcast together with shapes (2,) (4,) \n"
          ]
        }
      ]
    },
    {
      "cell_type": "markdown",
      "source": [
        "If an array has more than one dimension, it is possible to specify the axis along which multiple arrays are concatenated. By default (without specifying the axis), NumPy concatenates along the first dimension:\n",
        "\n"
      ],
      "metadata": {
        "id": "D4t5HLBSHoG6"
      }
    },
    {
      "cell_type": "code",
      "source": [
        "a = np.array([[1, 2], [3, 4]], float)\n",
        "b = np.array([[5, 6], [7, 8]], float)"
      ],
      "metadata": {
        "id": "X4m0beOyHosJ"
      },
      "execution_count": 172,
      "outputs": []
    },
    {
      "cell_type": "code",
      "source": [
        "try:\n",
        "    np.concatenate(a, b)\n",
        "except TypeError as ex:\n",
        "    print(ex)"
      ],
      "metadata": {
        "id": "oV_ljmBEHx6v",
        "outputId": "95212914-07c9-49b2-b3aa-3ddf9dc5fffd",
        "colab": {
          "base_uri": "https://localhost:8080/"
        }
      },
      "execution_count": 173,
      "outputs": [
        {
          "output_type": "stream",
          "name": "stdout",
          "text": [
            "only integer scalar arrays can be converted to a scalar index\n"
          ]
        }
      ]
    },
    {
      "cell_type": "code",
      "source": [
        "np.concatenate((a, b))\n"
      ],
      "metadata": {
        "id": "2OvEla5WH1yu",
        "outputId": "c7a42b27-5fd9-41f5-f52d-285417d294e4",
        "colab": {
          "base_uri": "https://localhost:8080/"
        }
      },
      "execution_count": 174,
      "outputs": [
        {
          "output_type": "execute_result",
          "data": {
            "text/plain": [
              "array([[1., 2.],\n",
              "       [3., 4.],\n",
              "       [5., 6.],\n",
              "       [7., 8.]])"
            ]
          },
          "metadata": {},
          "execution_count": 174
        }
      ]
    },
    {
      "cell_type": "code",
      "source": [
        "np.concatenate((a, b), axis=0)"
      ],
      "metadata": {
        "id": "pStIfdR4H4T-",
        "outputId": "31dbb69f-d92f-447e-f7c8-d084a2094345",
        "colab": {
          "base_uri": "https://localhost:8080/"
        }
      },
      "execution_count": 175,
      "outputs": [
        {
          "output_type": "execute_result",
          "data": {
            "text/plain": [
              "array([[1., 2.],\n",
              "       [3., 4.],\n",
              "       [5., 6.],\n",
              "       [7., 8.]])"
            ]
          },
          "metadata": {},
          "execution_count": 175
        }
      ]
    },
    {
      "cell_type": "code",
      "source": [
        "np.concatenate((a, b), axis=1)\n"
      ],
      "metadata": {
        "id": "mvZ1ExSyH7Ue",
        "outputId": "4dcfe45a-adaa-4574-a48a-af6feb4f531e",
        "colab": {
          "base_uri": "https://localhost:8080/"
        }
      },
      "execution_count": 176,
      "outputs": [
        {
          "output_type": "execute_result",
          "data": {
            "text/plain": [
              "array([[1., 2., 5., 6.],\n",
              "       [3., 4., 7., 8.]])"
            ]
          },
          "metadata": {},
          "execution_count": 176
        }
      ]
    },
    {
      "cell_type": "markdown",
      "source": [
        "### Indexing, Slicing and Iterating\n",
        "\n",
        "\n",
        "One-dimensional arrays can be indexed, sliced and iterated over, much like lists and other Python sequences.\n",
        "\n"
      ],
      "metadata": {
        "id": "xNznNWOYH_fc"
      }
    },
    {
      "cell_type": "code",
      "source": [
        "a = np.arange(10) ** 3\n",
        "a"
      ],
      "metadata": {
        "id": "hqogNF5WIAn1",
        "outputId": "db5f87c9-cd83-4115-8501-b97fec5d8a4d",
        "colab": {
          "base_uri": "https://localhost:8080/"
        }
      },
      "execution_count": 177,
      "outputs": [
        {
          "output_type": "execute_result",
          "data": {
            "text/plain": [
              "array([  0,   1,   8,  27,  64, 125, 216, 343, 512, 729])"
            ]
          },
          "metadata": {},
          "execution_count": 177
        }
      ]
    },
    {
      "cell_type": "code",
      "source": [
        "a[2]\n"
      ],
      "metadata": {
        "id": "5mMkZUyFIEtt",
        "outputId": "1394fc24-ffcb-4662-c602-25f3ec2f4137",
        "colab": {
          "base_uri": "https://localhost:8080/"
        }
      },
      "execution_count": 178,
      "outputs": [
        {
          "output_type": "execute_result",
          "data": {
            "text/plain": [
              "8"
            ]
          },
          "metadata": {},
          "execution_count": 178
        }
      ]
    },
    {
      "cell_type": "code",
      "source": [
        "a[2:5]\n"
      ],
      "metadata": {
        "id": "zo6Q-mhnIGkx",
        "outputId": "6248234d-4d75-4349-bdc5-e53c9b7b614f",
        "colab": {
          "base_uri": "https://localhost:8080/"
        }
      },
      "execution_count": 179,
      "outputs": [
        {
          "output_type": "execute_result",
          "data": {
            "text/plain": [
              "array([ 8, 27, 64])"
            ]
          },
          "metadata": {},
          "execution_count": 179
        }
      ]
    },
    {
      "cell_type": "code",
      "source": [
        "a[:6:2]\n"
      ],
      "metadata": {
        "id": "9jHfgqzNIIJP",
        "outputId": "eb00eb5a-ad2c-45df-93e5-87a275275bb1",
        "colab": {
          "base_uri": "https://localhost:8080/"
        }
      },
      "execution_count": 180,
      "outputs": [
        {
          "output_type": "execute_result",
          "data": {
            "text/plain": [
              "array([ 0,  8, 64])"
            ]
          },
          "metadata": {},
          "execution_count": 180
        }
      ]
    },
    {
      "cell_type": "code",
      "source": [
        "# array is mutable object\n",
        "\n",
        "a[:6:2] = -1000  # equivalent to a[0:6:2] = -1000\n"
      ],
      "metadata": {
        "id": "5KhEnz1TIJVy"
      },
      "execution_count": 181,
      "outputs": []
    },
    {
      "cell_type": "code",
      "source": [
        "a"
      ],
      "metadata": {
        "id": "kHfBVNxJIOjP",
        "outputId": "514dd80a-0696-48d0-c0d4-5ac4f5999ea8",
        "colab": {
          "base_uri": "https://localhost:8080/"
        }
      },
      "execution_count": 182,
      "outputs": [
        {
          "output_type": "execute_result",
          "data": {
            "text/plain": [
              "array([-1000,     1, -1000,    27, -1000,   125,   216,   343,   512,\n",
              "         729])"
            ]
          },
          "metadata": {},
          "execution_count": 182
        }
      ]
    },
    {
      "cell_type": "code",
      "source": [
        "a[::-1]  # reversed a\n"
      ],
      "metadata": {
        "id": "AVMJhpPIIO9X",
        "outputId": "3ed99be0-5a38-4825-8311-3e90e209eea6",
        "colab": {
          "base_uri": "https://localhost:8080/"
        }
      },
      "execution_count": 183,
      "outputs": [
        {
          "output_type": "execute_result",
          "data": {
            "text/plain": [
              "array([  729,   512,   343,   216,   125, -1000,    27, -1000,     1,\n",
              "       -1000])"
            ]
          },
          "metadata": {},
          "execution_count": 183
        }
      ]
    },
    {
      "cell_type": "code",
      "source": [
        "for i in a:\n",
        "    print(i, i ** (1 / 3.0))"
      ],
      "metadata": {
        "id": "UzPvvYQ_ITLM",
        "outputId": "402cd4c1-b230-4084-cedb-71e46ce9f295",
        "colab": {
          "base_uri": "https://localhost:8080/"
        }
      },
      "execution_count": 184,
      "outputs": [
        {
          "output_type": "stream",
          "name": "stdout",
          "text": [
            "-1000 nan\n",
            "1 1.0\n",
            "-1000 nan\n",
            "27 3.0\n",
            "-1000 nan\n",
            "125 4.999999999999999\n",
            "216 5.999999999999999\n",
            "343 6.999999999999999\n",
            "512 7.999999999999999\n",
            "729 8.999999999999998\n"
          ]
        },
        {
          "output_type": "stream",
          "name": "stderr",
          "text": [
            "<ipython-input-184-95c51286ee35>:2: RuntimeWarning: invalid value encountered in power\n",
            "  print(i, i ** (1 / 3.0))\n"
          ]
        }
      ]
    },
    {
      "cell_type": "code",
      "source": [
        "m = np.array([[1, 2, 3, 4], [5, 6, 7, 8], [9, 10, 11, 12]])\n",
        "\n",
        "m"
      ],
      "metadata": {
        "id": "_ubdDeSSIY8E",
        "outputId": "baefd244-8c83-48a3-d39c-46531b34c654",
        "colab": {
          "base_uri": "https://localhost:8080/"
        }
      },
      "execution_count": 185,
      "outputs": [
        {
          "output_type": "execute_result",
          "data": {
            "text/plain": [
              "array([[ 1,  2,  3,  4],\n",
              "       [ 5,  6,  7,  8],\n",
              "       [ 9, 10, 11, 12]])"
            ]
          },
          "metadata": {},
          "execution_count": 185
        }
      ]
    },
    {
      "cell_type": "code",
      "source": [
        "n = m[:2, 1:3]\n",
        "\n",
        "n"
      ],
      "metadata": {
        "id": "onrMRfglIgJt",
        "outputId": "16701ba4-787e-4f86-a622-44ab514c753c",
        "colab": {
          "base_uri": "https://localhost:8080/"
        }
      },
      "execution_count": 186,
      "outputs": [
        {
          "output_type": "execute_result",
          "data": {
            "text/plain": [
              "array([[2, 3],\n",
              "       [6, 7]])"
            ]
          },
          "metadata": {},
          "execution_count": 186
        }
      ]
    },
    {
      "cell_type": "code",
      "source": [
        "m[0, 1]\n"
      ],
      "metadata": {
        "id": "OCjtdLIOIlWP",
        "outputId": "ae7eebf7-1833-4d0d-ce0b-3ba634477f32",
        "colab": {
          "base_uri": "https://localhost:8080/"
        }
      },
      "execution_count": 187,
      "outputs": [
        {
          "output_type": "execute_result",
          "data": {
            "text/plain": [
              "2"
            ]
          },
          "metadata": {},
          "execution_count": 187
        }
      ]
    },
    {
      "cell_type": "code",
      "source": [
        "n[0, 0] = 77  # n[0, 0] is the same piece of data as m[0, 1]\n",
        "n"
      ],
      "metadata": {
        "id": "T_PSZG7GIvwW",
        "outputId": "8dc8e9b7-d0de-4a3b-9a4e-8b547e3343dc",
        "colab": {
          "base_uri": "https://localhost:8080/"
        }
      },
      "execution_count": 188,
      "outputs": [
        {
          "output_type": "execute_result",
          "data": {
            "text/plain": [
              "array([[77,  3],\n",
              "       [ 6,  7]])"
            ]
          },
          "metadata": {},
          "execution_count": 188
        }
      ]
    },
    {
      "cell_type": "code",
      "source": [
        "m[0, 1]\n"
      ],
      "metadata": {
        "id": "a15s16RBI1I2",
        "outputId": "a84be724-ddd6-4819-d40a-6e4b4e8a59e2",
        "colab": {
          "base_uri": "https://localhost:8080/"
        }
      },
      "execution_count": 189,
      "outputs": [
        {
          "output_type": "execute_result",
          "data": {
            "text/plain": [
              "77"
            ]
          },
          "metadata": {},
          "execution_count": 189
        }
      ]
    },
    {
      "cell_type": "code",
      "source": [
        "m\n"
      ],
      "metadata": {
        "id": "Yz8v4brqI3xz",
        "outputId": "5404ea2b-2f27-418a-d4c8-4befff975880",
        "colab": {
          "base_uri": "https://localhost:8080/"
        }
      },
      "execution_count": 190,
      "outputs": [
        {
          "output_type": "execute_result",
          "data": {
            "text/plain": [
              "array([[ 1, 77,  3,  4],\n",
              "       [ 5,  6,  7,  8],\n",
              "       [ 9, 10, 11, 12]])"
            ]
          },
          "metadata": {},
          "execution_count": 190
        }
      ]
    },
    {
      "cell_type": "code",
      "source": [
        "# Multidimensional arrays can have one index per axis. These indices are given in a tuple separated by commas:\n",
        "\n",
        "def f(x, y):\n",
        "    return 10 * x + y\n",
        "\n",
        "\n",
        "b = np.fromfunction(f, (5, 4), dtype=int)\n",
        "b"
      ],
      "metadata": {
        "id": "s4jAMb6sI5cm",
        "outputId": "b560203d-b05e-457c-e1d8-9d8a197a244b",
        "colab": {
          "base_uri": "https://localhost:8080/"
        }
      },
      "execution_count": 192,
      "outputs": [
        {
          "output_type": "execute_result",
          "data": {
            "text/plain": [
              "array([[ 0,  1,  2,  3],\n",
              "       [10, 11, 12, 13],\n",
              "       [20, 21, 22, 23],\n",
              "       [30, 31, 32, 33],\n",
              "       [40, 41, 42, 43]])"
            ]
          },
          "metadata": {},
          "execution_count": 192
        }
      ]
    },
    {
      "cell_type": "code",
      "source": [
        "b[2, 3]\n"
      ],
      "metadata": {
        "id": "qx-fW9W1I_NW",
        "outputId": "c71256cd-5177-4529-9fce-bb4c239bfdae",
        "colab": {
          "base_uri": "https://localhost:8080/"
        }
      },
      "execution_count": 193,
      "outputs": [
        {
          "output_type": "execute_result",
          "data": {
            "text/plain": [
              "23"
            ]
          },
          "metadata": {},
          "execution_count": 193
        }
      ]
    },
    {
      "cell_type": "code",
      "source": [
        "b[0:5, 1]  # each row in the second column of b\n"
      ],
      "metadata": {
        "id": "TDwdFcIIJJnj",
        "outputId": "d667f037-45f8-49a4-a99f-5ee832206b43",
        "colab": {
          "base_uri": "https://localhost:8080/"
        }
      },
      "execution_count": 194,
      "outputs": [
        {
          "output_type": "execute_result",
          "data": {
            "text/plain": [
              "array([ 1, 11, 21, 31, 41])"
            ]
          },
          "metadata": {},
          "execution_count": 194
        }
      ]
    },
    {
      "cell_type": "code",
      "source": [
        "b[:, 1]  # equivalent to the previous example\n"
      ],
      "metadata": {
        "id": "L2WasJwjJLQo",
        "outputId": "2601f460-4ffb-4882-98d2-d4d0144938cd",
        "colab": {
          "base_uri": "https://localhost:8080/"
        }
      },
      "execution_count": 195,
      "outputs": [
        {
          "output_type": "execute_result",
          "data": {
            "text/plain": [
              "array([ 1, 11, 21, 31, 41])"
            ]
          },
          "metadata": {},
          "execution_count": 195
        }
      ]
    },
    {
      "cell_type": "code",
      "source": [
        "b[1:3, :]  # each column in the second and third row of b\n"
      ],
      "metadata": {
        "id": "qoutV_BRJMh7",
        "outputId": "f1566cdb-2b84-40ba-bed0-470c9515cab5",
        "colab": {
          "base_uri": "https://localhost:8080/"
        }
      },
      "execution_count": 196,
      "outputs": [
        {
          "output_type": "execute_result",
          "data": {
            "text/plain": [
              "array([[10, 11, 12, 13],\n",
              "       [20, 21, 22, 23]])"
            ]
          },
          "metadata": {},
          "execution_count": 196
        }
      ]
    },
    {
      "cell_type": "code",
      "source": [
        "b[-1]  # the last row. Equivalent to b[-1,:]\n"
      ],
      "metadata": {
        "id": "AelJXOjcJNu4",
        "outputId": "ffd19c16-dbe4-48e2-d71d-272e3bf2bcb3",
        "colab": {
          "base_uri": "https://localhost:8080/"
        }
      },
      "execution_count": 197,
      "outputs": [
        {
          "output_type": "execute_result",
          "data": {
            "text/plain": [
              "array([40, 41, 42, 43])"
            ]
          },
          "metadata": {},
          "execution_count": 197
        }
      ]
    },
    {
      "cell_type": "code",
      "source": [
        "c = np.array(\n",
        "    [\n",
        "        [\n",
        "            [0, 1, 2],\n",
        "            [10, 12, 13]\n",
        "        ],  # a 3D array (two stacked 2D arrays)\n",
        "        [[100, 101, 102], [110, 112, 113]],\n",
        "    ]\n",
        ")\n",
        "\n",
        "c"
      ],
      "metadata": {
        "id": "M6MxMckVJPwj",
        "outputId": "f7298726-f7ad-4e8c-b00e-5899b18f6782",
        "colab": {
          "base_uri": "https://localhost:8080/"
        }
      },
      "execution_count": 199,
      "outputs": [
        {
          "output_type": "execute_result",
          "data": {
            "text/plain": [
              "array([[[  0,   1,   2],\n",
              "        [ 10,  12,  13]],\n",
              "\n",
              "       [[100, 101, 102],\n",
              "        [110, 112, 113]]])"
            ]
          },
          "metadata": {},
          "execution_count": 199
        }
      ]
    },
    {
      "cell_type": "code",
      "source": [
        "c.shape\n"
      ],
      "metadata": {
        "id": "hUqjlkWwJdCb",
        "outputId": "e6108770-74a2-48f2-df95-b92ddce4ff86",
        "colab": {
          "base_uri": "https://localhost:8080/"
        }
      },
      "execution_count": 200,
      "outputs": [
        {
          "output_type": "execute_result",
          "data": {
            "text/plain": [
              "(2, 2, 3)"
            ]
          },
          "metadata": {},
          "execution_count": 200
        }
      ]
    },
    {
      "cell_type": "code",
      "source": [
        "c[1, ...]  # same as c[1,:,:] or c[1]\n"
      ],
      "metadata": {
        "id": "k-jgRE42Jf3k",
        "outputId": "9b636771-fef0-4f39-add0-f7f9b5b70f72",
        "colab": {
          "base_uri": "https://localhost:8080/"
        }
      },
      "execution_count": 201,
      "outputs": [
        {
          "output_type": "execute_result",
          "data": {
            "text/plain": [
              "array([[100, 101, 102],\n",
              "       [110, 112, 113]])"
            ]
          },
          "metadata": {},
          "execution_count": 201
        }
      ]
    },
    {
      "cell_type": "code",
      "source": [
        "c[..., 2]  # same as c[:,:,2]\n"
      ],
      "metadata": {
        "id": "DfKR1PokJjtp",
        "outputId": "5e393322-2d9b-4d6a-a927-d52c5f8ee53c",
        "colab": {
          "base_uri": "https://localhost:8080/"
        }
      },
      "execution_count": 202,
      "outputs": [
        {
          "output_type": "execute_result",
          "data": {
            "text/plain": [
              "array([[  2,  13],\n",
              "       [102, 113]])"
            ]
          },
          "metadata": {},
          "execution_count": 202
        }
      ]
    },
    {
      "cell_type": "code",
      "source": [
        "# Iterating over multidimensional arrays is done with respect to the first axis:\n",
        "for row in b:\n",
        "    print(row)\n"
      ],
      "metadata": {
        "id": "i5glvv4bJnp6",
        "outputId": "33d6b6e9-15db-4857-a5f3-9940c29cc000",
        "colab": {
          "base_uri": "https://localhost:8080/"
        }
      },
      "execution_count": 203,
      "outputs": [
        {
          "output_type": "stream",
          "name": "stdout",
          "text": [
            "[0 1 2 3]\n",
            "[10 11 12 13]\n",
            "[20 21 22 23]\n",
            "[30 31 32 33]\n",
            "[40 41 42 43]\n"
          ]
        }
      ]
    },
    {
      "cell_type": "code",
      "source": [
        "b.flatten()"
      ],
      "metadata": {
        "id": "Gt_9xAJqKGuZ",
        "outputId": "e75876ea-7d12-4e3d-82a6-4073b9903a57",
        "colab": {
          "base_uri": "https://localhost:8080/"
        }
      },
      "execution_count": 210,
      "outputs": [
        {
          "output_type": "execute_result",
          "data": {
            "text/plain": [
              "array([ 0,  1,  2,  3, 10, 11, 12, 13, 20, 21, 22, 23, 30, 31, 32, 33, 40,\n",
              "       41, 42, 43])"
            ]
          },
          "metadata": {},
          "execution_count": 210
        }
      ]
    },
    {
      "cell_type": "code",
      "source": [
        "b.flat[10]  # 10th element, after flattening is 22"
      ],
      "metadata": {
        "id": "goIq2ci0JqwX",
        "outputId": "72601b0a-86ec-414f-f59b-65fb84aef191",
        "colab": {
          "base_uri": "https://localhost:8080/"
        }
      },
      "execution_count": 209,
      "outputs": [
        {
          "output_type": "execute_result",
          "data": {
            "text/plain": [
              "22"
            ]
          },
          "metadata": {},
          "execution_count": 209
        }
      ]
    },
    {
      "cell_type": "code",
      "source": [
        "b.shape\n"
      ],
      "metadata": {
        "id": "0ts2JLuyJtl9",
        "outputId": "bbfa3c28-ee12-4add-f137-bf003e187d11",
        "colab": {
          "base_uri": "https://localhost:8080/"
        }
      },
      "execution_count": 211,
      "outputs": [
        {
          "output_type": "execute_result",
          "data": {
            "text/plain": [
              "(5, 4)"
            ]
          },
          "metadata": {},
          "execution_count": 211
        }
      ]
    },
    {
      "cell_type": "code",
      "source": [
        "b = b.flatten()\n",
        "b.shape"
      ],
      "metadata": {
        "id": "UX4rOSG4KSdd",
        "outputId": "4ca6edb3-b80d-4abd-8271-388b3011dcfb",
        "colab": {
          "base_uri": "https://localhost:8080/"
        }
      },
      "execution_count": 212,
      "outputs": [
        {
          "output_type": "execute_result",
          "data": {
            "text/plain": [
              "(20,)"
            ]
          },
          "metadata": {},
          "execution_count": 212
        }
      ]
    },
    {
      "cell_type": "code",
      "source": [
        "b.ravel()  # returns the array, flattened"
      ],
      "metadata": {
        "id": "1j1bOHqqKatN",
        "outputId": "2cb89efa-70dd-456f-ede7-0885340339a2",
        "colab": {
          "base_uri": "https://localhost:8080/"
        }
      },
      "execution_count": 213,
      "outputs": [
        {
          "output_type": "execute_result",
          "data": {
            "text/plain": [
              "array([ 0,  1,  2,  3, 10, 11, 12, 13, 20, 21, 22, 23, 30, 31, 32, 33, 40,\n",
              "       41, 42, 43])"
            ]
          },
          "metadata": {},
          "execution_count": 213
        }
      ]
    },
    {
      "cell_type": "code",
      "source": [
        "b"
      ],
      "metadata": {
        "id": "l5bXL2WIKiw1",
        "outputId": "e7adb0cb-801a-4c04-bbd9-e75a1abfe9e6",
        "colab": {
          "base_uri": "https://localhost:8080/"
        }
      },
      "execution_count": 214,
      "outputs": [
        {
          "output_type": "execute_result",
          "data": {
            "text/plain": [
              "array([ 0,  1,  2,  3, 10, 11, 12, 13, 20, 21, 22, 23, 30, 31, 32, 33, 40,\n",
              "       41, 42, 43])"
            ]
          },
          "metadata": {},
          "execution_count": 214
        }
      ]
    },
    {
      "cell_type": "code",
      "source": [
        "a = np.floor(10 * np.random.random((3, 4)))\n",
        "\n",
        "a"
      ],
      "metadata": {
        "id": "0QCIo_zhKkYO",
        "outputId": "e3057ce2-a5ef-489d-8195-f704c4fa8589",
        "colab": {
          "base_uri": "https://localhost:8080/"
        }
      },
      "execution_count": 215,
      "outputs": [
        {
          "output_type": "execute_result",
          "data": {
            "text/plain": [
              "array([[7., 5., 4., 7.],\n",
              "       [6., 9., 0., 7.],\n",
              "       [5., 0., 6., 6.]])"
            ]
          },
          "metadata": {},
          "execution_count": 215
        }
      ]
    },
    {
      "cell_type": "code",
      "source": [
        "a.flatten()\n",
        "\n",
        "print(a)\n",
        "print(a.shape)"
      ],
      "metadata": {
        "id": "cOYUHh6QKpmw",
        "outputId": "89bfc6bb-be86-4635-f92c-dda69ab25673",
        "colab": {
          "base_uri": "https://localhost:8080/"
        }
      },
      "execution_count": 217,
      "outputs": [
        {
          "output_type": "stream",
          "name": "stdout",
          "text": [
            "[[7. 5. 4. 7.]\n",
            " [6. 9. 0. 7.]\n",
            " [5. 0. 6. 6.]]\n",
            "(3, 4)\n"
          ]
        }
      ]
    },
    {
      "cell_type": "code",
      "source": [
        "a.ravel()\n",
        "\n",
        "print(a)\n",
        "print(a.shape)"
      ],
      "metadata": {
        "id": "4k2mi_BAKvTo",
        "outputId": "79048790-750f-4a43-fa8d-c8425205d7f0",
        "colab": {
          "base_uri": "https://localhost:8080/"
        }
      },
      "execution_count": 218,
      "outputs": [
        {
          "output_type": "stream",
          "name": "stdout",
          "text": [
            "[[7. 5. 4. 7.]\n",
            " [6. 9. 0. 7.]\n",
            " [5. 0. 6. 6.]]\n",
            "(3, 4)\n"
          ]
        }
      ]
    },
    {
      "cell_type": "code",
      "source": [
        "# Quetsion: np.flatten vs np.ravel"
      ],
      "metadata": {
        "id": "eL0dQHlVKztW"
      },
      "execution_count": null,
      "outputs": []
    },
    {
      "cell_type": "code",
      "source": [
        "a"
      ],
      "metadata": {
        "id": "z-MxlSz_K7M8",
        "outputId": "4b92650d-5e0c-4cd5-dff6-94c7f0a3c862",
        "colab": {
          "base_uri": "https://localhost:8080/"
        }
      },
      "execution_count": 219,
      "outputs": [
        {
          "output_type": "execute_result",
          "data": {
            "text/plain": [
              "array([[7., 5., 4., 7.],\n",
              "       [6., 9., 0., 7.],\n",
              "       [5., 0., 6., 6.]])"
            ]
          },
          "metadata": {},
          "execution_count": 219
        }
      ]
    },
    {
      "cell_type": "code",
      "source": [
        "a.T"
      ],
      "metadata": {
        "id": "0sKVGg8hK8d5",
        "outputId": "583f9566-dc0e-408c-ab98-13d8f60af002",
        "colab": {
          "base_uri": "https://localhost:8080/"
        }
      },
      "execution_count": 220,
      "outputs": [
        {
          "output_type": "execute_result",
          "data": {
            "text/plain": [
              "array([[7., 6., 5.],\n",
              "       [5., 9., 0.],\n",
              "       [4., 0., 6.],\n",
              "       [7., 7., 6.]])"
            ]
          },
          "metadata": {},
          "execution_count": 220
        }
      ]
    },
    {
      "cell_type": "code",
      "source": [
        "np.transpose(a)"
      ],
      "metadata": {
        "id": "XTIyDbt7K9ZL",
        "outputId": "6550c558-1432-47b2-d292-e7903ccf2ba7",
        "colab": {
          "base_uri": "https://localhost:8080/"
        }
      },
      "execution_count": 221,
      "outputs": [
        {
          "output_type": "execute_result",
          "data": {
            "text/plain": [
              "array([[7., 6., 5.],\n",
              "       [5., 9., 0.],\n",
              "       [4., 0., 6.],\n",
              "       [7., 7., 6.]])"
            ]
          },
          "metadata": {},
          "execution_count": 221
        }
      ]
    },
    {
      "cell_type": "code",
      "source": [
        "a.shape, np.transpose(a).shape"
      ],
      "metadata": {
        "id": "S4J87iNoLCmf",
        "outputId": "c10bb942-fe24-4a80-ab0d-9ac3b13bc1ca",
        "colab": {
          "base_uri": "https://localhost:8080/"
        }
      },
      "execution_count": 222,
      "outputs": [
        {
          "output_type": "execute_result",
          "data": {
            "text/plain": [
              "((3, 4), (4, 3))"
            ]
          },
          "metadata": {},
          "execution_count": 222
        }
      ]
    },
    {
      "cell_type": "code",
      "source": [
        "a"
      ],
      "metadata": {
        "id": "uISeC8PhLG06",
        "outputId": "ec7f64bd-85f1-49be-82e8-32b2f9b912e2",
        "colab": {
          "base_uri": "https://localhost:8080/"
        }
      },
      "execution_count": 223,
      "outputs": [
        {
          "output_type": "execute_result",
          "data": {
            "text/plain": [
              "array([[7., 5., 4., 7.],\n",
              "       [6., 9., 0., 7.],\n",
              "       [5., 0., 6., 6.]])"
            ]
          },
          "metadata": {},
          "execution_count": 223
        }
      ]
    },
    {
      "cell_type": "code",
      "source": [
        "a.resize((2, 6))\n",
        "a"
      ],
      "metadata": {
        "id": "QqCjS_1DLNox",
        "outputId": "686bfa6b-b32e-4cca-80cb-f9c404ce229d",
        "colab": {
          "base_uri": "https://localhost:8080/"
        }
      },
      "execution_count": 224,
      "outputs": [
        {
          "output_type": "execute_result",
          "data": {
            "text/plain": [
              "array([[7., 5., 4., 7., 6., 9.],\n",
              "       [0., 7., 5., 0., 6., 6.]])"
            ]
          },
          "metadata": {},
          "execution_count": 224
        }
      ]
    },
    {
      "cell_type": "code",
      "source": [
        "# If a dimension is given as -1 in a reshaping operation, the other dimensions are automatically calculated:\n",
        "\n",
        "a.reshape(3, -1)\n"
      ],
      "metadata": {
        "id": "Pi_A-kUMLOTb",
        "outputId": "847c3ec5-6d9a-4c7c-c2da-0ffcbe654531",
        "colab": {
          "base_uri": "https://localhost:8080/"
        }
      },
      "execution_count": 225,
      "outputs": [
        {
          "output_type": "execute_result",
          "data": {
            "text/plain": [
              "array([[7., 5., 4., 7.],\n",
              "       [6., 9., 0., 7.],\n",
              "       [5., 0., 6., 6.]])"
            ]
          },
          "metadata": {},
          "execution_count": 225
        }
      ]
    },
    {
      "cell_type": "markdown",
      "source": [
        "### Stacking together different arrays\n",
        "Several arrays can be stacked together along different axes:\n",
        "\n",
        "> Add blockquote\n",
        "\n"
      ],
      "metadata": {
        "id": "roIx3z9xLXGo"
      }
    },
    {
      "cell_type": "code",
      "source": [
        "x = np.arange(0, 10, 2)  # x=([0,2,4,6,8])\n",
        "y = np.arange(5)  # y=([0,1,2,3,4])"
      ],
      "metadata": {
        "id": "P8lx4sEfLXhi"
      },
      "execution_count": 226,
      "outputs": []
    },
    {
      "cell_type": "code",
      "source": [
        "x"
      ],
      "metadata": {
        "id": "xE3l-JpxLc01",
        "outputId": "06657515-1b04-49f6-ed38-4c5968ba9c61",
        "colab": {
          "base_uri": "https://localhost:8080/"
        }
      },
      "execution_count": 227,
      "outputs": [
        {
          "output_type": "execute_result",
          "data": {
            "text/plain": [
              "array([0, 2, 4, 6, 8])"
            ]
          },
          "metadata": {},
          "execution_count": 227
        }
      ]
    },
    {
      "cell_type": "code",
      "source": [
        "y"
      ],
      "metadata": {
        "id": "ipMc7WSGLdSO",
        "outputId": "686da26b-6e21-45f0-9713-d8cd3007ccc3",
        "colab": {
          "base_uri": "https://localhost:8080/"
        }
      },
      "execution_count": 228,
      "outputs": [
        {
          "output_type": "execute_result",
          "data": {
            "text/plain": [
              "array([0, 1, 2, 3, 4])"
            ]
          },
          "metadata": {},
          "execution_count": 228
        }
      ]
    },
    {
      "cell_type": "code",
      "source": [
        "np.vstack([x, y])  # concate ais 0"
      ],
      "metadata": {
        "id": "NYOpnqyoLduB",
        "outputId": "fa54d39d-a1eb-42e5-8e51-4a5a57a94789",
        "colab": {
          "base_uri": "https://localhost:8080/"
        }
      },
      "execution_count": 229,
      "outputs": [
        {
          "output_type": "execute_result",
          "data": {
            "text/plain": [
              "array([[0, 2, 4, 6, 8],\n",
              "       [0, 1, 2, 3, 4]])"
            ]
          },
          "metadata": {},
          "execution_count": 229
        }
      ]
    },
    {
      "cell_type": "code",
      "source": [
        "np.hstack([x, y])  # flatten\n"
      ],
      "metadata": {
        "id": "CtdEIMhlLfzD",
        "outputId": "f337be41-66dc-4b39-d750-78a9da0e6481",
        "colab": {
          "base_uri": "https://localhost:8080/"
        }
      },
      "execution_count": 230,
      "outputs": [
        {
          "output_type": "execute_result",
          "data": {
            "text/plain": [
              "array([0, 2, 4, 6, 8, 0, 1, 2, 3, 4])"
            ]
          },
          "metadata": {},
          "execution_count": 230
        }
      ]
    },
    {
      "cell_type": "code",
      "source": [
        "a = np.floor(10 * np.random.random((2, 2)))\n",
        "a"
      ],
      "metadata": {
        "id": "FQodAoB1Lhmm",
        "outputId": "01428a4f-6a87-432c-ef23-8caa59a5a2fe",
        "colab": {
          "base_uri": "https://localhost:8080/"
        }
      },
      "execution_count": 231,
      "outputs": [
        {
          "output_type": "execute_result",
          "data": {
            "text/plain": [
              "array([[2., 7.],\n",
              "       [8., 9.]])"
            ]
          },
          "metadata": {},
          "execution_count": 231
        }
      ]
    },
    {
      "cell_type": "code",
      "source": [
        "b = np.floor(10 * np.random.random((2, 2)))\n",
        "b"
      ],
      "metadata": {
        "id": "a2g9BxFkLkMB",
        "outputId": "a7e5c85b-f49c-442d-9b34-485e5d6a9b42",
        "colab": {
          "base_uri": "https://localhost:8080/"
        }
      },
      "execution_count": 232,
      "outputs": [
        {
          "output_type": "execute_result",
          "data": {
            "text/plain": [
              "array([[3., 1.],\n",
              "       [8., 9.]])"
            ]
          },
          "metadata": {},
          "execution_count": 232
        }
      ]
    },
    {
      "cell_type": "code",
      "source": [
        "np.vstack((a, b))  # Horizontal Append  -- np.concatenate(axis=0)\n"
      ],
      "metadata": {
        "id": "02EO_Kc1LmDn",
        "outputId": "bd33ea66-5c16-4ca7-ba48-65d6bfbb0372",
        "colab": {
          "base_uri": "https://localhost:8080/"
        }
      },
      "execution_count": 233,
      "outputs": [
        {
          "output_type": "execute_result",
          "data": {
            "text/plain": [
              "array([[2., 7.],\n",
              "       [8., 9.],\n",
              "       [3., 1.],\n",
              "       [8., 9.]])"
            ]
          },
          "metadata": {},
          "execution_count": 233
        }
      ]
    },
    {
      "cell_type": "code",
      "source": [
        "np.hstack((a, b))  # Vertical Append -- np.concatenate(axis=1)\n"
      ],
      "metadata": {
        "id": "pAFwiYc_Loly",
        "outputId": "7485226e-07c2-4fd1-ba5c-eabf9755a36f",
        "colab": {
          "base_uri": "https://localhost:8080/"
        }
      },
      "execution_count": 234,
      "outputs": [
        {
          "output_type": "execute_result",
          "data": {
            "text/plain": [
              "array([[2., 7., 3., 1.],\n",
              "       [8., 9., 8., 9.]])"
            ]
          },
          "metadata": {},
          "execution_count": 234
        }
      ]
    },
    {
      "cell_type": "code",
      "source": [
        "# The function column_stack stacks 1D arrays as columns into a 2D array. It is equivalent to hstack only for 2D arrays:\n",
        "\n",
        "np.column_stack((a, b))  # with 2D arrays\n"
      ],
      "metadata": {
        "id": "sBo_838HLrZw",
        "outputId": "5089a173-ae76-4814-a1c5-0f2bf4f5483b",
        "colab": {
          "base_uri": "https://localhost:8080/"
        }
      },
      "execution_count": 235,
      "outputs": [
        {
          "output_type": "execute_result",
          "data": {
            "text/plain": [
              "array([[2., 7., 3., 1.],\n",
              "       [8., 9., 8., 9.]])"
            ]
          },
          "metadata": {},
          "execution_count": 235
        }
      ]
    },
    {
      "cell_type": "code",
      "source": [
        "a = np.array([4.0, 2.0])\n",
        "b = np.array([3.0, 8.0])\n",
        "\n",
        "np.column_stack((a, b))  # returns a 2D array\n"
      ],
      "metadata": {
        "id": "1_UYd8VaLupM",
        "outputId": "0626fe68-7d0f-415a-dc66-8676e074e61f",
        "colab": {
          "base_uri": "https://localhost:8080/"
        }
      },
      "execution_count": 236,
      "outputs": [
        {
          "output_type": "execute_result",
          "data": {
            "text/plain": [
              "array([[4., 3.],\n",
              "       [2., 8.]])"
            ]
          },
          "metadata": {},
          "execution_count": 236
        }
      ]
    },
    {
      "cell_type": "code",
      "source": [
        "np.hstack((a, b))  # the result is different\n"
      ],
      "metadata": {
        "id": "_fJMk9WKLzol",
        "outputId": "7823ddfe-e9ad-4b53-92c8-bbff6b57ed2c",
        "colab": {
          "base_uri": "https://localhost:8080/"
        }
      },
      "execution_count": 237,
      "outputs": [
        {
          "output_type": "execute_result",
          "data": {
            "text/plain": [
              "array([4., 2., 3., 8.])"
            ]
          },
          "metadata": {},
          "execution_count": 237
        }
      ]
    },
    {
      "cell_type": "code",
      "source": [
        "np.vstack((a, b))\n"
      ],
      "metadata": {
        "id": "ghtoAhhRL1Nw",
        "outputId": "5ca7b593-0edb-4620-875b-cb674852eb64",
        "colab": {
          "base_uri": "https://localhost:8080/"
        }
      },
      "execution_count": 238,
      "outputs": [
        {
          "output_type": "execute_result",
          "data": {
            "text/plain": [
              "array([[4., 2.],\n",
              "       [3., 8.]])"
            ]
          },
          "metadata": {},
          "execution_count": 238
        }
      ]
    },
    {
      "cell_type": "code",
      "source": [
        "from numpy import newaxis\n",
        "\n",
        "a[:, newaxis]  # this allows to have a 2D columns vector"
      ],
      "metadata": {
        "id": "evHWbHCwL2Tu",
        "outputId": "0827417b-7e65-40b4-a400-4a5ed9903dc2",
        "colab": {
          "base_uri": "https://localhost:8080/"
        }
      },
      "execution_count": 239,
      "outputs": [
        {
          "output_type": "execute_result",
          "data": {
            "text/plain": [
              "array([[4.],\n",
              "       [2.]])"
            ]
          },
          "metadata": {},
          "execution_count": 239
        }
      ]
    },
    {
      "cell_type": "code",
      "source": [
        "np.column_stack((a[:, newaxis], b[:, newaxis]))\n"
      ],
      "metadata": {
        "id": "S7IN6W3kL46z",
        "outputId": "219eeba7-9647-4c4a-a274-899275a47fbc",
        "colab": {
          "base_uri": "https://localhost:8080/"
        }
      },
      "execution_count": 240,
      "outputs": [
        {
          "output_type": "execute_result",
          "data": {
            "text/plain": [
              "array([[4., 3.],\n",
              "       [2., 8.]])"
            ]
          },
          "metadata": {},
          "execution_count": 240
        }
      ]
    },
    {
      "cell_type": "code",
      "source": [
        "np.hstack((a[:, newaxis], b[:, newaxis]))  # the result is the same\n"
      ],
      "metadata": {
        "id": "EK9seo8lL7o8",
        "outputId": "9c1640ef-4093-4e51-9408-365777e1b54d",
        "colab": {
          "base_uri": "https://localhost:8080/"
        }
      },
      "execution_count": 241,
      "outputs": [
        {
          "output_type": "execute_result",
          "data": {
            "text/plain": [
              "array([[4., 3.],\n",
              "       [2., 8.]])"
            ]
          },
          "metadata": {},
          "execution_count": 241
        }
      ]
    },
    {
      "cell_type": "markdown",
      "source": [
        "### Splitting one array into several smaller ones\n"
      ],
      "metadata": {
        "id": "EA-vH-SMMFnI"
      }
    },
    {
      "cell_type": "code",
      "source": [
        "a = np.floor(10 * np.random.random((2, 12)))\n",
        "a"
      ],
      "metadata": {
        "id": "VCux7xlzL9nQ",
        "outputId": "542dead7-2622-4bc1-bd45-9f88bf731ad4",
        "colab": {
          "base_uri": "https://localhost:8080/"
        }
      },
      "execution_count": 242,
      "outputs": [
        {
          "output_type": "execute_result",
          "data": {
            "text/plain": [
              "array([[7., 0., 1., 5., 8., 8., 9., 5., 4., 7., 7., 3.],\n",
              "       [7., 6., 3., 0., 7., 0., 2., 9., 3., 2., 8., 4.]])"
            ]
          },
          "metadata": {},
          "execution_count": 242
        }
      ]
    },
    {
      "cell_type": "code",
      "source": [
        "print(np.hsplit(a, 3))  # Split a into 3\n"
      ],
      "metadata": {
        "id": "Yjn0usgOMIGt",
        "outputId": "82757eff-1984-4880-dc6a-12a8650e9ddb",
        "colab": {
          "base_uri": "https://localhost:8080/"
        }
      },
      "execution_count": 243,
      "outputs": [
        {
          "output_type": "stream",
          "name": "stdout",
          "text": [
            "[array([[7., 0., 1., 5.],\n",
            "       [7., 6., 3., 0.]]), array([[8., 8., 9., 5.],\n",
            "       [7., 0., 2., 9.]]), array([[4., 7., 7., 3.],\n",
            "       [3., 2., 8., 4.]])]\n"
          ]
        }
      ]
    },
    {
      "cell_type": "code",
      "source": [
        "np.hsplit(a, (3, 4))  # Split a after the third and the fourth column"
      ],
      "metadata": {
        "id": "bnKhNRPsMKQz",
        "outputId": "6861f9de-b783-4f0f-84ab-09bef91d965a",
        "colab": {
          "base_uri": "https://localhost:8080/"
        }
      },
      "execution_count": 244,
      "outputs": [
        {
          "output_type": "execute_result",
          "data": {
            "text/plain": [
              "[array([[7., 0., 1.],\n",
              "        [7., 6., 3.]]),\n",
              " array([[5.],\n",
              "        [0.]]),\n",
              " array([[8., 8., 9., 5., 4., 7., 7., 3.],\n",
              "        [7., 0., 2., 9., 3., 2., 8., 4.]])]"
            ]
          },
          "metadata": {},
          "execution_count": 244
        }
      ]
    },
    {
      "cell_type": "code",
      "source": [
        "# vsplit splits along the vertical axis, and array_split allows one to specify along which axis to split.\n",
        "\n"
      ],
      "metadata": {
        "id": "q03QZkVMMQPO"
      },
      "execution_count": null,
      "outputs": []
    },
    {
      "cell_type": "markdown",
      "source": [
        "### Copies and Views\n",
        "\n",
        "No Copy at All\n",
        "\n",
        "Simple assignments make no copy of array objects or of their data."
      ],
      "metadata": {
        "id": "7M1G5DysMVcm"
      }
    },
    {
      "cell_type": "code",
      "source": [
        "a = np.arange(12)\n",
        "a"
      ],
      "metadata": {
        "id": "IzeDsF5aMW08",
        "outputId": "3762737b-8a8a-4e45-fb45-9b61d11eb62e",
        "colab": {
          "base_uri": "https://localhost:8080/"
        }
      },
      "execution_count": 245,
      "outputs": [
        {
          "output_type": "execute_result",
          "data": {
            "text/plain": [
              "array([ 0,  1,  2,  3,  4,  5,  6,  7,  8,  9, 10, 11])"
            ]
          },
          "metadata": {},
          "execution_count": 245
        }
      ]
    },
    {
      "cell_type": "code",
      "source": [
        "b = a  # no new object is created\n"
      ],
      "metadata": {
        "id": "Ycv7F844MdtV"
      },
      "execution_count": 246,
      "outputs": []
    },
    {
      "cell_type": "code",
      "source": [
        "b is a  # a and b are two names for the same ndarray object\n"
      ],
      "metadata": {
        "id": "HUvdHy3VMfEr",
        "outputId": "94c940eb-5368-49e2-d14b-7402ac88f346",
        "colab": {
          "base_uri": "https://localhost:8080/"
        }
      },
      "execution_count": 247,
      "outputs": [
        {
          "output_type": "execute_result",
          "data": {
            "text/plain": [
              "True"
            ]
          },
          "metadata": {},
          "execution_count": 247
        }
      ]
    },
    {
      "cell_type": "code",
      "source": [
        "id(a), id(b)\n"
      ],
      "metadata": {
        "id": "yl8GFx7nMg3I",
        "outputId": "44c6ff82-dcf3-41b7-a7a9-f2a7b386982d",
        "colab": {
          "base_uri": "https://localhost:8080/"
        }
      },
      "execution_count": 248,
      "outputs": [
        {
          "output_type": "execute_result",
          "data": {
            "text/plain": [
              "(135911969290256, 135911969290256)"
            ]
          },
          "metadata": {},
          "execution_count": 248
        }
      ]
    },
    {
      "cell_type": "code",
      "source": [
        "b.shape = 3, 4  # changes the shape of a\n",
        "b"
      ],
      "metadata": {
        "id": "zytz-TZlMij8",
        "outputId": "fc69dbb4-3396-4c24-a910-b2004a645ebd",
        "colab": {
          "base_uri": "https://localhost:8080/"
        }
      },
      "execution_count": 249,
      "outputs": [
        {
          "output_type": "execute_result",
          "data": {
            "text/plain": [
              "array([[ 0,  1,  2,  3],\n",
              "       [ 4,  5,  6,  7],\n",
              "       [ 8,  9, 10, 11]])"
            ]
          },
          "metadata": {},
          "execution_count": 249
        }
      ]
    },
    {
      "cell_type": "code",
      "source": [
        "a.shape"
      ],
      "metadata": {
        "id": "1T8TTWOlMljK",
        "outputId": "23e7698f-decb-415f-daaf-f86bb6cd036a",
        "colab": {
          "base_uri": "https://localhost:8080/"
        }
      },
      "execution_count": 250,
      "outputs": [
        {
          "output_type": "execute_result",
          "data": {
            "text/plain": [
              "(3, 4)"
            ]
          },
          "metadata": {},
          "execution_count": 250
        }
      ]
    },
    {
      "cell_type": "markdown",
      "source": [
        "#### View or Shallow Copy\n",
        "\n",
        "Different array objects can share the same data. The view method creates a new array object that looks at the same data.\n",
        "\n"
      ],
      "metadata": {
        "id": "FBLXOV8LMyyW"
      }
    },
    {
      "cell_type": "code",
      "source": [
        "c = a.view()\n",
        "c"
      ],
      "metadata": {
        "id": "33SZEUlOM1Jj",
        "outputId": "926fed7f-d315-452c-def8-e6b0de78a3b5",
        "colab": {
          "base_uri": "https://localhost:8080/"
        }
      },
      "execution_count": 251,
      "outputs": [
        {
          "output_type": "execute_result",
          "data": {
            "text/plain": [
              "array([[ 0,  1,  2,  3],\n",
              "       [ 4,  5,  6,  7],\n",
              "       [ 8,  9, 10, 11]])"
            ]
          },
          "metadata": {},
          "execution_count": 251
        }
      ]
    },
    {
      "cell_type": "code",
      "source": [
        "c is a"
      ],
      "metadata": {
        "id": "tn82RVLCM3Aa",
        "outputId": "6f4b364f-39a9-480c-9f98-95efb4a31532",
        "colab": {
          "base_uri": "https://localhost:8080/"
        }
      },
      "execution_count": 252,
      "outputs": [
        {
          "output_type": "execute_result",
          "data": {
            "text/plain": [
              "False"
            ]
          },
          "metadata": {},
          "execution_count": 252
        }
      ]
    },
    {
      "cell_type": "code",
      "source": [
        "id(a), id(b), id(c)\n"
      ],
      "metadata": {
        "id": "WoRwAIenM4n9",
        "outputId": "d502f874-79b6-4e54-c03f-d158d7e4d093",
        "colab": {
          "base_uri": "https://localhost:8080/"
        }
      },
      "execution_count": 253,
      "outputs": [
        {
          "output_type": "execute_result",
          "data": {
            "text/plain": [
              "(135911969290256, 135911969290256, 135911969290928)"
            ]
          },
          "metadata": {},
          "execution_count": 253
        }
      ]
    },
    {
      "cell_type": "code",
      "source": [
        "c.base is a  # c is a view of the data owned by a\n"
      ],
      "metadata": {
        "id": "w_17rGEbM6Z4",
        "outputId": "a1cf7a9b-a423-45dd-8e9a-288cc749ba85",
        "colab": {
          "base_uri": "https://localhost:8080/"
        }
      },
      "execution_count": 254,
      "outputs": [
        {
          "output_type": "execute_result",
          "data": {
            "text/plain": [
              "True"
            ]
          },
          "metadata": {},
          "execution_count": 254
        }
      ]
    },
    {
      "cell_type": "code",
      "source": [
        "c.flags.owndata\n"
      ],
      "metadata": {
        "id": "N1dVuPdyM9Ku",
        "outputId": "c558448c-11e6-4436-939f-5f689bf31c25",
        "colab": {
          "base_uri": "https://localhost:8080/"
        }
      },
      "execution_count": 255,
      "outputs": [
        {
          "output_type": "execute_result",
          "data": {
            "text/plain": [
              "False"
            ]
          },
          "metadata": {},
          "execution_count": 255
        }
      ]
    },
    {
      "cell_type": "code",
      "source": [
        "c.shape = 2, 6  # a's shape doesn't change\n"
      ],
      "metadata": {
        "id": "DvUUA_ONM--O"
      },
      "execution_count": 256,
      "outputs": []
    },
    {
      "cell_type": "code",
      "source": [
        "a.shape\n"
      ],
      "metadata": {
        "id": "FvS7LeTJNFQf",
        "outputId": "8bc6c12a-39aa-45e3-de0f-7185f857f3a1",
        "colab": {
          "base_uri": "https://localhost:8080/"
        }
      },
      "execution_count": 257,
      "outputs": [
        {
          "output_type": "execute_result",
          "data": {
            "text/plain": [
              "(3, 4)"
            ]
          },
          "metadata": {},
          "execution_count": 257
        }
      ]
    },
    {
      "cell_type": "code",
      "source": [
        "c[0, 4] = 1234  # a's data changes\n"
      ],
      "metadata": {
        "id": "eEZe1ipPNG1A"
      },
      "execution_count": 258,
      "outputs": []
    },
    {
      "cell_type": "code",
      "source": [
        "print(c)\n"
      ],
      "metadata": {
        "id": "SUhkChvdNIvb",
        "outputId": "023e6114-d1ff-4e4f-f7b4-6463525f5b17",
        "colab": {
          "base_uri": "https://localhost:8080/"
        }
      },
      "execution_count": 259,
      "outputs": [
        {
          "output_type": "stream",
          "name": "stdout",
          "text": [
            "[[   0    1    2    3 1234    5]\n",
            " [   6    7    8    9   10   11]]\n"
          ]
        }
      ]
    },
    {
      "cell_type": "code",
      "source": [
        "print(a)\n"
      ],
      "metadata": {
        "id": "UKL7HfoeNKdM",
        "outputId": "c4010ec6-cc97-4f9b-926c-9e101358c375",
        "colab": {
          "base_uri": "https://localhost:8080/"
        }
      },
      "execution_count": 260,
      "outputs": [
        {
          "output_type": "stream",
          "name": "stdout",
          "text": [
            "[[   0    1    2    3]\n",
            " [1234    5    6    7]\n",
            " [   8    9   10   11]]\n"
          ]
        }
      ]
    },
    {
      "cell_type": "code",
      "source": [
        "# Slicing an array returns a view of it:\n",
        "\n",
        "s = a[:, 1:3]  # spaces added for clarity; could also be written \"s = a[:,1:3]\"\n"
      ],
      "metadata": {
        "id": "h_-bbu0GNL6Q"
      },
      "execution_count": 261,
      "outputs": []
    },
    {
      "cell_type": "code",
      "source": [
        "s[:] = 10  # s[:] is a view of s. Note the difference between s=10 and s[:]=10\n"
      ],
      "metadata": {
        "id": "Gx1dg5_XNQ7X"
      },
      "execution_count": 262,
      "outputs": []
    },
    {
      "cell_type": "code",
      "source": [
        "a\n"
      ],
      "metadata": {
        "id": "PeXEawx0NSCY",
        "outputId": "3d5542ca-1a66-4d59-f732-b8c906acbcd6",
        "colab": {
          "base_uri": "https://localhost:8080/"
        }
      },
      "execution_count": 263,
      "outputs": [
        {
          "output_type": "execute_result",
          "data": {
            "text/plain": [
              "array([[   0,   10,   10,    3],\n",
              "       [1234,   10,   10,    7],\n",
              "       [   8,   10,   10,   11]])"
            ]
          },
          "metadata": {},
          "execution_count": 263
        }
      ]
    },
    {
      "cell_type": "markdown",
      "source": [
        "#### Deep Copy\n",
        "The copy method makes a complete copy of the array and its data."
      ],
      "metadata": {
        "id": "IqFdEuCwNWNG"
      }
    },
    {
      "cell_type": "code",
      "source": [
        "d = a.copy()  # a new array object with new data is created\n",
        "\n",
        "d is a"
      ],
      "metadata": {
        "id": "svyLc3BDNTgX",
        "outputId": "b2d851d8-c6e4-4e31-f724-d155c72df668",
        "colab": {
          "base_uri": "https://localhost:8080/"
        }
      },
      "execution_count": 264,
      "outputs": [
        {
          "output_type": "execute_result",
          "data": {
            "text/plain": [
              "False"
            ]
          },
          "metadata": {},
          "execution_count": 264
        }
      ]
    },
    {
      "cell_type": "code",
      "source": [
        "d.base is a  # d doesn't share anything with a\n"
      ],
      "metadata": {
        "id": "01_hTwMZNZ16",
        "outputId": "ac408c81-4336-46c1-e399-fcc22a4d7910",
        "colab": {
          "base_uri": "https://localhost:8080/"
        }
      },
      "execution_count": 265,
      "outputs": [
        {
          "output_type": "execute_result",
          "data": {
            "text/plain": [
              "False"
            ]
          },
          "metadata": {},
          "execution_count": 265
        }
      ]
    },
    {
      "cell_type": "code",
      "source": [
        "d.flags.owndata\n"
      ],
      "metadata": {
        "id": "HQk3sI5uNcHv",
        "outputId": "322adc97-3cc2-4663-fcb1-d3f25e002e1e",
        "colab": {
          "base_uri": "https://localhost:8080/"
        }
      },
      "execution_count": 266,
      "outputs": [
        {
          "output_type": "execute_result",
          "data": {
            "text/plain": [
              "True"
            ]
          },
          "metadata": {},
          "execution_count": 266
        }
      ]
    },
    {
      "cell_type": "code",
      "source": [
        "d[0, 0] = 9999\n",
        "\n",
        "a"
      ],
      "metadata": {
        "id": "yy4HVxsYNd5v",
        "outputId": "c41fde1d-8bf4-489f-c8fb-852d53c06fa8",
        "colab": {
          "base_uri": "https://localhost:8080/"
        }
      },
      "execution_count": 267,
      "outputs": [
        {
          "output_type": "execute_result",
          "data": {
            "text/plain": [
              "array([[   0,   10,   10,    3],\n",
              "       [1234,   10,   10,    7],\n",
              "       [   8,   10,   10,   11]])"
            ]
          },
          "metadata": {},
          "execution_count": 267
        }
      ]
    },
    {
      "cell_type": "markdown",
      "source": [
        "#### Broadcasting rules\n",
        "\n",
        "Broadcasting allows universal functions to deal in a meaningful way with inputs that do not have exactly the same shape.\n",
        "\n",
        "The first rule of broadcasting is that if all input arrays do not have the same number of dimensions, a “1” will be repeatedly prepended to the shapes of the smaller arrays until all the arrays have the same number of dimensions.\n",
        "\n",
        "The second rule of broadcasting ensures that arrays with a size of 1 along a particular dimension act as if they had the size of the array with the largest shape along that dimension. The value of the array element is assumed to be the same along that dimension for the “broadcast” array.\n",
        "\n",
        "\n",
        "After application of the broadcasting rules, the sizes of all arrays must match.\n",
        "\n",
        "\n"
      ],
      "metadata": {
        "id": "T9jJyoF9QHCB"
      }
    },
    {
      "cell_type": "markdown",
      "source": [
        "##### Indexing with Arrays of Indices\n"
      ],
      "metadata": {
        "id": "E4rN_f8HQiLg"
      }
    },
    {
      "cell_type": "code",
      "source": [
        "a = np.arange(12) ** 2  # the first 12 square numbers\n",
        "a"
      ],
      "metadata": {
        "id": "W3fSRyKzQfrd",
        "outputId": "3e21fde1-5eb2-4d66-edbb-87a0321ce669",
        "colab": {
          "base_uri": "https://localhost:8080/"
        }
      },
      "execution_count": 268,
      "outputs": [
        {
          "output_type": "execute_result",
          "data": {
            "text/plain": [
              "array([  0,   1,   4,   9,  16,  25,  36,  49,  64,  81, 100, 121])"
            ]
          },
          "metadata": {},
          "execution_count": 268
        }
      ]
    },
    {
      "cell_type": "code",
      "source": [
        "i = np.array([1, 1, 3, 8, 5])  # an array of indices\n"
      ],
      "metadata": {
        "id": "AkDKa07mQmdy"
      },
      "execution_count": 269,
      "outputs": []
    },
    {
      "cell_type": "code",
      "source": [
        "a[i]\n"
      ],
      "metadata": {
        "id": "njlvImOfQoqW",
        "outputId": "01207ab3-d8fd-4a52-9efb-8e834819bfaa",
        "colab": {
          "base_uri": "https://localhost:8080/"
        }
      },
      "execution_count": 270,
      "outputs": [
        {
          "output_type": "execute_result",
          "data": {
            "text/plain": [
              "array([ 1,  1,  9, 64, 25])"
            ]
          },
          "metadata": {},
          "execution_count": 270
        }
      ]
    },
    {
      "cell_type": "code",
      "source": [
        "j = np.array([[3, 4], [9, 7]])  # a bidimensional array of indices\n"
      ],
      "metadata": {
        "id": "l2_dtNyeQu7a"
      },
      "execution_count": 271,
      "outputs": []
    },
    {
      "cell_type": "code",
      "source": [
        "a[j]  # the same shape as j\n"
      ],
      "metadata": {
        "id": "lZmX5vO9Q3O6",
        "outputId": "748d000a-2b0d-4fed-948f-0b69ed6ba265",
        "colab": {
          "base_uri": "https://localhost:8080/"
        }
      },
      "execution_count": 272,
      "outputs": [
        {
          "output_type": "execute_result",
          "data": {
            "text/plain": [
              "array([[ 9, 16],\n",
              "       [81, 49]])"
            ]
          },
          "metadata": {},
          "execution_count": 272
        }
      ]
    },
    {
      "cell_type": "code",
      "source": [
        "palette = np.array(\n",
        "    [\n",
        "        [0, 0, 0],    # black\n",
        "        [255, 0, 0],  # red\n",
        "        [0, 255, 0],  # green\n",
        "        [0, 0, 255],  # blue\n",
        "        [255, 255, 255],\n",
        "    ]\n",
        ")  # white\n",
        "\n",
        "image = np.array(\n",
        "    [[0, 1, 2, 0], [0, 3, 4, 0]]  # each value corresponds to a color in the palette\n",
        ")\n",
        "\n",
        "print(palette[image])  # the (2,4,3) color image"
      ],
      "metadata": {
        "id": "A99sqejdRCpg",
        "outputId": "c0ea718e-77a1-45a5-ca47-f271f4b0a06b",
        "colab": {
          "base_uri": "https://localhost:8080/"
        }
      },
      "execution_count": 273,
      "outputs": [
        {
          "output_type": "stream",
          "name": "stdout",
          "text": [
            "[[[  0   0   0]\n",
            "  [255   0   0]\n",
            "  [  0 255   0]\n",
            "  [  0   0   0]]\n",
            "\n",
            " [[  0   0   0]\n",
            "  [  0   0 255]\n",
            "  [255 255 255]\n",
            "  [  0   0   0]]]\n"
          ]
        }
      ]
    },
    {
      "cell_type": "markdown",
      "source": [
        "### np.linalg"
      ],
      "metadata": {
        "id": "pjNLyIurSYaB"
      }
    },
    {
      "cell_type": "code",
      "source": [
        "dir(np.linalg)"
      ],
      "metadata": {
        "id": "O5KQzNyeSaV7",
        "outputId": "f1dc760c-2924-47c2-976b-689dafcc3934",
        "colab": {
          "base_uri": "https://localhost:8080/"
        }
      },
      "execution_count": 282,
      "outputs": [
        {
          "output_type": "execute_result",
          "data": {
            "text/plain": [
              "['LinAlgError',\n",
              " '__all__',\n",
              " '__builtins__',\n",
              " '__cached__',\n",
              " '__doc__',\n",
              " '__file__',\n",
              " '__loader__',\n",
              " '__name__',\n",
              " '__package__',\n",
              " '__path__',\n",
              " '__spec__',\n",
              " '_umath_linalg',\n",
              " 'cholesky',\n",
              " 'cond',\n",
              " 'det',\n",
              " 'eig',\n",
              " 'eigh',\n",
              " 'eigvals',\n",
              " 'eigvalsh',\n",
              " 'inv',\n",
              " 'linalg',\n",
              " 'lstsq',\n",
              " 'matrix_power',\n",
              " 'matrix_rank',\n",
              " 'multi_dot',\n",
              " 'norm',\n",
              " 'pinv',\n",
              " 'qr',\n",
              " 'slogdet',\n",
              " 'solve',\n",
              " 'svd',\n",
              " 'tensorinv',\n",
              " 'tensorsolve',\n",
              " 'test']"
            ]
          },
          "metadata": {},
          "execution_count": 282
        }
      ]
    },
    {
      "cell_type": "code",
      "source": [
        "a = np.array([[1.0, 2.0], [3.0, 4.0]])\n",
        "\n",
        "np.linalg.inv(a)\n"
      ],
      "metadata": {
        "id": "yPHQwrOhScVy",
        "outputId": "7ce69385-e598-40c5-9efd-3aaa66bbabb7",
        "colab": {
          "base_uri": "https://localhost:8080/"
        }
      },
      "execution_count": 283,
      "outputs": [
        {
          "output_type": "execute_result",
          "data": {
            "text/plain": [
              "array([[-2. ,  1. ],\n",
              "       [ 1.5, -0.5]])"
            ]
          },
          "metadata": {},
          "execution_count": 283
        }
      ]
    },
    {
      "cell_type": "code",
      "source": [
        "y = np.array([[5.0], [7.0]])\n"
      ],
      "metadata": {
        "id": "hK4hJtYzSm9-"
      },
      "execution_count": 284,
      "outputs": []
    },
    {
      "cell_type": "code",
      "source": [
        "np.linalg.solve(a, y)\n"
      ],
      "metadata": {
        "id": "AN3_CCjKSrdQ",
        "outputId": "4f1c0547-fe53-4d99-f7ed-fef4ac01ef0e",
        "colab": {
          "base_uri": "https://localhost:8080/"
        }
      },
      "execution_count": 285,
      "outputs": [
        {
          "output_type": "execute_result",
          "data": {
            "text/plain": [
              "array([[-3.],\n",
              "       [ 4.]])"
            ]
          },
          "metadata": {},
          "execution_count": 285
        }
      ]
    },
    {
      "cell_type": "code",
      "source": [
        "np.linalg.eig(j)\n"
      ],
      "metadata": {
        "id": "KDGiDV6lStNV",
        "outputId": "258bfbe5-e90c-480a-f7e6-eae504e394b7",
        "colab": {
          "base_uri": "https://localhost:8080/"
        }
      },
      "execution_count": 286,
      "outputs": [
        {
          "output_type": "execute_result",
          "data": {
            "text/plain": [
              "EigResult(eigenvalues=array([-1.32455532, 11.32455532]), eigenvectors=array([[-0.67902243, -0.43310182],\n",
              "       [ 0.73411752, -0.901345  ]]))"
            ]
          },
          "metadata": {},
          "execution_count": 286
        }
      ]
    },
    {
      "cell_type": "code",
      "source": [],
      "metadata": {
        "id": "VyrqR51mSu-s"
      },
      "execution_count": null,
      "outputs": []
    }
  ]
}