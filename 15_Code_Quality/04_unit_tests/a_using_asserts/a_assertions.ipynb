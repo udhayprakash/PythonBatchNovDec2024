{
 "cells": [
  {
   "cell_type": "markdown",
   "metadata": {
    "vscode": {
     "languageId": "plaintext"
    }
   },
   "source": [
    "# assertions\n",
    "\n",
    "\n",
    "\n",
    "    Symantic:\n",
    "\n",
    "        assert <statement>, \"Error Message, if statement is incorrect\""
   ]
  },
  {
   "cell_type": "code",
   "execution_count": 1,
   "metadata": {},
   "outputs": [
    {
     "name": "stdout",
     "output_type": "stream",
     "text": [
      "True\n"
     ]
    }
   ],
   "source": [
    "print(2 + 3 == 5)"
   ]
  },
  {
   "cell_type": "code",
   "execution_count": 2,
   "metadata": {},
   "outputs": [],
   "source": [
    "assert 2 + 3 == 5\n",
    "assert 2 + 3 == 5, \"2+ 3 is Not resulting to 5\""
   ]
  },
  {
   "cell_type": "code",
   "execution_count": 3,
   "metadata": {},
   "outputs": [
    {
     "name": "stdout",
     "output_type": "stream",
     "text": [
      "False\n",
      "2+ 3 is Not resulting to 6\n"
     ]
    }
   ],
   "source": [
    "print(2 + 3 == 6)\n",
    "try:\n",
    "    assert 2 + 3 == 6, \"2+ 3 is Not resulting to 6\"\n",
    "except AssertionError as ex:\n",
    "    print(ex)"
   ]
  },
  {
   "cell_type": "code",
   "execution_count": 4,
   "metadata": {},
   "outputs": [
    {
     "name": "stdout",
     "output_type": "stream",
     "text": [
      "Error is \n"
     ]
    }
   ],
   "source": [
    "try:\n",
    "    assert 10 - 34 > 3\n",
    "except AssertionError as ex:\n",
    "    print(f\"Error is {ex}\")"
   ]
  },
  {
   "cell_type": "code",
   "execution_count": 5,
   "metadata": {},
   "outputs": [
    {
     "name": "stdout",
     "output_type": "stream",
     "text": [
      "Error is This statement is incorrect\n"
     ]
    }
   ],
   "source": [
    "try:\n",
    "    assert 10 - 34 > 3, \"This statement is incorrect\"\n",
    "except AssertionError as ex:\n",
    "    print(f\"Error is {ex}\")"
   ]
  },
  {
   "cell_type": "code",
   "execution_count": 6,
   "metadata": {},
   "outputs": [],
   "source": [
    "assert 1 == True\n",
    "assert \"1\" != str(True)"
   ]
  },
  {
   "cell_type": "code",
   "execution_count": null,
   "metadata": {},
   "outputs": [],
   "source": []
  }
 ],
 "metadata": {
  "kernelspec": {
   "display_name": ".venv",
   "language": "python",
   "name": "python3"
  },
  "language_info": {
   "codemirror_mode": {
    "name": "ipython",
    "version": 3
   },
   "file_extension": ".py",
   "mimetype": "text/x-python",
   "name": "python",
   "nbconvert_exporter": "python",
   "pygments_lexer": "ipython3",
   "version": "3.12.1"
  }
 },
 "nbformat": 4,
 "nbformat_minor": 2
}
