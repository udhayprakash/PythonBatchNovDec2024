{
 "cells": [
  {
   "cell_type": "markdown",
   "metadata": {},
   "source": [
    "# Abstract classes\n",
    "\n",
    "    classes that contain one or more abstract methods.\n",
    "    \n",
    "    - abstract method\n",
    "        - method that is declared, but contains no implementation.\n",
    "    \n",
    "    - Abstract classes cannot be instantiated, and require subclasses\n",
    "      to provide implementations for the abstract methods."
   ]
  },
  {
   "cell_type": "code",
   "execution_count": 1,
   "metadata": {},
   "outputs": [
    {
     "name": "stdout",
     "output_type": "stream",
     "text": [
      "{}\n"
     ]
    }
   ],
   "source": [
    "# Ordinary classes 1\n",
    "class OrdinaryClass:\n",
    "    pass\n",
    "\n",
    "\n",
    "# Instantiation\n",
    "o1 = OrdinaryClass()\n",
    "print(vars(o1))  # {}"
   ]
  },
  {
   "cell_type": "code",
   "execution_count": 2,
   "metadata": {},
   "outputs": [
    {
     "name": "stdout",
     "output_type": "stream",
     "text": [
      "{'name': 'Python'}\n"
     ]
    }
   ],
   "source": [
    "# Ordinary classes 2\n",
    "class OrdinaryClass2:\n",
    "    def __init__(self, name) -> None:\n",
    "        self.name = name\n",
    "\n",
    "\n",
    "# Instantiation\n",
    "o2 = OrdinaryClass2(\"Python\")\n",
    "print(vars(o2))  # {'name': 'Python'}"
   ]
  },
  {
   "cell_type": "code",
   "execution_count": 3,
   "metadata": {},
   "outputs": [
    {
     "name": "stdout",
     "output_type": "stream",
     "text": [
      "{'name': 'Python'}\n",
      "Hello world\n"
     ]
    }
   ],
   "source": [
    "# Ordinary classes 3\n",
    "class OrdinaryClass:\n",
    "    def __init__(self, name) -> None:\n",
    "        self.name = name\n",
    "\n",
    "    def say_hello(self):\n",
    "        print(\"Hello world\")\n",
    "\n",
    "\n",
    "# Instantiation\n",
    "o3 = OrdinaryClass(\"Python\")\n",
    "print(vars(o3))  # {'name': 'Python'}\n",
    "o3.say_hello()"
   ]
  },
  {
   "cell_type": "code",
   "execution_count": 4,
   "metadata": {},
   "outputs": [
    {
     "name": "stdout",
     "output_type": "stream",
     "text": [
      "<__main__.AbstractClassExample1 object at 0x76984c5b52b0>\n"
     ]
    }
   ],
   "source": [
    "from abc import ABC \n",
    "\n",
    "# Abstract Class 1\n",
    "class AbstractClassExample1(ABC):\n",
    "    pass\n",
    "\n",
    "\n",
    "a1 = AbstractClassExample1()\n",
    "print(a1)"
   ]
  },
  {
   "cell_type": "code",
   "execution_count": 5,
   "metadata": {},
   "outputs": [
    {
     "name": "stdout",
     "output_type": "stream",
     "text": [
      "<__main__.AbstractClassExample2 object at 0x769844705d00>\n"
     ]
    }
   ],
   "source": [
    "# Abstract Class 2\n",
    "class AbstractClassExample2(ABC):\n",
    "    def __init__(self, value) -> None:\n",
    "        self.value = value\n",
    "        super().__init__()\n",
    "\n",
    "\n",
    "a2 = AbstractClassExample2(\"Python\")\n",
    "print(a2)"
   ]
  },
  {
   "cell_type": "code",
   "execution_count": 6,
   "metadata": {},
   "outputs": [
    {
     "name": "stdout",
     "output_type": "stream",
     "text": [
      "<__main__.AbstractClassExample3 object at 0x7698447041a0>\n",
      "Hello world\n"
     ]
    }
   ],
   "source": [
    "# Abstract Class 3\n",
    "class AbstractClassExample3(ABC):\n",
    "    def __init__(self, value) -> None:\n",
    "        self.value = value\n",
    "        super().__init__()\n",
    "\n",
    "    def say_hello(self):\n",
    "        print(\"Hello world\")\n",
    "\n",
    "# instantiation\n",
    "a3 = AbstractClassExample3(\"Python\")\n",
    "print(a3)\n",
    "a3.say_hello()"
   ]
  },
  {
   "cell_type": "code",
   "execution_count": 7,
   "metadata": {},
   "outputs": [
    {
     "name": "stdout",
     "output_type": "stream",
     "text": [
      "Can't instantiate abstract class AbstractClassExample4 without an implementation for abstract method 'say_hello'\n"
     ]
    }
   ],
   "source": [
    "from abc import ABC, abstractmethod\n",
    "\n",
    "\n",
    "# Abstract Class 4\n",
    "class AbstractClassExample4(ABC):\n",
    "    def __init__(self, value) -> None:\n",
    "        self.value = value\n",
    "        super().__init__()\n",
    "\n",
    "    @abstractmethod\n",
    "    def say_hello(self):\n",
    "        print(\"Hello world\")\n",
    "\n",
    "\n",
    "# instantiation\n",
    "try:\n",
    "    a4 = AbstractClassExample4(\"Python\")\n",
    "except TypeError as ex:\n",
    "    print(ex)\n",
    "\n"
   ]
  },
  {
   "cell_type": "code",
   "execution_count": 8,
   "metadata": {},
   "outputs": [],
   "source": [
    "# NOTE: If ABC is inherented, we can instatiate; but if one of the methods is marked as abstractmethod, we can do even instaiation.\n"
   ]
  },
  {
   "cell_type": "markdown",
   "metadata": {},
   "source": [
    "### Real-world Example"
   ]
  },
  {
   "cell_type": "code",
   "execution_count": 9,
   "metadata": {},
   "outputs": [],
   "source": [
    "class BasicCar(ABC):\n",
    "    @abstractmethod\n",
    "    def get_chasis_number(self):\n",
    "        pass\n",
    "\n",
    "    def get_car_model(self):\n",
    "        pass"
   ]
  },
  {
   "cell_type": "code",
   "execution_count": 10,
   "metadata": {},
   "outputs": [
    {
     "name": "stdout",
     "output_type": "stream",
     "text": [
      "Can't instantiate abstract class RolsRoys without an implementation for abstract method 'get_chasis_number'\n",
      "Excepting methods marked as abstractmethods need to be IMPLEMENTED\n"
     ]
    }
   ],
   "source": [
    "# Problem\n",
    "class RolsRoys(BasicCar):\n",
    "    pass\n",
    "\n",
    "try:\n",
    "    car_r = RolsRoys()\n",
    "except TypeError as ex:\n",
    "    print(ex)\n",
    "    print(\"Excepting methods marked as abstractmethods need to be IMPLEMENTED\")\n"
   ]
  },
  {
   "cell_type": "code",
   "execution_count": 11,
   "metadata": {},
   "outputs": [
    {
     "data": {
      "text/plain": [
       "<__main__.RolsRoys at 0x769844707aa0>"
      ]
     },
     "execution_count": 11,
     "metadata": {},
     "output_type": "execute_result"
    }
   ],
   "source": [
    "# Solution\n",
    "class RolsRoys(BasicCar):\n",
    "    def get_chasis_number(self):\n",
    "        pass\n",
    "\n",
    "\n",
    "car_r = RolsRoys()\n",
    "\n",
    "car_r"
   ]
  },
  {
   "cell_type": "markdown",
   "metadata": {},
   "source": [
    "### Another Example"
   ]
  },
  {
   "cell_type": "markdown",
   "metadata": {},
   "source": [
    "Problem Statement: Write class(es) that represent the following shapes:\n",
    "      square, rectangle, circle.\n",
    "Each shape should have a perimeter and an area."
   ]
  },
  {
   "cell_type": "code",
   "execution_count": 12,
   "metadata": {},
   "outputs": [],
   "source": [
    "import math\n",
    "from abc import ABC, abstractmethod\n",
    "\n",
    "\n",
    "class Shape(ABC):\n",
    "    def __init__(self, length, bredth=None):\n",
    "        self.length = length\n",
    "        self.bredth = bredth\n",
    "        super().__init__()\n",
    "\n",
    "    @abstractmethod\n",
    "    def area(self):\n",
    "        pass\n",
    "\n",
    "    @abstractmethod\n",
    "    def perimeter(self):\n",
    "        pass"
   ]
  },
  {
   "cell_type": "code",
   "execution_count": 13,
   "metadata": {},
   "outputs": [],
   "source": [
    "class circle(Shape):\n",
    "    def __init__(self, length):\n",
    "        super().__init__(length)\n",
    "\n",
    "    def area(self):\n",
    "        return math.pi * (self.length**2)\n",
    "\n",
    "    def perimeter(self):\n",
    "        return 2 * math.pi * self.length\n"
   ]
  },
  {
   "cell_type": "code",
   "execution_count": 14,
   "metadata": {},
   "outputs": [],
   "source": [
    "class Square(Shape):\n",
    "    def __init__(self, length):\n",
    "        super().__init__(length)\n",
    "\n",
    "    def area(self):\n",
    "        return self.length**2\n",
    "\n",
    "    def perimeter(self):\n",
    "        return self.length * 2\n",
    "\n"
   ]
  },
  {
   "cell_type": "code",
   "execution_count": 15,
   "metadata": {},
   "outputs": [],
   "source": [
    "class Rectangle(Shape):\n",
    "    def __init__(self, length, bredth):\n",
    "        super().__init__(length, bredth=bredth)\n",
    "\n",
    "    def area(self):\n",
    "        return self.length * self.bredth\n",
    "\n",
    "    def perimeter(self):\n",
    "        return self.length * 2 * self.bredth"
   ]
  },
  {
   "cell_type": "code",
   "execution_count": 16,
   "metadata": {},
   "outputs": [
    {
     "name": "stdout",
     "output_type": "stream",
     "text": [
      "Caught: Can't instantiate abstract class Shape without an implementation for abstract methods 'area', 'perimeter'\n",
      "c.area()      =314.1592653589793\n",
      "c.perimeter() =62.83185307179586\n",
      "s.area()      =100\n",
      "s.perimeter() =20\n",
      "r.area()      =200\n",
      "r.perimeter() =400\n"
     ]
    }
   ],
   "source": [
    "\n",
    "if __name__ == \"__main__\":\n",
    "    # An abstract class cannot be instantiated.\n",
    "    try:\n",
    "        s = Shape()\n",
    "    except Exception as e:\n",
    "        print(f\"Caught: {e}\")\n",
    "\n",
    "    c = circle(10)\n",
    "    print(f\"{c.area()      =}\")  # 314.1592653589793\n",
    "    print(f\"{c.perimeter() =}\")  # 62.83185307179586\n",
    "\n",
    "    s = Square(10)\n",
    "    print(f\"{s.area()      =}\")  # 100\n",
    "    print(f\"{s.perimeter() =}\")  # 20\n",
    "\n",
    "    r = Rectangle(10, 20)\n",
    "    print(f\"{r.area()      =}\")  # 200\n",
    "    print(f\"{r.perimeter() =}\")  # 400"
   ]
  },
  {
   "cell_type": "code",
   "execution_count": null,
   "metadata": {},
   "outputs": [],
   "source": []
  }
 ],
 "metadata": {
  "kernelspec": {
   "display_name": ".venv",
   "language": "python",
   "name": "python3"
  },
  "language_info": {
   "codemirror_mode": {
    "name": "ipython",
    "version": 3
   },
   "file_extension": ".py",
   "mimetype": "text/x-python",
   "name": "python",
   "nbconvert_exporter": "python",
   "pygments_lexer": "ipython3",
   "version": "3.12.1"
  }
 },
 "nbformat": 4,
 "nbformat_minor": 2
}
