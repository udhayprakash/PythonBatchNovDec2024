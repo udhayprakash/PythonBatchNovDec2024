{
 "cells": [
  {
   "cell_type": "markdown",
   "metadata": {},
   "source": [
    "# Data classes\n",
    "\n",
    "    Introduced in python 3.7 (with PEP 557) to reduce the boilerplate code\n"
   ]
  },
  {
   "cell_type": "code",
   "execution_count": 12,
   "metadata": {},
   "outputs": [],
   "source": [
    "from dataclasses import dataclass"
   ]
  },
  {
   "cell_type": "code",
   "execution_count": 8,
   "metadata": {},
   "outputs": [
    {
     "name": "stdout",
     "output_type": "stream",
     "text": [
      "UsingRegularClass(name='Udhay', age=30)\n",
      "UsingRegularClass(name='Prakash', age=40)\n"
     ]
    }
   ],
   "source": [
    "class UsingRegularClass:\n",
    "    def __init__(self, name, age):\n",
    "        self.name = name\n",
    "        self.age = age\n",
    "\n",
    "    def __repr__(self):\n",
    "        return f\"{self.__class__.__name__}(name={self.name!r}, age={self.age!r})\"\n",
    "\n",
    "\n",
    "a1 = UsingRegularClass(\"Udhay\", 30)\n",
    "print(a1)\n",
    "\n",
    "a2 = UsingRegularClass(\"Prakash\", 40)\n",
    "print(a2)\n"
   ]
  },
  {
   "cell_type": "code",
   "execution_count": 9,
   "metadata": {},
   "outputs": [
    {
     "data": {
      "text/plain": [
       "False"
      ]
     },
     "execution_count": 9,
     "metadata": {},
     "output_type": "execute_result"
    }
   ],
   "source": [
    "a1 == a2"
   ]
  },
  {
   "cell_type": "code",
   "execution_count": 10,
   "metadata": {},
   "outputs": [
    {
     "name": "stdout",
     "output_type": "stream",
     "text": [
      "UsingRegularClass(name='Udhay', age=30)\n",
      "UsingRegularClass(name='Prakash', age=40)\n",
      "a1 == a2 =False\n"
     ]
    }
   ],
   "source": [
    "class UsingRegularClass:\n",
    "    def __init__(self, name, age):\n",
    "        self.name = name\n",
    "        self.age = age\n",
    "\n",
    "    def __repr__(self):\n",
    "        return f\"{self.__class__.__name__}(name={self.name!r}, age={self.age!r})\"\n",
    "\n",
    "    def __lt__(self, other):\n",
    "        return self.age < other.age\n",
    "\n",
    "    def __eq__(self, other):\n",
    "        if other.__class__ is not self.__class__:\n",
    "            return NotImplemented\n",
    "        return (self.name, self.age) == (other.name, other.age)\n",
    "\n",
    "\n",
    "a1 = UsingRegularClass(\"Udhay\", 30)\n",
    "print(a1)\n",
    "\n",
    "a2 = UsingRegularClass(\"Prakash\", 40)\n",
    "print(a2)\n",
    "print(f\"{a1 == a2 =}\")  # a1.__eq__(a2)\n"
   ]
  },
  {
   "cell_type": "code",
   "execution_count": 14,
   "metadata": {},
   "outputs": [
    {
     "data": {
      "text/plain": [
       "ArithmeticOperations(num1=123, num2=345)"
      ]
     },
     "execution_count": 14,
     "metadata": {},
     "output_type": "execute_result"
    }
   ],
   "source": [
    "@dataclass\n",
    "class ArithmeticOperations:\n",
    "    num1: int\n",
    "    num2: int  #  it is instance varible. Not class variable\n",
    "\n",
    "\n",
    "a = ArithmeticOperations(123, 345)\n",
    "a"
   ]
  },
  {
   "cell_type": "code",
   "execution_count": 15,
   "metadata": {},
   "outputs": [
    {
     "name": "stdout",
     "output_type": "stream",
     "text": [
      "a.addition():468\n"
     ]
    }
   ],
   "source": [
    "@dataclass\n",
    "class ArithmeticOperations:\n",
    "    num1: int\n",
    "    num2: int  #  it is instance varible. Not class variable\n",
    "\n",
    "    def addition(self):\n",
    "        return self.num1 + self.num2\n",
    "\n",
    "\n",
    "\n",
    "a = ArithmeticOperations(123, 345)\n",
    "print(f\"a.addition():{a.addition()}\")"
   ]
  },
  {
   "cell_type": "code",
   "execution_count": 16,
   "metadata": {},
   "outputs": [
    {
     "name": "stdout",
     "output_type": "stream",
     "text": [
      "a.addition(123, 345):468\n"
     ]
    }
   ],
   "source": [
    "@dataclass\n",
    "class ArithmeticOperations1:\n",
    "    def addition(self, num1, num2):\n",
    "        return num1 + num2\n",
    "\n",
    "\n",
    "a = ArithmeticOperations1()\n",
    "print(f\"a.addition(123, 345):{a.addition(123, 345)}\")"
   ]
  },
  {
   "cell_type": "markdown",
   "metadata": {},
   "source": [
    "###  Another example"
   ]
  },
  {
   "cell_type": "code",
   "execution_count": 17,
   "metadata": {},
   "outputs": [
    {
     "name": "stdout",
     "output_type": "stream",
     "text": [
      "f.x =12\n"
     ]
    }
   ],
   "source": [
    "@dataclass()\n",
    "class Foo(object):\n",
    "    x: int\n",
    "\n",
    "\n",
    "f = Foo(12)\n",
    "print(f\"{f.x =}\")"
   ]
  },
  {
   "cell_type": "code",
   "execution_count": 18,
   "metadata": {},
   "outputs": [],
   "source": [
    "f.x = 1\n",
    "f.y = 12  # Adding new attrbute to instance\n"
   ]
  },
  {
   "cell_type": "code",
   "execution_count": 19,
   "metadata": {},
   "outputs": [
    {
     "name": "stdout",
     "output_type": "stream",
     "text": [
      "unhashable type: 'Foo'\n",
      "This instance is mutable. So, hash cant be created\n"
     ]
    }
   ],
   "source": [
    "try:\n",
    "    print(hash(f))\n",
    "except Exception as ex:\n",
    "    print(ex)\n",
    "    print(\"This instance is mutable. So, hash cant be created\")\n"
   ]
  },
  {
   "cell_type": "markdown",
   "metadata": {},
   "source": [
    "### Frozen dataclasses"
   ]
  },
  {
   "cell_type": "code",
   "execution_count": 20,
   "metadata": {},
   "outputs": [
    {
     "name": "stdout",
     "output_type": "stream",
     "text": [
      "f.x =12\n"
     ]
    }
   ],
   "source": [
    "@dataclass(frozen=True)\n",
    "class Foo2(object):\n",
    "    x: int\n",
    "\n",
    "f = Foo2(12)\n",
    "print(f\"{f.x =}\")"
   ]
  },
  {
   "cell_type": "code",
   "execution_count": 21,
   "metadata": {},
   "outputs": [
    {
     "ename": "FrozenInstanceError",
     "evalue": "cannot assign to field 'x'",
     "output_type": "error",
     "traceback": [
      "\u001b[0;31m---------------------------------------------------------------------------\u001b[0m",
      "\u001b[0;31mFrozenInstanceError\u001b[0m                       Traceback (most recent call last)",
      "Cell \u001b[0;32mIn[21], line 1\u001b[0m\n\u001b[0;32m----> 1\u001b[0m \u001b[43mf\u001b[49m\u001b[38;5;241;43m.\u001b[39;49m\u001b[43mx\u001b[49m \u001b[38;5;241m=\u001b[39m \u001b[38;5;241m1\u001b[39m\n",
      "File \u001b[0;32m<string>:4\u001b[0m, in \u001b[0;36m__setattr__\u001b[0;34m(self, name, value)\u001b[0m\n",
      "\u001b[0;31mFrozenInstanceError\u001b[0m: cannot assign to field 'x'"
     ]
    }
   ],
   "source": [
    "f.x = 1  # Cant modify the value from this class instance"
   ]
  },
  {
   "cell_type": "code",
   "execution_count": 22,
   "metadata": {},
   "outputs": [
    {
     "ename": "FrozenInstanceError",
     "evalue": "cannot assign to field 'y'",
     "output_type": "error",
     "traceback": [
      "\u001b[0;31m---------------------------------------------------------------------------\u001b[0m",
      "\u001b[0;31mFrozenInstanceError\u001b[0m                       Traceback (most recent call last)",
      "Cell \u001b[0;32mIn[22], line 1\u001b[0m\n\u001b[0;32m----> 1\u001b[0m \u001b[43mf\u001b[49m\u001b[38;5;241;43m.\u001b[39;49m\u001b[43my\u001b[49m \u001b[38;5;241m=\u001b[39m \u001b[38;5;241m12\u001b[39m  \u001b[38;5;66;03m# Adding new attrbute to instance\u001b[39;00m\n",
      "File \u001b[0;32m<string>:4\u001b[0m, in \u001b[0;36m__setattr__\u001b[0;34m(self, name, value)\u001b[0m\n",
      "\u001b[0;31mFrozenInstanceError\u001b[0m: cannot assign to field 'y'"
     ]
    }
   ],
   "source": [
    "f.y = 12  # Adding new attrbute to instance"
   ]
  },
  {
   "cell_type": "code",
   "execution_count": 23,
   "metadata": {},
   "outputs": [
    {
     "data": {
      "text/plain": [
       "-860454829093830431"
      ]
     },
     "execution_count": 23,
     "metadata": {},
     "output_type": "execute_result"
    }
   ],
   "source": [
    "hash(f)"
   ]
  },
  {
   "cell_type": "code",
   "execution_count": 24,
   "metadata": {},
   "outputs": [],
   "source": [
    "# NOTE: Namedtuples are also dataclasses, but immutable by default"
   ]
  },
  {
   "cell_type": "markdown",
   "metadata": {},
   "source": [
    "### default values in dataclasses"
   ]
  },
  {
   "cell_type": "code",
   "execution_count": 25,
   "metadata": {},
   "outputs": [
    {
     "name": "stdout",
     "output_type": "stream",
     "text": [
      "vars(b)   ={'title': 'Python', 'author': 'Mark Lutz', 'price': 20}\n",
      "asdict(b) ={'title': 'Python', 'author': 'Mark Lutz', 'price': 20}\n",
      "astuple(b)=('Python', 'Mark Lutz', 20)\n"
     ]
    }
   ],
   "source": [
    "from dataclasses import asdict, astuple, dataclass\n",
    "\n",
    "@dataclass\n",
    "class Book(object):\n",
    "    title: str\n",
    "    author: str\n",
    "    price: float = 20  # default value\n",
    "\n",
    "\n",
    "\n",
    "b = Book(\"Python\", \"Mark Lutz\")\n",
    "print(f\"{vars(b)   =}\")\n",
    "print(f\"{asdict(b) =}\")\n",
    "\n",
    "print(f\"{astuple(b)=}\")"
   ]
  },
  {
   "cell_type": "markdown",
   "metadata": {},
   "source": [
    "### fields in dataclasses"
   ]
  },
  {
   "cell_type": "code",
   "execution_count": 26,
   "metadata": {},
   "outputs": [],
   "source": [
    "import random\n",
    "from dataclasses import dataclass, field\n",
    "\n",
    "\n",
    "def random_price():\n",
    "    return random.randint(20, 100)\n",
    "\n",
    "\n",
    "@dataclass\n",
    "class Book(object):\n",
    "    title: str\n",
    "    author: str\n",
    "    price: float = field(default_factory=random_price)\n",
    "\n"
   ]
  },
  {
   "cell_type": "code",
   "execution_count": 27,
   "metadata": {},
   "outputs": [
    {
     "name": "stdout",
     "output_type": "stream",
     "text": [
      "{'title': 'Python programming', 'author': 'David Beazley', 'price': 44}\n",
      "{'title': 'Python programming', 'author': 'David Beazley', 'price': 53}\n"
     ]
    }
   ],
   "source": [
    "\n",
    "b = Book(\"Python programming\", \"David Beazley\")\n",
    "print(vars(b))\n",
    "\n",
    "b = Book(\"Python programming\", \"David Beazley\")\n",
    "print(vars(b))"
   ]
  },
  {
   "cell_type": "code",
   "execution_count": 28,
   "metadata": {},
   "outputs": [],
   "source": [
    "# Note that you cannot both set default_factory and a default value; the whole point is that\n",
    "# default_factory lets you run a function and, thus, provides the value dynamically, when the new instance is created."
   ]
  },
  {
   "cell_type": "markdown",
   "metadata": {},
   "source": [
    "### comparisions on dataclasses"
   ]
  },
  {
   "cell_type": "code",
   "execution_count": 29,
   "metadata": {},
   "outputs": [],
   "source": [
    "@dataclass(init=True, repr=True, eq=True, order=True, unsafe_hash=False, frozen=False)\n",
    "class Book(object):\n",
    "    title: str\n",
    "    author: str\n",
    "\n",
    "\n",
    "# order: By default __gt__ , __ge__, __lt__, __le__ methods will be generated.\n",
    "# If passed as False, they are omitted."
   ]
  },
  {
   "cell_type": "code",
   "execution_count": 30,
   "metadata": {},
   "outputs": [
    {
     "name": "stdout",
     "output_type": "stream",
     "text": [
      "b1 <= b2 < b3 =False\n"
     ]
    }
   ],
   "source": [
    "b1 = Book(\"python proa\", \"MArk Lutz\")\n",
    "b2 = Book(\"python asd\", \"MArk Lutz\")\n",
    "b3 = Book(\"python fd\", \"MArk Lutz\")\n",
    "\n",
    "print(f\"{b1 <= b2 < b3 =}\")"
   ]
  },
  {
   "cell_type": "markdown",
   "metadata": {},
   "source": [
    "### Dynamic classes"
   ]
  },
  {
   "cell_type": "code",
   "execution_count": 31,
   "metadata": {},
   "outputs": [
    {
     "name": "stdout",
     "output_type": "stream",
     "text": [
      "<class 'type'>\n"
     ]
    }
   ],
   "source": [
    "from dataclasses import dataclass, make_dataclass\n",
    "\n",
    "# creating a class\n",
    "Position = make_dataclass(\"Position\", [\"name\", \"lat\", \"lon\"])\n",
    "print(type(Position))"
   ]
  },
  {
   "cell_type": "code",
   "execution_count": 32,
   "metadata": {},
   "outputs": [
    {
     "name": "stdout",
     "output_type": "stream",
     "text": [
      "{'name': 'place', 'lat': 45, 'lon': 56}\n"
     ]
    }
   ],
   "source": [
    "p = Position(\"place\", 45, 56)\n",
    "print(vars(p))"
   ]
  },
  {
   "cell_type": "code",
   "execution_count": 33,
   "metadata": {},
   "outputs": [
    {
     "name": "stdout",
     "output_type": "stream",
     "text": [
      "{'name': 'place', 'lat': 45, 'lon': 56}\n"
     ]
    }
   ],
   "source": [
    "p = Position(\"place\", 45, 56)\n",
    "print(vars(p))\n"
   ]
  },
  {
   "cell_type": "code",
   "execution_count": 34,
   "metadata": {},
   "outputs": [
    {
     "name": "stdout",
     "output_type": "stream",
     "text": [
      "{'name': 3.14, 'value': 'somethng'}\n"
     ]
    }
   ],
   "source": [
    "from typing import Any\n",
    "\n",
    "\n",
    "@dataclass\n",
    "class WithoutExplicitTypes:\n",
    "    name: Any\n",
    "    value: Any = 42\n",
    "\n",
    "\n",
    "m = WithoutExplicitTypes(3.14, \"somethng\")\n",
    "print(vars(m))\n"
   ]
  },
  {
   "cell_type": "markdown",
   "metadata": {},
   "source": [
    "### composition pattern"
   ]
  },
  {
   "cell_type": "code",
   "execution_count": 35,
   "metadata": {},
   "outputs": [
    {
     "name": "stdout",
     "output_type": "stream",
     "text": [
      "Deck(cards=[PlayingCard(rank='Q', suit='Hearts'), PlayingCard(rank='A', suit='Spades')])\n",
      "{'cards': [PlayingCard(rank='Q', suit='Hearts'), PlayingCard(rank='A', suit='Spades')]}\n"
     ]
    }
   ],
   "source": [
    "from typing import List \n",
    "\n",
    "\n",
    "@dataclass\n",
    "class PlayingCard:\n",
    "    rank: str\n",
    "    suit: str\n",
    "\n",
    "\n",
    "@dataclass\n",
    "class Deck:\n",
    "    cards: List[PlayingCard]\n",
    "\n",
    "\n",
    "queen_of_hearts = PlayingCard(\"Q\", \"Hearts\")\n",
    "ace_of_spades = PlayingCard(\"A\", \"Spades\")\n",
    "\n",
    "two_cards = Deck([queen_of_hearts, ace_of_spades])\n",
    "print(two_cards)\n",
    "print(vars(two_cards))"
   ]
  },
  {
   "cell_type": "markdown",
   "metadata": {},
   "source": [
    "### Inheritance"
   ]
  },
  {
   "cell_type": "code",
   "execution_count": 36,
   "metadata": {},
   "outputs": [
    {
     "name": "stdout",
     "output_type": "stream",
     "text": [
      "Capital(name='Oslo', lon=10.8, lat=59.9, country='Norway')\n",
      "{'name': 'Oslo', 'lon': 10.8, 'lat': 59.9, 'country': 'Norway'}\n"
     ]
    }
   ],
   "source": [
    "@dataclass\n",
    "class Position:\n",
    "    name: str\n",
    "    lon: float\n",
    "    lat: float\n",
    "\n",
    "\n",
    "@dataclass\n",
    "class Capital(Position):\n",
    "    country: str\n",
    "\n",
    "\n",
    "c = Capital(\"Oslo\", 10.8, 59.9, \"Norway\")\n",
    "print(c)\n",
    "print(vars(c))\n"
   ]
  },
  {
   "cell_type": "markdown",
   "metadata": {},
   "source": [
    "### _keyword_only_dataclasses"
   ]
  },
  {
   "cell_type": "code",
   "execution_count": 42,
   "metadata": {},
   "outputs": [],
   "source": [
    "from dataclasses import KW_ONLY, dataclass, field\n",
    "from datetime import datetime\n",
    "\n",
    "\n",
    "@dataclass(kw_only=True)\n",
    "class Birthday:\n",
    "    name: str\n",
    "    birthday: datetime.date\n"
   ]
  },
  {
   "cell_type": "code",
   "execution_count": 43,
   "metadata": {},
   "outputs": [
    {
     "ename": "TypeError",
     "evalue": "Birthday.__init__() takes 1 positional argument but 3 were given",
     "output_type": "error",
     "traceback": [
      "\u001b[0;31m---------------------------------------------------------------------------\u001b[0m",
      "\u001b[0;31mTypeError\u001b[0m                                 Traceback (most recent call last)",
      "Cell \u001b[0;32mIn[43], line 1\u001b[0m\n\u001b[0;32m----> 1\u001b[0m b1 \u001b[38;5;241m=\u001b[39m \u001b[43mBirthday\u001b[49m\u001b[43m(\u001b[49m\u001b[38;5;124;43m\"\u001b[39;49m\u001b[38;5;124;43mGudoVan\u001b[39;49m\u001b[38;5;124;43m\"\u001b[39;49m\u001b[43m,\u001b[49m\u001b[43m \u001b[49m\u001b[43mdatetime\u001b[49m\u001b[38;5;241;43m.\u001b[39;49m\u001b[43mnow\u001b[49m\u001b[43m(\u001b[49m\u001b[43m)\u001b[49m\u001b[38;5;241;43m.\u001b[39;49m\u001b[43mdate\u001b[49m\u001b[43m(\u001b[49m\u001b[43m)\u001b[49m\u001b[43m)\u001b[49m\n\u001b[1;32m      2\u001b[0m b1\n",
      "\u001b[0;31mTypeError\u001b[0m: Birthday.__init__() takes 1 positional argument but 3 were given"
     ]
    }
   ],
   "source": [
    "b1 = Birthday(\"GudoVan\", datetime.now().date())"
   ]
  },
  {
   "cell_type": "code",
   "execution_count": 44,
   "metadata": {},
   "outputs": [
    {
     "data": {
      "text/plain": [
       "Birthday(name='GudoVan', birthday=datetime.date(2025, 1, 15))"
      ]
     },
     "execution_count": 44,
     "metadata": {},
     "output_type": "execute_result"
    }
   ],
   "source": [
    "b1 = Birthday(name = \"GudoVan\", birthday = datetime.now().date())\n",
    "b1"
   ]
  },
  {
   "cell_type": "code",
   "execution_count": 47,
   "metadata": {},
   "outputs": [
    {
     "data": {
      "text/plain": [
       "Birthday2(name='GudoVan', birthday=datetime.date(2025, 1, 15))"
      ]
     },
     "execution_count": 47,
     "metadata": {},
     "output_type": "execute_result"
    }
   ],
   "source": [
    "@dataclass\n",
    "class Birthday2:\n",
    "    name: str\n",
    "    birthday: datetime.date = field(kw_only=True)\n",
    "\n",
    "\n",
    "b2 = Birthday2(\"GudoVan\", birthday = datetime.now().date())\n",
    "b2"
   ]
  },
  {
   "cell_type": "code",
   "execution_count": 48,
   "metadata": {},
   "outputs": [
    {
     "data": {
      "text/plain": [
       "Point(x=10, y=20, z=0.0, t=0.0)"
      ]
     },
     "execution_count": 48,
     "metadata": {},
     "output_type": "execute_result"
    }
   ],
   "source": [
    "@dataclass\n",
    "class Point:\n",
    "    x: float\n",
    "    y: float\n",
    "    _: KW_ONLY\n",
    "    z: float = 0.0\n",
    "    t: float = 0.0\n",
    "\n",
    "\n",
    "p1 = Point(10, 20, )\n",
    "p1"
   ]
  },
  {
   "cell_type": "code",
   "execution_count": 49,
   "metadata": {},
   "outputs": [
    {
     "ename": "TypeError",
     "evalue": "Point.__init__() takes 3 positional arguments but 5 were given",
     "output_type": "error",
     "traceback": [
      "\u001b[0;31m---------------------------------------------------------------------------\u001b[0m",
      "\u001b[0;31mTypeError\u001b[0m                                 Traceback (most recent call last)",
      "Cell \u001b[0;32mIn[49], line 1\u001b[0m\n\u001b[0;32m----> 1\u001b[0m p1 \u001b[38;5;241m=\u001b[39m \u001b[43mPoint\u001b[49m\u001b[43m(\u001b[49m\u001b[38;5;241;43m10\u001b[39;49m\u001b[43m,\u001b[49m\u001b[43m \u001b[49m\u001b[38;5;241;43m20\u001b[39;49m\u001b[43m,\u001b[49m\u001b[43m \u001b[49m\u001b[38;5;241;43m30\u001b[39;49m\u001b[43m,\u001b[49m\u001b[43m \u001b[49m\u001b[38;5;241;43m40\u001b[39;49m\u001b[43m)\u001b[49m\n\u001b[1;32m      2\u001b[0m p1\n",
      "\u001b[0;31mTypeError\u001b[0m: Point.__init__() takes 3 positional arguments but 5 were given"
     ]
    }
   ],
   "source": [
    "p1 = Point(10, 20, 30, 40)\n",
    "p1"
   ]
  },
  {
   "cell_type": "code",
   "execution_count": 50,
   "metadata": {},
   "outputs": [
    {
     "data": {
      "text/plain": [
       "Point(x=10, y=20, z=30, t=40)"
      ]
     },
     "execution_count": 50,
     "metadata": {},
     "output_type": "execute_result"
    }
   ],
   "source": [
    "p1 = Point(10, 20, z=30, t=40)\n",
    "p1"
   ]
  },
  {
   "cell_type": "code",
   "execution_count": null,
   "metadata": {},
   "outputs": [],
   "source": []
  }
 ],
 "metadata": {
  "kernelspec": {
   "display_name": ".venv",
   "language": "python",
   "name": "python3"
  },
  "language_info": {
   "codemirror_mode": {
    "name": "ipython",
    "version": 3
   },
   "file_extension": ".py",
   "mimetype": "text/x-python",
   "name": "python",
   "nbconvert_exporter": "python",
   "pygments_lexer": "ipython3",
   "version": "3.12.1"
  }
 },
 "nbformat": 4,
 "nbformat_minor": 2
}
