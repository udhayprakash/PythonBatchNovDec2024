{
 "cells": [
  {
   "cell_type": "markdown",
   "metadata": {},
   "source": [
    "# Regular Expressions"
   ]
  },
  {
   "cell_type": "code",
   "execution_count": 1,
   "metadata": {},
   "outputs": [],
   "source": [
    "import re"
   ]
  },
  {
   "cell_type": "code",
   "execution_count": 2,
   "metadata": {},
   "outputs": [
    {
     "data": {
      "text/plain": [
       "<module 're' from '/usr/local/python/3.12.1/lib/python3.12/re/__init__.py'>"
      ]
     },
     "execution_count": 2,
     "metadata": {},
     "output_type": "execute_result"
    }
   ],
   "source": [
    "re"
   ]
  },
  {
   "cell_type": "code",
   "execution_count": 3,
   "metadata": {},
   "outputs": [
    {
     "data": {
      "text/plain": [
       "['A',\n",
       " 'ASCII',\n",
       " 'DEBUG',\n",
       " 'DOTALL',\n",
       " 'I',\n",
       " 'IGNORECASE',\n",
       " 'L',\n",
       " 'LOCALE',\n",
       " 'M',\n",
       " 'MULTILINE',\n",
       " 'Match',\n",
       " 'NOFLAG',\n",
       " 'Pattern',\n",
       " 'RegexFlag',\n",
       " 'S',\n",
       " 'Scanner',\n",
       " 'T',\n",
       " 'TEMPLATE',\n",
       " 'U',\n",
       " 'UNICODE',\n",
       " 'VERBOSE',\n",
       " 'X',\n",
       " '_MAXCACHE',\n",
       " '_MAXCACHE2',\n",
       " '__all__',\n",
       " '__builtins__',\n",
       " '__cached__',\n",
       " '__doc__',\n",
       " '__file__',\n",
       " '__loader__',\n",
       " '__name__',\n",
       " '__package__',\n",
       " '__path__',\n",
       " '__spec__',\n",
       " '__version__',\n",
       " '_cache',\n",
       " '_cache2',\n",
       " '_casefix',\n",
       " '_compile',\n",
       " '_compile_template',\n",
       " '_compiler',\n",
       " '_constants',\n",
       " '_parser',\n",
       " '_pickle',\n",
       " '_special_chars_map',\n",
       " '_sre',\n",
       " 'compile',\n",
       " 'copyreg',\n",
       " 'enum',\n",
       " 'error',\n",
       " 'escape',\n",
       " 'findall',\n",
       " 'finditer',\n",
       " 'fullmatch',\n",
       " 'functools',\n",
       " 'match',\n",
       " 'purge',\n",
       " 'search',\n",
       " 'split',\n",
       " 'sub',\n",
       " 'subn',\n",
       " 'template']"
      ]
     },
     "execution_count": 3,
     "metadata": {},
     "output_type": "execute_result"
    }
   ],
   "source": [
    "dir(re)"
   ]
  },
  {
   "cell_type": "code",
   "execution_count": 4,
   "metadata": {},
   "outputs": [
    {
     "name": "stdout",
     "output_type": "stream",
     "text": [
      "Help on package re:\n",
      "\n",
      "NAME\n",
      "    re - Support for regular expressions (RE).\n",
      "\n",
      "MODULE REFERENCE\n",
      "    https://docs.python.org/3.12/library/re.html\n",
      "\n",
      "    The following documentation is automatically generated from the Python\n",
      "    source files.  It may be incomplete, incorrect or include features that\n",
      "    are considered implementation detail and may vary between Python\n",
      "    implementations.  When in doubt, consult the module reference at the\n",
      "    location listed above.\n",
      "\n",
      "DESCRIPTION\n",
      "    This module provides regular expression matching operations similar to\n",
      "    those found in Perl.  It supports both 8-bit and Unicode strings; both\n",
      "    the pattern and the strings being processed can contain null bytes and\n",
      "    characters outside the US ASCII range.\n",
      "\n",
      "    Regular expressions can contain both special and ordinary characters.\n",
      "    Most ordinary characters, like \"A\", \"a\", or \"0\", are the simplest\n",
      "    regular expressions; they simply match themselves.  You can\n",
      "    concatenate ordinary characters, so last matches the string 'last'.\n",
      "\n",
      "    The special characters are:\n",
      "        \".\"      Matches any character except a newline.\n",
      "        \"^\"      Matches the start of the string.\n",
      "        \"$\"      Matches the end of the string or just before the newline at\n",
      "                 the end of the string.\n",
      "        \"*\"      Matches 0 or more (greedy) repetitions of the preceding RE.\n",
      "                 Greedy means that it will match as many repetitions as possible.\n",
      "        \"+\"      Matches 1 or more (greedy) repetitions of the preceding RE.\n",
      "        \"?\"      Matches 0 or 1 (greedy) of the preceding RE.\n",
      "        *?,+?,?? Non-greedy versions of the previous three special characters.\n",
      "        {m,n}    Matches from m to n repetitions of the preceding RE.\n",
      "        {m,n}?   Non-greedy version of the above.\n",
      "        \"\\\\\"     Either escapes special characters or signals a special sequence.\n",
      "        []       Indicates a set of characters.\n",
      "                 A \"^\" as the first character indicates a complementing set.\n",
      "        \"|\"      A|B, creates an RE that will match either A or B.\n",
      "        (...)    Matches the RE inside the parentheses.\n",
      "                 The contents can be retrieved or matched later in the string.\n",
      "        (?aiLmsux) The letters set the corresponding flags defined below.\n",
      "        (?:...)  Non-grouping version of regular parentheses.\n",
      "        (?P<name>...) The substring matched by the group is accessible by name.\n",
      "        (?P=name)     Matches the text matched earlier by the group named name.\n",
      "        (?#...)  A comment; ignored.\n",
      "        (?=...)  Matches if ... matches next, but doesn't consume the string.\n",
      "        (?!...)  Matches if ... doesn't match next.\n",
      "        (?<=...) Matches if preceded by ... (must be fixed length).\n",
      "        (?<!...) Matches if not preceded by ... (must be fixed length).\n",
      "        (?(id/name)yes|no) Matches yes pattern if the group with id/name matched,\n",
      "                           the (optional) no pattern otherwise.\n",
      "\n",
      "    The special sequences consist of \"\\\\\" and a character from the list\n",
      "    below.  If the ordinary character is not on the list, then the\n",
      "    resulting RE will match the second character.\n",
      "        \\number  Matches the contents of the group of the same number.\n",
      "        \\A       Matches only at the start of the string.\n",
      "        \\Z       Matches only at the end of the string.\n",
      "        \\b       Matches the empty string, but only at the start or end of a word.\n",
      "        \\B       Matches the empty string, but not at the start or end of a word.\n",
      "        \\d       Matches any decimal digit; equivalent to the set [0-9] in\n",
      "                 bytes patterns or string patterns with the ASCII flag.\n",
      "                 In string patterns without the ASCII flag, it will match the whole\n",
      "                 range of Unicode digits.\n",
      "        \\D       Matches any non-digit character; equivalent to [^\\d].\n",
      "        \\s       Matches any whitespace character; equivalent to [ \\t\\n\\r\\f\\v] in\n",
      "                 bytes patterns or string patterns with the ASCII flag.\n",
      "                 In string patterns without the ASCII flag, it will match the whole\n",
      "                 range of Unicode whitespace characters.\n",
      "        \\S       Matches any non-whitespace character; equivalent to [^\\s].\n",
      "        \\w       Matches any alphanumeric character; equivalent to [a-zA-Z0-9_]\n",
      "                 in bytes patterns or string patterns with the ASCII flag.\n",
      "                 In string patterns without the ASCII flag, it will match the\n",
      "                 range of Unicode alphanumeric characters (letters plus digits\n",
      "                 plus underscore).\n",
      "                 With LOCALE, it will match the set [0-9_] plus characters defined\n",
      "                 as letters for the current locale.\n",
      "        \\W       Matches the complement of \\w.\n",
      "        \\\\       Matches a literal backslash.\n",
      "\n",
      "    This module exports the following functions:\n",
      "        match     Match a regular expression pattern to the beginning of a string.\n",
      "        fullmatch Match a regular expression pattern to all of a string.\n",
      "        search    Search a string for the presence of a pattern.\n",
      "        sub       Substitute occurrences of a pattern found in a string.\n",
      "        subn      Same as sub, but also return the number of substitutions made.\n",
      "        split     Split a string by the occurrences of a pattern.\n",
      "        findall   Find all occurrences of a pattern in a string.\n",
      "        finditer  Return an iterator yielding a Match object for each match.\n",
      "        compile   Compile a pattern into a Pattern object.\n",
      "        purge     Clear the regular expression cache.\n",
      "        escape    Backslash all non-alphanumerics in a string.\n",
      "\n",
      "    Each function other than purge and escape can take an optional 'flags' argument\n",
      "    consisting of one or more of the following module constants, joined by \"|\".\n",
      "    A, L, and U are mutually exclusive.\n",
      "        A  ASCII       For string patterns, make \\w, \\W, \\b, \\B, \\d, \\D\n",
      "                       match the corresponding ASCII character categories\n",
      "                       (rather than the whole Unicode categories, which is the\n",
      "                       default).\n",
      "                       For bytes patterns, this flag is the only available\n",
      "                       behaviour and needn't be specified.\n",
      "        I  IGNORECASE  Perform case-insensitive matching.\n",
      "        L  LOCALE      Make \\w, \\W, \\b, \\B, dependent on the current locale.\n",
      "        M  MULTILINE   \"^\" matches the beginning of lines (after a newline)\n",
      "                       as well as the string.\n",
      "                       \"$\" matches the end of lines (before a newline) as well\n",
      "                       as the end of the string.\n",
      "        S  DOTALL      \".\" matches any character at all, including the newline.\n",
      "        X  VERBOSE     Ignore whitespace and comments for nicer looking RE's.\n",
      "        U  UNICODE     For compatibility only. Ignored for string patterns (it\n",
      "                       is the default), and forbidden for bytes patterns.\n",
      "\n",
      "    This module also defines an exception 'error'.\n",
      "\n",
      "PACKAGE CONTENTS\n",
      "    _casefix\n",
      "    _compiler\n",
      "    _constants\n",
      "    _parser\n",
      "\n",
      "CLASSES\n",
      "    builtins.Exception(builtins.BaseException)\n",
      "        error\n",
      "    builtins.object\n",
      "        Match\n",
      "        Pattern\n",
      "    enum.IntFlag(builtins.int, enum.ReprEnum, enum.Flag)\n",
      "        RegexFlag\n",
      "\n",
      "    class Match(builtins.object)\n",
      "     |  The result of re.match() and re.search().\n",
      "     |  Match objects always have a boolean value of True.\n",
      "     |\n",
      "     |  Methods defined here:\n",
      "     |\n",
      "     |  __copy__(self, /)\n",
      "     |\n",
      "     |  __deepcopy__(self, memo, /)\n",
      "     |\n",
      "     |  __getitem__(self, key, /)\n",
      "     |      Return self[key].\n",
      "     |\n",
      "     |  __repr__(self, /)\n",
      "     |      Return repr(self).\n",
      "     |\n",
      "     |  end(self, group=0, /)\n",
      "     |      Return index of the end of the substring matched by group.\n",
      "     |\n",
      "     |  expand(self, /, template)\n",
      "     |      Return the string obtained by doing backslash substitution on the string template, as done by the sub() method.\n",
      "     |\n",
      "     |  group(...)\n",
      "     |      group([group1, ...]) -> str or tuple.\n",
      "     |      Return subgroup(s) of the match by indices or names.\n",
      "     |      For 0 returns the entire match.\n",
      "     |\n",
      "     |  groupdict(self, /, default=None)\n",
      "     |      Return a dictionary containing all the named subgroups of the match, keyed by the subgroup name.\n",
      "     |\n",
      "     |      default\n",
      "     |        Is used for groups that did not participate in the match.\n",
      "     |\n",
      "     |  groups(self, /, default=None)\n",
      "     |      Return a tuple containing all the subgroups of the match, from 1.\n",
      "     |\n",
      "     |      default\n",
      "     |        Is used for groups that did not participate in the match.\n",
      "     |\n",
      "     |  span(self, group=0, /)\n",
      "     |      For match object m, return the 2-tuple (m.start(group), m.end(group)).\n",
      "     |\n",
      "     |  start(self, group=0, /)\n",
      "     |      Return index of the start of the substring matched by group.\n",
      "     |\n",
      "     |  ----------------------------------------------------------------------\n",
      "     |  Class methods defined here:\n",
      "     |\n",
      "     |  __class_getitem__(...) from builtins.type\n",
      "     |      See PEP 585\n",
      "     |\n",
      "     |  ----------------------------------------------------------------------\n",
      "     |  Data descriptors defined here:\n",
      "     |\n",
      "     |  endpos\n",
      "     |      The index into the string beyond which the RE engine will not go.\n",
      "     |\n",
      "     |  lastgroup\n",
      "     |      The name of the last matched capturing group.\n",
      "     |\n",
      "     |  lastindex\n",
      "     |      The integer index of the last matched capturing group.\n",
      "     |\n",
      "     |  pos\n",
      "     |      The index into the string at which the RE engine started looking for a match.\n",
      "     |\n",
      "     |  re\n",
      "     |      The regular expression object.\n",
      "     |\n",
      "     |  regs\n",
      "     |\n",
      "     |  string\n",
      "     |      The string passed to match() or search().\n",
      "\n",
      "    class Pattern(builtins.object)\n",
      "     |  Compiled regular expression object.\n",
      "     |\n",
      "     |  Methods defined here:\n",
      "     |\n",
      "     |  __copy__(self, /)\n",
      "     |\n",
      "     |  __deepcopy__(self, memo, /)\n",
      "     |\n",
      "     |  __eq__(self, value, /)\n",
      "     |      Return self==value.\n",
      "     |\n",
      "     |  __ge__(self, value, /)\n",
      "     |      Return self>=value.\n",
      "     |\n",
      "     |  __gt__(self, value, /)\n",
      "     |      Return self>value.\n",
      "     |\n",
      "     |  __hash__(self, /)\n",
      "     |      Return hash(self).\n",
      "     |\n",
      "     |  __le__(self, value, /)\n",
      "     |      Return self<=value.\n",
      "     |\n",
      "     |  __lt__(self, value, /)\n",
      "     |      Return self<value.\n",
      "     |\n",
      "     |  __ne__(self, value, /)\n",
      "     |      Return self!=value.\n",
      "     |\n",
      "     |  __repr__(self, /)\n",
      "     |      Return repr(self).\n",
      "     |\n",
      "     |  findall(self, /, string, pos=0, endpos=9223372036854775807)\n",
      "     |      Return a list of all non-overlapping matches of pattern in string.\n",
      "     |\n",
      "     |  finditer(self, /, string, pos=0, endpos=9223372036854775807)\n",
      "     |      Return an iterator over all non-overlapping matches for the RE pattern in string.\n",
      "     |\n",
      "     |      For each match, the iterator returns a match object.\n",
      "     |\n",
      "     |  fullmatch(self, /, string, pos=0, endpos=9223372036854775807)\n",
      "     |      Matches against all of the string.\n",
      "     |\n",
      "     |  match(self, /, string, pos=0, endpos=9223372036854775807)\n",
      "     |      Matches zero or more characters at the beginning of the string.\n",
      "     |\n",
      "     |  scanner(self, /, string, pos=0, endpos=9223372036854775807)\n",
      "     |\n",
      "     |  search(self, /, string, pos=0, endpos=9223372036854775807)\n",
      "     |      Scan through string looking for a match, and return a corresponding match object instance.\n",
      "     |\n",
      "     |      Return None if no position in the string matches.\n",
      "     |\n",
      "     |  split(self, /, string, maxsplit=0)\n",
      "     |      Split string by the occurrences of pattern.\n",
      "     |\n",
      "     |  sub(self, /, repl, string, count=0)\n",
      "     |      Return the string obtained by replacing the leftmost non-overlapping occurrences of pattern in string by the replacement repl.\n",
      "     |\n",
      "     |  subn(self, /, repl, string, count=0)\n",
      "     |      Return the tuple (new_string, number_of_subs_made) found by replacing the leftmost non-overlapping occurrences of pattern with the replacement repl.\n",
      "     |\n",
      "     |  ----------------------------------------------------------------------\n",
      "     |  Class methods defined here:\n",
      "     |\n",
      "     |  __class_getitem__(...) from builtins.type\n",
      "     |      See PEP 585\n",
      "     |\n",
      "     |  ----------------------------------------------------------------------\n",
      "     |  Data descriptors defined here:\n",
      "     |\n",
      "     |  flags\n",
      "     |      The regex matching flags.\n",
      "     |\n",
      "     |  groupindex\n",
      "     |      A dictionary mapping group names to group numbers.\n",
      "     |\n",
      "     |  groups\n",
      "     |      The number of capturing groups in the pattern.\n",
      "     |\n",
      "     |  pattern\n",
      "     |      The pattern string from which the RE object was compiled.\n",
      "\n",
      "    class RegexFlag(enum.IntFlag)\n",
      "     |  RegexFlag(*values)\n",
      "     |\n",
      "     |  An enumeration.\n",
      "     |\n",
      "     |  Method resolution order:\n",
      "     |      RegexFlag\n",
      "     |      enum.IntFlag\n",
      "     |      builtins.int\n",
      "     |      enum.ReprEnum\n",
      "     |      enum.Flag\n",
      "     |      enum.Enum\n",
      "     |      builtins.object\n",
      "     |\n",
      "     |  Methods defined here:\n",
      "     |\n",
      "     |  __and__(self, other)\n",
      "     |\n",
      "     |  __format__(self, format_spec, /)\n",
      "     |      Convert to a string according to format_spec.\n",
      "     |\n",
      "     |  __invert__(self)\n",
      "     |\n",
      "     |  __new__(cls, value)\n",
      "     |      Create and return a new object.  See help(type) for accurate signature.\n",
      "     |\n",
      "     |  __or__(self, other)\n",
      "     |      Return self|value.\n",
      "     |\n",
      "     |  __rand__ = __and__(self, other)\n",
      "     |\n",
      "     |  __repr__ = global_flag_repr(self)\n",
      "     |      use module.flag_name instead of class.flag_name\n",
      "     |\n",
      "     |      the module is the last module in case of a multi-module name\n",
      "     |\n",
      "     |  __ror__ = __or__(self, other)\n",
      "     |\n",
      "     |  __rxor__ = __xor__(self, other)\n",
      "     |\n",
      "     |  __str__(self, /)\n",
      "     |      Return str(self).\n",
      "     |\n",
      "     |  __xor__(self, other)\n",
      "     |\n",
      "     |  ----------------------------------------------------------------------\n",
      "     |  Data and other attributes defined here:\n",
      "     |\n",
      "     |  ASCII = re.ASCII\n",
      "     |\n",
      "     |  DEBUG = re.DEBUG\n",
      "     |\n",
      "     |  DOTALL = re.DOTALL\n",
      "     |\n",
      "     |  IGNORECASE = re.IGNORECASE\n",
      "     |\n",
      "     |  LOCALE = re.LOCALE\n",
      "     |\n",
      "     |  MULTILINE = re.MULTILINE\n",
      "     |\n",
      "     |  TEMPLATE = re.TEMPLATE\n",
      "     |\n",
      "     |  UNICODE = re.UNICODE\n",
      "     |\n",
      "     |  VERBOSE = re.VERBOSE\n",
      "     |\n",
      "     |  ----------------------------------------------------------------------\n",
      "     |  Methods inherited from builtins.int:\n",
      "     |\n",
      "     |  __abs__(self, /)\n",
      "     |      abs(self)\n",
      "     |\n",
      "     |  __add__(self, value, /)\n",
      "     |      Return self+value.\n",
      "     |\n",
      "     |  __bool__(self, /)\n",
      "     |      True if self else False\n",
      "     |\n",
      "     |  __ceil__(...)\n",
      "     |      Ceiling of an Integral returns itself.\n",
      "     |\n",
      "     |  __divmod__(self, value, /)\n",
      "     |      Return divmod(self, value).\n",
      "     |\n",
      "     |  __eq__(self, value, /)\n",
      "     |      Return self==value.\n",
      "     |\n",
      "     |  __float__(self, /)\n",
      "     |      float(self)\n",
      "     |\n",
      "     |  __floor__(...)\n",
      "     |      Flooring an Integral returns itself.\n",
      "     |\n",
      "     |  __floordiv__(self, value, /)\n",
      "     |      Return self//value.\n",
      "     |\n",
      "     |  __ge__(self, value, /)\n",
      "     |      Return self>=value.\n",
      "     |\n",
      "     |  __getattribute__(self, name, /)\n",
      "     |      Return getattr(self, name).\n",
      "     |\n",
      "     |  __getnewargs__(self, /)\n",
      "     |\n",
      "     |  __gt__(self, value, /)\n",
      "     |      Return self>value.\n",
      "     |\n",
      "     |  __hash__(self, /)\n",
      "     |      Return hash(self).\n",
      "     |\n",
      "     |  __index__(self, /)\n",
      "     |      Return self converted to an integer, if self is suitable for use as an index into a list.\n",
      "     |\n",
      "     |  __int__(self, /)\n",
      "     |      int(self)\n",
      "     |\n",
      "     |  __le__(self, value, /)\n",
      "     |      Return self<=value.\n",
      "     |\n",
      "     |  __lshift__(self, value, /)\n",
      "     |      Return self<<value.\n",
      "     |\n",
      "     |  __lt__(self, value, /)\n",
      "     |      Return self<value.\n",
      "     |\n",
      "     |  __mod__(self, value, /)\n",
      "     |      Return self%value.\n",
      "     |\n",
      "     |  __mul__(self, value, /)\n",
      "     |      Return self*value.\n",
      "     |\n",
      "     |  __ne__(self, value, /)\n",
      "     |      Return self!=value.\n",
      "     |\n",
      "     |  __neg__(self, /)\n",
      "     |      -self\n",
      "     |\n",
      "     |  __pos__(self, /)\n",
      "     |      +self\n",
      "     |\n",
      "     |  __pow__(self, value, mod=None, /)\n",
      "     |      Return pow(self, value, mod).\n",
      "     |\n",
      "     |  __radd__(self, value, /)\n",
      "     |      Return value+self.\n",
      "     |\n",
      "     |  __rdivmod__(self, value, /)\n",
      "     |      Return divmod(value, self).\n",
      "     |\n",
      "     |  __rfloordiv__(self, value, /)\n",
      "     |      Return value//self.\n",
      "     |\n",
      "     |  __rlshift__(self, value, /)\n",
      "     |      Return value<<self.\n",
      "     |\n",
      "     |  __rmod__(self, value, /)\n",
      "     |      Return value%self.\n",
      "     |\n",
      "     |  __rmul__(self, value, /)\n",
      "     |      Return value*self.\n",
      "     |\n",
      "     |  __round__(...)\n",
      "     |      Rounding an Integral returns itself.\n",
      "     |\n",
      "     |      Rounding with an ndigits argument also returns an integer.\n",
      "     |\n",
      "     |  __rpow__(self, value, mod=None, /)\n",
      "     |      Return pow(value, self, mod).\n",
      "     |\n",
      "     |  __rrshift__(self, value, /)\n",
      "     |      Return value>>self.\n",
      "     |\n",
      "     |  __rshift__(self, value, /)\n",
      "     |      Return self>>value.\n",
      "     |\n",
      "     |  __rsub__(self, value, /)\n",
      "     |      Return value-self.\n",
      "     |\n",
      "     |  __rtruediv__(self, value, /)\n",
      "     |      Return value/self.\n",
      "     |\n",
      "     |  __sizeof__(self, /)\n",
      "     |      Returns size in memory, in bytes.\n",
      "     |\n",
      "     |  __sub__(self, value, /)\n",
      "     |      Return self-value.\n",
      "     |\n",
      "     |  __truediv__(self, value, /)\n",
      "     |      Return self/value.\n",
      "     |\n",
      "     |  __trunc__(...)\n",
      "     |      Truncating an Integral returns itself.\n",
      "     |\n",
      "     |  as_integer_ratio(self, /)\n",
      "     |      Return a pair of integers, whose ratio is equal to the original int.\n",
      "     |\n",
      "     |      The ratio is in lowest terms and has a positive denominator.\n",
      "     |\n",
      "     |      >>> (10).as_integer_ratio()\n",
      "     |      (10, 1)\n",
      "     |      >>> (-10).as_integer_ratio()\n",
      "     |      (-10, 1)\n",
      "     |      >>> (0).as_integer_ratio()\n",
      "     |      (0, 1)\n",
      "     |\n",
      "     |  bit_count(self, /)\n",
      "     |      Number of ones in the binary representation of the absolute value of self.\n",
      "     |\n",
      "     |      Also known as the population count.\n",
      "     |\n",
      "     |      >>> bin(13)\n",
      "     |      '0b1101'\n",
      "     |      >>> (13).bit_count()\n",
      "     |      3\n",
      "     |\n",
      "     |  bit_length(self, /)\n",
      "     |      Number of bits necessary to represent self in binary.\n",
      "     |\n",
      "     |      >>> bin(37)\n",
      "     |      '0b100101'\n",
      "     |      >>> (37).bit_length()\n",
      "     |      6\n",
      "     |\n",
      "     |  conjugate(...)\n",
      "     |      Returns self, the complex conjugate of any int.\n",
      "     |\n",
      "     |  is_integer(self, /)\n",
      "     |      Returns True. Exists for duck type compatibility with float.is_integer.\n",
      "     |\n",
      "     |  to_bytes(self, /, length=1, byteorder='big', *, signed=False)\n",
      "     |      Return an array of bytes representing an integer.\n",
      "     |\n",
      "     |      length\n",
      "     |        Length of bytes object to use.  An OverflowError is raised if the\n",
      "     |        integer is not representable with the given number of bytes.  Default\n",
      "     |        is length 1.\n",
      "     |      byteorder\n",
      "     |        The byte order used to represent the integer.  If byteorder is 'big',\n",
      "     |        the most significant byte is at the beginning of the byte array.  If\n",
      "     |        byteorder is 'little', the most significant byte is at the end of the\n",
      "     |        byte array.  To request the native byte order of the host system, use\n",
      "     |        `sys.byteorder' as the byte order value.  Default is to use 'big'.\n",
      "     |      signed\n",
      "     |        Determines whether two's complement is used to represent the integer.\n",
      "     |        If signed is False and a negative integer is given, an OverflowError\n",
      "     |        is raised.\n",
      "     |\n",
      "     |  ----------------------------------------------------------------------\n",
      "     |  Class methods inherited from builtins.int:\n",
      "     |\n",
      "     |  from_bytes(bytes, byteorder='big', *, signed=False) from enum.EnumType\n",
      "     |      Return the integer represented by the given array of bytes.\n",
      "     |\n",
      "     |      bytes\n",
      "     |        Holds the array of bytes to convert.  The argument must either\n",
      "     |        support the buffer protocol or be an iterable object producing bytes.\n",
      "     |        Bytes and bytearray are examples of built-in objects that support the\n",
      "     |        buffer protocol.\n",
      "     |      byteorder\n",
      "     |        The byte order used to represent the integer.  If byteorder is 'big',\n",
      "     |        the most significant byte is at the beginning of the byte array.  If\n",
      "     |        byteorder is 'little', the most significant byte is at the end of the\n",
      "     |        byte array.  To request the native byte order of the host system, use\n",
      "     |        `sys.byteorder' as the byte order value.  Default is to use 'big'.\n",
      "     |      signed\n",
      "     |        Indicates whether two's complement is used to represent the integer.\n",
      "     |\n",
      "     |  ----------------------------------------------------------------------\n",
      "     |  Data descriptors inherited from builtins.int:\n",
      "     |\n",
      "     |  denominator\n",
      "     |      the denominator of a rational number in lowest terms\n",
      "     |\n",
      "     |  imag\n",
      "     |      the imaginary part of a complex number\n",
      "     |\n",
      "     |  numerator\n",
      "     |      the numerator of a rational number in lowest terms\n",
      "     |\n",
      "     |  real\n",
      "     |      the real part of a complex number\n",
      "     |\n",
      "     |  ----------------------------------------------------------------------\n",
      "     |  Methods inherited from enum.Flag:\n",
      "     |\n",
      "     |  __contains__(self, other)\n",
      "     |      Returns True if self has at least the same flags set as other.\n",
      "     |\n",
      "     |  __iter__(self)\n",
      "     |      Returns flags in definition order.\n",
      "     |\n",
      "     |  __len__(self)\n",
      "     |      Return the number of members (no aliases)\n",
      "     |\n",
      "     |  ----------------------------------------------------------------------\n",
      "     |  Methods inherited from enum.Enum:\n",
      "     |\n",
      "     |  __dir__(self)\n",
      "     |      Returns public methods and other interesting attributes.\n",
      "     |\n",
      "     |  __init__(self, *args, **kwds)\n",
      "     |      Initialize self.  See help(type(self)) for accurate signature.\n",
      "     |\n",
      "     |  __reduce_ex__(self, proto)\n",
      "     |      Helper for pickle.\n",
      "     |\n",
      "     |  ----------------------------------------------------------------------\n",
      "     |  Data descriptors inherited from enum.Enum:\n",
      "     |\n",
      "     |  name\n",
      "     |      The name of the Enum member.\n",
      "     |\n",
      "     |  value\n",
      "     |      The value of the Enum member.\n",
      "     |\n",
      "     |  ----------------------------------------------------------------------\n",
      "     |  Methods inherited from enum.EnumType:\n",
      "     |\n",
      "     |  __getitem__(name) from enum.EnumType\n",
      "     |      Return the member matching `name`.\n",
      "     |\n",
      "     |  ----------------------------------------------------------------------\n",
      "     |  Readonly properties inherited from enum.EnumType:\n",
      "     |\n",
      "     |  __members__\n",
      "     |      Returns a mapping of member name->value.\n",
      "     |\n",
      "     |      This mapping lists all enum members, including aliases. Note that this\n",
      "     |      is a read-only view of the internal mapping.\n",
      "\n",
      "    class error(builtins.Exception)\n",
      "     |  error(msg, pattern=None, pos=None)\n",
      "     |\n",
      "     |  Exception raised for invalid regular expressions.\n",
      "     |\n",
      "     |  Attributes:\n",
      "     |\n",
      "     |      msg: The unformatted error message\n",
      "     |      pattern: The regular expression pattern\n",
      "     |      pos: The index in the pattern where compilation failed (may be None)\n",
      "     |      lineno: The line corresponding to pos (may be None)\n",
      "     |      colno: The column corresponding to pos (may be None)\n",
      "     |\n",
      "     |  Method resolution order:\n",
      "     |      error\n",
      "     |      builtins.Exception\n",
      "     |      builtins.BaseException\n",
      "     |      builtins.object\n",
      "     |\n",
      "     |  Methods defined here:\n",
      "     |\n",
      "     |  __init__(self, msg, pattern=None, pos=None)\n",
      "     |      Initialize self.  See help(type(self)) for accurate signature.\n",
      "     |\n",
      "     |  ----------------------------------------------------------------------\n",
      "     |  Data descriptors defined here:\n",
      "     |\n",
      "     |  __weakref__\n",
      "     |      list of weak references to the object\n",
      "     |\n",
      "     |  ----------------------------------------------------------------------\n",
      "     |  Static methods inherited from builtins.Exception:\n",
      "     |\n",
      "     |  __new__(*args, **kwargs) from builtins.type\n",
      "     |      Create and return a new object.  See help(type) for accurate signature.\n",
      "     |\n",
      "     |  ----------------------------------------------------------------------\n",
      "     |  Methods inherited from builtins.BaseException:\n",
      "     |\n",
      "     |  __delattr__(self, name, /)\n",
      "     |      Implement delattr(self, name).\n",
      "     |\n",
      "     |  __getattribute__(self, name, /)\n",
      "     |      Return getattr(self, name).\n",
      "     |\n",
      "     |  __reduce__(...)\n",
      "     |      Helper for pickle.\n",
      "     |\n",
      "     |  __repr__(self, /)\n",
      "     |      Return repr(self).\n",
      "     |\n",
      "     |  __setattr__(self, name, value, /)\n",
      "     |      Implement setattr(self, name, value).\n",
      "     |\n",
      "     |  __setstate__(...)\n",
      "     |\n",
      "     |  __str__(self, /)\n",
      "     |      Return str(self).\n",
      "     |\n",
      "     |  add_note(...)\n",
      "     |      Exception.add_note(note) --\n",
      "     |      add a note to the exception\n",
      "     |\n",
      "     |  with_traceback(...)\n",
      "     |      Exception.with_traceback(tb) --\n",
      "     |      set self.__traceback__ to tb and return self.\n",
      "     |\n",
      "     |  ----------------------------------------------------------------------\n",
      "     |  Data descriptors inherited from builtins.BaseException:\n",
      "     |\n",
      "     |  __cause__\n",
      "     |      exception cause\n",
      "     |\n",
      "     |  __context__\n",
      "     |      exception context\n",
      "     |\n",
      "     |  __dict__\n",
      "     |\n",
      "     |  __suppress_context__\n",
      "     |\n",
      "     |  __traceback__\n",
      "     |\n",
      "     |  args\n",
      "\n",
      "FUNCTIONS\n",
      "    compile(pattern, flags=0)\n",
      "        Compile a regular expression pattern, returning a Pattern object.\n",
      "\n",
      "    escape(pattern)\n",
      "        Escape special characters in a string.\n",
      "\n",
      "    findall(pattern, string, flags=0)\n",
      "        Return a list of all non-overlapping matches in the string.\n",
      "\n",
      "        If one or more capturing groups are present in the pattern, return\n",
      "        a list of groups; this will be a list of tuples if the pattern\n",
      "        has more than one group.\n",
      "\n",
      "        Empty matches are included in the result.\n",
      "\n",
      "    finditer(pattern, string, flags=0)\n",
      "        Return an iterator over all non-overlapping matches in the\n",
      "        string.  For each match, the iterator returns a Match object.\n",
      "\n",
      "        Empty matches are included in the result.\n",
      "\n",
      "    fullmatch(pattern, string, flags=0)\n",
      "        Try to apply the pattern to all of the string, returning\n",
      "        a Match object, or None if no match was found.\n",
      "\n",
      "    match(pattern, string, flags=0)\n",
      "        Try to apply the pattern at the start of the string, returning\n",
      "        a Match object, or None if no match was found.\n",
      "\n",
      "    purge()\n",
      "        Clear the regular expression caches\n",
      "\n",
      "    search(pattern, string, flags=0)\n",
      "        Scan through string looking for a match to the pattern, returning\n",
      "        a Match object, or None if no match was found.\n",
      "\n",
      "    split(pattern, string, maxsplit=0, flags=0)\n",
      "        Split the source string by the occurrences of the pattern,\n",
      "        returning a list containing the resulting substrings.  If\n",
      "        capturing parentheses are used in pattern, then the text of all\n",
      "        groups in the pattern are also returned as part of the resulting\n",
      "        list.  If maxsplit is nonzero, at most maxsplit splits occur,\n",
      "        and the remainder of the string is returned as the final element\n",
      "        of the list.\n",
      "\n",
      "    sub(pattern, repl, string, count=0, flags=0)\n",
      "        Return the string obtained by replacing the leftmost\n",
      "        non-overlapping occurrences of the pattern in string by the\n",
      "        replacement repl.  repl can be either a string or a callable;\n",
      "        if a string, backslash escapes in it are processed.  If it is\n",
      "        a callable, it's passed the Match object and must return\n",
      "        a replacement string to be used.\n",
      "\n",
      "    subn(pattern, repl, string, count=0, flags=0)\n",
      "        Return a 2-tuple containing (new_string, number).\n",
      "        new_string is the string obtained by replacing the leftmost\n",
      "        non-overlapping occurrences of the pattern in the source\n",
      "        string by the replacement repl.  number is the number of\n",
      "        substitutions that were made. repl can be either a string or a\n",
      "        callable; if a string, backslash escapes in it are processed.\n",
      "        If it is a callable, it's passed the Match object and must\n",
      "        return a replacement string to be used.\n",
      "\n",
      "    template(pattern, flags=0)\n",
      "        Compile a template pattern, returning a Pattern object, deprecated\n",
      "\n",
      "DATA\n",
      "    A = re.ASCII\n",
      "    ASCII = re.ASCII\n",
      "    DOTALL = re.DOTALL\n",
      "    I = re.IGNORECASE\n",
      "    IGNORECASE = re.IGNORECASE\n",
      "    L = re.LOCALE\n",
      "    LOCALE = re.LOCALE\n",
      "    M = re.MULTILINE\n",
      "    MULTILINE = re.MULTILINE\n",
      "    NOFLAG = re.NOFLAG\n",
      "    S = re.DOTALL\n",
      "    U = re.UNICODE\n",
      "    UNICODE = re.UNICODE\n",
      "    VERBOSE = re.VERBOSE\n",
      "    X = re.VERBOSE\n",
      "    __all__ = ['match', 'fullmatch', 'search', 'sub', 'subn', 'split', 'fi...\n",
      "\n",
      "VERSION\n",
      "    2.2.1\n",
      "\n",
      "FILE\n",
      "    /usr/local/python/3.12.1/lib/python3.12/re/__init__.py\n",
      "\n",
      "\n"
     ]
    }
   ],
   "source": [
    "help(re)"
   ]
  },
  {
   "cell_type": "markdown",
   "metadata": {},
   "source": [
    "###  Using re.match\n",
    "        - It helps to identify patterns at the starting of string\n",
    "        - By default, it is case-sensitive"
   ]
  },
  {
   "cell_type": "code",
   "execution_count": 5,
   "metadata": {},
   "outputs": [
    {
     "name": "stdout",
     "output_type": "stream",
     "text": [
      "target_string.find(search_string) =-1\n",
      "search_string in target_string    =False\n"
     ]
    }
   ],
   "source": [
    "target_string = \"Python Programming is good for health\"\n",
    "search_string = \"python\"\n",
    "\n",
    "print(f\"{target_string.find(search_string) =}\")\n",
    "print(f\"{search_string in target_string    =}\")"
   ]
  },
  {
   "cell_type": "code",
   "execution_count": 6,
   "metadata": {},
   "outputs": [
    {
     "name": "stdout",
     "output_type": "stream",
     "text": [
      "target_string.find(search_string) =0\n",
      "search_string in target_string    =True\n"
     ]
    }
   ],
   "source": [
    "target_string = \"Python Programming is good for health\"\n",
    "search_string = \"Python\"\n",
    "\n",
    "print(f\"{target_string.find(search_string) =}\")\n",
    "print(f\"{search_string in target_string    =}\")"
   ]
  },
  {
   "cell_type": "code",
   "execution_count": 7,
   "metadata": {},
   "outputs": [
    {
     "data": {
      "text/plain": [
       "re.compile(r'Python', re.UNICODE)"
      ]
     },
     "execution_count": 7,
     "metadata": {},
     "output_type": "execute_result"
    }
   ],
   "source": [
    "re.compile(search_string)"
   ]
  },
  {
   "cell_type": "code",
   "execution_count": 8,
   "metadata": {},
   "outputs": [
    {
     "name": "stdout",
     "output_type": "stream",
     "text": [
      "re.compile('Python') <class 're.Pattern'>\n"
     ]
    }
   ],
   "source": [
    "reg_obj = re.compile(search_string)\n",
    "print(reg_obj, type(reg_obj))"
   ]
  },
  {
   "cell_type": "code",
   "execution_count": 9,
   "metadata": {},
   "outputs": [
    {
     "name": "stdout",
     "output_type": "stream",
     "text": [
      "result =<re.Match object; span=(0, 6), match='Python'>\n"
     ]
    }
   ],
   "source": [
    "result = reg_obj.match(target_string)\n",
    "print(f\"{result =}\")"
   ]
  },
  {
   "cell_type": "code",
   "execution_count": 10,
   "metadata": {},
   "outputs": [
    {
     "name": "stdout",
     "output_type": "stream",
     "text": [
      "target_string.find(search_string) =-1\n",
      "search_string in target_string    =False\n",
      "result =None\n"
     ]
    }
   ],
   "source": [
    "target_string = \"Python Programming is good for health\"\n",
    "search_string = \"python\"\n",
    "\n",
    "print(f\"{target_string.find(search_string) =}\")\n",
    "print(f\"{search_string in target_string    =}\")\n",
    "\n",
    "\n",
    "reg_obj = re.compile(search_string)\n",
    "result = reg_obj.match(target_string)\n",
    "print(f\"{result =}\")"
   ]
  },
  {
   "cell_type": "code",
   "execution_count": 11,
   "metadata": {},
   "outputs": [
    {
     "name": "stdout",
     "output_type": "stream",
     "text": [
      "target_string.find(search_string) =0\n",
      "search_string in target_string    =True\n",
      "result =<re.Match object; span=(0, 6), match='Python'>\n"
     ]
    }
   ],
   "source": [
    "target_string = \"Python Programming is good for health\"\n",
    "search_string = \"Python\"\n",
    "\n",
    "print(f\"{target_string.find(search_string) =}\")\n",
    "print(f\"{search_string in target_string    =}\")\n",
    "\n",
    "\n",
    "reg_obj = re.compile(search_string)\n",
    "result = reg_obj.match(target_string)\n",
    "print(f\"{result =}\")"
   ]
  },
  {
   "cell_type": "code",
   "execution_count": 12,
   "metadata": {},
   "outputs": [
    {
     "name": "stdout",
     "output_type": "stream",
     "text": [
      "result.group():Python\n",
      "result.span() :(0, 6)\n",
      "result.start():0\n",
      "result.end()  :6\n"
     ]
    }
   ],
   "source": [
    "if result:\n",
    "    print(f\"result.group():{result.group()}\")\n",
    "    print(f\"result.span() :{result.span()}\")\n",
    "    print(f\"result.start():{result.start()}\")\n",
    "    print(f\"result.end()  :{result.end()}\")\n",
    "else:\n",
    "    print(\"NO match found\")"
   ]
  },
  {
   "cell_type": "code",
   "execution_count": 13,
   "metadata": {},
   "outputs": [
    {
     "name": "stdout",
     "output_type": "stream",
     "text": [
      "target_string.find(search_string) =0\n",
      "search_string in target_string    =True\n",
      "result.group():Python\n",
      "result.span() :(0, 6)\n",
      "result.start():0\n",
      "result.end()  :6\n"
     ]
    }
   ],
   "source": [
    "target_string = \"Python Programming is good for health\"\n",
    "search_string = \"Python\"\n",
    "\n",
    "print(f\"{target_string.find(search_string) =}\")\n",
    "print(f\"{search_string in target_string    =}\")\n",
    "\n",
    "\n",
    "reg_obj = re.compile(search_string)\n",
    "result = reg_obj.match(target_string)\n",
    "# print(f\"{result =}\")\n",
    "\n",
    "\n",
    "if result:\n",
    "    print(f\"result.group():{result.group()}\")\n",
    "    print(f\"result.span() :{result.span()}\")\n",
    "    print(f\"result.start():{result.start()}\")\n",
    "    print(f\"result.end()  :{result.end()}\")\n",
    "else:\n",
    "    print(\"NO match found\")"
   ]
  },
  {
   "cell_type": "markdown",
   "metadata": {},
   "source": [
    "### re.I  ignorecase"
   ]
  },
  {
   "cell_type": "code",
   "execution_count": 14,
   "metadata": {},
   "outputs": [
    {
     "name": "stdout",
     "output_type": "stream",
     "text": [
      "\n",
      "search_string = python\n",
      "target_string.lower().find(search_string.lower()) =0\n",
      "search_string.lower() in target_string.lower()    =True\n",
      "\n",
      "re.compile('python', re.IGNORECASE) <class 're.Pattern'>\n",
      "result =<re.Match object; span=(0, 6), match='Python'>\n",
      "result.group():Python\n",
      "result.span() :(0, 6)\n",
      "result.start():0\n",
      "result.end()  :6\n",
      "\n",
      "search_string = Python\n",
      "target_string.lower().find(search_string.lower()) =0\n",
      "search_string.lower() in target_string.lower()    =True\n",
      "\n",
      "re.compile('Python', re.IGNORECASE) <class 're.Pattern'>\n",
      "result =<re.Match object; span=(0, 6), match='Python'>\n",
      "result.group():Python\n",
      "result.span() :(0, 6)\n",
      "result.start():0\n",
      "result.end()  :6\n",
      "\n",
      "search_string = PYTHON\n",
      "target_string.lower().find(search_string.lower()) =0\n",
      "search_string.lower() in target_string.lower()    =True\n",
      "\n",
      "re.compile('PYTHON', re.IGNORECASE) <class 're.Pattern'>\n",
      "result =<re.Match object; span=(0, 6), match='Python'>\n",
      "result.group():Python\n",
      "result.span() :(0, 6)\n",
      "result.start():0\n",
      "result.end()  :6\n",
      "\n",
      "search_string = PYThon\n",
      "target_string.lower().find(search_string.lower()) =0\n",
      "search_string.lower() in target_string.lower()    =True\n",
      "\n",
      "re.compile('PYThon', re.IGNORECASE) <class 're.Pattern'>\n",
      "result =<re.Match object; span=(0, 6), match='Python'>\n",
      "result.group():Python\n",
      "result.span() :(0, 6)\n",
      "result.start():0\n",
      "result.end()  :6\n"
     ]
    }
   ],
   "source": [
    "target_string = \"Python Programming is good for health\"\n",
    "\n",
    "for search_string in (\"python\", \"Python\", \"PYTHON\", \"PYThon\"):\n",
    "    print(\"\\nsearch_string =\", search_string)\n",
    "\n",
    "    # print(f\"{target_string.find(search_string) =}\")\n",
    "    # print(f\"{search_string in target_string    =}\")\n",
    "    print(f\"{target_string.lower().find(search_string.lower()) =}\")\n",
    "    print(f\"{search_string.lower() in target_string.lower()    =}\")\n",
    "    print()\n",
    "\n",
    "    reg_obj = re.compile(search_string, re.I)  # re.IGNORECASE\n",
    "    print(reg_obj, type(reg_obj))\n",
    "\n",
    "    result = reg_obj.match(target_string)\n",
    "    print(f\"{result =}\")\n",
    "\n",
    "    if result:\n",
    "        print(f\"result.group():{result.group()}\")\n",
    "        print(f\"result.span() :{result.span()}\")\n",
    "        print(f\"result.start():{result.start()}\")\n",
    "        print(f\"result.end()  :{result.end()}\")\n",
    "    else:\n",
    "        print(\"NO match found\")"
   ]
  },
  {
   "cell_type": "markdown",
   "metadata": {},
   "source": [
    "###  re.search\n",
    "\n",
    "\n",
    "    Using re.match\n",
    "        - It helps to identify patterns at the starting of string\n",
    "    Using re.search\n",
    "        - It helps to identify patterns at the ANYWHERE of string\n"
   ]
  },
  {
   "cell_type": "code",
   "execution_count": 17,
   "metadata": {},
   "outputs": [
    {
     "name": "stdout",
     "output_type": "stream",
     "text": [
      "result.group():Python\n"
     ]
    }
   ],
   "source": [
    "target_string = \"Python Programming is good for health\"\n",
    "search_string = \"Python\"\n",
    "\n",
    "reg_obj = re.compile(search_string)\n",
    "result = reg_obj.match(target_string)\n",
    "\n",
    "if result:\n",
    "    print(f\"result.group():{result.group()}\")\n",
    "else:\n",
    "    print(\"NO match found\")"
   ]
  },
  {
   "cell_type": "code",
   "execution_count": 18,
   "metadata": {},
   "outputs": [
    {
     "name": "stdout",
     "output_type": "stream",
     "text": [
      "NO match found\n"
     ]
    }
   ],
   "source": [
    "target_string = \"Programming is good for health Python\"\n",
    "search_string = \"Python\"\n",
    "\n",
    "reg_obj = re.compile(search_string)\n",
    "result = reg_obj.match(target_string)\n",
    "\n",
    "if result:\n",
    "    print(f\"result.group():{result.group()}\")\n",
    "else:\n",
    "    print(\"NO match found\")"
   ]
  },
  {
   "cell_type": "code",
   "execution_count": 19,
   "metadata": {},
   "outputs": [
    {
     "name": "stdout",
     "output_type": "stream",
     "text": [
      "NO match found\n"
     ]
    }
   ],
   "source": [
    "target_string = \" Python Programming is good for health\"\n",
    "search_string = \"Python\"\n",
    "\n",
    "reg_obj = re.compile(search_string)\n",
    "result = reg_obj.match(target_string)\n",
    "\n",
    "if result:\n",
    "    print(f\"result.group():{result.group()}\")\n",
    "else:\n",
    "    print(\"NO match found\")"
   ]
  },
  {
   "cell_type": "code",
   "execution_count": 20,
   "metadata": {},
   "outputs": [
    {
     "name": "stdout",
     "output_type": "stream",
     "text": [
      "result.group():Python\n"
     ]
    }
   ],
   "source": [
    "target_string = \"Python Programming is good for health\"\n",
    "search_string = \"Python\"\n",
    "\n",
    "reg_obj = re.compile(search_string)\n",
    "result = reg_obj.search(target_string)\n",
    "\n",
    "if result:\n",
    "    print(f\"result.group():{result.group()}\")\n",
    "else:\n",
    "    print(\"NO match found\")"
   ]
  },
  {
   "cell_type": "code",
   "execution_count": 21,
   "metadata": {},
   "outputs": [
    {
     "name": "stdout",
     "output_type": "stream",
     "text": [
      "result.group():Python\n"
     ]
    }
   ],
   "source": [
    "target_string = \"  Python Programming is good for health\"\n",
    "search_string = \"Python\"\n",
    "\n",
    "reg_obj = re.compile(search_string)\n",
    "result = reg_obj.search(target_string)\n",
    "\n",
    "if result:\n",
    "    print(f\"result.group():{result.group()}\")\n",
    "else:\n",
    "    print(\"NO match found\")"
   ]
  },
  {
   "cell_type": "code",
   "execution_count": 22,
   "metadata": {},
   "outputs": [
    {
     "name": "stdout",
     "output_type": "stream",
     "text": [
      "result.group():Python\n"
     ]
    }
   ],
   "source": [
    "target_string = \"   Programming is good for Python health\"\n",
    "search_string = \"Python\"\n",
    "\n",
    "reg_obj = re.compile(search_string)\n",
    "result = reg_obj.search(target_string)\n",
    "\n",
    "if result:\n",
    "    print(f\"result.group():{result.group()}\")\n",
    "else:\n",
    "    print(\"NO match found\")"
   ]
  },
  {
   "cell_type": "code",
   "execution_count": 24,
   "metadata": {},
   "outputs": [
    {
     "name": "stdout",
     "output_type": "stream",
     "text": [
      "NO match found\n"
     ]
    }
   ],
   "source": [
    "target_string = \"   Programming is good for PYTHON health\"\n",
    "search_string = \"Python\"\n",
    "\n",
    "reg_obj = re.compile(search_string)\n",
    "result = reg_obj.search(target_string, re.IGNORECASE)\n",
    "\n",
    "if result:\n",
    "    print(f\"result.group():{result.group()}\")\n",
    "else:\n",
    "    print(\"NO match found\")"
   ]
  },
  {
   "cell_type": "markdown",
   "metadata": {},
   "source": [
    "### Two ways of regex, in python"
   ]
  },
  {
   "cell_type": "code",
   "execution_count": 27,
   "metadata": {},
   "outputs": [
    {
     "name": "stdout",
     "output_type": "stream",
     "text": [
      "result =<re.Match object; span=(27, 33), match='PYTHON'>\n",
      "result =<re.Match object; span=(23, 29), match='PyTHOn'>\n"
     ]
    }
   ],
   "source": [
    "# METHOD 1\n",
    "# reg_obj = re.compile(search_string, re.I)  # re.IGNORECASE\n",
    "# print(reg_obj, type(reg_obj))\n",
    "# result = reg_obj.search(target_string)\n",
    "\n",
    "\n",
    "# METHOD 2\n",
    "result = re.search(search_string, target_string, re.I)  # re.IGNORECASE\n",
    "print(f\"{result =}\")\n",
    "result = re.search(\"pyTHoN\", \"Programming is good in PyTHOn\", re.I)  # re.IGNORECASE\n",
    "print(f\"{result =}\")"
   ]
  },
  {
   "cell_type": "code",
   "execution_count": 28,
   "metadata": {},
   "outputs": [
    {
     "name": "stdout",
     "output_type": "stream",
     "text": [
      "result =None\n",
      "result =None\n"
     ]
    }
   ],
   "source": [
    "result = re.match(search_string, target_string, re.I)  # re.IGNORECASE\n",
    "print(f\"{result =}\")\n",
    "\n",
    "result = re.match(\"pyTHoN\", \"Programming is good in PyTHOn\", re.I)  # re.IGNORECASE\n",
    "print(f\"{result =}\")"
   ]
  },
  {
   "cell_type": "markdown",
   "metadata": {},
   "source": [
    "### regex Qualifiers\n",
    "\n",
    "\n",
    "    Question: How to make re.search() to work like re.match ?\n",
    "\n",
    "\n",
    "    pattern\n",
    "    ^   To make to check at the start of string\n",
    "    $   To make to check at the end of string\n",
    "\n",
    "    \\A | Matches the expression to its right at the absolute start of a string whether in single or multi-line mode.\n",
    "    \\Z | Matches the expression to its left at the absolute end of a string whether in single or multi-line mode.\n",
    "\n"
   ]
  },
  {
   "cell_type": "code",
   "execution_count": 29,
   "metadata": {},
   "outputs": [
    {
     "name": "stdout",
     "output_type": "stream",
     "text": [
      "\n",
      "result:<re.Match object; span=(23, 29), match='PYThon'>\n"
     ]
    }
   ],
   "source": [
    "result = re.search(\"pyTHon\", \"Programming is good in PYThon\", re.I)\n",
    "print(f\"\\nresult:{result}\")"
   ]
  },
  {
   "cell_type": "code",
   "execution_count": 30,
   "metadata": {},
   "outputs": [
    {
     "name": "stdout",
     "output_type": "stream",
     "text": [
      "\n",
      "result:<re.Match object; span=(23, 29), match='PYThon'>\n"
     ]
    }
   ],
   "source": [
    "# TO Enforce to search at the end\n",
    "result = re.search(\"pyTHon$\", \"Programming is good in PYThon\", re.I)\n",
    "print(f\"\\nresult:{result}\")"
   ]
  },
  {
   "cell_type": "code",
   "execution_count": 31,
   "metadata": {},
   "outputs": [
    {
     "name": "stdout",
     "output_type": "stream",
     "text": [
      "\n",
      "result:None\n"
     ]
    }
   ],
   "source": [
    "result = re.search(\"pyTHon$\", \"Programming in python is gqqewd\", re.I)\n",
    "print(f\"\\nresult:{result}\")"
   ]
  },
  {
   "cell_type": "code",
   "execution_count": 32,
   "metadata": {},
   "outputs": [
    {
     "name": "stdout",
     "output_type": "stream",
     "text": [
      "\n",
      "result:None\n"
     ]
    }
   ],
   "source": [
    "# TO Enforce to search at the start\n",
    "result = re.search(\"^pyTHon\", \"Programming is good in PYThon\", re.I)\n",
    "print(f\"\\nresult:{result}\")"
   ]
  },
  {
   "cell_type": "code",
   "execution_count": 33,
   "metadata": {},
   "outputs": [
    {
     "name": "stdout",
     "output_type": "stream",
     "text": [
      "\n",
      "result:None\n"
     ]
    }
   ],
   "source": [
    "result = re.match(\"pyTHon\", \"Programming is good in PYThon\", re.I)\n",
    "print(f\"\\nresult:{result}\")"
   ]
  },
  {
   "cell_type": "code",
   "execution_count": 34,
   "metadata": {},
   "outputs": [
    {
     "name": "stdout",
     "output_type": "stream",
     "text": [
      "\n",
      "result:<re.Match object; span=(0, 6), match='PYThon'>\n"
     ]
    }
   ],
   "source": [
    "result = re.search(\"^pyTHon\", \"PYThon Programming is good\", re.I)\n",
    "print(f\"\\nresult:{result}\")"
   ]
  },
  {
   "cell_type": "code",
   "execution_count": 35,
   "metadata": {},
   "outputs": [
    {
     "name": "stdout",
     "output_type": "stream",
     "text": [
      "\n",
      "result:<re.Match object; span=(0, 6), match='PYThon'>\n"
     ]
    }
   ],
   "source": [
    "result = re.match(\"pyTHon\", \"PYThon Programming is good\", re.I)\n",
    "print(f\"\\nresult:{result}\")"
   ]
  },
  {
   "cell_type": "markdown",
   "metadata": {},
   "source": [
    "pattern\n",
    "\n",
    "    ^   To make to check at the start of string\n",
    "    $   To make to check at the end of string\n",
    "\n",
    "    \\A | Matches the expression to its right at the absolute start of a string whether in single or multi-line mode.\n",
    "    \\Z | Matches the expression to its left at the absolute end of a string whether in single or multi-line mode.\n"
   ]
  },
  {
   "cell_type": "code",
   "execution_count": 36,
   "metadata": {},
   "outputs": [
    {
     "name": "stdout",
     "output_type": "stream",
     "text": [
      "\n",
      "result:None\n",
      "\n",
      "result:<re.Match object; span=(6, 9), match='abc'>\n",
      "result.group():abc\n",
      "\n",
      "\n",
      "result:<re.Match object; span=(0, 3), match='ABC'>\n",
      "result.group():ABC\n"
     ]
    }
   ],
   "source": [
    "# Method 1 - using ^ and $\n",
    "result = re.search(\"abc$\", \"ABC123abcd\", re.I) # checks in the end\n",
    "print(f\"\\nresult:{result}\")  # None\n",
    "\n",
    "result = re.search(\"abc$\", \"ABC123abc\", re.I) # checks in the end\n",
    "print(f\"\\nresult:{result}\")\n",
    "if result:\n",
    "    print(f\"result.group():{result.group()}\")  # abc\n",
    "print()\n",
    "\n",
    "\n",
    "result = re.search(\"^abc\", \"ABC123abc\", re.I) # checks in the start\n",
    "print(f\"\\nresult:{result}\")\n",
    "if result:\n",
    "    print(f\"result.group():{result.group()}\")  # ABC"
   ]
  },
  {
   "cell_type": "code",
   "execution_count": 39,
   "metadata": {},
   "outputs": [
    {
     "name": "stdout",
     "output_type": "stream",
     "text": [
      "\n",
      "result:<re.Match object; span=(6, 9), match='abc'>\n",
      "result.group():abc\n",
      "\n",
      "result:<re.Match object; span=(0, 3), match='ABC'>\n",
      "result.group():ABC\n"
     ]
    },
    {
     "name": "stderr",
     "output_type": "stream",
     "text": [
      "<>:2: SyntaxWarning: invalid escape sequence '\\Z'\n",
      "<>:7: SyntaxWarning: invalid escape sequence '\\A'\n",
      "<>:2: SyntaxWarning: invalid escape sequence '\\Z'\n",
      "<>:7: SyntaxWarning: invalid escape sequence '\\A'\n",
      "/tmp/ipykernel_3893/3570828225.py:2: SyntaxWarning: invalid escape sequence '\\Z'\n",
      "  result = re.search(\"abc\\Z\", \"ABC123abc\", re.I) # checks in the end\n",
      "/tmp/ipykernel_3893/3570828225.py:7: SyntaxWarning: invalid escape sequence '\\A'\n",
      "  result = re.search(\"\\Aabc\", \"ABC123abc\", re.I)# checks in the start\n"
     ]
    }
   ],
   "source": [
    "# Method 2 - using \\A and \\Z\n",
    "result = re.search(\"abc\\Z\", \"ABC123abc\", re.I) # checks in the end\n",
    "print(f\"\\nresult:{result}\")\n",
    "if result:\n",
    "    print(f\"result.group():{result.group()}\")  # abc\n",
    "\n",
    "result = re.search(\"\\Aabc\", \"ABC123abc\", re.I)# checks in the start\n",
    "print(f\"\\nresult:{result}\")\n",
    "if result:\n",
    "    print(f\"result.group():{result.group()}\")  # ABC"
   ]
  },
  {
   "cell_type": "code",
   "execution_count": 40,
   "metadata": {},
   "outputs": [
    {
     "name": "stdout",
     "output_type": "stream",
     "text": [
      "\n",
      "result:<re.Match object; span=(6, 9), match='abc'>\n",
      "result.group():abc\n",
      "\n",
      "result:<re.Match object; span=(0, 3), match='ABC'>\n",
      "result.group():ABC\n"
     ]
    }
   ],
   "source": [
    "# Method 2 - using \\A and \\Z\n",
    "result = re.search(r\"abc\\Z\", \"ABC123abc\", re.I) # checks in the end\n",
    "print(f\"\\nresult:{result}\")\n",
    "if result:\n",
    "    print(f\"result.group():{result.group()}\")  # abc\n",
    "\n",
    "result = re.search(r\"\\Aabc\", \"ABC123abc\", re.I)# checks in the start\n",
    "print(f\"\\nresult:{result}\")\n",
    "if result:\n",
    "    print(f\"result.group():{result.group()}\")  # ABC"
   ]
  },
  {
   "cell_type": "markdown",
   "metadata": {},
   "source": [
    "### To limit pattern characters\n",
    "\n",
    "\n",
    "Question: How to get specific no. of characters from target string\n",
    "\n",
    "    pattern\n",
    "        ^   To make to check at the start of string\n",
    "        $   To make to check at the end of string\n",
    "        .   To get any character, except the newline(\\n) character"
   ]
  },
  {
   "cell_type": "code",
   "execution_count": 41,
   "metadata": {},
   "outputs": [
    {
     "name": "stdout",
     "output_type": "stream",
     "text": [
      "result.group():PyTHO\n"
     ]
    }
   ],
   "source": [
    "# To get 5 characters, ( default is from start of string)\n",
    "result = re.search(\".....\", \"PyTHOn Programming is good\", re.I)\n",
    "if result:\n",
    "    print(f\"result.group():{result.group()}\")\n"
   ]
  },
  {
   "cell_type": "code",
   "execution_count": 42,
   "metadata": {},
   "outputs": [
    {
     "name": "stdout",
     "output_type": "stream",
     "text": [
      "result.group():PyTHO\n"
     ]
    }
   ],
   "source": [
    "# To get 5 characters, from start of string\n",
    "result = re.search(\"^.....\", \"PyTHOn Programming is good\", re.I)\n",
    "if result:\n",
    "    print(f\"result.group():{result.group()}\")"
   ]
  },
  {
   "cell_type": "code",
   "execution_count": 43,
   "metadata": {},
   "outputs": [
    {
     "name": "stdout",
     "output_type": "stream",
     "text": [
      "result.group(): good\n"
     ]
    }
   ],
   "source": [
    "# To get 5 characters, from end of string\n",
    "result = re.search(\".....$\", \"PyTHOn Programming is good\", re.I)\n",
    "if result:\n",
    "    print(f\"result.group():{result.group()}\")"
   ]
  },
  {
   "cell_type": "code",
   "execution_count": 44,
   "metadata": {},
   "outputs": [
    {
     "name": "stdout",
     "output_type": "stream",
     "text": [
      "result:None\n"
     ]
    }
   ],
   "source": [
    "# To get the target string with 5 characters only\n",
    "result = re.search(\"^.....$\", \"PyTHOn Programming is good\", re.I)\n",
    "print(f\"result:{result}\")  # None"
   ]
  },
  {
   "cell_type": "code",
   "execution_count": 45,
   "metadata": {},
   "outputs": [
    {
     "name": "stdout",
     "output_type": "stream",
     "text": [
      "result:None\n"
     ]
    }
   ],
   "source": [
    "# To get the target string with 4 characters only\n",
    "result = re.search(\"^....$\", \"PyTHOn Programming is good\", re.I)\n",
    "print(f\"result:{result}\")  # None\n"
   ]
  },
  {
   "cell_type": "code",
   "execution_count": 46,
   "metadata": {},
   "outputs": [
    {
     "name": "stdout",
     "output_type": "stream",
     "text": [
      "result:None\n"
     ]
    }
   ],
   "source": [
    "# To get the target string with 4 characters only\n",
    "result = re.search(\"^....$\", \"PyTHOn\", re.I)\n",
    "print(f\"result:{result}\")  # None\n"
   ]
  },
  {
   "cell_type": "code",
   "execution_count": 48,
   "metadata": {},
   "outputs": [
    {
     "name": "stdout",
     "output_type": "stream",
     "text": [
      "result:<re.Match object; span=(0, 4), match='PyTH'>\n"
     ]
    }
   ],
   "source": [
    "# To get the target string with 4 characters only\n",
    "result = re.search(\"^....$\", \"PyTH\", re.I)\n",
    "print(f\"result:{result}\")  # None\n"
   ]
  },
  {
   "cell_type": "code",
   "execution_count": 49,
   "metadata": {},
   "outputs": [
    {
     "name": "stdout",
     "output_type": "stream",
     "text": [
      "result:<re.Match object; span=(0, 5), match='udhay'>\n",
      "result:<re.Match object; span=(0, 5), match='udhay'>\n"
     ]
    },
    {
     "name": "stderr",
     "output_type": "stream",
     "text": [
      "<>:6: SyntaxWarning: invalid escape sequence '\\A'\n",
      "<>:6: SyntaxWarning: invalid escape sequence '\\A'\n",
      "/tmp/ipykernel_3893/975645004.py:6: SyntaxWarning: invalid escape sequence '\\A'\n",
      "  result = re.search(\"\\A.....\\Z\", \"udhay\", re.I)\n"
     ]
    }
   ],
   "source": [
    "# To get the target string with 5 characters only\n",
    "result = re.search(\"^.....$\", \"udhay\", re.I)\n",
    "print(f\"result:{result}\")\n",
    "\n",
    "# To get the target string with 5 characters only\n",
    "result = re.search(\"\\A.....\\Z\", \"udhay\", re.I)\n",
    "print(f\"result:{result}\")"
   ]
  },
  {
   "cell_type": "code",
   "execution_count": 50,
   "metadata": {},
   "outputs": [
    {
     "name": "stdout",
     "output_type": "stream",
     "text": [
      "result:None\n",
      "result:None\n"
     ]
    },
    {
     "name": "stderr",
     "output_type": "stream",
     "text": [
      "<>:6: SyntaxWarning: invalid escape sequence '\\A'\n",
      "<>:6: SyntaxWarning: invalid escape sequence '\\A'\n",
      "/tmp/ipykernel_3893/974819942.py:6: SyntaxWarning: invalid escape sequence '\\A'\n",
      "  result = re.search(\"\\A.....\\Z\", \"udhaya\", re.I)\n"
     ]
    }
   ],
   "source": [
    "# To get the target string with 5 characters only\n",
    "result = re.search(\"^.....$\", \"udhaya\", re.I)\n",
    "print(f\"result:{result}\")  # None\n",
    "\n",
    "# To get the target string with 5 characters only\n",
    "result = re.search(\"\\A.....\\Z\", \"udhaya\", re.I)\n",
    "print(f\"result:{result}\")  # None"
   ]
  },
  {
   "cell_type": "markdown",
   "metadata": {},
   "source": [
    "## Greedy Patterns\n",
    "\n",
    "    patterns\n",
    "\n",
    "        *  previous character can occur 0 or more times\n",
    "        +  previous character can occur 1 or more times\n",
    "\n",
    "        ?  previous character can occur 0 or 1 time only"
   ]
  },
  {
   "cell_type": "code",
   "execution_count": 51,
   "metadata": {},
   "outputs": [
    {
     "name": "stdout",
     "output_type": "stream",
     "text": [
      "ab\n",
      "ab\n"
     ]
    }
   ],
   "source": [
    "print(re.match(\"ab\", \"ab\").group())\n",
    "print(re.search(\"ab\", \"ab\").group())"
   ]
  },
  {
   "cell_type": "code",
   "execution_count": 52,
   "metadata": {},
   "outputs": [
    {
     "name": "stdout",
     "output_type": "stream",
     "text": [
      "a\n",
      "ab\n",
      "abb\n",
      "abbbbbb\n"
     ]
    }
   ],
   "source": [
    "print(re.search(\"ab*\", \"a\").group())  # b is occurring 0 times\n",
    "print(re.search(\"ab*\", \"ab\").group())  # b is occurring 1 times\n",
    "print(re.search(\"ab*\", \"abb\").group())  # b is occurring 2 times\n",
    "print(re.search(\"ab*\", \"abbbbbb\").group())  # b is occurring 6 times\n"
   ]
  },
  {
   "cell_type": "code",
   "execution_count": 53,
   "metadata": {},
   "outputs": [
    {
     "name": "stdout",
     "output_type": "stream",
     "text": [
      "bbbbbb\n",
      "aaaaabbbbbb\n"
     ]
    }
   ],
   "source": [
    "# print(re.search('ab*', 'bbbbbb').group())  # b is occurring 6 times\n",
    "print(re.search(\"a*b*\", \"bbbbbb\").group())  # b is occurring 6 times; a - 0 times\n",
    "print(re.search(\"a*b*\", \"aaaaabbbbbb\").group())  # b is occurring 6 times; a - 0 times"
   ]
  },
  {
   "cell_type": "code",
   "execution_count": 55,
   "metadata": {},
   "outputs": [
    {
     "name": "stdout",
     "output_type": "stream",
     "text": [
      "<re.Match object; span=(0, 0), match=''>\n"
     ]
    }
   ],
   "source": [
    "print(re.search(\"a*b*\", \"\"))"
   ]
  },
  {
   "cell_type": "code",
   "execution_count": 56,
   "metadata": {},
   "outputs": [
    {
     "name": "stdout",
     "output_type": "stream",
     "text": [
      "\n"
     ]
    }
   ],
   "source": [
    "print(re.search(\"a*b*\", \"\").group())"
   ]
  },
  {
   "cell_type": "code",
   "execution_count": 57,
   "metadata": {},
   "outputs": [
    {
     "name": "stdout",
     "output_type": "stream",
     "text": [
      "ab\n",
      "abb\n",
      "abbbbbb\n"
     ]
    }
   ],
   "source": [
    "# print(re.search('ab+', 'a').group())  # b is occurring 0 times\n",
    "print(re.search(\"ab+\", \"ab\").group())  # b is occurring 1 times\n",
    "print(re.search(\"ab+\", \"abb\").group())  # b is occurring 2 times\n",
    "print(re.search(\"ab+\", \"abbbbbb\").group())  # b is occurring 6 times\n"
   ]
  },
  {
   "cell_type": "code",
   "execution_count": 58,
   "metadata": {},
   "outputs": [],
   "source": [
    "# print(re.search('ab+', 'bbbbbb').group())  # b is occurring 6 times\n",
    "# print(re.search('a+b+', 'bbbbbb').group())  # b is occurring 6 times; a - 0 times"
   ]
  },
  {
   "cell_type": "markdown",
   "metadata": {},
   "source": [
    "## Non-Greedy Patterns\n",
    "\n",
    "\n",
    "    patterns\n",
    "        *  previous character can occur 0 or more times\n",
    "        +  previous character can occur 1 or more times\n",
    "        ?  previous character can occur 0 or 1 time only\n",
    "\n",
    "    ? is generally used to make the pattern non-greedy"
   ]
  },
  {
   "cell_type": "code",
   "execution_count": 59,
   "metadata": {},
   "outputs": [
    {
     "name": "stdout",
     "output_type": "stream",
     "text": [
      "ab\n",
      "ab\n"
     ]
    }
   ],
   "source": [
    "print(re.match(\"ab\", \"ab\").group())\n",
    "print(re.search(\"ab\", \"ab\").group())"
   ]
  },
  {
   "cell_type": "code",
   "execution_count": 60,
   "metadata": {},
   "outputs": [
    {
     "name": "stdout",
     "output_type": "stream",
     "text": [
      "a\n",
      "ab\n",
      "ab\n",
      "ab\n",
      "ab\n"
     ]
    }
   ],
   "source": [
    "print(re.search(\"ab?\", \"a\").group())  # b is occurring 0 times\n",
    "print(re.search(\"ab?\", \"ab\").group())  # b is occurring 1 times\n",
    "print(re.search(\"ab?\", \"abb\").group())  # b is occurring 2 times\n",
    "print(re.search(\"ab?\", \"abbbbbb\").group())  # b is occurring 6 times\n",
    "print(re.search(\"ab?\", \"abbbbbbbbbbbbbbbbbbbbbbbbbb\").group())\n",
    "\n"
   ]
  },
  {
   "cell_type": "code",
   "execution_count": 61,
   "metadata": {},
   "outputs": [
    {
     "name": "stdout",
     "output_type": "stream",
     "text": [
      "a\n",
      "ab\n",
      "ab\n",
      "ab\n",
      "a\n",
      "ar\n",
      "am\n",
      "an\n"
     ]
    }
   ],
   "source": [
    "\n",
    "# .? Any character( except newline) can occur  0 or 1 time only\n",
    "print(re.search(\"a.?\", \"a\").group())  # b is occurring 0 times\n",
    "print(re.search(\"a.?\", \"ab\").group())  # b is occurring 1 times\n",
    "print(re.search(\"a.?\", \"abb\").group())  # b is occurring 2 times\n",
    "print(re.search(\"a.?\", \"abbb\").group())  # b is occurring 3 times\n",
    "\n",
    "print(re.search(\"a.?\", \"a\").group())\n",
    "print(re.search(\"a.?\", \"ar\").group())  # r is occurring 1 times\n",
    "print(re.search(\"a.?\", \"amm\").group())\n",
    "print(re.search(\"a.?\", \"ank\").group())"
   ]
  },
  {
   "cell_type": "markdown",
   "metadata": {},
   "source": [
    "## Greedy Patterns\n",
    "\n",
    "     .+  Any character( except newline) can occur  1 or any no. of time\n",
    "     .*  Any character( except newline) can occur  0 or any no. of time\n"
   ]
  },
  {
   "cell_type": "code",
   "execution_count": 63,
   "metadata": {},
   "outputs": [
    {
     "name": "stdout",
     "output_type": "stream",
     "text": [
      "a\n",
      "ab\n",
      "abb\n",
      "abbb\n",
      "abbbc\n",
      "\n"
     ]
    }
   ],
   "source": [
    "res = re.search(\"a.*\", \"a\")\n",
    "if res:\n",
    "    res.group()\n",
    "\n",
    "print(re.search(\"a.*\", \"a\").group())  # b is occurring 0 times\n",
    "print(re.search(\"a.*\", \"ab\").group())  # b is occurring 1 times\n",
    "print(re.search(\"a.*\", \"abb\").group())  # b is occurring 2 times\n",
    "print(re.search(\"a.*\", \"abbb\").group())  # b is occurring 3 times\n",
    "print(re.search(\"a.*\", \"abbbc\").group())  # b is occurring 3 times\n",
    "print()"
   ]
  },
  {
   "cell_type": "markdown",
   "metadata": {},
   "source": [
    "## re.findall()"
   ]
  },
  {
   "cell_type": "code",
   "execution_count": 64,
   "metadata": {},
   "outputs": [
    {
     "name": "stdout",
     "output_type": "stream",
     "text": [
      "PYTHON\n",
      "PYTHON\n"
     ]
    }
   ],
   "source": [
    "print(re.match(\"python\", \"PYTHON python PYTHon pYTHon43454\", re.I).group())\n",
    "print(re.search(\"python\", \"PYTHON python PYTHon pYTHon43454\", re.I).group())"
   ]
  },
  {
   "cell_type": "code",
   "execution_count": 66,
   "metadata": {},
   "outputs": [
    {
     "name": "stdout",
     "output_type": "stream",
     "text": [
      "['PYTHON', 'python', 'PYTHon', 'pYTHon']\n"
     ]
    }
   ],
   "source": [
    "print(re.findall(\"python\", \"PYTHON python PYTHon pYTHon43454\", re.I))"
   ]
  },
  {
   "cell_type": "code",
   "execution_count": null,
   "metadata": {},
   "outputs": [],
   "source": []
  }
 ],
 "metadata": {
  "kernelspec": {
   "display_name": ".venv",
   "language": "python",
   "name": "python3"
  },
  "language_info": {
   "codemirror_mode": {
    "name": "ipython",
    "version": 3
   },
   "file_extension": ".py",
   "mimetype": "text/x-python",
   "name": "python",
   "nbconvert_exporter": "python",
   "pygments_lexer": "ipython3",
   "version": "3.12.1"
  }
 },
 "nbformat": 4,
 "nbformat_minor": 2
}
