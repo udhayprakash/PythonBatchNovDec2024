{
 "cells": [
  {
   "cell_type": "markdown",
   "metadata": {},
   "source": [
    "# random module\n",
    "\n",
    "    Python random module, uses pseudo-random generator (PRNG)\n",
    "    called the Mersenne Twister.\n",
    "\n",
    "    NOTE: random module is good enough for many purposes, including simulations,\n",
    "    numerical analysis, and games, but it's definitely not good enough for\n",
    "    cryptographic use.\n",
    "    \n",
    "    In Python3, 'secret' module is used for cryptographic purpose.\n",
    "\n"
   ]
  },
  {
   "cell_type": "code",
   "execution_count": 1,
   "metadata": {},
   "outputs": [],
   "source": [
    "import random"
   ]
  },
  {
   "cell_type": "code",
   "execution_count": 2,
   "metadata": {},
   "outputs": [
    {
     "data": {
      "text/plain": [
       "['BPF',\n",
       " 'LOG4',\n",
       " 'NV_MAGICCONST',\n",
       " 'RECIP_BPF',\n",
       " 'Random',\n",
       " 'SG_MAGICCONST',\n",
       " 'SystemRandom',\n",
       " 'TWOPI',\n",
       " '_ONE',\n",
       " '_Sequence',\n",
       " '__all__',\n",
       " '__builtins__',\n",
       " '__cached__',\n",
       " '__doc__',\n",
       " '__file__',\n",
       " '__loader__',\n",
       " '__name__',\n",
       " '__package__',\n",
       " '__spec__',\n",
       " '_accumulate',\n",
       " '_acos',\n",
       " '_bisect',\n",
       " '_ceil',\n",
       " '_cos',\n",
       " '_e',\n",
       " '_exp',\n",
       " '_fabs',\n",
       " '_floor',\n",
       " '_index',\n",
       " '_inst',\n",
       " '_isfinite',\n",
       " '_lgamma',\n",
       " '_log',\n",
       " '_log2',\n",
       " '_os',\n",
       " '_pi',\n",
       " '_random',\n",
       " '_repeat',\n",
       " '_sha512',\n",
       " '_sin',\n",
       " '_sqrt',\n",
       " '_test',\n",
       " '_test_generator',\n",
       " '_urandom',\n",
       " '_warn',\n",
       " 'betavariate',\n",
       " 'binomialvariate',\n",
       " 'choice',\n",
       " 'choices',\n",
       " 'expovariate',\n",
       " 'gammavariate',\n",
       " 'gauss',\n",
       " 'getrandbits',\n",
       " 'getstate',\n",
       " 'lognormvariate',\n",
       " 'normalvariate',\n",
       " 'paretovariate',\n",
       " 'randbytes',\n",
       " 'randint',\n",
       " 'random',\n",
       " 'randrange',\n",
       " 'sample',\n",
       " 'seed',\n",
       " 'setstate',\n",
       " 'shuffle',\n",
       " 'triangular',\n",
       " 'uniform',\n",
       " 'vonmisesvariate',\n",
       " 'weibullvariate']"
      ]
     },
     "execution_count": 2,
     "metadata": {},
     "output_type": "execute_result"
    }
   ],
   "source": [
    "dir(random)"
   ]
  },
  {
   "cell_type": "code",
   "execution_count": 3,
   "metadata": {},
   "outputs": [
    {
     "name": "stdout",
     "output_type": "stream",
     "text": [
      "random.random()      : 0.2364173701677753\n"
     ]
    }
   ],
   "source": [
    "# Generate a pseudo-random number between 0 and 1.\n",
    "print(\"random.random()      :\", random.random())"
   ]
  },
  {
   "cell_type": "code",
   "execution_count": 4,
   "metadata": {},
   "outputs": [
    {
     "name": "stdout",
     "output_type": "stream",
     "text": [
      "random.random() * 100: 9.92646346684829\n",
      "random.random() * 100: 80.75630199580388\n"
     ]
    }
   ],
   "source": [
    "# Generate a large pseudo-random number\n",
    "print(\"random.random() * 100:\", random.random() * 100)\n",
    "print(\"random.random() * 100:\", random.random() * 100)"
   ]
  },
  {
   "cell_type": "code",
   "execution_count": 5,
   "metadata": {},
   "outputs": [],
   "source": [
    "# if we set the seed, we guarantee that we will get the same answer\n",
    "random.seed(18485)\n",
    "# NOTE: only supported seed types are: None,int, float, str, bytes, and bytearray."
   ]
  },
  {
   "cell_type": "code",
   "execution_count": 6,
   "metadata": {},
   "outputs": [
    {
     "name": "stdout",
     "output_type": "stream",
     "text": [
      "0.6797936184081204\n",
      "0.9122712611873796\n",
      "0.12926723301605425\n"
     ]
    }
   ],
   "source": [
    "print(random.random())  # should give 0.6797936184081204\n",
    "print(random.random())  # should give 0.9122712611873796\n",
    "print(random.random())  # should give 0.12926723301605425"
   ]
  },
  {
   "cell_type": "code",
   "execution_count": 7,
   "metadata": {},
   "outputs": [
    {
     "name": "stdout",
     "output_type": "stream",
     "text": [
      "[0.7725766895236029, 0.850635131875668, 0.11481894112205038]\n"
     ]
    }
   ],
   "source": [
    "random.seed(\"slartibartfast\")\n",
    "s = [random.random() for i in range(3)]\n",
    "print(s)  # should give [0.7725766895236029, 0.850635131875668, 0.11481894112205038]"
   ]
  },
  {
   "cell_type": "code",
   "execution_count": 9,
   "metadata": {},
   "outputs": [
    {
     "name": "stdout",
     "output_type": "stream",
     "text": [
      "os.urandom(1024) b'\\xd5\\'\\xa6\\xcf\\xf2\\xe9#\\x98\\xf6\\x81\\xac\\x08ax\\xfd]\\xaf\\x97\\xb0\\x17\\x83\\xc3\\x05\\x9a\\x98T\\xe3\\xde\\xf7:\\xd47GM0\\xb4\\xcb=Z\\xce\\x90>0wL\\xdb\\xbe\\x1a]\\xc2\\x18\\x08\\x07\\xe2W\\xa9\\xad;IG\\x97\\xeb\\xbf\\xa4\\xd5p[\\n\\x80k\\x7f\\x98\\xae\\x17\\xf8\\xc3J\\xbd\\x81\\xab\\x1b\\xdc\\xe3\\x8b\\xc5u\\xb3P\\xff\\x0f`\\x94@\\xa9?\\x1eb\\x173uFF\\x15\\x97\\xe2\\x16z{\\xea\\xe6c\\xd5p\\x13e\\x8f\\x98G\\x80c\\x1a{\\x87\\xef\\x90\\xde\\x9b\\x8ccis\\x87\\xd5O\\x95o^\\x1fFcymF\\xb2C\\xbc<1\\xb0u+\\xeb\\xe2TE$\\xfe\\x8b\\xc2)y\\x9a\\xbb>7_\\xa5\\xac8\\x9f\\x0c\\xe7{\\xe3q\\xa8\\x9cN\\x1a\\x9bk0\\xa6\\xbb\\xfd\\xf5 \\xb6\\x056\\xe0\\x82\\xb9\\xac\\xf0\\x92E\\xa7\\xd0\\xf6\\'\\xa3\\x0b\\x97\\\\\\xf2\\xfdEiH\\xb1\\x17O\\xf9*\\xbc\\xfe\\xb6\\x98\\xcdw\\xbd\\xa63r\\xf3\\xfe\\xcb\\xbb\\x8d\\xa0\\x8cS\\xae\\xa35}l\\x82L\\xe63D\\xa5\\x119R\\xed\\xbd(\\x17\\x90\\x87\\xdeF**\\x8a\\xcd\\xef?\\x880%iq\\xe1\\r\\xe4\\xe1\\xf5\\x00F\\xf2e\\xc1\\x9c\\xbf[y\\xd2l\\x88[J\\x0c\\xff\\xab\\x0b\\x15\\x1f\\x18\\xe0\\xc1\\x8d\\x1c\\xaf\\x19W\\x86\\xa4\\x17\\xe5\\x89\\x15\\xcb=\\x8b.8E\\xf9\\xb2\\x08\\xf8\\xcdM\\xb0\\x0c^\\x9b*#-[\\xf1\\x91\\x1ah\\x18\\xf9\\x80<\\t\\x19\\xa0\\xdf\\xa5\\xe0d\\xeaf\\x18Zc-\\xc7\\x08\\xa3\\x95s\\xc6K\\x0b;\\x17}\\xd8\\x15V\\x1f\\x8c\\xadZ8\\x07\\x8d\\x1eNlmEJx\\x83\\x19)|\\nU\\xdaP\\x1dP\\xecU\\x0cpg2U2\\xe8\\xed\\x03\\x89l\\xca\\xa2\\\\\\x1a\\xa4\\x04-$\\xfb\\xae@\\x80\\x99\\x88\\x864\"\\x03O\\x13P\\xee\\xd8U\\xeb\\xfcU\\x87\\x83\\xac\\xff1\\xc0|\\xf21\\xbc\\x8c)\\x04\\xa6\\xaf\\xc6\\xcd\\x96\\x9eV\\x1bM\\xb0\\'7\\x88\\xf1\\x99\\x06rf\\xa9\\xe3\\xdc\\x90\\x11\\x03y1L\\x8a\\x8b\\xb7\\xd8\\xbc\\x17\\xd7\\xa3fs[/z\\x97\\x08\\xa0\\xe2f\\xac\\x988\\x1a\\xc6\\xe1\\xb1\\x96UN\\xa94\\xa75\\xd5\\x93\\xd7\\x10\\xb4\\x93\\x88\\xc2\\xe5?\\xfa\\xf1\\x90K\\xe1Y\\xba{\\x9b\\xaf\\x19\\xdd\\x92\\x07@]Lo*\\xcc\\xcb\\x18a<\\xb5\\x8f\\xfa\\x80M\\xb4J\\xbdJ@\\x85\\x92\\xf0\\xf6j\\xc5X\\xc4uM\\xe3x\\xa9?\\xf3\\x8a\\xf9\\x03\\xe4yl\\xf2\\xdd\\xbe=8Un\\xe13\\xdd\\xf3\\xbe\\xa7\\x96\\xc2\\xe6*{\\xa0\\x98]~>67\\x10\\xfc\\r\\xff\\x83\\xe1Gn\\x1a,%\\x92;\\xa1[?A4\\xdb\\'0\"\\x15\\xfd\\xddw\\x1cz!\\xb7\\xbe)\\xeb|o\\xff\\xf7X\\xb7\\x1c\\xdd\\xb00R\\xf9\\x91S\\x89G\\xe6\\x8fP#[\\xed;\\x15\\xe0 `\\x90\\xdb\\xb4\\xd0\\x81\\x84\\x17\\x10\\xf0\\xf1n|1\\x0e\\xe3 \\xf0\\xa3\\xe6\\x06\\x17\\xd0]*\\xa2\\x1a\\xe9\\xd3/2\\x93\\xc2\\xbfhpL\\xa3D\\x1dh/pcU2\\xa3\\x1a\\x86{JG\\x8d^t&~Ne\\xe0\\x94\\xf7\\x18\\x84\\xa4G$*\\x86a\\xc7-\\xc8\\\\V\\x00\\xf5\\xbbv\\xfa\\x06\\x87\\x00\\xda\\xbf\\xc3\\xd24\\xb8FJ1\\xe3\\x97&cq\\xbc\\xd5N\\xabX\\x03\\t\\x8086\\xac^\\x9c\\xa0Bf\\x07\\xa8\\xae\\xcc\\x98\\x8e(\\xcbp8\\xca\\xac\\xc9\\xfbe\\xfet\\xaf5\\xfd;(%\\x8a\\x0b\\xdf\\xb1\\xc4N\\x8bS(\\x0b/\\xad\\x03\\xac+\\xfd\\xa9W\\x00\\x01\\x9a\\xfea\\xed\\x03\\x9e\\xca\\xa9B\\x82\\xbbu\\xf1\\x19\\x86\\xd8\\x97\\x91\\xdd\\xed\\xecZ\\x99\\x0e8\\x94\\xe9\\xba\\x1b\\xa9.\\x07\\x89\\xb2b\\x02\\xf0\\x1ah\\xae\\x1a\\xd8\\x82v\\xf1\\xb24\\xd9\\x12\\x07\\x90\\x08TA\\xf9\\x01\\x07f\\xe7s\\xf1 \\x18\\x06|\\xa26,_\\x12u\\xa5\\xc5}\\xbd[R7\\xb9\\xea\\x06\\n\\x83\\xee\\xda\\x9f\\x91\\xb8\\x111\\xe3\\xd6ZI\\xe6[\\x8eUv\\xd6\\xd8\\x98\\xe02\\x96\\xd9\\xba\\x0fB\\x88\\xfc\\x8f$D\\xe3\\xd9\\xd4d\\xfen\\xd29\\x87\\xa18\\x80F\\xe1\\xec\\xd0\\x07\\x93\\x97(\\xae\\t\\x14KZ\\xdclh\\x9dN\\x16\\x94\\xed\\xbe;B\\xda\\xf6\\xe9t\\xa7-\\x18hC\\xfc\\xaa\\xb3\\x85~\\x7fm\\xd5\\xf9\\xa1\\x15A\\x0c+:p\\xe3\\x1ax\\xe0\\xaa\\xec\\xe7\\x86\\xcfk\\xf2\\x95\\xeb\\xa0\\xf6\\xad\\x1f\\xa4x\\xf0\\xe9\\xd5\\xd8c\\xfb/r\\x7f\\x11\\x16ch\\xafy%\\xcb\\x9c\\xbd\\x93\\x94O\\xee\\x19\\x03\\x0fm\\xab\\x04'\n"
     ]
    }
   ],
   "source": [
    "import os\n",
    "\n",
    "print(\"os.urandom(1024)\", os.urandom(1024))\n",
    "random.seed(os.urandom(1024))"
   ]
  },
  {
   "cell_type": "code",
   "execution_count": 10,
   "metadata": {},
   "outputs": [
    {
     "name": "stdout",
     "output_type": "stream",
     "text": [
      "0.9185420523005969\n",
      "0.7607212993695568\n",
      "0.16018478730465857\n"
     ]
    }
   ],
   "source": [
    "print(random.random())  # should give 0.7819713562511514\n",
    "print(random.random())  # should give 0.4669615948613485\n",
    "print(random.random())  # should give 0.6987920562874854"
   ]
  },
  {
   "cell_type": "code",
   "execution_count": 11,
   "metadata": {},
   "outputs": [
    {
     "name": "stdout",
     "output_type": "stream",
     "text": [
      "10\n"
     ]
    }
   ],
   "source": [
    "# Pick a random number between 1 and 100.\n",
    "print(random.randint(1, 100))  # 75\n",
    "# randint also includes the upper bound value\n"
   ]
  },
  {
   "cell_type": "code",
   "execution_count": 12,
   "metadata": {},
   "outputs": [
    {
     "name": "stdout",
     "output_type": "stream",
     "text": [
      "2.0012757107601455\n"
     ]
    }
   ],
   "source": [
    "# Pick a random floating point number between 1 and 10\n",
    "# random.uniform(a,b) => a <= N <= b\n",
    "print(random.uniform(1, 10))\n"
   ]
  },
  {
   "cell_type": "code",
   "execution_count": 13,
   "metadata": {},
   "outputs": [
    {
     "name": "stdout",
     "output_type": "stream",
     "text": [
      "65\n",
      "65\n",
      "90\n"
     ]
    }
   ],
   "source": [
    "# Generate a randomly selected element from range(start, stop, step)\n",
    "# random.randrange(start, stop[, step])\n",
    "for i in range(3):\n",
    "    print(random.randrange(0, 101, 5))"
   ]
  },
  {
   "cell_type": "code",
   "execution_count": 14,
   "metadata": {},
   "outputs": [
    {
     "name": "stdout",
     "output_type": "stream",
     "text": [
      "[1]\n",
      "[8, 5, 2, 7]\n"
     ]
    }
   ],
   "source": [
    "items = [1, 2, 3, 4, 5, 6, 7, 8, 9, 10]\n",
    "\n",
    "# Pick a random item from the list\n",
    "x = random.sample(items, 1)\n",
    "print(x)\n",
    "# Pick 4 random items from the list\n",
    "y = random.sample(items, 4)\n",
    "print(y)\n"
   ]
  },
  {
   "cell_type": "code",
   "execution_count": 15,
   "metadata": {},
   "outputs": [
    {
     "name": "stdout",
     "output_type": "stream",
     "text": [
      "Andes\n",
      "['Alphes', 'Himalayas', 'Aplachein']\n",
      "Vindhya\n",
      "\n"
     ]
    }
   ],
   "source": [
    "mountains = [\"Andes\", \"Himalayas\", \"Alphes\", \"Aplachein\", \"Ural\", \"Vindhya\"]\n",
    "\n",
    "# Pick a random item from the list\n",
    "x = random.sample(mountains, 1)\n",
    "print(x[0])\n",
    "\n",
    "# Pick 3 random items from the list\n",
    "y = random.sample(mountains, 3)\n",
    "print(y)\n",
    "\n",
    "# Pick a random item from the list\n",
    "x = random.choice(mountains)\n",
    "print(x)"
   ]
  },
  {
   "cell_type": "code",
   "execution_count": 17,
   "metadata": {},
   "outputs": [
    {
     "name": "stdout",
     "output_type": "stream",
     "text": [
      "after shuffle [2, 10, 9, 1, 3, 6, 7, 5, 4, 8]\n"
     ]
    }
   ],
   "source": [
    "\n",
    "# # To shuffle a list of elements\n",
    "# def shuffler(mylist):\n",
    "#     new_list = []\n",
    "#     while len(mylist):\n",
    "#         rand_pos = random.randint(0, len(mylist))\n",
    "#         new_list.append(mylist[rand_pos])\n",
    "#         del mylist[rand_pos]\n",
    "#     return new_list\n",
    "\n",
    "\n",
    "# print(shuffler([\"a\", \"b\", \"c\", \"d\", \"e\"]))\n",
    "\n",
    "numbers = [1, 2, 3, 4, 5, 6, 7, 8, 9, 10]\n",
    "random.shuffle(numbers)\n",
    "print(\"after shuffle\", numbers)"
   ]
  },
  {
   "cell_type": "markdown",
   "metadata": {},
   "source": [
    "### tossing_coin"
   ]
  },
  {
   "cell_type": "code",
   "execution_count": 19,
   "metadata": {},
   "outputs": [],
   "source": [
    "\n",
    "outcomes = {\n",
    "    \"heads\": 0,\n",
    "    \"tails\": 0,\n",
    "}\n",
    "sides = list(outcomes.keys())  # ['heads', 'tails']\n"
   ]
  },
  {
   "cell_type": "code",
   "execution_count": 20,
   "metadata": {},
   "outputs": [
    {
     "data": {
      "text/plain": [
       "'heads'"
      ]
     },
     "execution_count": 20,
     "metadata": {},
     "output_type": "execute_result"
    }
   ],
   "source": [
    "random.choice(sides)"
   ]
  },
  {
   "cell_type": "code",
   "execution_count": 22,
   "metadata": {},
   "outputs": [
    {
     "data": {
      "text/plain": [
       "['tails']"
      ]
     },
     "execution_count": 22,
     "metadata": {},
     "output_type": "execute_result"
    }
   ],
   "source": [
    "random.sample(sides, 1)"
   ]
  },
  {
   "cell_type": "code",
   "execution_count": 23,
   "metadata": {},
   "outputs": [
    {
     "name": "stdout",
     "output_type": "stream",
     "text": [
      "In 10000 tosses,\n",
      "\tHeads: 5042\n",
      "\tTails: 4958\n"
     ]
    }
   ],
   "source": [
    "for i in range(10000):\n",
    "    outcome = random.choice(sides)\n",
    "    outcomes[outcome] += 1\n",
    "\n",
    "print(\"In 10000 tosses,\")\n",
    "print(\"\\tHeads:\", outcomes[\"heads\"])\n",
    "print(\"\\tTails:\", outcomes[\"tails\"])"
   ]
  },
  {
   "cell_type": "markdown",
   "metadata": {},
   "source": [
    "### random_name_generator"
   ]
  },
  {
   "cell_type": "code",
   "execution_count": null,
   "metadata": {},
   "outputs": [],
   "source": [
    "import random\n",
    "\n",
    "\n",
    "def random_name_generator(first, second, count):\n",
    "    _names = []\n",
    "    for _ in range(count):\n",
    "        fst_name = random.choice(first)\n",
    "        lst_name = random.choice(second)\n",
    "        name = f\"{fst_name} {lst_name}\"\n",
    "        _names.append(name)\n",
    "    return _names\n",
    "\n",
    "\n",
    "def random_name_generator(first, second, count):\n",
    "    _names = set()\n",
    "    while len(_names) < count:\n",
    "        fst_name = random.choice(first)\n",
    "        lst_name = random.choice(second)\n",
    "        name = f\"{fst_name} {lst_name}\"\n",
    "        _names.add(name)\n",
    "    return _names\n",
    "\n",
    "\n",
    "first_names = [\"Drew\", \"Mike\", \"Landon\", \"Jeremy\", \"Tyler\", \"Tom\", \"Avery\"]\n",
    "last_names = [\"Smith\", \"Jones\", \"Brighton\", \"Taylor\"]\n",
    "names = random_name_generator(first_names, last_names, 5)\n",
    "print(\"\\n\".join(names))\n",
    "\n",
    "\n",
    "# Assignment:\n",
    "# In runtime, take the gender name as input, and generate random name.\n",
    "# HINT: Take a dataset of female first names, and another with male first names\n",
    "# one dataset with last names"
   ]
  }
 ],
 "metadata": {
  "kernelspec": {
   "display_name": ".venv",
   "language": "python",
   "name": "python3"
  },
  "language_info": {
   "codemirror_mode": {
    "name": "ipython",
    "version": 3
   },
   "file_extension": ".py",
   "mimetype": "text/x-python",
   "name": "python",
   "nbconvert_exporter": "python",
   "pygments_lexer": "ipython3",
   "version": "3.12.1"
  }
 },
 "nbformat": 4,
 "nbformat_minor": 2
}
