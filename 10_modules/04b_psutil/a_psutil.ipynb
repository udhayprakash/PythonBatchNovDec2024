{
 "cells": [
  {
   "cell_type": "markdown",
   "metadata": {},
   "source": [
    "# psutil \n",
    "\n",
    "    process level details"
   ]
  },
  {
   "cell_type": "code",
   "execution_count": 2,
   "metadata": {},
   "outputs": [],
   "source": [
    "import psutil\n",
    "import datetime"
   ]
  },
  {
   "cell_type": "code",
   "execution_count": 3,
   "metadata": {},
   "outputs": [
    {
     "name": "stdout",
     "output_type": "stream",
     "text": [
      "System boot time: 2024-12-24 13:56:34\n"
     ]
    }
   ],
   "source": [
    "boot_time = psutil.boot_time()\n",
    "print(\n",
    "    f\"System boot time: {datetime.datetime.fromtimestamp(boot_time).strftime('%Y-%m-%d %H:%M:%S')}\"\n",
    ")"
   ]
  },
  {
   "cell_type": "code",
   "execution_count": 4,
   "metadata": {},
   "outputs": [
    {
     "name": "stdout",
     "output_type": "stream",
     "text": [
      "CPU usage: 17.8%\n"
     ]
    }
   ],
   "source": [
    "cpu_percent = psutil.cpu_percent()\n",
    "print(f\"CPU usage: {cpu_percent}%\")"
   ]
  },
  {
   "cell_type": "code",
   "execution_count": 5,
   "metadata": {},
   "outputs": [
    {
     "name": "stdout",
     "output_type": "stream",
     "text": [
      "Total memory       : 8313704448\n",
      "Available memory   : 5407313920\n",
      "Memory percent used: 35.0%\n"
     ]
    }
   ],
   "source": [
    "mem_info = psutil.virtual_memory()\n",
    "print(f\"Total memory       : {mem_info.total}\")\n",
    "print(f\"Available memory   : {mem_info.available}\")\n",
    "print(f\"Memory percent used: {mem_info.percent}%\")"
   ]
  },
  {
   "cell_type": "code",
   "execution_count": 6,
   "metadata": {},
   "outputs": [
    {
     "name": "stdout",
     "output_type": "stream",
     "text": [
      "Total disk space       : 33636024320\n",
      "Free disk space        : 20402057216\n",
      "Disk space percent used: 36.0%\n"
     ]
    }
   ],
   "source": [
    "disk_usage = psutil.disk_usage(\"/\")\n",
    "print(f\"Total disk space       : {disk_usage.total}\")\n",
    "print(f\"Free disk space        : {disk_usage.free}\")\n",
    "print(f\"Disk space percent used: {disk_usage.percent}%\")"
   ]
  },
  {
   "cell_type": "code",
   "execution_count": 7,
   "metadata": {},
   "outputs": [
    {
     "name": "stdout",
     "output_type": "stream",
     "text": [
      "Number of processes: 22\n"
     ]
    }
   ],
   "source": [
    "# No of running processes\n",
    "\n",
    "num_processes = len(psutil.pids())\n",
    "print(f\"Number of processes: {num_processes}\")"
   ]
  },
  {
   "cell_type": "code",
   "execution_count": 8,
   "metadata": {},
   "outputs": [
    {
     "name": "stdout",
     "output_type": "stream",
     "text": [
      "Process name       : sh\n",
      "Process status     : sleeping\n",
      "Process memory info: pmem(rss=1572864, vms=2678784, shared=1572864, text=77824, lib=0, data=323584, dirty=0)\n",
      "Process CPU usage: 0.0%\n",
      "Process memory usage: 1572864\n",
      "Process start time: 1735048700.46\n",
      "Process command line: ['/bin/sh']\n",
      "\n",
      "Process name       : dockerd\n",
      "Process status     : sleeping\n",
      "Process memory info: pmem(rss=80412672, vms=2030850048, shared=54132736, text=31207424, lib=0, data=132014080, dirty=0)\n",
      "Process CPU usage: 0.0%\n",
      "Process memory usage: 80412672\n",
      "Process start time: 1735048722.68\n",
      "Process command line: ['dockerd', '--dns', '168.63.129.16']\n",
      "\n",
      "Process name       : containerd\n",
      "Process status     : sleeping\n",
      "Process memory info: pmem(rss=47013888, vms=1841758208, shared=31064064, text=19578880, lib=0, data=108998656, dirty=0)\n",
      "Process CPU usage: 0.0%\n",
      "Process memory usage: 47013888\n",
      "Process start time: 1735048722.74\n",
      "Process command line: ['containerd', '--config', '/var/run/docker/containerd/containerd.toml']\n",
      "\n",
      "Process name       : python\n",
      "Process status     : sleeping\n",
      "Process memory info: pmem(rss=80834560, vms=942878720, shared=16777216, text=2752512, lib=0, data=180604928, dirty=0)\n",
      "Process CPU usage: 0.0%\n",
      "Process memory usage: 80834560\n",
      "Process start time: 1735049259.16\n",
      "Process command line: ['/workspaces/PythonBatchNovDec2024/.venv/bin/python', '-m', 'ipykernel_launcher', '--f=/home/codespace/.local/share/jupyter/runtime/kernel-v3a126de019bfc7358292d828b1bbb78a61f61b1d9.json']\n",
      "\n",
      "Process name       : python3\n",
      "Process status     : running\n",
      "Process memory info: pmem(rss=68775936, vms=699293696, shared=17170432, text=2752512, lib=0, data=135942144, dirty=0)\n",
      "Process CPU usage: 0.0%\n",
      "Process memory usage: 68775936\n",
      "Process start time: 1735052474.67\n",
      "Process command line: ['/home/codespace/.python/current/bin/python3', '-m', 'ipykernel_launcher', '--f=/home/codespace/.local/share/jupyter/runtime/kernel-v37a6aa8568d6650b4e1d9e87c6223d83f9d48fdbb.json']\n",
      "\n"
     ]
    }
   ],
   "source": [
    "pids_5 = list(psutil.pids())[-5:]\n",
    "\n",
    "for pid in pids_5:\n",
    "    process = psutil.Process(pid)\n",
    "    print(f\"Process name       : {process.name()}\")\n",
    "    print(f\"Process status     : {process.status()}\")\n",
    "    print(f\"Process memory info: {process.memory_info()}\")\n",
    "\n",
    "    cpu_percent = process.cpu_percent(interval=1)\n",
    "    print(f\"Process CPU usage: {cpu_percent}%\")\n",
    "\n",
    "    memory_info = process.memory_info()\n",
    "    print(f\"Process memory usage: {memory_info.rss}\")\n",
    "\n",
    "    start_time = process.create_time()\n",
    "    print(f\"Process start time: {start_time}\")\n",
    "\n",
    "    cmdline = process.cmdline()\n",
    "    print(f\"Process command line: {cmdline}\")\n",
    "    print()"
   ]
  },
  {
   "cell_type": "code",
   "execution_count": 10,
   "metadata": {},
   "outputs": [
    {
     "name": "stdout",
     "output_type": "stream",
     "text": [
      "PID of python3: 29523\n"
     ]
    }
   ],
   "source": [
    "# Get the process ID (PID) of a process by name\n",
    "process_name = \"python3\"\n",
    "for proc in psutil.process_iter([\"name\"]):\n",
    "    if proc.info[\"name\"] == process_name:\n",
    "        print(f\"PID of {process_name}: {proc.pid}\")"
   ]
  },
  {
   "cell_type": "code",
   "execution_count": 11,
   "metadata": {},
   "outputs": [
    {
     "data": {
      "text/plain": [
       "{'lo': snetio(bytes_sent=264345586, bytes_recv=264345586, packets_sent=146607, packets_recv=146607, errin=0, errout=0, dropin=0, dropout=0),\n",
       " 'eth0': snetio(bytes_sent=286978578, bytes_recv=24091499797, packets_sent=1339207, packets_recv=16405894, errin=0, errout=0, dropin=0, dropout=0),\n",
       " 'enP8861s1': snetio(bytes_sent=293370300, bytes_recv=24399159591, packets_sent=1436017, packets_recv=17587477, errin=0, errout=0, dropin=205744, dropout=0),\n",
       " 'docker0': snetio(bytes_sent=0, bytes_recv=0, packets_sent=0, packets_recv=0, errin=0, errout=0, dropin=0, dropout=0)}"
      ]
     },
     "execution_count": 11,
     "metadata": {},
     "output_type": "execute_result"
    }
   ],
   "source": [
    "# Get the network usage for a given network interface\n",
    "\n",
    "net_io_counters = psutil.net_io_counters(pernic=True)\n",
    "\n",
    "net_io_counters"
   ]
  },
  {
   "cell_type": "code",
   "execution_count": 12,
   "metadata": {},
   "outputs": [
    {
     "name": "stdout",
     "output_type": "stream",
     "text": [
      "\n",
      "Bytes sent  : 264345586\n",
      "Bytes received: 264345586\n",
      "Packets sent  : 146607\n",
      "Packets received: 146607\n",
      "DropIn        : 0\n",
      "DropOut       : 0\n",
      "count         : <built-in method count of snetio object at 0x7375182e8900>\n",
      "\n",
      "Bytes sent  : 286978578\n",
      "Bytes received: 24091499797\n",
      "Packets sent  : 1339207\n",
      "Packets received: 16405894\n",
      "DropIn        : 0\n",
      "DropOut       : 0\n",
      "count         : <built-in method count of snetio object at 0x7375182e87b0>\n",
      "\n",
      "Bytes sent  : 293370300\n",
      "Bytes received: 24399159591\n",
      "Packets sent  : 1436017\n",
      "Packets received: 17587477\n",
      "DropIn        : 205744\n",
      "DropOut       : 0\n",
      "count         : <built-in method count of snetio object at 0x7375182e85f0>\n",
      "\n",
      "Bytes sent  : 0\n",
      "Bytes received: 0\n",
      "Packets sent  : 0\n",
      "Packets received: 0\n",
      "DropIn        : 0\n",
      "DropOut       : 0\n",
      "count         : <built-in method count of snetio object at 0x7375182e8820>\n"
     ]
    }
   ],
   "source": [
    "for interface in net_io_counters:\n",
    "    print(f\"\\nBytes sent  : {net_io_counters[interface].bytes_sent}\")\n",
    "    print(f\"Bytes received: {net_io_counters[interface].bytes_recv}\")\n",
    "    print(f\"Packets sent  : {net_io_counters[interface].packets_sent}\")\n",
    "    print(f\"Packets received: {net_io_counters[interface].packets_recv}\")\n",
    "    print(f\"DropIn        : {net_io_counters[interface].dropin}\")\n",
    "    print(f\"DropOut       : {net_io_counters[interface].dropout}\")\n",
    "    print(f\"count         : {net_io_counters[interface].count}\")"
   ]
  },
  {
   "cell_type": "code",
   "execution_count": 13,
   "metadata": {},
   "outputs": [
    {
     "name": "stdout",
     "output_type": "stream",
     "text": [
      "Number of connections: 57\n"
     ]
    }
   ],
   "source": [
    "num_connections = len(psutil.net_connections())\n",
    "print(f\"Number of connections: {num_connections}\")"
   ]
  },
  {
   "cell_type": "code",
   "execution_count": 14,
   "metadata": {},
   "outputs": [
    {
     "name": "stdout",
     "output_type": "stream",
     "text": [
      "/\n",
      "/proc\n",
      "/dev\n",
      "/dev/pts\n",
      "/sys\n",
      "/sys/fs/cgroup\n",
      "/dev/mqueue\n",
      "/dev/shm\n",
      "/usr/sbin/docker-init\n",
      "/tmp\n",
      "/vscode\n",
      "/workspaces\n",
      "/.codespaces/bin\n",
      "/etc/resolv.conf\n",
      "/etc/hostname\n",
      "/etc/hosts\n",
      "/workspaces/.codespaces/.persistedshare\n",
      "/workspaces/.codespaces/shared\n",
      "/home/vscode/.minikube\n",
      "/var/lib/docker\n",
      "/sys/kernel/security\n"
     ]
    }
   ],
   "source": [
    "# Get the list of mounted file systems\n",
    "\n",
    "partitions = psutil.disk_partitions(all=True)\n",
    "for partition in partitions:\n",
    "    print(partition.mountpoint)"
   ]
  },
  {
   "cell_type": "code",
   "execution_count": 15,
   "metadata": {},
   "outputs": [
    {
     "name": "stdout",
     "output_type": "stream",
     "text": [
      "Battery information not available\n"
     ]
    }
   ],
   "source": [
    "battery = psutil.sensors_battery()\n",
    "if battery is not None:\n",
    "    plugged = \"Plugged in\" if battery.power_plugged else \"Not plugged in\"\n",
    "    print(f\"Battery level: {battery.percent}% ({plugged})\")\n",
    "else:\n",
    "    print(\"Battery information not available\")"
   ]
  },
  {
   "cell_type": "code",
   "execution_count": null,
   "metadata": {},
   "outputs": [],
   "source": []
  }
 ],
 "metadata": {
  "kernelspec": {
   "display_name": "Python 3",
   "language": "python",
   "name": "python3"
  },
  "language_info": {
   "codemirror_mode": {
    "name": "ipython",
    "version": 3
   },
   "file_extension": ".py",
   "mimetype": "text/x-python",
   "name": "python",
   "nbconvert_exporter": "python",
   "pygments_lexer": "ipython3",
   "version": "3.12.1"
  }
 },
 "nbformat": 4,
 "nbformat_minor": 2
}
