{
 "cells": [
  {
   "cell_type": "markdown",
   "metadata": {},
   "source": [
    "# os module\n",
    "\n",
    "    "
   ]
  },
  {
   "cell_type": "code",
   "execution_count": 1,
   "metadata": {},
   "outputs": [],
   "source": [
    "import os"
   ]
  },
  {
   "cell_type": "code",
   "execution_count": 2,
   "metadata": {},
   "outputs": [
    {
     "data": {
      "text/plain": [
       "<module 'os' (frozen)>"
      ]
     },
     "execution_count": 2,
     "metadata": {},
     "output_type": "execute_result"
    }
   ],
   "source": [
    "os"
   ]
  },
  {
   "cell_type": "code",
   "execution_count": 3,
   "metadata": {},
   "outputs": [
    {
     "data": {
      "text/plain": [
       "['CLD_CONTINUED',\n",
       " 'CLD_DUMPED',\n",
       " 'CLD_EXITED',\n",
       " 'CLD_KILLED',\n",
       " 'CLD_STOPPED',\n",
       " 'CLD_TRAPPED',\n",
       " 'CLONE_FILES',\n",
       " 'CLONE_FS',\n",
       " 'CLONE_NEWCGROUP',\n",
       " 'CLONE_NEWIPC',\n",
       " 'CLONE_NEWNET',\n",
       " 'CLONE_NEWNS',\n",
       " 'CLONE_NEWPID',\n",
       " 'CLONE_NEWUSER',\n",
       " 'CLONE_NEWUTS',\n",
       " 'CLONE_SIGHAND',\n",
       " 'CLONE_SYSVSEM',\n",
       " 'CLONE_THREAD',\n",
       " 'CLONE_VM',\n",
       " 'DirEntry',\n",
       " 'EFD_CLOEXEC',\n",
       " 'EFD_NONBLOCK',\n",
       " 'EFD_SEMAPHORE',\n",
       " 'EX_CANTCREAT',\n",
       " 'EX_CONFIG',\n",
       " 'EX_DATAERR',\n",
       " 'EX_IOERR',\n",
       " 'EX_NOHOST',\n",
       " 'EX_NOINPUT',\n",
       " 'EX_NOPERM',\n",
       " 'EX_NOUSER',\n",
       " 'EX_OK',\n",
       " 'EX_OSERR',\n",
       " 'EX_OSFILE',\n",
       " 'EX_PROTOCOL',\n",
       " 'EX_SOFTWARE',\n",
       " 'EX_TEMPFAIL',\n",
       " 'EX_UNAVAILABLE',\n",
       " 'EX_USAGE',\n",
       " 'F_LOCK',\n",
       " 'F_OK',\n",
       " 'F_TEST',\n",
       " 'F_TLOCK',\n",
       " 'F_ULOCK',\n",
       " 'GRND_NONBLOCK',\n",
       " 'GRND_RANDOM',\n",
       " 'GenericAlias',\n",
       " 'MFD_ALLOW_SEALING',\n",
       " 'MFD_CLOEXEC',\n",
       " 'MFD_HUGETLB',\n",
       " 'MFD_HUGE_16GB',\n",
       " 'MFD_HUGE_16MB',\n",
       " 'MFD_HUGE_1GB',\n",
       " 'MFD_HUGE_1MB',\n",
       " 'MFD_HUGE_256MB',\n",
       " 'MFD_HUGE_2GB',\n",
       " 'MFD_HUGE_2MB',\n",
       " 'MFD_HUGE_32MB',\n",
       " 'MFD_HUGE_512KB',\n",
       " 'MFD_HUGE_512MB',\n",
       " 'MFD_HUGE_64KB',\n",
       " 'MFD_HUGE_8MB',\n",
       " 'MFD_HUGE_MASK',\n",
       " 'MFD_HUGE_SHIFT',\n",
       " 'Mapping',\n",
       " 'MutableMapping',\n",
       " 'NGROUPS_MAX',\n",
       " 'O_ACCMODE',\n",
       " 'O_APPEND',\n",
       " 'O_ASYNC',\n",
       " 'O_CLOEXEC',\n",
       " 'O_CREAT',\n",
       " 'O_DIRECT',\n",
       " 'O_DIRECTORY',\n",
       " 'O_DSYNC',\n",
       " 'O_EXCL',\n",
       " 'O_FSYNC',\n",
       " 'O_LARGEFILE',\n",
       " 'O_NDELAY',\n",
       " 'O_NOATIME',\n",
       " 'O_NOCTTY',\n",
       " 'O_NOFOLLOW',\n",
       " 'O_NONBLOCK',\n",
       " 'O_PATH',\n",
       " 'O_RDONLY',\n",
       " 'O_RDWR',\n",
       " 'O_RSYNC',\n",
       " 'O_SYNC',\n",
       " 'O_TMPFILE',\n",
       " 'O_TRUNC',\n",
       " 'O_WRONLY',\n",
       " 'POSIX_FADV_DONTNEED',\n",
       " 'POSIX_FADV_NOREUSE',\n",
       " 'POSIX_FADV_NORMAL',\n",
       " 'POSIX_FADV_RANDOM',\n",
       " 'POSIX_FADV_SEQUENTIAL',\n",
       " 'POSIX_FADV_WILLNEED',\n",
       " 'POSIX_SPAWN_CLOSE',\n",
       " 'POSIX_SPAWN_DUP2',\n",
       " 'POSIX_SPAWN_OPEN',\n",
       " 'PRIO_PGRP',\n",
       " 'PRIO_PROCESS',\n",
       " 'PRIO_USER',\n",
       " 'P_ALL',\n",
       " 'P_NOWAIT',\n",
       " 'P_NOWAITO',\n",
       " 'P_PGID',\n",
       " 'P_PID',\n",
       " 'P_PIDFD',\n",
       " 'P_WAIT',\n",
       " 'PathLike',\n",
       " 'RTLD_DEEPBIND',\n",
       " 'RTLD_GLOBAL',\n",
       " 'RTLD_LAZY',\n",
       " 'RTLD_LOCAL',\n",
       " 'RTLD_NODELETE',\n",
       " 'RTLD_NOLOAD',\n",
       " 'RTLD_NOW',\n",
       " 'RWF_APPEND',\n",
       " 'RWF_DSYNC',\n",
       " 'RWF_HIPRI',\n",
       " 'RWF_NOWAIT',\n",
       " 'RWF_SYNC',\n",
       " 'R_OK',\n",
       " 'SCHED_BATCH',\n",
       " 'SCHED_FIFO',\n",
       " 'SCHED_IDLE',\n",
       " 'SCHED_OTHER',\n",
       " 'SCHED_RESET_ON_FORK',\n",
       " 'SCHED_RR',\n",
       " 'SEEK_CUR',\n",
       " 'SEEK_DATA',\n",
       " 'SEEK_END',\n",
       " 'SEEK_HOLE',\n",
       " 'SEEK_SET',\n",
       " 'SPLICE_F_MORE',\n",
       " 'SPLICE_F_MOVE',\n",
       " 'SPLICE_F_NONBLOCK',\n",
       " 'ST_APPEND',\n",
       " 'ST_MANDLOCK',\n",
       " 'ST_NOATIME',\n",
       " 'ST_NODEV',\n",
       " 'ST_NODIRATIME',\n",
       " 'ST_NOEXEC',\n",
       " 'ST_NOSUID',\n",
       " 'ST_RDONLY',\n",
       " 'ST_RELATIME',\n",
       " 'ST_SYNCHRONOUS',\n",
       " 'ST_WRITE',\n",
       " 'TMP_MAX',\n",
       " 'WCONTINUED',\n",
       " 'WCOREDUMP',\n",
       " 'WEXITED',\n",
       " 'WEXITSTATUS',\n",
       " 'WIFCONTINUED',\n",
       " 'WIFEXITED',\n",
       " 'WIFSIGNALED',\n",
       " 'WIFSTOPPED',\n",
       " 'WNOHANG',\n",
       " 'WNOWAIT',\n",
       " 'WSTOPPED',\n",
       " 'WSTOPSIG',\n",
       " 'WTERMSIG',\n",
       " 'WUNTRACED',\n",
       " 'W_OK',\n",
       " 'XATTR_CREATE',\n",
       " 'XATTR_REPLACE',\n",
       " 'XATTR_SIZE_MAX',\n",
       " 'X_OK',\n",
       " '_Environ',\n",
       " '__all__',\n",
       " '__builtins__',\n",
       " '__doc__',\n",
       " '__file__',\n",
       " '__loader__',\n",
       " '__name__',\n",
       " '__package__',\n",
       " '__spec__',\n",
       " '_check_methods',\n",
       " '_execvpe',\n",
       " '_exists',\n",
       " '_exit',\n",
       " '_fspath',\n",
       " '_fwalk',\n",
       " '_get_exports_list',\n",
       " '_spawnvef',\n",
       " '_wrap_close',\n",
       " 'abc',\n",
       " 'abort',\n",
       " 'access',\n",
       " 'altsep',\n",
       " 'chdir',\n",
       " 'chmod',\n",
       " 'chown',\n",
       " 'chroot',\n",
       " 'close',\n",
       " 'closerange',\n",
       " 'confstr',\n",
       " 'confstr_names',\n",
       " 'copy_file_range',\n",
       " 'cpu_count',\n",
       " 'ctermid',\n",
       " 'curdir',\n",
       " 'defpath',\n",
       " 'device_encoding',\n",
       " 'devnull',\n",
       " 'dup',\n",
       " 'dup2',\n",
       " 'environ',\n",
       " 'environb',\n",
       " 'error',\n",
       " 'eventfd',\n",
       " 'eventfd_read',\n",
       " 'eventfd_write',\n",
       " 'execl',\n",
       " 'execle',\n",
       " 'execlp',\n",
       " 'execlpe',\n",
       " 'execv',\n",
       " 'execve',\n",
       " 'execvp',\n",
       " 'execvpe',\n",
       " 'extsep',\n",
       " 'fchdir',\n",
       " 'fchmod',\n",
       " 'fchown',\n",
       " 'fdatasync',\n",
       " 'fdopen',\n",
       " 'fork',\n",
       " 'forkpty',\n",
       " 'fpathconf',\n",
       " 'fsdecode',\n",
       " 'fsencode',\n",
       " 'fspath',\n",
       " 'fstat',\n",
       " 'fstatvfs',\n",
       " 'fsync',\n",
       " 'ftruncate',\n",
       " 'fwalk',\n",
       " 'get_blocking',\n",
       " 'get_exec_path',\n",
       " 'get_inheritable',\n",
       " 'get_terminal_size',\n",
       " 'getcwd',\n",
       " 'getcwdb',\n",
       " 'getegid',\n",
       " 'getenv',\n",
       " 'getenvb',\n",
       " 'geteuid',\n",
       " 'getgid',\n",
       " 'getgrouplist',\n",
       " 'getgroups',\n",
       " 'getloadavg',\n",
       " 'getlogin',\n",
       " 'getpgid',\n",
       " 'getpgrp',\n",
       " 'getpid',\n",
       " 'getppid',\n",
       " 'getpriority',\n",
       " 'getrandom',\n",
       " 'getresgid',\n",
       " 'getresuid',\n",
       " 'getsid',\n",
       " 'getuid',\n",
       " 'getxattr',\n",
       " 'initgroups',\n",
       " 'isatty',\n",
       " 'kill',\n",
       " 'killpg',\n",
       " 'lchown',\n",
       " 'linesep',\n",
       " 'link',\n",
       " 'listdir',\n",
       " 'listxattr',\n",
       " 'lockf',\n",
       " 'login_tty',\n",
       " 'lseek',\n",
       " 'lstat',\n",
       " 'major',\n",
       " 'makedev',\n",
       " 'makedirs',\n",
       " 'memfd_create',\n",
       " 'minor',\n",
       " 'mkdir',\n",
       " 'mkfifo',\n",
       " 'mknod',\n",
       " 'name',\n",
       " 'nice',\n",
       " 'open',\n",
       " 'openpty',\n",
       " 'pardir',\n",
       " 'path',\n",
       " 'pathconf',\n",
       " 'pathconf_names',\n",
       " 'pathsep',\n",
       " 'pidfd_open',\n",
       " 'pipe',\n",
       " 'pipe2',\n",
       " 'popen',\n",
       " 'posix_fadvise',\n",
       " 'posix_fallocate',\n",
       " 'posix_spawn',\n",
       " 'posix_spawnp',\n",
       " 'pread',\n",
       " 'preadv',\n",
       " 'putenv',\n",
       " 'pwrite',\n",
       " 'pwritev',\n",
       " 'read',\n",
       " 'readlink',\n",
       " 'readv',\n",
       " 'register_at_fork',\n",
       " 'remove',\n",
       " 'removedirs',\n",
       " 'removexattr',\n",
       " 'rename',\n",
       " 'renames',\n",
       " 'replace',\n",
       " 'rmdir',\n",
       " 'scandir',\n",
       " 'sched_get_priority_max',\n",
       " 'sched_get_priority_min',\n",
       " 'sched_getaffinity',\n",
       " 'sched_getparam',\n",
       " 'sched_getscheduler',\n",
       " 'sched_param',\n",
       " 'sched_rr_get_interval',\n",
       " 'sched_setaffinity',\n",
       " 'sched_setparam',\n",
       " 'sched_setscheduler',\n",
       " 'sched_yield',\n",
       " 'sendfile',\n",
       " 'sep',\n",
       " 'set_blocking',\n",
       " 'set_inheritable',\n",
       " 'setegid',\n",
       " 'seteuid',\n",
       " 'setgid',\n",
       " 'setgroups',\n",
       " 'setns',\n",
       " 'setpgid',\n",
       " 'setpgrp',\n",
       " 'setpriority',\n",
       " 'setregid',\n",
       " 'setresgid',\n",
       " 'setresuid',\n",
       " 'setreuid',\n",
       " 'setsid',\n",
       " 'setuid',\n",
       " 'setxattr',\n",
       " 'spawnl',\n",
       " 'spawnle',\n",
       " 'spawnlp',\n",
       " 'spawnlpe',\n",
       " 'spawnv',\n",
       " 'spawnve',\n",
       " 'spawnvp',\n",
       " 'spawnvpe',\n",
       " 'splice',\n",
       " 'st',\n",
       " 'stat',\n",
       " 'stat_result',\n",
       " 'statvfs',\n",
       " 'statvfs_result',\n",
       " 'strerror',\n",
       " 'supports_bytes_environ',\n",
       " 'supports_dir_fd',\n",
       " 'supports_effective_ids',\n",
       " 'supports_fd',\n",
       " 'supports_follow_symlinks',\n",
       " 'symlink',\n",
       " 'sync',\n",
       " 'sys',\n",
       " 'sysconf',\n",
       " 'sysconf_names',\n",
       " 'system',\n",
       " 'tcgetpgrp',\n",
       " 'tcsetpgrp',\n",
       " 'terminal_size',\n",
       " 'times',\n",
       " 'times_result',\n",
       " 'truncate',\n",
       " 'ttyname',\n",
       " 'umask',\n",
       " 'uname',\n",
       " 'uname_result',\n",
       " 'unlink',\n",
       " 'unsetenv',\n",
       " 'unshare',\n",
       " 'urandom',\n",
       " 'utime',\n",
       " 'wait',\n",
       " 'wait3',\n",
       " 'wait4',\n",
       " 'waitid',\n",
       " 'waitid_result',\n",
       " 'waitpid',\n",
       " 'waitstatus_to_exitcode',\n",
       " 'walk',\n",
       " 'write',\n",
       " 'writev']"
      ]
     },
     "execution_count": 3,
     "metadata": {},
     "output_type": "execute_result"
    }
   ],
   "source": [
    "dir(os)"
   ]
  },
  {
   "cell_type": "code",
   "execution_count": 4,
   "metadata": {},
   "outputs": [
    {
     "name": "stdout",
     "output_type": "stream",
     "text": [
      "OS routines for NT or Posix depending on what system we're on.\n",
      "\n",
      "This exports:\n",
      "  - all functions from posix or nt, e.g. unlink, stat, etc.\n",
      "  - os.path is either posixpath or ntpath\n",
      "  - os.name is either 'posix' or 'nt'\n",
      "  - os.curdir is a string representing the current directory (always '.')\n",
      "  - os.pardir is a string representing the parent directory (always '..')\n",
      "  - os.sep is the (or a most common) pathname separator ('/' or '\\\\')\n",
      "  - os.extsep is the extension separator (always '.')\n",
      "  - os.altsep is the alternate pathname separator (None or '/')\n",
      "  - os.pathsep is the component separator used in $PATH etc\n",
      "  - os.linesep is the line separator in text files ('\\r' or '\\n' or '\\r\\n')\n",
      "  - os.defpath is the default search path for executables\n",
      "  - os.devnull is the file path of the null device ('/dev/null', etc.)\n",
      "\n",
      "Programs that import and use 'os' stand a better chance of being\n",
      "portable between different platforms.  Of course, they must then\n",
      "only use functions that are defined by all platforms (e.g., unlink\n",
      "and opendir), and leave all pathname manipulation to os.path\n",
      "(e.g., split and join).\n",
      "\n"
     ]
    }
   ],
   "source": [
    "print(os.__doc__)"
   ]
  },
  {
   "cell_type": "code",
   "execution_count": 5,
   "metadata": {},
   "outputs": [
    {
     "name": "stdout",
     "output_type": "stream",
     "text": [
      "There are 2 CPU's in this system.\n"
     ]
    }
   ],
   "source": [
    "print(f\"There are {os.cpu_count()} CPU's in this system.\")"
   ]
  },
  {
   "cell_type": "code",
   "execution_count": 6,
   "metadata": {},
   "outputs": [
    {
     "name": "stdout",
     "output_type": "stream",
     "text": [
      "[Errno 6] No such device or address\n"
     ]
    }
   ],
   "source": [
    "try:\n",
    "    f\"logged_in_user_name is {os.getlogin()}\"\n",
    "except OSError as ex:\n",
    "    print(ex)"
   ]
  },
  {
   "cell_type": "code",
   "execution_count": 7,
   "metadata": {},
   "outputs": [
    {
     "name": "stdout",
     "output_type": "stream",
     "text": [
      "Here is a proper 10-byte random number: b'WmdG\\xa9n\\x9eRl\\xa2'.\n"
     ]
    }
   ],
   "source": [
    "print(f\"Here is a proper 10-byte random number: {str(os.urandom(10))}.\")"
   ]
  },
  {
   "cell_type": "code",
   "execution_count": 8,
   "metadata": {},
   "outputs": [
    {
     "name": "stdout",
     "output_type": "stream",
     "text": [
      "Here is a proper 10-byte random number: b'\\xb9\\x1d\\xe6\\x98\\x88!\\xd0\\x84\\xe5;'.\n"
     ]
    }
   ],
   "source": [
    "print(f\"Here is a proper 10-byte random number: {str(os.urandom(10))}.\")"
   ]
  },
  {
   "cell_type": "code",
   "execution_count": 9,
   "metadata": {},
   "outputs": [
    {
     "name": "stdout",
     "output_type": "stream",
     "text": [
      "Here is a proper 10-byte random number: b'\\xa5y\\xaf\\x9b<\\xd4Ci_x'.\n"
     ]
    }
   ],
   "source": [
    "print(f\"Here is a proper 10-byte random number: {str(os.urandom(10))}.\")"
   ]
  },
  {
   "cell_type": "code",
   "execution_count": 10,
   "metadata": {},
   "outputs": [
    {
     "name": "stdout",
     "output_type": "stream",
     "text": [
      " \n",
      "os.altsep =None\n",
      "os.curdir ='.'\n",
      "os.extsep ='.'\n",
      "os.linesep='\\n'\n",
      "os.name   ='posix'\n",
      "os.pardir ='..'\n",
      "os.pathsep=':'\n",
      "os.sep    ='/'\n",
      "\n"
     ]
    }
   ],
   "source": [
    "print(\n",
    "    f\"\"\" \n",
    "{os.altsep =}\n",
    "{os.curdir =}\n",
    "{os.extsep =}\n",
    "{os.linesep=}\n",
    "{os.name   =}\n",
    "{os.pardir =}\n",
    "{os.pathsep=}\n",
    "{os.sep    =}\n",
    "\"\"\"\n",
    ")"
   ]
  },
  {
   "cell_type": "code",
   "execution_count": 11,
   "metadata": {},
   "outputs": [
    {
     "data": {
      "text/plain": [
       "'posix'"
      ]
     },
     "execution_count": 11,
     "metadata": {},
     "output_type": "execute_result"
    }
   ],
   "source": [
    "os.name\n",
    "# The name of the operating system dependent module imported.\n",
    "# The following names have currently been registered: 'posix', 'nt', 'java'."
   ]
  },
  {
   "cell_type": "code",
   "execution_count": 12,
   "metadata": {},
   "outputs": [
    {
     "data": {
      "text/plain": [
       "'/dev/null'"
      ]
     },
     "execution_count": 12,
     "metadata": {},
     "output_type": "execute_result"
    }
   ],
   "source": [
    "os.devnull  # The file path of the null device. For example: '/dev/null' for POSIX, 'nul' for Windows"
   ]
  },
  {
   "cell_type": "markdown",
   "metadata": {},
   "source": []
  },
  {
   "cell_type": "code",
   "execution_count": 13,
   "metadata": {},
   "outputs": [
    {
     "data": {
      "text/plain": [
       "'/bin:/usr/bin'"
      ]
     },
     "execution_count": 13,
     "metadata": {},
     "output_type": "execute_result"
    }
   ],
   "source": [
    "os.defpath"
   ]
  },
  {
   "cell_type": "markdown",
   "metadata": {},
   "source": [
    "    os.times\n",
    "\n",
    "        user            - user time\n",
    "        system          - system time\n",
    "        children_user   - user time of all child processes\n",
    "        children_system - system time of all child processes\n",
    "        elapsed         - elapsed real time since a fixed point in the past"
   ]
  },
  {
   "cell_type": "code",
   "execution_count": 14,
   "metadata": {},
   "outputs": [
    {
     "data": {
      "text/plain": [
       "posix.times_result(user=0.83, system=0.14, children_user=0.0, children_system=0.0, elapsed=17179805.74)"
      ]
     },
     "execution_count": 14,
     "metadata": {},
     "output_type": "execute_result"
    }
   ],
   "source": [
    "os.times()"
   ]
  },
  {
   "cell_type": "code",
   "execution_count": 15,
   "metadata": {},
   "outputs": [
    {
     "data": {
      "text/plain": [
       "b'\\xbb\\xa3F\\x97\\x15\\xfaA\\xf7\\xdd\\xa3'"
      ]
     },
     "execution_count": 15,
     "metadata": {},
     "output_type": "execute_result"
    }
   ],
   "source": [
    "os.urandom(10)"
   ]
  },
  {
   "cell_type": "code",
   "execution_count": 16,
   "metadata": {},
   "outputs": [
    {
     "name": "stdout",
     "output_type": "stream",
     "text": [
      "0 b''\n",
      "1 b'O'\n",
      "2 b'\\x0c\\x9e'\n",
      "3 b'\\xa6\\xc4\\x02'\n",
      "4 b'\\xe5\\xd5:\\n'\n",
      "5 b'~Jo\\xd9\\x80'\n",
      "6 b'\\xe6+\\xca\\xd5>\\x92'\n",
      "7 b'P\\t\\x9b\\xff\\xf3\\xfb\\x80'\n",
      "8 b'\\xa7\\xe5\\r\\xbd\\x14\\x98\\xa8q'\n"
     ]
    }
   ],
   "source": [
    "for i in range(0, 9):\n",
    "    print(i, os.urandom(i))"
   ]
  },
  {
   "cell_type": "code",
   "execution_count": 17,
   "metadata": {},
   "outputs": [],
   "source": [
    "# os.environ"
   ]
  },
  {
   "cell_type": "code",
   "execution_count": 18,
   "metadata": {},
   "outputs": [],
   "source": [
    "if os.environ['USER'] != 'codespace':\n",
    "    print(\n",
    "        f\"\"\"\n",
    "    os.environ['OS']                    : {os.environ['OS']}\n",
    "    os.environ['PROCESSOR_ARCHITECTURE']: {os.environ['PROCESSOR_ARCHITECTURE']}\n",
    "    os.environ['PROCESSOR_IDENTIFIER']  : {os.environ['PROCESSOR_IDENTIFIER']}\n",
    "    os.environ['PROCESSOR_LEVEL']       : {os.environ['PROCESSOR_LEVEL']}\n",
    "\n",
    "    os.environ['TEMP']                  : {os.environ['TEMP']}\n",
    "    os.environ['TMP']                   : {os.environ['TMP']}\n",
    "\n",
    "    os.environ['COMPUTERNAME']          : {os.environ['COMPUTERNAME']}\n",
    "    os.environ['HOMEDRIVE']             : {os.environ['HOMEDRIVE']}\n",
    "    os.environ['USERNAME']              : {os.environ['USERNAME']}\n",
    "    os.environ['USERDOMAIN']            : {os.environ['USERDOMAIN']}\n",
    "    \"\"\"\n",
    "    )"
   ]
  },
  {
   "cell_type": "code",
   "execution_count": 19,
   "metadata": {},
   "outputs": [
    {
     "data": {
      "text/plain": [
       "'/usr/local/python/current'"
      ]
     },
     "execution_count": 19,
     "metadata": {},
     "output_type": "execute_result"
    }
   ],
   "source": [
    "os.getenv(\"PYTHON_PATH\", \"No Set Yet\")"
   ]
  },
  {
   "cell_type": "code",
   "execution_count": 20,
   "metadata": {},
   "outputs": [
    {
     "data": {
      "text/plain": [
       "'Not Set Yet'"
      ]
     },
     "execution_count": 20,
     "metadata": {},
     "output_type": "execute_result"
    }
   ],
   "source": [
    "# export PYTHONSTARTUP=/path/to/your/script.py\n",
    "# set PYTHONSTARTUP=C:\\path\\to\\your\\script.py\n",
    "\n",
    "# If set, that script will execute, everytime a new interactive mode of Python is started\n",
    "\n",
    "os.getenv(\"PYTHONSTARTUP\", \"Not Set Yet\")"
   ]
  },
  {
   "cell_type": "code",
   "execution_count": 21,
   "metadata": {},
   "outputs": [],
   "source": [
    "os.getenv(\"TEMP\")"
   ]
  },
  {
   "cell_type": "code",
   "execution_count": 22,
   "metadata": {},
   "outputs": [
    {
     "data": {
      "text/plain": [
       "'No such key'"
      ]
     },
     "execution_count": 22,
     "metadata": {},
     "output_type": "execute_result"
    }
   ],
   "source": [
    "# Adding new environment variable\n",
    "\n",
    "os.putenv(\"A\", \"Apple\")  # wont change the\n",
    "\n",
    "os.getenv(\"A\", \"No such key\")\n"
   ]
  },
  {
   "cell_type": "code",
   "execution_count": 23,
   "metadata": {},
   "outputs": [
    {
     "data": {
      "text/plain": [
       "'Apple'"
      ]
     },
     "execution_count": 23,
     "metadata": {},
     "output_type": "execute_result"
    }
   ],
   "source": [
    "os.environ[\"A\"] = \"Apple\"  # modifies environment variables\n",
    "\n",
    "os.getenv(\"A\", \"No such key\")\n"
   ]
  },
  {
   "cell_type": "code",
   "execution_count": 24,
   "metadata": {},
   "outputs": [
    {
     "name": "stdout",
     "output_type": "stream",
     "text": [
      "/bin\n",
      "/go/bin\n",
      "/home/codespace/.dotnet\n",
      "/home/codespace/.dotnet/tools\n",
      "/home/codespace/.local/bin\n",
      "/home/codespace/.local/bin\n",
      "/home/codespace/.php/current/bin\n",
      "/home/codespace/.python/current/bin\n",
      "/home/codespace/.ruby/current/bin\n",
      "/home/codespace/java/current/bin\n",
      "/home/codespace/nvm/current/bin\n",
      "/opt/conda/bin\n",
      "/sbin\n",
      "/usr/bin\n",
      "/usr/local/bin\n",
      "/usr/local/go/bin\n",
      "/usr/local/hugo/bin\n",
      "/usr/local/nvs\n",
      "/usr/local/oryx\n",
      "/usr/local/php/current/bin\n",
      "/usr/local/py-utils/bin\n",
      "/usr/local/python/current/bin\n",
      "/usr/local/rvm/bin\n",
      "/usr/local/rvm/gems/default/bin\n",
      "/usr/local/rvm/gems/default@global/bin\n",
      "/usr/local/rvm/rubies/default/bin\n",
      "/usr/local/sbin\n",
      "/usr/local/sdkman/bin\n",
      "/usr/local/sdkman/candidates/ant/current/bin\n",
      "/usr/local/sdkman/candidates/gradle/current/bin\n",
      "/usr/local/sdkman/candidates/java/current/bin\n",
      "/usr/local/sdkman/candidates/maven/current/bin\n",
      "/usr/local/share/nvm/current/bin\n",
      "/usr/local/share/rbenv/bin\n",
      "/usr/sbin\n",
      "/usr/share/dotnet\n",
      "/vscode/bin/linux-x64/fabdb6a30b49f79a7aba0f2ad9df9b399473380f/bin/remote-cli\n",
      "/workspaces/PythonBatchNovDec2024/.venv/bin\n"
     ]
    }
   ],
   "source": [
    "for each_path in sorted(os.get_exec_path()):\n",
    "    print(each_path)\n",
    "# Returns the list of directories that will be searched for a named executable, when launching a process.\n"
   ]
  },
  {
   "cell_type": "code",
   "execution_count": 25,
   "metadata": {},
   "outputs": [],
   "source": [
    "import getpass\n",
    "\n",
    "assert (\n",
    "    getpass.getuser()\n",
    "    # == os.getlogin()\n",
    "    == os.environ[\"USER\"]  # USERNAME\n",
    "    == os.getenv(\"USER\")\n",
    ")"
   ]
  },
  {
   "cell_type": "code",
   "execution_count": 26,
   "metadata": {},
   "outputs": [
    {
     "data": {
      "text/plain": [
       "('codespace', 'codespace')"
      ]
     },
     "execution_count": 26,
     "metadata": {},
     "output_type": "execute_result"
    }
   ],
   "source": [
    "getpass.getuser(), os.environ['USER']"
   ]
  },
  {
   "cell_type": "code",
   "execution_count": 27,
   "metadata": {},
   "outputs": [
    {
     "data": {
      "text/plain": [
       "2011"
      ]
     },
     "execution_count": 27,
     "metadata": {},
     "output_type": "execute_result"
    }
   ],
   "source": [
    "os.getpid()  # Return the parent’s process id."
   ]
  },
  {
   "cell_type": "code",
   "execution_count": 28,
   "metadata": {},
   "outputs": [
    {
     "data": {
      "text/plain": [
       "'/workspaces/PythonBatchNovDec2024/10_modules/04a_os_module'"
      ]
     },
     "execution_count": 28,
     "metadata": {},
     "output_type": "execute_result"
    }
   ],
   "source": [
    "os.getcwd()\n"
   ]
  },
  {
   "cell_type": "code",
   "execution_count": 29,
   "metadata": {},
   "outputs": [
    {
     "name": "stdout",
     "output_type": "stream",
     "text": [
      "my\n",
      "ewfolder\n"
     ]
    }
   ],
   "source": [
    "print(\"my\\newfolder\")\n"
   ]
  },
  {
   "cell_type": "code",
   "execution_count": 30,
   "metadata": {},
   "outputs": [
    {
     "name": "stdout",
     "output_type": "stream",
     "text": [
      "my\\newfolder\n"
     ]
    }
   ],
   "source": [
    "print(\"my\\\\newfolder\")\n"
   ]
  },
  {
   "cell_type": "code",
   "execution_count": 31,
   "metadata": {},
   "outputs": [
    {
     "name": "stdout",
     "output_type": "stream",
     "text": [
      "my\\newfolder\n"
     ]
    }
   ],
   "source": [
    "print(r\"my\\newfolder\")\n"
   ]
  },
  {
   "cell_type": "code",
   "execution_count": 32,
   "metadata": {},
   "outputs": [
    {
     "name": "stdout",
     "output_type": "stream",
     "text": [
      "my\\newfolde\\sdas\\asd\\asd\\asd\\asdasd\\asd\\asd\n"
     ]
    }
   ],
   "source": [
    "print(r\"my\\newfolde\\sdas\\asd\\asd\\asd\\asdasd\\asd\\asd\")"
   ]
  },
  {
   "cell_type": "code",
   "execution_count": 33,
   "metadata": {},
   "outputs": [
    {
     "name": "stdout",
     "output_type": "stream",
     "text": [
      "my/newfol/der\n"
     ]
    }
   ],
   "source": [
    "print(\"my/newfol/der\")  # POSIX paths works in NT also"
   ]
  },
  {
   "cell_type": "code",
   "execution_count": 34,
   "metadata": {},
   "outputs": [
    {
     "data": {
      "text/plain": [
       "'/workspaces/PythonBatchNovDec2024/10_modules/04a_os_module'"
      ]
     },
     "execution_count": 34,
     "metadata": {},
     "output_type": "execute_result"
    }
   ],
   "source": [
    "os.getcwd()"
   ]
  },
  {
   "cell_type": "code",
   "execution_count": 35,
   "metadata": {},
   "outputs": [
    {
     "data": {
      "text/plain": [
       "['a_os_module.ipynb', 'css']"
      ]
     },
     "execution_count": 35,
     "metadata": {},
     "output_type": "execute_result"
    }
   ],
   "source": [
    "os.listdir()"
   ]
  },
  {
   "cell_type": "code",
   "execution_count": 36,
   "metadata": {},
   "outputs": [
    {
     "data": {
      "text/plain": [
       "['a_os_module.ipynb', 'css']"
      ]
     },
     "execution_count": 36,
     "metadata": {},
     "output_type": "execute_result"
    }
   ],
   "source": [
    "os.listdir('.')"
   ]
  },
  {
   "cell_type": "code",
   "execution_count": 37,
   "metadata": {},
   "outputs": [
    {
     "data": {
      "text/plain": [
       "['a_os_module.ipynb', 'css']"
      ]
     },
     "execution_count": 37,
     "metadata": {},
     "output_type": "execute_result"
    }
   ],
   "source": [
    "os.listdir(os.curdir)"
   ]
  },
  {
   "cell_type": "code",
   "execution_count": 38,
   "metadata": {},
   "outputs": [],
   "source": [
    "assert os.listdir('..') == os.listdir(os.pardir)"
   ]
  },
  {
   "cell_type": "code",
   "execution_count": 39,
   "metadata": {},
   "outputs": [
    {
     "data": {
      "text/plain": [
       "['02_sys',\n",
       " '04c_pathlib',\n",
       " '03_argparse',\n",
       " '01_math',\n",
       " '04a_os_module',\n",
       " '04b_psutil']"
      ]
     },
     "execution_count": 39,
     "metadata": {},
     "output_type": "execute_result"
    }
   ],
   "source": [
    "os.listdir('..')"
   ]
  },
  {
   "cell_type": "code",
   "execution_count": 40,
   "metadata": {},
   "outputs": [
    {
     "data": {
      "text/plain": [
       "['07_functions_decorators',\n",
       " '00_course_details',\n",
       " '10_modules',\n",
       " '01_Introduction',\n",
       " '03_Language_Components',\n",
       " '.git',\n",
       " '.gitignore',\n",
       " '02_Basics',\n",
       " '06_Collections',\n",
       " '.venv',\n",
       " '09_Iterators_generators_coroutines',\n",
       " '05_Debugging',\n",
       " 'README.md',\n",
       " '04_Exceptions']"
      ]
     },
     "execution_count": 40,
     "metadata": {},
     "output_type": "execute_result"
    }
   ],
   "source": [
    "os.listdir('../..')"
   ]
  },
  {
   "cell_type": "code",
   "execution_count": 41,
   "metadata": {},
   "outputs": [
    {
     "data": {
      "text/plain": [
       "['PythonBatchNovDec2024', '.oryx', '.codespaces']"
      ]
     },
     "execution_count": 41,
     "metadata": {},
     "output_type": "execute_result"
    }
   ],
   "source": [
    "os.listdir('../../..')"
   ]
  },
  {
   "cell_type": "code",
   "execution_count": 42,
   "metadata": {},
   "outputs": [],
   "source": [
    "os.chdir('../../..')"
   ]
  },
  {
   "cell_type": "code",
   "execution_count": 43,
   "metadata": {},
   "outputs": [
    {
     "data": {
      "text/plain": [
       "'/workspaces'"
      ]
     },
     "execution_count": 43,
     "metadata": {},
     "output_type": "execute_result"
    }
   ],
   "source": [
    "os.getcwd()"
   ]
  },
  {
   "cell_type": "code",
   "execution_count": 44,
   "metadata": {},
   "outputs": [
    {
     "data": {
      "text/plain": [
       "['PythonBatchNovDec2024', '.oryx', '.codespaces']"
      ]
     },
     "execution_count": 44,
     "metadata": {},
     "output_type": "execute_result"
    }
   ],
   "source": [
    "os.listdir()"
   ]
  },
  {
   "cell_type": "code",
   "execution_count": 45,
   "metadata": {},
   "outputs": [],
   "source": [
    "os.chdir('PythonBatchNovDec2024/10_modules')\n",
    "os.chdir('04a_os_module/')"
   ]
  },
  {
   "cell_type": "code",
   "execution_count": 46,
   "metadata": {},
   "outputs": [
    {
     "data": {
      "text/plain": [
       "'/workspaces/PythonBatchNovDec2024/10_modules/04a_os_module'"
      ]
     },
     "execution_count": 46,
     "metadata": {},
     "output_type": "execute_result"
    }
   ],
   "source": [
    "os.getcwd()"
   ]
  },
  {
   "cell_type": "code",
   "execution_count": 47,
   "metadata": {},
   "outputs": [
    {
     "data": {
      "text/plain": [
       "<posix.ScandirIterator at 0x7ddcc7494d50>"
      ]
     },
     "execution_count": 47,
     "metadata": {},
     "output_type": "execute_result"
    }
   ],
   "source": [
    "os.scandir(os.getcwd())\n",
    "# os.listdir returns a list, whereas os.scandir will return iterator object\n",
    "# Also, os.scandir is faster and provides info about files like file size, creation time, etc"
   ]
  },
  {
   "cell_type": "code",
   "execution_count": 48,
   "metadata": {},
   "outputs": [
    {
     "name": "stdout",
     "output_type": "stream",
     "text": [
      "File: a_os_module.ipynb\n",
      "Directory: css\n"
     ]
    }
   ],
   "source": [
    "for entry in os.scandir(os.getcwd()):\n",
    "    if entry.is_file():\n",
    "        print(f\"File: {entry.name}\")\n",
    "    elif entry.is_dir():\n",
    "        print(f\"Directory: {entry.name}\")"
   ]
  },
  {
   "cell_type": "code",
   "execution_count": 49,
   "metadata": {},
   "outputs": [
    {
     "data": {
      "text/plain": [
       "os.stat_result(st_mode=16895, st_ino=1835648, st_dev=1797, st_nlink=3, st_uid=1000, st_gid=1000, st_size=4096, st_atime=1735052196, st_mtime=1735052194, st_ctime=1735052194)"
      ]
     },
     "execution_count": 49,
     "metadata": {},
     "output_type": "execute_result"
    }
   ],
   "source": [
    "os.lstat(\".\")\n"
   ]
  },
  {
   "cell_type": "code",
   "execution_count": 50,
   "metadata": {},
   "outputs": [
    {
     "name": "stdout",
     "output_type": "stream",
     "text": [
      "2024-12-24 14:56:34.974910+00:00\n"
     ]
    }
   ],
   "source": [
    "from datetime import datetime, UTC\n",
    "\n",
    "time_stamp = os.lstat(\".\").st_mtime\n",
    "\n",
    "print(datetime.fromtimestamp(time_stamp, UTC))"
   ]
  },
  {
   "cell_type": "markdown",
   "metadata": {},
   "source": [
    "### working with paths\n"
   ]
  },
  {
   "cell_type": "code",
   "execution_count": 51,
   "metadata": {},
   "outputs": [
    {
     "name": "stdout",
     "output_type": "stream",
     "text": [
      "\n",
      "    os.curdir : .\n",
      "    os.pardir : ..\n",
      "    os.sep    : /\n",
      "    os.altsep : None\n",
      "    os.extsep : .\n",
      "    os.pathsep: :  # ':' for POSIX or ';' for Windows\n",
      "\n"
     ]
    }
   ],
   "source": [
    "print(\n",
    "    f\"\"\"\n",
    "    os.curdir : {os.curdir}\n",
    "    os.pardir : {os.pardir}\n",
    "    os.sep    : {os.sep}\n",
    "    os.altsep : {os.altsep}\n",
    "    os.extsep : {os.extsep}\n",
    "    os.pathsep: {os.pathsep}  # ':' for POSIX or ';' for Windows\n",
    "\"\"\"\n",
    ")"
   ]
  },
  {
   "cell_type": "code",
   "execution_count": 52,
   "metadata": {},
   "outputs": [
    {
     "data": {
      "text/plain": [
       "'\\n'"
      ]
     },
     "execution_count": 52,
     "metadata": {},
     "output_type": "execute_result"
    }
   ],
   "source": [
    "os.linesep  # '\\n' for POSIX, '\\r\\n' for Windows"
   ]
  },
  {
   "cell_type": "markdown",
   "metadata": {},
   "source": [
    "## working with directories/folder\n"
   ]
  },
  {
   "cell_type": "code",
   "execution_count": 53,
   "metadata": {},
   "outputs": [],
   "source": [
    "os.mkdir('myFolder')"
   ]
  },
  {
   "cell_type": "code",
   "execution_count": 54,
   "metadata": {},
   "outputs": [
    {
     "data": {
      "text/plain": [
       "['a_os_module.ipynb', 'myFolder', 'css']"
      ]
     },
     "execution_count": 54,
     "metadata": {},
     "output_type": "execute_result"
    }
   ],
   "source": [
    "os.listdir('.')"
   ]
  },
  {
   "cell_type": "code",
   "execution_count": 55,
   "metadata": {},
   "outputs": [
    {
     "ename": "FileExistsError",
     "evalue": "[Errno 17] File exists: 'myFolder'",
     "output_type": "error",
     "traceback": [
      "\u001b[0;31m---------------------------------------------------------------------------\u001b[0m",
      "\u001b[0;31mFileExistsError\u001b[0m                           Traceback (most recent call last)",
      "Cell \u001b[0;32mIn[55], line 1\u001b[0m\n\u001b[0;32m----> 1\u001b[0m \u001b[43mos\u001b[49m\u001b[38;5;241;43m.\u001b[39;49m\u001b[43mmkdir\u001b[49m\u001b[43m(\u001b[49m\u001b[38;5;124;43m'\u001b[39;49m\u001b[38;5;124;43mmyFolder\u001b[39;49m\u001b[38;5;124;43m'\u001b[39;49m\u001b[43m)\u001b[49m\n",
      "\u001b[0;31mFileExistsError\u001b[0m: [Errno 17] File exists: 'myFolder'"
     ]
    }
   ],
   "source": [
    "os.mkdir('myFolder')"
   ]
  },
  {
   "cell_type": "code",
   "execution_count": 60,
   "metadata": {},
   "outputs": [
    {
     "name": "stdout",
     "output_type": "stream",
     "text": [
      "\u001b[0;31mSignature:\u001b[0m \u001b[0mos\u001b[0m\u001b[0;34m.\u001b[0m\u001b[0mmkdir\u001b[0m\u001b[0;34m(\u001b[0m\u001b[0mpath\u001b[0m\u001b[0;34m,\u001b[0m \u001b[0mmode\u001b[0m\u001b[0;34m=\u001b[0m\u001b[0;36m511\u001b[0m\u001b[0;34m,\u001b[0m \u001b[0;34m*\u001b[0m\u001b[0;34m,\u001b[0m \u001b[0mdir_fd\u001b[0m\u001b[0;34m=\u001b[0m\u001b[0;32mNone\u001b[0m\u001b[0;34m)\u001b[0m\u001b[0;34m\u001b[0m\u001b[0;34m\u001b[0m\u001b[0m\n",
      "\u001b[0;31mDocstring:\u001b[0m\n",
      "Create a directory.\n",
      "\n",
      "If dir_fd is not None, it should be a file descriptor open to a directory,\n",
      "  and path should be relative; path will then be relative to that directory.\n",
      "dir_fd may not be implemented on your platform.\n",
      "  If it is unavailable, using it will raise a NotImplementedError.\n",
      "\n",
      "The mode argument is ignored on Windows. Where it is used, the current umask\n",
      "value is first masked out.\n",
      "\u001b[0;31mType:\u001b[0m      builtin_function_or_method"
     ]
    }
   ],
   "source": [
    "os.mkdir?"
   ]
  },
  {
   "cell_type": "code",
   "execution_count": 56,
   "metadata": {},
   "outputs": [
    {
     "ename": "FileExistsError",
     "evalue": "[Errno 17] File exists: 'myFolder'",
     "output_type": "error",
     "traceback": [
      "\u001b[0;31m---------------------------------------------------------------------------\u001b[0m",
      "\u001b[0;31mFileExistsError\u001b[0m                           Traceback (most recent call last)",
      "Cell \u001b[0;32mIn[56], line 1\u001b[0m\n\u001b[0;32m----> 1\u001b[0m \u001b[43mos\u001b[49m\u001b[38;5;241;43m.\u001b[39;49m\u001b[43mmakedirs\u001b[49m\u001b[43m(\u001b[49m\u001b[38;5;124;43m'\u001b[39;49m\u001b[38;5;124;43mmyFolder\u001b[39;49m\u001b[38;5;124;43m'\u001b[39;49m\u001b[43m)\u001b[49m\n",
      "File \u001b[0;32m<frozen os>:225\u001b[0m, in \u001b[0;36mmakedirs\u001b[0;34m(name, mode, exist_ok)\u001b[0m\n",
      "\u001b[0;31mFileExistsError\u001b[0m: [Errno 17] File exists: 'myFolder'"
     ]
    }
   ],
   "source": [
    "os.makedirs('myFolder')"
   ]
  },
  {
   "cell_type": "code",
   "execution_count": 57,
   "metadata": {},
   "outputs": [
    {
     "name": "stdout",
     "output_type": "stream",
     "text": [
      "\u001b[0;31mSignature:\u001b[0m \u001b[0mos\u001b[0m\u001b[0;34m.\u001b[0m\u001b[0mmakedirs\u001b[0m\u001b[0;34m(\u001b[0m\u001b[0mname\u001b[0m\u001b[0;34m,\u001b[0m \u001b[0mmode\u001b[0m\u001b[0;34m=\u001b[0m\u001b[0;36m511\u001b[0m\u001b[0;34m,\u001b[0m \u001b[0mexist_ok\u001b[0m\u001b[0;34m=\u001b[0m\u001b[0;32mFalse\u001b[0m\u001b[0;34m)\u001b[0m\u001b[0;34m\u001b[0m\u001b[0;34m\u001b[0m\u001b[0m\n",
      "\u001b[0;31mDocstring:\u001b[0m\n",
      "makedirs(name [, mode=0o777][, exist_ok=False])\n",
      "\n",
      "Super-mkdir; create a leaf directory and all intermediate ones.  Works like\n",
      "mkdir, except that any intermediate path segment (not just the rightmost)\n",
      "will be created if it does not exist. If the target directory already\n",
      "exists, raise an OSError if exist_ok is False. Otherwise no exception is\n",
      "raised.  This is recursive.\n",
      "\u001b[0;31mFile:\u001b[0m      /workspaces/PythonBatchNovDec2024/10_modules/04a_os_module/<frozen os>\n",
      "\u001b[0;31mType:\u001b[0m      function"
     ]
    }
   ],
   "source": [
    "os.makedirs?"
   ]
  },
  {
   "cell_type": "code",
   "execution_count": 58,
   "metadata": {},
   "outputs": [],
   "source": [
    "os.makedirs('myFolder', exist_ok=True)"
   ]
  },
  {
   "cell_type": "code",
   "execution_count": 59,
   "metadata": {},
   "outputs": [],
   "source": [
    "os.makedirs('First/Second/Third', exist_ok=True)"
   ]
  },
  {
   "cell_type": "code",
   "execution_count": 60,
   "metadata": {},
   "outputs": [
    {
     "data": {
      "text/plain": [
       "['a_os_module.ipynb', 'First', 'myFolder', 'css']"
      ]
     },
     "execution_count": 60,
     "metadata": {},
     "output_type": "execute_result"
    }
   ],
   "source": [
    "os.listdir()"
   ]
  },
  {
   "cell_type": "code",
   "execution_count": 61,
   "metadata": {},
   "outputs": [
    {
     "name": "stdout",
     "output_type": "stream",
     "text": [
      "\u001b[01;34m.\u001b[00m\n",
      "├── \u001b[01;34mFirst\u001b[00m\n",
      "│   └── \u001b[01;34mSecond\u001b[00m\n",
      "│       └── \u001b[01;34mThird\u001b[00m\n",
      "├── a_os_module.ipynb\n",
      "├── \u001b[01;34mcss\u001b[00m\n",
      "│   └── \u001b[01;34mamerica\u001b[00m\n",
      "│       └── \u001b[01;34masdas\u001b[00m\n",
      "│           └── \u001b[01;34msad\u001b[00m\n",
      "│               └── \u001b[01;34mdfgd\u001b[00m\n",
      "└── \u001b[01;34mmyFolder\u001b[00m\n",
      "\n",
      "9 directories, 1 file\n"
     ]
    },
    {
     "data": {
      "text/plain": [
       "0"
      ]
     },
     "execution_count": 61,
     "metadata": {},
     "output_type": "execute_result"
    }
   ],
   "source": [
    "os.system('tree')"
   ]
  },
  {
   "cell_type": "code",
   "execution_count": 62,
   "metadata": {},
   "outputs": [],
   "source": [
    "# creating a file\n",
    "f = open(\"myfile.txt\", \"w\")\n",
    "f.write(\"my data\")\n",
    "f.close()"
   ]
  },
  {
   "cell_type": "code",
   "execution_count": 63,
   "metadata": {},
   "outputs": [
    {
     "data": {
      "text/plain": [
       "['a_os_module.ipynb', 'myfile.txt', 'First', 'myFolder', 'css']"
      ]
     },
     "execution_count": 63,
     "metadata": {},
     "output_type": "execute_result"
    }
   ],
   "source": [
    "os.listdir()"
   ]
  },
  {
   "cell_type": "code",
   "execution_count": 64,
   "metadata": {},
   "outputs": [],
   "source": [
    "os.rename(\"myfile.txt\", \"otherfile.tsf\")"
   ]
  },
  {
   "cell_type": "code",
   "execution_count": 65,
   "metadata": {},
   "outputs": [
    {
     "data": {
      "text/plain": [
       "['otherfile.tsf', 'a_os_module.ipynb', 'First', 'myFolder', 'css']"
      ]
     },
     "execution_count": 65,
     "metadata": {},
     "output_type": "execute_result"
    }
   ],
   "source": [
    "os.listdir()"
   ]
  },
  {
   "cell_type": "code",
   "execution_count": 66,
   "metadata": {},
   "outputs": [],
   "source": [
    "os.rename(\"First\", \"PythonFolder\")"
   ]
  },
  {
   "cell_type": "code",
   "execution_count": 67,
   "metadata": {},
   "outputs": [
    {
     "name": "stdout",
     "output_type": "stream",
     "text": [
      "\u001b[01;34m.\u001b[00m\n",
      "├── \u001b[01;34mPythonFolder\u001b[00m\n",
      "│   └── \u001b[01;34mSecond\u001b[00m\n",
      "│       └── \u001b[01;34mThird\u001b[00m\n",
      "├── a_os_module.ipynb\n",
      "├── \u001b[01;34mcss\u001b[00m\n",
      "│   └── \u001b[01;34mamerica\u001b[00m\n",
      "│       └── \u001b[01;34masdas\u001b[00m\n",
      "│           └── \u001b[01;34msad\u001b[00m\n",
      "│               └── \u001b[01;34mdfgd\u001b[00m\n",
      "├── \u001b[01;34mmyFolder\u001b[00m\n",
      "└── otherfile.tsf\n",
      "\n",
      "9 directories, 2 files\n"
     ]
    },
    {
     "data": {
      "text/plain": [
       "0"
      ]
     },
     "execution_count": 67,
     "metadata": {},
     "output_type": "execute_result"
    }
   ],
   "source": [
    "os.system('tree')"
   ]
  },
  {
   "cell_type": "code",
   "execution_count": 68,
   "metadata": {},
   "outputs": [
    {
     "name": "stdout",
     "output_type": "stream",
     "text": [
      "\u001b[0;31mSignature:\u001b[0m  \u001b[0mos\u001b[0m\u001b[0;34m.\u001b[0m\u001b[0mrenames\u001b[0m\u001b[0;34m(\u001b[0m\u001b[0mold\u001b[0m\u001b[0;34m,\u001b[0m \u001b[0mnew\u001b[0m\u001b[0;34m)\u001b[0m\u001b[0;34m\u001b[0m\u001b[0;34m\u001b[0m\u001b[0m\n",
      "\u001b[0;31mDocstring:\u001b[0m\n",
      "renames(old, new)\n",
      "\n",
      "Super-rename; create directories as necessary and delete any left\n",
      "empty.  Works like rename, except creation of any intermediate\n",
      "directories needed to make the new pathname good is attempted\n",
      "first.  After the rename, directories corresponding to rightmost\n",
      "path segments of the old name will be pruned until either the\n",
      "whole path is consumed or a nonempty directory is found.\n",
      "\n",
      "Note: this function can fail with the new directory structure made\n",
      "if you lack permissions needed to unlink the leaf directory or\n",
      "file.\n",
      "\u001b[0;31mFile:\u001b[0m      /workspaces/PythonBatchNovDec2024/10_modules/04a_os_module/<frozen os>\n",
      "\u001b[0;31mType:\u001b[0m      function"
     ]
    }
   ],
   "source": [
    "? os.renames\n"
   ]
  },
  {
   "cell_type": "code",
   "execution_count": 69,
   "metadata": {},
   "outputs": [],
   "source": [
    "# assignment - try this os.renames"
   ]
  },
  {
   "cell_type": "code",
   "execution_count": 70,
   "metadata": {},
   "outputs": [],
   "source": [
    "os.remove(\"otherfile.tsf\")"
   ]
  },
  {
   "cell_type": "code",
   "execution_count": 71,
   "metadata": {},
   "outputs": [
    {
     "name": "stdout",
     "output_type": "stream",
     "text": [
      "IsADirectoryError(21, 'Is a directory')\n"
     ]
    }
   ],
   "source": [
    "try:\n",
    "    os.remove(\"myFolder\")\n",
    "except (PermissionError, IsADirectoryError) as ex:\n",
    "    print(repr(ex))"
   ]
  },
  {
   "cell_type": "code",
   "execution_count": 72,
   "metadata": {},
   "outputs": [],
   "source": [
    "os.rmdir(\"myFolder\")\n"
   ]
  },
  {
   "cell_type": "code",
   "execution_count": 73,
   "metadata": {},
   "outputs": [
    {
     "name": "stdout",
     "output_type": "stream",
     "text": [
      "\u001b[01;34m.\u001b[00m\n",
      "├── \u001b[01;34mPythonFolder\u001b[00m\n",
      "│   └── \u001b[01;34mSecond\u001b[00m\n",
      "│       └── \u001b[01;34mThird\u001b[00m\n",
      "├── a_os_module.ipynb\n",
      "└── \u001b[01;34mcss\u001b[00m\n",
      "    └── \u001b[01;34mamerica\u001b[00m\n",
      "        └── \u001b[01;34masdas\u001b[00m\n",
      "            └── \u001b[01;34msad\u001b[00m\n",
      "                └── \u001b[01;34mdfgd\u001b[00m\n",
      "\n",
      "8 directories, 1 file\n"
     ]
    },
    {
     "data": {
      "text/plain": [
       "0"
      ]
     },
     "execution_count": 73,
     "metadata": {},
     "output_type": "execute_result"
    }
   ],
   "source": [
    "os.system('tree')"
   ]
  },
  {
   "cell_type": "code",
   "execution_count": 74,
   "metadata": {},
   "outputs": [],
   "source": [
    "os.removedirs(\"PythonFolder/Second/Third\")\n",
    "# first removes 'PythonFolder/second/third', \n",
    "# then 'PythonFolder/second' \n",
    "# and then 'PythonFolder'"
   ]
  },
  {
   "cell_type": "code",
   "execution_count": 75,
   "metadata": {},
   "outputs": [
    {
     "name": "stdout",
     "output_type": "stream",
     "text": [
      "\u001b[01;34m.\u001b[00m\n",
      "├── a_os_module.ipynb\n",
      "└── \u001b[01;34mcss\u001b[00m\n",
      "    └── \u001b[01;34mamerica\u001b[00m\n",
      "        └── \u001b[01;34masdas\u001b[00m\n",
      "            └── \u001b[01;34msad\u001b[00m\n",
      "                └── \u001b[01;34mdfgd\u001b[00m\n",
      "\n",
      "5 directories, 1 file\n"
     ]
    },
    {
     "data": {
      "text/plain": [
       "0"
      ]
     },
     "execution_count": 75,
     "metadata": {},
     "output_type": "execute_result"
    }
   ],
   "source": [
    "os.system('tree')"
   ]
  },
  {
   "cell_type": "markdown",
   "metadata": {},
   "source": [
    "## Executing commands\n"
   ]
  },
  {
   "cell_type": "code",
   "execution_count": 76,
   "metadata": {},
   "outputs": [
    {
     "data": {
      "text/plain": [
       "32512"
      ]
     },
     "execution_count": 76,
     "metadata": {},
     "output_type": "execute_result"
    },
    {
     "name": "stderr",
     "output_type": "stream",
     "text": [
      "sh: 1: ipconfig: not found\n"
     ]
    }
   ],
   "source": [
    "os.system(\"ipconfig\")  # 1 - unsuccessfully executed command"
   ]
  },
  {
   "cell_type": "code",
   "execution_count": 77,
   "metadata": {},
   "outputs": [
    {
     "name": "stdout",
     "output_type": "stream",
     "text": [
      "docker0: flags=4099<UP,BROADCAST,MULTICAST>  mtu 1500\n",
      "        inet 172.17.0.1  netmask 255.255.0.0  broadcast 172.17.255.255\n",
      "        ether 02:42:1d:7b:32:94  txqueuelen 0  (Ethernet)\n",
      "        RX packets 0  bytes 0 (0.0 B)\n",
      "        RX errors 0  dropped 0  overruns 0  frame 0\n",
      "        TX packets 0  bytes 0 (0.0 B)\n",
      "        TX errors 0  dropped 0 overruns 0  carrier 0  collisions 0\n",
      "\n",
      "enP49463s1: flags=6211<UP,BROADCAST,RUNNING,SLAVE,MULTICAST>  mtu 1500\n",
      "        inet6 fe80::7e1e:52ff:fe1e:448b  prefixlen 64  scopeid 0x20<link>\n",
      "        ether 7c:1e:52:1e:44:8b  txqueuelen 1000  (Ethernet)\n",
      "        RX packets 9930839  bytes 13868083200 (13.8 GB)\n",
      "        RX errors 0  dropped 127677  overruns 0  frame 0\n",
      "        TX packets 645432  bytes 82060061 (82.0 MB)\n",
      "        TX errors 0  dropped 0 overruns 0  carrier 0  collisions 0\n",
      "\n",
      "eth0: flags=4163<UP,BROADCAST,RUNNING,MULTICAST>  mtu 1500\n",
      "        inet 10.0.0.124  netmask 255.255.0.0  broadcast 10.0.255.255\n",
      "        inet6 fe80::7e1e:52ff:fe1e:448b  prefixlen 64  scopeid 0x20<link>\n",
      "        ether 7c:1e:52:1e:44:8b  txqueuelen 1000  (Ethernet)\n",
      "        RX packets 8824746  bytes 13671537914 (13.6 GB)\n",
      "        RX errors 0  dropped 0  overruns 0  frame 0\n",
      "        TX packets 627254  bytes 80859919 (80.8 MB)\n",
      "        TX errors 0  dropped 0 overruns 0  carrier 0  collisions 0\n",
      "\n",
      "lo: flags=73<UP,LOOPBACK,RUNNING>  mtu 65536\n",
      "        inet 127.0.0.1  netmask 255.0.0.0\n",
      "        inet6 ::1  prefixlen 128  scopeid 0x10<host>\n",
      "        loop  txqueuelen 1000  (Local Loopback)\n",
      "        RX packets 11103  bytes 39290440 (39.2 MB)\n",
      "        RX errors 0  dropped 0  overruns 0  frame 0\n",
      "        TX packets 11103  bytes 39290440 (39.2 MB)\n",
      "        TX errors 0  dropped 0 overruns 0  carrier 0  collisions 0\n",
      "\n"
     ]
    },
    {
     "data": {
      "text/plain": [
       "0"
      ]
     },
     "execution_count": 77,
     "metadata": {},
     "output_type": "execute_result"
    }
   ],
   "source": [
    "os.system(\"ifconfig\")  # 0 - successfully executed command"
   ]
  },
  {
   "cell_type": "code",
   "execution_count": 78,
   "metadata": {},
   "outputs": [
    {
     "name": "stderr",
     "output_type": "stream",
     "text": [
      "sh: 1: ping: not found\n"
     ]
    },
    {
     "data": {
      "text/plain": [
       "32512"
      ]
     },
     "execution_count": 78,
     "metadata": {},
     "output_type": "execute_result"
    }
   ],
   "source": [
    "os.system(\"ping google.com\")"
   ]
  },
  {
   "cell_type": "markdown",
   "metadata": {},
   "source": [
    "## Get all the python files in our material\n"
   ]
  },
  {
   "cell_type": "code",
   "execution_count": 79,
   "metadata": {},
   "outputs": [
    {
     "data": {
      "text/plain": [
       "['07_functions_decorators',\n",
       " '00_course_details',\n",
       " '10_modules',\n",
       " '01_Introduction',\n",
       " '03_Language_Components',\n",
       " '.git',\n",
       " '.gitignore',\n",
       " '02_Basics',\n",
       " '06_Collections',\n",
       " '.venv',\n",
       " '09_Iterators_generators_coroutines',\n",
       " '05_Debugging',\n",
       " 'README.md',\n",
       " '04_Exceptions']"
      ]
     },
     "execution_count": 79,
     "metadata": {},
     "output_type": "execute_result"
    }
   ],
   "source": [
    "os.listdir('../../../PythonBatchNovDec2024')"
   ]
  },
  {
   "cell_type": "code",
   "execution_count": 80,
   "metadata": {},
   "outputs": [
    {
     "data": {
      "text/plain": [
       "<generator object walk at 0x7ddcc7e8e430>"
      ]
     },
     "execution_count": 80,
     "metadata": {},
     "output_type": "execute_result"
    }
   ],
   "source": [
    "# os.walk(top, topdown=True, onerror=None, followlinks=False)\n",
    "\n",
    "\n",
    "os.walk('../../../PythonBatchNovDec2024')"
   ]
  },
  {
   "cell_type": "code",
   "execution_count": 81,
   "metadata": {},
   "outputs": [
    {
     "name": "stdout",
     "output_type": "stream",
     "text": [
      "3 ('.', ['css'], ['a_os_module.ipynb'])\n",
      "3 ('./css', ['america'], [])\n",
      "3 ('./css/america', ['asdas'], [])\n",
      "3 ('./css/america/asdas', ['sad'], [])\n",
      "3 ('./css/america/asdas/sad', ['dfgd'], [])\n",
      "3 ('./css/america/asdas/sad/dfgd', [], [])\n"
     ]
    }
   ],
   "source": [
    "for each in os.walk(\".\"):\n",
    "    print(len(each), each)\n",
    "    # break"
   ]
  },
  {
   "cell_type": "code",
   "execution_count": 82,
   "metadata": {},
   "outputs": [
    {
     "name": "stdout",
     "output_type": "stream",
     "text": [
      "../../../PythonBatchNovDec2024\n",
      "../../../PythonBatchNovDec2024/07_functions_decorators\n",
      "../../../PythonBatchNovDec2024/00_course_details\n",
      "../../../PythonBatchNovDec2024/10_modules\n",
      "../../../PythonBatchNovDec2024/10_modules/02_sys\n",
      "../../../PythonBatchNovDec2024/10_modules/04c_pathlib\n",
      "../../../PythonBatchNovDec2024/10_modules/03_argparse\n",
      "../../../PythonBatchNovDec2024/10_modules/01_math\n",
      "../../../PythonBatchNovDec2024/10_modules/04a_os_module\n",
      "../../../PythonBatchNovDec2024/10_modules/04a_os_module/css\n",
      "../../../PythonBatchNovDec2024/10_modules/04a_os_module/css/america\n",
      "../../../PythonBatchNovDec2024/10_modules/04a_os_module/css/america/asdas\n",
      "../../../PythonBatchNovDec2024/10_modules/04a_os_module/css/america/asdas/sad\n",
      "../../../PythonBatchNovDec2024/10_modules/04a_os_module/css/america/asdas/sad/dfgd\n",
      "../../../PythonBatchNovDec2024/10_modules/04b_psutil\n",
      "../../../PythonBatchNovDec2024/01_Introduction\n",
      "../../../PythonBatchNovDec2024/03_Language_Components\n",
      "../../../PythonBatchNovDec2024/03_Language_Components/07_Conditional_Operations\n",
      "../../../PythonBatchNovDec2024/03_Language_Components/01_Relational_Operations\n",
      "../../../PythonBatchNovDec2024/03_Language_Components/09_Loops\n",
      "../../../PythonBatchNovDec2024/03_Language_Components/08_structural_Pattern_Matching\n",
      "../../../PythonBatchNovDec2024/03_Language_Components/03_Boolean_Operations\n",
      "../../../PythonBatchNovDec2024/03_Language_Components/05_Identity_Operations\n",
      "../../../PythonBatchNovDec2024/03_Language_Components/04_Bitwise_Operations\n",
      "../../../PythonBatchNovDec2024/03_Language_Components/06_Range_Function\n",
      "../../../PythonBatchNovDec2024/03_Language_Components/10_walrus_operator\n",
      "../../../PythonBatchNovDec2024/03_Language_Components/02_Logical_Operations\n",
      "../../../PythonBatchNovDec2024/.git\n",
      "../../../PythonBatchNovDec2024/.git/objects\n",
      "../../../PythonBatchNovDec2024/.git/objects/dd\n",
      "../../../PythonBatchNovDec2024/.git/objects/2b\n",
      "../../../PythonBatchNovDec2024/.git/objects/0a\n",
      "../../../PythonBatchNovDec2024/.git/objects/a1\n",
      "../../../PythonBatchNovDec2024/.git/objects/95\n",
      "../../../PythonBatchNovDec2024/.git/objects/77\n",
      "../../../PythonBatchNovDec2024/.git/objects/ae\n",
      "../../../PythonBatchNovDec2024/.git/objects/8c\n",
      "../../../PythonBatchNovDec2024/.git/objects/7f\n",
      "../../../PythonBatchNovDec2024/.git/objects/bf\n",
      "../../../PythonBatchNovDec2024/.git/objects/c8\n",
      "../../../PythonBatchNovDec2024/.git/objects/b6\n",
      "../../../PythonBatchNovDec2024/.git/objects/4c\n",
      "../../../PythonBatchNovDec2024/.git/objects/07\n",
      "../../../PythonBatchNovDec2024/.git/objects/e4\n",
      "../../../PythonBatchNovDec2024/.git/objects/59\n",
      "../../../PythonBatchNovDec2024/.git/objects/a0\n",
      "../../../PythonBatchNovDec2024/.git/objects/8b\n",
      "../../../PythonBatchNovDec2024/.git/objects/1b\n",
      "../../../PythonBatchNovDec2024/.git/objects/ab\n",
      "../../../PythonBatchNovDec2024/.git/objects/6c\n",
      "../../../PythonBatchNovDec2024/.git/objects/1d\n",
      "../../../PythonBatchNovDec2024/.git/objects/0b\n",
      "../../../PythonBatchNovDec2024/.git/objects/d4\n",
      "../../../PythonBatchNovDec2024/.git/objects/f1\n",
      "../../../PythonBatchNovDec2024/.git/objects/89\n",
      "../../../PythonBatchNovDec2024/.git/objects/34\n",
      "../../../PythonBatchNovDec2024/.git/objects/51\n",
      "../../../PythonBatchNovDec2024/.git/objects/1f\n",
      "../../../PythonBatchNovDec2024/.git/objects/dc\n",
      "../../../PythonBatchNovDec2024/.git/objects/ff\n",
      "../../../PythonBatchNovDec2024/.git/objects/90\n",
      "../../../PythonBatchNovDec2024/.git/objects/be\n",
      "../../../PythonBatchNovDec2024/.git/objects/73\n",
      "../../../PythonBatchNovDec2024/.git/objects/c9\n",
      "../../../PythonBatchNovDec2024/.git/objects/6e\n",
      "../../../PythonBatchNovDec2024/.git/objects/7c\n",
      "../../../PythonBatchNovDec2024/.git/objects/93\n",
      "../../../PythonBatchNovDec2024/.git/objects/e5\n",
      "../../../PythonBatchNovDec2024/.git/objects/29\n",
      "../../../PythonBatchNovDec2024/.git/objects/f0\n",
      "../../../PythonBatchNovDec2024/.git/objects/fd\n",
      "../../../PythonBatchNovDec2024/.git/objects/4e\n",
      "../../../PythonBatchNovDec2024/.git/objects/c5\n",
      "../../../PythonBatchNovDec2024/.git/objects/30\n",
      "../../../PythonBatchNovDec2024/.git/objects/45\n",
      "../../../PythonBatchNovDec2024/.git/objects/63\n",
      "../../../PythonBatchNovDec2024/.git/objects/4a\n",
      "../../../PythonBatchNovDec2024/.git/objects/pack\n",
      "../../../PythonBatchNovDec2024/.git/objects/a5\n",
      "../../../PythonBatchNovDec2024/.git/objects/3b\n",
      "../../../PythonBatchNovDec2024/.git/objects/bc\n",
      "../../../PythonBatchNovDec2024/.git/objects/df\n",
      "../../../PythonBatchNovDec2024/.git/objects/2c\n",
      "../../../PythonBatchNovDec2024/.git/objects/a3\n",
      "../../../PythonBatchNovDec2024/.git/objects/d5\n",
      "../../../PythonBatchNovDec2024/.git/objects/97\n",
      "../../../PythonBatchNovDec2024/.git/objects/43\n",
      "../../../PythonBatchNovDec2024/.git/objects/f2\n",
      "../../../PythonBatchNovDec2024/.git/objects/3d\n",
      "../../../PythonBatchNovDec2024/.git/objects/00\n",
      "../../../PythonBatchNovDec2024/.git/objects/7b\n",
      "../../../PythonBatchNovDec2024/.git/objects/b3\n",
      "../../../PythonBatchNovDec2024/.git/objects/21\n",
      "../../../PythonBatchNovDec2024/.git/objects/23\n",
      "../../../PythonBatchNovDec2024/.git/objects/24\n",
      "../../../PythonBatchNovDec2024/.git/objects/1a\n",
      "../../../PythonBatchNovDec2024/.git/objects/ea\n",
      "../../../PythonBatchNovDec2024/.git/objects/54\n",
      "../../../PythonBatchNovDec2024/.git/objects/b1\n",
      "../../../PythonBatchNovDec2024/.git/objects/40\n",
      "../../../PythonBatchNovDec2024/.git/objects/5a\n",
      "../../../PythonBatchNovDec2024/.git/objects/9b\n",
      "../../../PythonBatchNovDec2024/.git/objects/32\n",
      "../../../PythonBatchNovDec2024/.git/objects/53\n",
      "../../../PythonBatchNovDec2024/.git/objects/52\n",
      "../../../PythonBatchNovDec2024/.git/objects/17\n",
      "../../../PythonBatchNovDec2024/.git/objects/2d\n",
      "../../../PythonBatchNovDec2024/.git/objects/84\n",
      "../../../PythonBatchNovDec2024/.git/objects/c0\n",
      "../../../PythonBatchNovDec2024/.git/objects/86\n",
      "../../../PythonBatchNovDec2024/.git/objects/1c\n",
      "../../../PythonBatchNovDec2024/.git/objects/83\n",
      "../../../PythonBatchNovDec2024/.git/objects/61\n",
      "../../../PythonBatchNovDec2024/.git/objects/01\n",
      "../../../PythonBatchNovDec2024/.git/objects/75\n",
      "../../../PythonBatchNovDec2024/.git/objects/22\n",
      "../../../PythonBatchNovDec2024/.git/objects/5d\n",
      "../../../PythonBatchNovDec2024/.git/objects/38\n",
      "../../../PythonBatchNovDec2024/.git/objects/cc\n",
      "../../../PythonBatchNovDec2024/.git/objects/af\n",
      "../../../PythonBatchNovDec2024/.git/objects/36\n",
      "../../../PythonBatchNovDec2024/.git/objects/81\n",
      "../../../PythonBatchNovDec2024/.git/objects/b9\n",
      "../../../PythonBatchNovDec2024/.git/objects/7e\n",
      "../../../PythonBatchNovDec2024/.git/objects/ee\n",
      "../../../PythonBatchNovDec2024/.git/objects/42\n",
      "../../../PythonBatchNovDec2024/.git/objects/a7\n",
      "../../../PythonBatchNovDec2024/.git/objects/f3\n",
      "../../../PythonBatchNovDec2024/.git/objects/b8\n",
      "../../../PythonBatchNovDec2024/.git/objects/91\n",
      "../../../PythonBatchNovDec2024/.git/objects/71\n",
      "../../../PythonBatchNovDec2024/.git/objects/79\n",
      "../../../PythonBatchNovDec2024/.git/objects/9d\n",
      "../../../PythonBatchNovDec2024/.git/objects/12\n",
      "../../../PythonBatchNovDec2024/.git/objects/56\n",
      "../../../PythonBatchNovDec2024/.git/objects/18\n",
      "../../../PythonBatchNovDec2024/.git/objects/d1\n",
      "../../../PythonBatchNovDec2024/.git/objects/6d\n",
      "../../../PythonBatchNovDec2024/.git/objects/1e\n",
      "../../../PythonBatchNovDec2024/.git/objects/e3\n",
      "../../../PythonBatchNovDec2024/.git/objects/f5\n",
      "../../../PythonBatchNovDec2024/.git/objects/33\n",
      "../../../PythonBatchNovDec2024/.git/objects/5f\n",
      "../../../PythonBatchNovDec2024/.git/objects/96\n",
      "../../../PythonBatchNovDec2024/.git/objects/bb\n",
      "../../../PythonBatchNovDec2024/.git/objects/05\n",
      "../../../PythonBatchNovDec2024/.git/objects/72\n",
      "../../../PythonBatchNovDec2024/.git/objects/87\n",
      "../../../PythonBatchNovDec2024/.git/objects/ef\n",
      "../../../PythonBatchNovDec2024/.git/objects/20\n",
      "../../../PythonBatchNovDec2024/.git/objects/bd\n",
      "../../../PythonBatchNovDec2024/.git/objects/06\n",
      "../../../PythonBatchNovDec2024/.git/objects/d2\n",
      "../../../PythonBatchNovDec2024/.git/objects/c3\n",
      "../../../PythonBatchNovDec2024/.git/objects/92\n",
      "../../../PythonBatchNovDec2024/.git/objects/67\n",
      "../../../PythonBatchNovDec2024/.git/objects/6b\n",
      "../../../PythonBatchNovDec2024/.git/objects/41\n",
      "../../../PythonBatchNovDec2024/.git/objects/76\n",
      "../../../PythonBatchNovDec2024/.git/objects/0c\n",
      "../../../PythonBatchNovDec2024/.git/objects/9e\n",
      "../../../PythonBatchNovDec2024/.git/objects/b2\n",
      "../../../PythonBatchNovDec2024/.git/objects/e8\n",
      "../../../PythonBatchNovDec2024/.git/objects/e1\n",
      "../../../PythonBatchNovDec2024/.git/objects/3f\n",
      "../../../PythonBatchNovDec2024/.git/objects/78\n",
      "../../../PythonBatchNovDec2024/.git/objects/e9\n",
      "../../../PythonBatchNovDec2024/.git/objects/48\n",
      "../../../PythonBatchNovDec2024/.git/objects/99\n",
      "../../../PythonBatchNovDec2024/.git/objects/68\n",
      "../../../PythonBatchNovDec2024/.git/objects/db\n",
      "../../../PythonBatchNovDec2024/.git/objects/ba\n",
      "../../../PythonBatchNovDec2024/.git/objects/0f\n",
      "../../../PythonBatchNovDec2024/.git/objects/08\n",
      "../../../PythonBatchNovDec2024/.git/objects/c6\n",
      "../../../PythonBatchNovDec2024/.git/objects/2a\n",
      "../../../PythonBatchNovDec2024/.git/objects/27\n",
      "../../../PythonBatchNovDec2024/.git/objects/8f\n",
      "../../../PythonBatchNovDec2024/.git/objects/82\n",
      "../../../PythonBatchNovDec2024/.git/objects/70\n",
      "../../../PythonBatchNovDec2024/.git/objects/d7\n",
      "../../../PythonBatchNovDec2024/.git/objects/a4\n",
      "../../../PythonBatchNovDec2024/.git/objects/0d\n",
      "../../../PythonBatchNovDec2024/.git/objects/31\n",
      "../../../PythonBatchNovDec2024/.git/objects/13\n",
      "../../../PythonBatchNovDec2024/.git/objects/4f\n",
      "../../../PythonBatchNovDec2024/.git/objects/47\n",
      "../../../PythonBatchNovDec2024/.git/objects/fa\n",
      "../../../PythonBatchNovDec2024/.git/objects/b5\n",
      "../../../PythonBatchNovDec2024/.git/objects/85\n",
      "../../../PythonBatchNovDec2024/.git/objects/a9\n",
      "../../../PythonBatchNovDec2024/.git/objects/02\n",
      "../../../PythonBatchNovDec2024/.git/objects/19\n",
      "../../../PythonBatchNovDec2024/.git/objects/eb\n",
      "../../../PythonBatchNovDec2024/.git/objects/09\n",
      "../../../PythonBatchNovDec2024/.git/objects/46\n",
      "../../../PythonBatchNovDec2024/.git/objects/e2\n",
      "../../../PythonBatchNovDec2024/.git/objects/15\n",
      "../../../PythonBatchNovDec2024/.git/objects/ec\n",
      "../../../PythonBatchNovDec2024/.git/objects/4d\n",
      "../../../PythonBatchNovDec2024/.git/objects/cb\n",
      "../../../PythonBatchNovDec2024/.git/objects/6a\n",
      "../../../PythonBatchNovDec2024/.git/objects/44\n",
      "../../../PythonBatchNovDec2024/.git/objects/14\n",
      "../../../PythonBatchNovDec2024/.git/objects/74\n",
      "../../../PythonBatchNovDec2024/.git/objects/37\n",
      "../../../PythonBatchNovDec2024/.git/objects/f7\n",
      "../../../PythonBatchNovDec2024/.git/objects/62\n",
      "../../../PythonBatchNovDec2024/.git/objects/11\n",
      "../../../PythonBatchNovDec2024/.git/objects/55\n",
      "../../../PythonBatchNovDec2024/.git/objects/50\n",
      "../../../PythonBatchNovDec2024/.git/objects/info\n",
      "../../../PythonBatchNovDec2024/.git/objects/fe\n",
      "../../../PythonBatchNovDec2024/.git/objects/7d\n",
      "../../../PythonBatchNovDec2024/.git/hooks\n",
      "../../../PythonBatchNovDec2024/.git/lfs\n",
      "../../../PythonBatchNovDec2024/.git/lfs/tmp\n",
      "../../../PythonBatchNovDec2024/.git/branches\n",
      "../../../PythonBatchNovDec2024/.git/refs\n",
      "../../../PythonBatchNovDec2024/.git/refs/heads\n",
      "../../../PythonBatchNovDec2024/.git/refs/tags\n",
      "../../../PythonBatchNovDec2024/.git/refs/remotes\n",
      "../../../PythonBatchNovDec2024/.git/refs/remotes/origin\n",
      "../../../PythonBatchNovDec2024/.git/logs\n",
      "../../../PythonBatchNovDec2024/.git/logs/refs\n",
      "../../../PythonBatchNovDec2024/.git/logs/refs/heads\n",
      "../../../PythonBatchNovDec2024/.git/logs/refs/remotes\n",
      "../../../PythonBatchNovDec2024/.git/logs/refs/remotes/origin\n",
      "../../../PythonBatchNovDec2024/.git/info\n",
      "../../../PythonBatchNovDec2024/02_Basics\n",
      "../../../PythonBatchNovDec2024/02_Basics/02_String_Operations\n",
      "../../../PythonBatchNovDec2024/02_Basics/01_Arithmetic_Operations\n",
      "../../../PythonBatchNovDec2024/02_Basics/01_Arithmetic_Operations/__pycache__\n",
      "../../../PythonBatchNovDec2024/06_Collections\n",
      "../../../PythonBatchNovDec2024/06_Collections/04_Dicts\n",
      "../../../PythonBatchNovDec2024/06_Collections/03_Sets\n",
      "../../../PythonBatchNovDec2024/06_Collections/02_Tuples\n",
      "../../../PythonBatchNovDec2024/06_Collections/01_Lists\n",
      "../../../PythonBatchNovDec2024/.venv\n",
      "../../../PythonBatchNovDec2024/.venv/lib\n",
      "../../../PythonBatchNovDec2024/.venv/lib/python3.12\n",
      "../../../PythonBatchNovDec2024/.venv/lib/python3.12/site-packages\n",
      "../../../PythonBatchNovDec2024/.venv/lib/python3.12/site-packages/pure_eval\n",
      "../../../PythonBatchNovDec2024/.venv/lib/python3.12/site-packages/pure_eval/__pycache__\n",
      "../../../PythonBatchNovDec2024/.venv/lib/python3.12/site-packages/traitlets-5.14.3.dist-info\n",
      "../../../PythonBatchNovDec2024/.venv/lib/python3.12/site-packages/traitlets-5.14.3.dist-info/licenses\n",
      "../../../PythonBatchNovDec2024/.venv/lib/python3.12/site-packages/asttokens-3.0.0.dist-info\n",
      "../../../PythonBatchNovDec2024/.venv/lib/python3.12/site-packages/traitlets\n",
      "../../../PythonBatchNovDec2024/.venv/lib/python3.12/site-packages/traitlets/config\n",
      "../../../PythonBatchNovDec2024/.venv/lib/python3.12/site-packages/traitlets/config/__pycache__\n",
      "../../../PythonBatchNovDec2024/.venv/lib/python3.12/site-packages/traitlets/utils\n",
      "../../../PythonBatchNovDec2024/.venv/lib/python3.12/site-packages/traitlets/utils/__pycache__\n",
      "../../../PythonBatchNovDec2024/.venv/lib/python3.12/site-packages/traitlets/__pycache__\n",
      "../../../PythonBatchNovDec2024/.venv/lib/python3.12/site-packages/traitlets/tests\n",
      "../../../PythonBatchNovDec2024/.venv/lib/python3.12/site-packages/traitlets/tests/__pycache__\n",
      "../../../PythonBatchNovDec2024/.venv/lib/python3.12/site-packages/matplotlib_inline-0.1.7.dist-info\n",
      "../../../PythonBatchNovDec2024/.venv/lib/python3.12/site-packages/jupyter_client\n",
      "../../../PythonBatchNovDec2024/.venv/lib/python3.12/site-packages/jupyter_client/ssh\n",
      "../../../PythonBatchNovDec2024/.venv/lib/python3.12/site-packages/jupyter_client/ssh/__pycache__\n",
      "../../../PythonBatchNovDec2024/.venv/lib/python3.12/site-packages/jupyter_client/blocking\n",
      "../../../PythonBatchNovDec2024/.venv/lib/python3.12/site-packages/jupyter_client/blocking/__pycache__\n",
      "../../../PythonBatchNovDec2024/.venv/lib/python3.12/site-packages/jupyter_client/__pycache__\n",
      "../../../PythonBatchNovDec2024/.venv/lib/python3.12/site-packages/jupyter_client/provisioning\n",
      "../../../PythonBatchNovDec2024/.venv/lib/python3.12/site-packages/jupyter_client/provisioning/__pycache__\n",
      "../../../PythonBatchNovDec2024/.venv/lib/python3.12/site-packages/jupyter_client/asynchronous\n",
      "../../../PythonBatchNovDec2024/.venv/lib/python3.12/site-packages/jupyter_client/asynchronous/__pycache__\n",
      "../../../PythonBatchNovDec2024/.venv/lib/python3.12/site-packages/jupyter_client/ioloop\n",
      "../../../PythonBatchNovDec2024/.venv/lib/python3.12/site-packages/jupyter_client/ioloop/__pycache__\n",
      "../../../PythonBatchNovDec2024/.venv/lib/python3.12/site-packages/pure_eval-0.2.3.dist-info\n",
      "../../../PythonBatchNovDec2024/.venv/lib/python3.12/site-packages/pexpect\n",
      "../../../PythonBatchNovDec2024/.venv/lib/python3.12/site-packages/pexpect/__pycache__\n",
      "../../../PythonBatchNovDec2024/.venv/lib/python3.12/site-packages/nest_asyncio-1.6.0.dist-info\n",
      "../../../PythonBatchNovDec2024/.venv/lib/python3.12/site-packages/pygments-2.18.0.dist-info\n",
      "../../../PythonBatchNovDec2024/.venv/lib/python3.12/site-packages/pygments-2.18.0.dist-info/licenses\n",
      "../../../PythonBatchNovDec2024/.venv/lib/python3.12/site-packages/wcwidth\n",
      "../../../PythonBatchNovDec2024/.venv/lib/python3.12/site-packages/wcwidth/__pycache__\n",
      "../../../PythonBatchNovDec2024/.venv/lib/python3.12/site-packages/pygments\n",
      "../../../PythonBatchNovDec2024/.venv/lib/python3.12/site-packages/pygments/filters\n",
      "../../../PythonBatchNovDec2024/.venv/lib/python3.12/site-packages/pygments/filters/__pycache__\n",
      "../../../PythonBatchNovDec2024/.venv/lib/python3.12/site-packages/pygments/lexers\n",
      "../../../PythonBatchNovDec2024/.venv/lib/python3.12/site-packages/pygments/lexers/__pycache__\n",
      "../../../PythonBatchNovDec2024/.venv/lib/python3.12/site-packages/pygments/formatters\n",
      "../../../PythonBatchNovDec2024/.venv/lib/python3.12/site-packages/pygments/formatters/__pycache__\n",
      "../../../PythonBatchNovDec2024/.venv/lib/python3.12/site-packages/pygments/__pycache__\n",
      "../../../PythonBatchNovDec2024/.venv/lib/python3.12/site-packages/pygments/styles\n",
      "../../../PythonBatchNovDec2024/.venv/lib/python3.12/site-packages/pygments/styles/__pycache__\n",
      "../../../PythonBatchNovDec2024/.venv/lib/python3.12/site-packages/packaging\n",
      "../../../PythonBatchNovDec2024/.venv/lib/python3.12/site-packages/packaging/__pycache__\n",
      "../../../PythonBatchNovDec2024/.venv/lib/python3.12/site-packages/packaging/licenses\n",
      "../../../PythonBatchNovDec2024/.venv/lib/python3.12/site-packages/packaging/licenses/__pycache__\n",
      "../../../PythonBatchNovDec2024/.venv/lib/python3.12/site-packages/executing\n",
      "../../../PythonBatchNovDec2024/.venv/lib/python3.12/site-packages/executing/__pycache__\n",
      "../../../PythonBatchNovDec2024/.venv/lib/python3.12/site-packages/pip\n",
      "../../../PythonBatchNovDec2024/.venv/lib/python3.12/site-packages/pip/_vendor\n",
      "../../../PythonBatchNovDec2024/.venv/lib/python3.12/site-packages/pip/_vendor/pyproject_hooks\n",
      "../../../PythonBatchNovDec2024/.venv/lib/python3.12/site-packages/pip/_vendor/pyproject_hooks/__pycache__\n",
      "../../../PythonBatchNovDec2024/.venv/lib/python3.12/site-packages/pip/_vendor/pyproject_hooks/_in_process\n",
      "../../../PythonBatchNovDec2024/.venv/lib/python3.12/site-packages/pip/_vendor/pyproject_hooks/_in_process/__pycache__\n",
      "../../../PythonBatchNovDec2024/.venv/lib/python3.12/site-packages/pip/_vendor/requests\n",
      "../../../PythonBatchNovDec2024/.venv/lib/python3.12/site-packages/pip/_vendor/requests/__pycache__\n",
      "../../../PythonBatchNovDec2024/.venv/lib/python3.12/site-packages/pip/_vendor/cachecontrol\n",
      "../../../PythonBatchNovDec2024/.venv/lib/python3.12/site-packages/pip/_vendor/cachecontrol/caches\n",
      "../../../PythonBatchNovDec2024/.venv/lib/python3.12/site-packages/pip/_vendor/cachecontrol/caches/__pycache__\n",
      "../../../PythonBatchNovDec2024/.venv/lib/python3.12/site-packages/pip/_vendor/cachecontrol/__pycache__\n",
      "../../../PythonBatchNovDec2024/.venv/lib/python3.12/site-packages/pip/_vendor/truststore\n",
      "../../../PythonBatchNovDec2024/.venv/lib/python3.12/site-packages/pip/_vendor/truststore/__pycache__\n",
      "../../../PythonBatchNovDec2024/.venv/lib/python3.12/site-packages/pip/_vendor/distro\n",
      "../../../PythonBatchNovDec2024/.venv/lib/python3.12/site-packages/pip/_vendor/distro/__pycache__\n",
      "../../../PythonBatchNovDec2024/.venv/lib/python3.12/site-packages/pip/_vendor/pygments\n",
      "../../../PythonBatchNovDec2024/.venv/lib/python3.12/site-packages/pip/_vendor/pygments/filters\n",
      "../../../PythonBatchNovDec2024/.venv/lib/python3.12/site-packages/pip/_vendor/pygments/filters/__pycache__\n",
      "../../../PythonBatchNovDec2024/.venv/lib/python3.12/site-packages/pip/_vendor/pygments/lexers\n",
      "../../../PythonBatchNovDec2024/.venv/lib/python3.12/site-packages/pip/_vendor/pygments/lexers/__pycache__\n",
      "../../../PythonBatchNovDec2024/.venv/lib/python3.12/site-packages/pip/_vendor/pygments/formatters\n",
      "../../../PythonBatchNovDec2024/.venv/lib/python3.12/site-packages/pip/_vendor/pygments/__pycache__\n",
      "../../../PythonBatchNovDec2024/.venv/lib/python3.12/site-packages/pip/_vendor/pygments/styles\n",
      "../../../PythonBatchNovDec2024/.venv/lib/python3.12/site-packages/pip/_vendor/pygments/styles/__pycache__\n",
      "../../../PythonBatchNovDec2024/.venv/lib/python3.12/site-packages/pip/_vendor/packaging\n",
      "../../../PythonBatchNovDec2024/.venv/lib/python3.12/site-packages/pip/_vendor/packaging/__pycache__\n",
      "../../../PythonBatchNovDec2024/.venv/lib/python3.12/site-packages/pip/_vendor/msgpack\n",
      "../../../PythonBatchNovDec2024/.venv/lib/python3.12/site-packages/pip/_vendor/msgpack/__pycache__\n",
      "../../../PythonBatchNovDec2024/.venv/lib/python3.12/site-packages/pip/_vendor/tomli\n",
      "../../../PythonBatchNovDec2024/.venv/lib/python3.12/site-packages/pip/_vendor/rich\n",
      "../../../PythonBatchNovDec2024/.venv/lib/python3.12/site-packages/pip/_vendor/rich/__pycache__\n",
      "../../../PythonBatchNovDec2024/.venv/lib/python3.12/site-packages/pip/_vendor/resolvelib\n",
      "../../../PythonBatchNovDec2024/.venv/lib/python3.12/site-packages/pip/_vendor/resolvelib/compat\n",
      "../../../PythonBatchNovDec2024/.venv/lib/python3.12/site-packages/pip/_vendor/resolvelib/compat/__pycache__\n",
      "../../../PythonBatchNovDec2024/.venv/lib/python3.12/site-packages/pip/_vendor/resolvelib/__pycache__\n",
      "../../../PythonBatchNovDec2024/.venv/lib/python3.12/site-packages/pip/_vendor/__pycache__\n",
      "../../../PythonBatchNovDec2024/.venv/lib/python3.12/site-packages/pip/_vendor/distlib\n",
      "../../../PythonBatchNovDec2024/.venv/lib/python3.12/site-packages/pip/_vendor/distlib/__pycache__\n",
      "../../../PythonBatchNovDec2024/.venv/lib/python3.12/site-packages/pip/_vendor/idna\n",
      "../../../PythonBatchNovDec2024/.venv/lib/python3.12/site-packages/pip/_vendor/idna/__pycache__\n",
      "../../../PythonBatchNovDec2024/.venv/lib/python3.12/site-packages/pip/_vendor/urllib3\n",
      "../../../PythonBatchNovDec2024/.venv/lib/python3.12/site-packages/pip/_vendor/urllib3/packages\n",
      "../../../PythonBatchNovDec2024/.venv/lib/python3.12/site-packages/pip/_vendor/urllib3/packages/__pycache__\n",
      "../../../PythonBatchNovDec2024/.venv/lib/python3.12/site-packages/pip/_vendor/urllib3/packages/backports\n",
      "../../../PythonBatchNovDec2024/.venv/lib/python3.12/site-packages/pip/_vendor/urllib3/__pycache__\n",
      "../../../PythonBatchNovDec2024/.venv/lib/python3.12/site-packages/pip/_vendor/urllib3/util\n",
      "../../../PythonBatchNovDec2024/.venv/lib/python3.12/site-packages/pip/_vendor/urllib3/util/__pycache__\n",
      "../../../PythonBatchNovDec2024/.venv/lib/python3.12/site-packages/pip/_vendor/urllib3/contrib\n",
      "../../../PythonBatchNovDec2024/.venv/lib/python3.12/site-packages/pip/_vendor/urllib3/contrib/_securetransport\n",
      "../../../PythonBatchNovDec2024/.venv/lib/python3.12/site-packages/pip/_vendor/urllib3/contrib/__pycache__\n",
      "../../../PythonBatchNovDec2024/.venv/lib/python3.12/site-packages/pip/_vendor/pkg_resources\n",
      "../../../PythonBatchNovDec2024/.venv/lib/python3.12/site-packages/pip/_vendor/pkg_resources/__pycache__\n",
      "../../../PythonBatchNovDec2024/.venv/lib/python3.12/site-packages/pip/_vendor/platformdirs\n",
      "../../../PythonBatchNovDec2024/.venv/lib/python3.12/site-packages/pip/_vendor/platformdirs/__pycache__\n",
      "../../../PythonBatchNovDec2024/.venv/lib/python3.12/site-packages/pip/_vendor/certifi\n",
      "../../../PythonBatchNovDec2024/.venv/lib/python3.12/site-packages/pip/_vendor/certifi/__pycache__\n",
      "../../../PythonBatchNovDec2024/.venv/lib/python3.12/site-packages/pip/_internal\n",
      "../../../PythonBatchNovDec2024/.venv/lib/python3.12/site-packages/pip/_internal/resolution\n",
      "../../../PythonBatchNovDec2024/.venv/lib/python3.12/site-packages/pip/_internal/resolution/resolvelib\n",
      "../../../PythonBatchNovDec2024/.venv/lib/python3.12/site-packages/pip/_internal/resolution/resolvelib/__pycache__\n",
      "../../../PythonBatchNovDec2024/.venv/lib/python3.12/site-packages/pip/_internal/resolution/__pycache__\n",
      "../../../PythonBatchNovDec2024/.venv/lib/python3.12/site-packages/pip/_internal/resolution/legacy\n",
      "../../../PythonBatchNovDec2024/.venv/lib/python3.12/site-packages/pip/_internal/operations\n",
      "../../../PythonBatchNovDec2024/.venv/lib/python3.12/site-packages/pip/_internal/operations/__pycache__\n",
      "../../../PythonBatchNovDec2024/.venv/lib/python3.12/site-packages/pip/_internal/operations/install\n",
      "../../../PythonBatchNovDec2024/.venv/lib/python3.12/site-packages/pip/_internal/operations/install/__pycache__\n",
      "../../../PythonBatchNovDec2024/.venv/lib/python3.12/site-packages/pip/_internal/operations/build\n",
      "../../../PythonBatchNovDec2024/.venv/lib/python3.12/site-packages/pip/_internal/operations/build/__pycache__\n",
      "../../../PythonBatchNovDec2024/.venv/lib/python3.12/site-packages/pip/_internal/cli\n",
      "../../../PythonBatchNovDec2024/.venv/lib/python3.12/site-packages/pip/_internal/cli/__pycache__\n",
      "../../../PythonBatchNovDec2024/.venv/lib/python3.12/site-packages/pip/_internal/distributions\n",
      "../../../PythonBatchNovDec2024/.venv/lib/python3.12/site-packages/pip/_internal/distributions/__pycache__\n",
      "../../../PythonBatchNovDec2024/.venv/lib/python3.12/site-packages/pip/_internal/locations\n",
      "../../../PythonBatchNovDec2024/.venv/lib/python3.12/site-packages/pip/_internal/locations/__pycache__\n",
      "../../../PythonBatchNovDec2024/.venv/lib/python3.12/site-packages/pip/_internal/index\n",
      "../../../PythonBatchNovDec2024/.venv/lib/python3.12/site-packages/pip/_internal/index/__pycache__\n",
      "../../../PythonBatchNovDec2024/.venv/lib/python3.12/site-packages/pip/_internal/models\n",
      "../../../PythonBatchNovDec2024/.venv/lib/python3.12/site-packages/pip/_internal/models/__pycache__\n",
      "../../../PythonBatchNovDec2024/.venv/lib/python3.12/site-packages/pip/_internal/utils\n",
      "../../../PythonBatchNovDec2024/.venv/lib/python3.12/site-packages/pip/_internal/utils/__pycache__\n",
      "../../../PythonBatchNovDec2024/.venv/lib/python3.12/site-packages/pip/_internal/__pycache__\n",
      "../../../PythonBatchNovDec2024/.venv/lib/python3.12/site-packages/pip/_internal/metadata\n",
      "../../../PythonBatchNovDec2024/.venv/lib/python3.12/site-packages/pip/_internal/metadata/__pycache__\n",
      "../../../PythonBatchNovDec2024/.venv/lib/python3.12/site-packages/pip/_internal/metadata/importlib\n",
      "../../../PythonBatchNovDec2024/.venv/lib/python3.12/site-packages/pip/_internal/metadata/importlib/__pycache__\n",
      "../../../PythonBatchNovDec2024/.venv/lib/python3.12/site-packages/pip/_internal/network\n",
      "../../../PythonBatchNovDec2024/.venv/lib/python3.12/site-packages/pip/_internal/network/__pycache__\n",
      "../../../PythonBatchNovDec2024/.venv/lib/python3.12/site-packages/pip/_internal/commands\n",
      "../../../PythonBatchNovDec2024/.venv/lib/python3.12/site-packages/pip/_internal/commands/__pycache__\n",
      "../../../PythonBatchNovDec2024/.venv/lib/python3.12/site-packages/pip/_internal/vcs\n",
      "../../../PythonBatchNovDec2024/.venv/lib/python3.12/site-packages/pip/_internal/vcs/__pycache__\n",
      "../../../PythonBatchNovDec2024/.venv/lib/python3.12/site-packages/pip/_internal/req\n",
      "../../../PythonBatchNovDec2024/.venv/lib/python3.12/site-packages/pip/_internal/req/__pycache__\n",
      "../../../PythonBatchNovDec2024/.venv/lib/python3.12/site-packages/pip/__pycache__\n",
      "../../../PythonBatchNovDec2024/.venv/lib/python3.12/site-packages/pyzmq-26.2.0.dist-info\n",
      "../../../PythonBatchNovDec2024/.venv/lib/python3.12/site-packages/pyzmq-26.2.0.dist-info/licenses\n",
      "../../../PythonBatchNovDec2024/.venv/lib/python3.12/site-packages/pyzmq-26.2.0.dist-info/licenses/licenses\n",
      "../../../PythonBatchNovDec2024/.venv/lib/python3.12/site-packages/jedi\n",
      "../../../PythonBatchNovDec2024/.venv/lib/python3.12/site-packages/jedi/third_party\n",
      "../../../PythonBatchNovDec2024/.venv/lib/python3.12/site-packages/jedi/third_party/django-stubs\n",
      "../../../PythonBatchNovDec2024/.venv/lib/python3.12/site-packages/jedi/third_party/django-stubs/django-stubs\n",
      "../../../PythonBatchNovDec2024/.venv/lib/python3.12/site-packages/jedi/third_party/django-stubs/django-stubs/templatetags\n",
      "../../../PythonBatchNovDec2024/.venv/lib/python3.12/site-packages/jedi/third_party/django-stubs/django-stubs/views\n",
      "../../../PythonBatchNovDec2024/.venv/lib/python3.12/site-packages/jedi/third_party/django-stubs/django-stubs/views/generic\n",
      "../../../PythonBatchNovDec2024/.venv/lib/python3.12/site-packages/jedi/third_party/django-stubs/django-stubs/views/decorators\n",
      "../../../PythonBatchNovDec2024/.venv/lib/python3.12/site-packages/jedi/third_party/django-stubs/django-stubs/core\n",
      "../../../PythonBatchNovDec2024/.venv/lib/python3.12/site-packages/jedi/third_party/django-stubs/django-stubs/core/handlers\n",
      "../../../PythonBatchNovDec2024/.venv/lib/python3.12/site-packages/jedi/third_party/django-stubs/django-stubs/core/serializers\n",
      "../../../PythonBatchNovDec2024/.venv/lib/python3.12/site-packages/jedi/third_party/django-stubs/django-stubs/core/mail\n",
      "../../../PythonBatchNovDec2024/.venv/lib/python3.12/site-packages/jedi/third_party/django-stubs/django-stubs/core/mail/backends\n",
      "../../../PythonBatchNovDec2024/.venv/lib/python3.12/site-packages/jedi/third_party/django-stubs/django-stubs/core/files\n",
      "../../../PythonBatchNovDec2024/.venv/lib/python3.12/site-packages/jedi/third_party/django-stubs/django-stubs/core/management\n",
      "../../../PythonBatchNovDec2024/.venv/lib/python3.12/site-packages/jedi/third_party/django-stubs/django-stubs/core/management/commands\n",
      "../../../PythonBatchNovDec2024/.venv/lib/python3.12/site-packages/jedi/third_party/django-stubs/django-stubs/core/checks\n",
      "../../../PythonBatchNovDec2024/.venv/lib/python3.12/site-packages/jedi/third_party/django-stubs/django-stubs/core/checks/security\n",
      "../../../PythonBatchNovDec2024/.venv/lib/python3.12/site-packages/jedi/third_party/django-stubs/django-stubs/core/servers\n",
      "../../../PythonBatchNovDec2024/.venv/lib/python3.12/site-packages/jedi/third_party/django-stubs/django-stubs/core/cache\n",
      "../../../PythonBatchNovDec2024/.venv/lib/python3.12/site-packages/jedi/third_party/django-stubs/django-stubs/core/cache/backends\n",
      "../../../PythonBatchNovDec2024/.venv/lib/python3.12/site-packages/jedi/third_party/django-stubs/django-stubs/dispatch\n",
      "../../../PythonBatchNovDec2024/.venv/lib/python3.12/site-packages/jedi/third_party/django-stubs/django-stubs/apps\n",
      "../../../PythonBatchNovDec2024/.venv/lib/python3.12/site-packages/jedi/third_party/django-stubs/django-stubs/utils\n",
      "../../../PythonBatchNovDec2024/.venv/lib/python3.12/site-packages/jedi/third_party/django-stubs/django-stubs/utils/translation\n",
      "../../../PythonBatchNovDec2024/.venv/lib/python3.12/site-packages/jedi/third_party/django-stubs/django-stubs/conf\n",
      "../../../PythonBatchNovDec2024/.venv/lib/python3.12/site-packages/jedi/third_party/django-stubs/django-stubs/conf/locale\n",
      "../../../PythonBatchNovDec2024/.venv/lib/python3.12/site-packages/jedi/third_party/django-stubs/django-stubs/conf/urls\n",
      "../../../PythonBatchNovDec2024/.venv/lib/python3.12/site-packages/jedi/third_party/django-stubs/django-stubs/test\n",
      "../../../PythonBatchNovDec2024/.venv/lib/python3.12/site-packages/jedi/third_party/django-stubs/django-stubs/urls\n",
      "../../../PythonBatchNovDec2024/.venv/lib/python3.12/site-packages/jedi/third_party/django-stubs/django-stubs/http\n",
      "../../../PythonBatchNovDec2024/.venv/lib/python3.12/site-packages/jedi/third_party/django-stubs/django-stubs/db\n",
      "../../../PythonBatchNovDec2024/.venv/lib/python3.12/site-packages/jedi/third_party/django-stubs/django-stubs/db/models\n",
      "../../../PythonBatchNovDec2024/.venv/lib/python3.12/site-packages/jedi/third_party/django-stubs/django-stubs/db/models/functions\n",
      "../../../PythonBatchNovDec2024/.venv/lib/python3.12/site-packages/jedi/third_party/django-stubs/django-stubs/db/models/fields\n",
      "../../../PythonBatchNovDec2024/.venv/lib/python3.12/site-packages/jedi/third_party/django-stubs/django-stubs/db/models/sql\n",
      "../../../PythonBatchNovDec2024/.venv/lib/python3.12/site-packages/jedi/third_party/django-stubs/django-stubs/db/migrations\n",
      "../../../PythonBatchNovDec2024/.venv/lib/python3.12/site-packages/jedi/third_party/django-stubs/django-stubs/db/migrations/operations\n",
      "../../../PythonBatchNovDec2024/.venv/lib/python3.12/site-packages/jedi/third_party/django-stubs/django-stubs/db/backends\n",
      "../../../PythonBatchNovDec2024/.venv/lib/python3.12/site-packages/jedi/third_party/django-stubs/django-stubs/db/backends/base\n",
      "../../../PythonBatchNovDec2024/.venv/lib/python3.12/site-packages/jedi/third_party/django-stubs/django-stubs/db/backends/sqlite3\n",
      "../../../PythonBatchNovDec2024/.venv/lib/python3.12/site-packages/jedi/third_party/django-stubs/django-stubs/db/backends/dummy\n",
      "../../../PythonBatchNovDec2024/.venv/lib/python3.12/site-packages/jedi/third_party/django-stubs/django-stubs/db/backends/mysql\n",
      "../../../PythonBatchNovDec2024/.venv/lib/python3.12/site-packages/jedi/third_party/django-stubs/django-stubs/db/backends/postgresql\n",
      "../../../PythonBatchNovDec2024/.venv/lib/python3.12/site-packages/jedi/third_party/django-stubs/django-stubs/template\n",
      "../../../PythonBatchNovDec2024/.venv/lib/python3.12/site-packages/jedi/third_party/django-stubs/django-stubs/template/backends\n",
      "../../../PythonBatchNovDec2024/.venv/lib/python3.12/site-packages/jedi/third_party/django-stubs/django-stubs/template/loaders\n",
      "../../../PythonBatchNovDec2024/.venv/lib/python3.12/site-packages/jedi/third_party/django-stubs/django-stubs/middleware\n",
      "../../../PythonBatchNovDec2024/.venv/lib/python3.12/site-packages/jedi/third_party/django-stubs/django-stubs/forms\n",
      "../../../PythonBatchNovDec2024/.venv/lib/python3.12/site-packages/jedi/third_party/django-stubs/django-stubs/contrib\n",
      "../../../PythonBatchNovDec2024/.venv/lib/python3.12/site-packages/jedi/third_party/django-stubs/django-stubs/contrib/admindocs\n",
      "../../../PythonBatchNovDec2024/.venv/lib/python3.12/site-packages/jedi/third_party/django-stubs/django-stubs/contrib/sessions\n",
      "../../../PythonBatchNovDec2024/.venv/lib/python3.12/site-packages/jedi/third_party/django-stubs/django-stubs/contrib/sessions/backends\n",
      "../../../PythonBatchNovDec2024/.venv/lib/python3.12/site-packages/jedi/third_party/django-stubs/django-stubs/contrib/sessions/management\n",
      "../../../PythonBatchNovDec2024/.venv/lib/python3.12/site-packages/jedi/third_party/django-stubs/django-stubs/contrib/sessions/management/commands\n",
      "../../../PythonBatchNovDec2024/.venv/lib/python3.12/site-packages/jedi/third_party/django-stubs/django-stubs/contrib/admin\n",
      "../../../PythonBatchNovDec2024/.venv/lib/python3.12/site-packages/jedi/third_party/django-stubs/django-stubs/contrib/admin/templatetags\n",
      "../../../PythonBatchNovDec2024/.venv/lib/python3.12/site-packages/jedi/third_party/django-stubs/django-stubs/contrib/admin/views\n",
      "../../../PythonBatchNovDec2024/.venv/lib/python3.12/site-packages/jedi/third_party/django-stubs/django-stubs/contrib/staticfiles\n",
      "../../../PythonBatchNovDec2024/.venv/lib/python3.12/site-packages/jedi/third_party/django-stubs/django-stubs/contrib/staticfiles/templatetags\n",
      "../../../PythonBatchNovDec2024/.venv/lib/python3.12/site-packages/jedi/third_party/django-stubs/django-stubs/contrib/staticfiles/management\n",
      "../../../PythonBatchNovDec2024/.venv/lib/python3.12/site-packages/jedi/third_party/django-stubs/django-stubs/contrib/staticfiles/management/commands\n",
      "../../../PythonBatchNovDec2024/.venv/lib/python3.12/site-packages/jedi/third_party/django-stubs/django-stubs/contrib/postgres\n",
      "../../../PythonBatchNovDec2024/.venv/lib/python3.12/site-packages/jedi/third_party/django-stubs/django-stubs/contrib/postgres/fields\n",
      "../../../PythonBatchNovDec2024/.venv/lib/python3.12/site-packages/jedi/third_party/django-stubs/django-stubs/contrib/postgres/aggregates\n",
      "../../../PythonBatchNovDec2024/.venv/lib/python3.12/site-packages/jedi/third_party/django-stubs/django-stubs/contrib/messages\n",
      "../../../PythonBatchNovDec2024/.venv/lib/python3.12/site-packages/jedi/third_party/django-stubs/django-stubs/contrib/messages/storage\n",
      "../../../PythonBatchNovDec2024/.venv/lib/python3.12/site-packages/jedi/third_party/django-stubs/django-stubs/contrib/auth\n",
      "../../../PythonBatchNovDec2024/.venv/lib/python3.12/site-packages/jedi/third_party/django-stubs/django-stubs/contrib/auth/handlers\n",
      "../../../PythonBatchNovDec2024/.venv/lib/python3.12/site-packages/jedi/third_party/django-stubs/django-stubs/contrib/auth/management\n",
      "../../../PythonBatchNovDec2024/.venv/lib/python3.12/site-packages/jedi/third_party/django-stubs/django-stubs/contrib/auth/management/commands\n",
      "../../../PythonBatchNovDec2024/.venv/lib/python3.12/site-packages/jedi/third_party/django-stubs/django-stubs/contrib/sitemaps\n",
      "../../../PythonBatchNovDec2024/.venv/lib/python3.12/site-packages/jedi/third_party/django-stubs/django-stubs/contrib/sitemaps/management\n",
      "../../../PythonBatchNovDec2024/.venv/lib/python3.12/site-packages/jedi/third_party/django-stubs/django-stubs/contrib/sitemaps/management/commands\n",
      "../../../PythonBatchNovDec2024/.venv/lib/python3.12/site-packages/jedi/third_party/django-stubs/django-stubs/contrib/sites\n",
      "../../../PythonBatchNovDec2024/.venv/lib/python3.12/site-packages/jedi/third_party/django-stubs/django-stubs/contrib/humanize\n",
      "../../../PythonBatchNovDec2024/.venv/lib/python3.12/site-packages/jedi/third_party/django-stubs/django-stubs/contrib/humanize/templatetags\n",
      "../../../PythonBatchNovDec2024/.venv/lib/python3.12/site-packages/jedi/third_party/django-stubs/django-stubs/contrib/syndication\n",
      "../../../PythonBatchNovDec2024/.venv/lib/python3.12/site-packages/jedi/third_party/django-stubs/django-stubs/contrib/redirects\n",
      "../../../PythonBatchNovDec2024/.venv/lib/python3.12/site-packages/jedi/third_party/django-stubs/django-stubs/contrib/contenttypes\n",
      "../../../PythonBatchNovDec2024/.venv/lib/python3.12/site-packages/jedi/third_party/django-stubs/django-stubs/contrib/contenttypes/management\n",
      "../../../PythonBatchNovDec2024/.venv/lib/python3.12/site-packages/jedi/third_party/django-stubs/django-stubs/contrib/contenttypes/management/commands\n",
      "../../../PythonBatchNovDec2024/.venv/lib/python3.12/site-packages/jedi/third_party/django-stubs/django-stubs/contrib/gis\n",
      "../../../PythonBatchNovDec2024/.venv/lib/python3.12/site-packages/jedi/third_party/django-stubs/django-stubs/contrib/gis/db\n",
      "../../../PythonBatchNovDec2024/.venv/lib/python3.12/site-packages/jedi/third_party/django-stubs/django-stubs/contrib/gis/db/models\n",
      "../../../PythonBatchNovDec2024/.venv/lib/python3.12/site-packages/jedi/third_party/django-stubs/django-stubs/contrib/flatpages\n",
      "../../../PythonBatchNovDec2024/.venv/lib/python3.12/site-packages/jedi/third_party/django-stubs/django-stubs/contrib/flatpages/templatetags\n",
      "../../../PythonBatchNovDec2024/.venv/lib/python3.12/site-packages/jedi/third_party/typeshed\n",
      "../../../PythonBatchNovDec2024/.venv/lib/python3.12/site-packages/jedi/third_party/typeshed/third_party\n",
      "../../../PythonBatchNovDec2024/.venv/lib/python3.12/site-packages/jedi/third_party/typeshed/third_party/2\n",
      "../../../PythonBatchNovDec2024/.venv/lib/python3.12/site-packages/jedi/third_party/typeshed/third_party/2/scribe\n",
      "../../../PythonBatchNovDec2024/.venv/lib/python3.12/site-packages/jedi/third_party/typeshed/third_party/2/routes\n",
      "../../../PythonBatchNovDec2024/.venv/lib/python3.12/site-packages/jedi/third_party/typeshed/third_party/2/concurrent\n",
      "../../../PythonBatchNovDec2024/.venv/lib/python3.12/site-packages/jedi/third_party/typeshed/third_party/2/concurrent/futures\n",
      "../../../PythonBatchNovDec2024/.venv/lib/python3.12/site-packages/jedi/third_party/typeshed/third_party/2/fb303\n",
      "../../../PythonBatchNovDec2024/.venv/lib/python3.12/site-packages/jedi/third_party/typeshed/third_party/2/tornado\n",
      "../../../PythonBatchNovDec2024/.venv/lib/python3.12/site-packages/jedi/third_party/typeshed/third_party/2/kazoo\n",
      "../../../PythonBatchNovDec2024/.venv/lib/python3.12/site-packages/jedi/third_party/typeshed/third_party/2/kazoo/recipe\n",
      "../../../PythonBatchNovDec2024/.venv/lib/python3.12/site-packages/jedi/third_party/typeshed/third_party/2/OpenSSL\n",
      "../../../PythonBatchNovDec2024/.venv/lib/python3.12/site-packages/jedi/third_party/typeshed/third_party/2/six\n",
      "../../../PythonBatchNovDec2024/.venv/lib/python3.12/site-packages/jedi/third_party/typeshed/third_party/2/six/moves\n",
      "../../../PythonBatchNovDec2024/.venv/lib/python3.12/site-packages/jedi/third_party/typeshed/third_party/2/six/moves/urllib\n",
      "../../../PythonBatchNovDec2024/.venv/lib/python3.12/site-packages/jedi/third_party/typeshed/third_party/3\n",
      "../../../PythonBatchNovDec2024/.venv/lib/python3.12/site-packages/jedi/third_party/typeshed/third_party/3/freezegun\n",
      "../../../PythonBatchNovDec2024/.venv/lib/python3.12/site-packages/jedi/third_party/typeshed/third_party/3/docutils\n",
      "../../../PythonBatchNovDec2024/.venv/lib/python3.12/site-packages/jedi/third_party/typeshed/third_party/3/docutils/parsers\n",
      "../../../PythonBatchNovDec2024/.venv/lib/python3.12/site-packages/jedi/third_party/typeshed/third_party/3/docutils/parsers/rst\n",
      "../../../PythonBatchNovDec2024/.venv/lib/python3.12/site-packages/jedi/third_party/typeshed/third_party/3/jwt\n",
      "../../../PythonBatchNovDec2024/.venv/lib/python3.12/site-packages/jedi/third_party/typeshed/third_party/3/jwt/contrib\n",
      "../../../PythonBatchNovDec2024/.venv/lib/python3.12/site-packages/jedi/third_party/typeshed/third_party/3/jwt/contrib/algorithms\n",
      "../../../PythonBatchNovDec2024/.venv/lib/python3.12/site-packages/jedi/third_party/typeshed/third_party/3/waitress\n",
      "../../../PythonBatchNovDec2024/.venv/lib/python3.12/site-packages/jedi/third_party/typeshed/third_party/3/filelock\n",
      "../../../PythonBatchNovDec2024/.venv/lib/python3.12/site-packages/jedi/third_party/typeshed/third_party/3/pkg_resources\n",
      "../../../PythonBatchNovDec2024/.venv/lib/python3.12/site-packages/jedi/third_party/typeshed/third_party/3/pyrfc3339\n",
      "../../../PythonBatchNovDec2024/.venv/lib/python3.12/site-packages/jedi/third_party/typeshed/third_party/3/typed_ast\n",
      "../../../PythonBatchNovDec2024/.venv/lib/python3.12/site-packages/jedi/third_party/typeshed/third_party/3/six\n",
      "../../../PythonBatchNovDec2024/.venv/lib/python3.12/site-packages/jedi/third_party/typeshed/third_party/3/six/moves\n",
      "../../../PythonBatchNovDec2024/.venv/lib/python3.12/site-packages/jedi/third_party/typeshed/third_party/3/six/moves/urllib\n",
      "../../../PythonBatchNovDec2024/.venv/lib/python3.12/site-packages/jedi/third_party/typeshed/third_party/3/aiofiles\n",
      "../../../PythonBatchNovDec2024/.venv/lib/python3.12/site-packages/jedi/third_party/typeshed/third_party/3/aiofiles/threadpool\n",
      "../../../PythonBatchNovDec2024/.venv/lib/python3.12/site-packages/jedi/third_party/typeshed/third_party/2and3\n",
      "../../../PythonBatchNovDec2024/.venv/lib/python3.12/site-packages/jedi/third_party/typeshed/third_party/2and3/requests\n",
      "../../../PythonBatchNovDec2024/.venv/lib/python3.12/site-packages/jedi/third_party/typeshed/third_party/2and3/requests/packages\n",
      "../../../PythonBatchNovDec2024/.venv/lib/python3.12/site-packages/jedi/third_party/typeshed/third_party/2and3/requests/packages/urllib3\n",
      "../../../PythonBatchNovDec2024/.venv/lib/python3.12/site-packages/jedi/third_party/typeshed/third_party/2and3/requests/packages/urllib3/packages\n",
      "../../../PythonBatchNovDec2024/.venv/lib/python3.12/site-packages/jedi/third_party/typeshed/third_party/2and3/requests/packages/urllib3/packages/ssl_match_hostname\n",
      "../../../PythonBatchNovDec2024/.venv/lib/python3.12/site-packages/jedi/third_party/typeshed/third_party/2and3/requests/packages/urllib3/util\n",
      "../../../PythonBatchNovDec2024/.venv/lib/python3.12/site-packages/jedi/third_party/typeshed/third_party/2and3/requests/packages/urllib3/contrib\n",
      "../../../PythonBatchNovDec2024/.venv/lib/python3.12/site-packages/jedi/third_party/typeshed/third_party/2and3/pytz\n",
      "../../../PythonBatchNovDec2024/.venv/lib/python3.12/site-packages/jedi/third_party/typeshed/third_party/2and3/pyVmomi\n",
      "../../../PythonBatchNovDec2024/.venv/lib/python3.12/site-packages/jedi/third_party/typeshed/third_party/2and3/pyVmomi/vim\n",
      "../../../PythonBatchNovDec2024/.venv/lib/python3.12/site-packages/jedi/third_party/typeshed/third_party/2and3/pyVmomi/vmodl\n",
      "../../../PythonBatchNovDec2024/.venv/lib/python3.12/site-packages/jedi/third_party/typeshed/third_party/2and3/deprecated\n",
      "../../../PythonBatchNovDec2024/.venv/lib/python3.12/site-packages/jedi/third_party/typeshed/third_party/2and3/characteristic\n",
      "../../../PythonBatchNovDec2024/.venv/lib/python3.12/site-packages/jedi/third_party/typeshed/third_party/2and3/boto\n",
      "../../../PythonBatchNovDec2024/.venv/lib/python3.12/site-packages/jedi/third_party/typeshed/third_party/2and3/boto/ec2\n",
      "../../../PythonBatchNovDec2024/.venv/lib/python3.12/site-packages/jedi/third_party/typeshed/third_party/2and3/boto/s3\n",
      "../../../PythonBatchNovDec2024/.venv/lib/python3.12/site-packages/jedi/third_party/typeshed/third_party/2and3/boto/kms\n",
      "../../../PythonBatchNovDec2024/.venv/lib/python3.12/site-packages/jedi/third_party/typeshed/third_party/2and3/boto/elb\n",
      "../../../PythonBatchNovDec2024/.venv/lib/python3.12/site-packages/jedi/third_party/typeshed/third_party/2and3/tzlocal\n",
      "../../../PythonBatchNovDec2024/.venv/lib/python3.12/site-packages/jedi/third_party/typeshed/third_party/2and3/attr\n",
      "../../../PythonBatchNovDec2024/.venv/lib/python3.12/site-packages/jedi/third_party/typeshed/third_party/2and3/datetimerange\n",
      "../../../PythonBatchNovDec2024/.venv/lib/python3.12/site-packages/jedi/third_party/typeshed/third_party/2and3/cachetools\n",
      "../../../PythonBatchNovDec2024/.venv/lib/python3.12/site-packages/jedi/third_party/typeshed/third_party/2and3/chardet\n",
      "../../../PythonBatchNovDec2024/.venv/lib/python3.12/site-packages/jedi/third_party/typeshed/third_party/2and3/markdown\n",
      "../../../PythonBatchNovDec2024/.venv/lib/python3.12/site-packages/jedi/third_party/typeshed/third_party/2and3/markdown/extensions\n",
      "../../../PythonBatchNovDec2024/.venv/lib/python3.12/site-packages/jedi/third_party/typeshed/third_party/2and3/cryptography\n",
      "../../../PythonBatchNovDec2024/.venv/lib/python3.12/site-packages/jedi/third_party/typeshed/third_party/2and3/cryptography/x509\n",
      "../../../PythonBatchNovDec2024/.venv/lib/python3.12/site-packages/jedi/third_party/typeshed/third_party/2and3/cryptography/hazmat\n",
      "../../../PythonBatchNovDec2024/.venv/lib/python3.12/site-packages/jedi/third_party/typeshed/third_party/2and3/cryptography/hazmat/primitives\n",
      "../../../PythonBatchNovDec2024/.venv/lib/python3.12/site-packages/jedi/third_party/typeshed/third_party/2and3/cryptography/hazmat/primitives/kdf\n",
      "../../../PythonBatchNovDec2024/.venv/lib/python3.12/site-packages/jedi/third_party/typeshed/third_party/2and3/cryptography/hazmat/primitives/serialization\n",
      "../../../PythonBatchNovDec2024/.venv/lib/python3.12/site-packages/jedi/third_party/typeshed/third_party/2and3/cryptography/hazmat/primitives/ciphers\n",
      "../../../PythonBatchNovDec2024/.venv/lib/python3.12/site-packages/jedi/third_party/typeshed/third_party/2and3/cryptography/hazmat/primitives/asymmetric\n",
      "../../../PythonBatchNovDec2024/.venv/lib/python3.12/site-packages/jedi/third_party/typeshed/third_party/2and3/cryptography/hazmat/primitives/twofactor\n",
      "../../../PythonBatchNovDec2024/.venv/lib/python3.12/site-packages/jedi/third_party/typeshed/third_party/2and3/cryptography/hazmat/backends\n",
      "../../../PythonBatchNovDec2024/.venv/lib/python3.12/site-packages/jedi/third_party/typeshed/third_party/2and3/cryptography/hazmat/bindings\n",
      "../../../PythonBatchNovDec2024/.venv/lib/python3.12/site-packages/jedi/third_party/typeshed/third_party/2and3/cryptography/hazmat/bindings/openssl\n",
      "../../../PythonBatchNovDec2024/.venv/lib/python3.12/site-packages/jedi/third_party/typeshed/third_party/2and3/werkzeug\n",
      "../../../PythonBatchNovDec2024/.venv/lib/python3.12/site-packages/jedi/third_party/typeshed/third_party/2and3/werkzeug/debug\n",
      "../../../PythonBatchNovDec2024/.venv/lib/python3.12/site-packages/jedi/third_party/typeshed/third_party/2and3/werkzeug/middleware\n",
      "../../../PythonBatchNovDec2024/.venv/lib/python3.12/site-packages/jedi/third_party/typeshed/third_party/2and3/werkzeug/contrib\n",
      "../../../PythonBatchNovDec2024/.venv/lib/python3.12/site-packages/jedi/third_party/typeshed/third_party/2and3/bleach\n",
      "../../../PythonBatchNovDec2024/.venv/lib/python3.12/site-packages/jedi/third_party/typeshed/third_party/2and3/pynamodb\n",
      "../../../PythonBatchNovDec2024/.venv/lib/python3.12/site-packages/jedi/third_party/typeshed/third_party/2and3/pynamodb/connection\n",
      "../../../PythonBatchNovDec2024/.venv/lib/python3.12/site-packages/jedi/third_party/typeshed/third_party/2and3/yaml\n",
      "../../../PythonBatchNovDec2024/.venv/lib/python3.12/site-packages/jedi/third_party/typeshed/third_party/2and3/backports\n",
      "../../../PythonBatchNovDec2024/.venv/lib/python3.12/site-packages/jedi/third_party/typeshed/third_party/2and3/dateutil\n",
      "../../../PythonBatchNovDec2024/.venv/lib/python3.12/site-packages/jedi/third_party/typeshed/third_party/2and3/dateutil/tz\n",
      "../../../PythonBatchNovDec2024/.venv/lib/python3.12/site-packages/jedi/third_party/typeshed/third_party/2and3/jinja2\n",
      "../../../PythonBatchNovDec2024/.venv/lib/python3.12/site-packages/jedi/third_party/typeshed/third_party/2and3/emoji\n",
      "../../../PythonBatchNovDec2024/.venv/lib/python3.12/site-packages/jedi/third_party/typeshed/third_party/2and3/click\n",
      "../../../PythonBatchNovDec2024/.venv/lib/python3.12/site-packages/jedi/third_party/typeshed/third_party/2and3/markupsafe\n",
      "../../../PythonBatchNovDec2024/.venv/lib/python3.12/site-packages/jedi/third_party/typeshed/third_party/2and3/paramiko\n",
      "../../../PythonBatchNovDec2024/.venv/lib/python3.12/site-packages/jedi/third_party/typeshed/third_party/2and3/geoip2\n",
      "../../../PythonBatchNovDec2024/.venv/lib/python3.12/site-packages/jedi/third_party/typeshed/third_party/2and3/flask\n",
      "../../../PythonBatchNovDec2024/.venv/lib/python3.12/site-packages/jedi/third_party/typeshed/third_party/2and3/flask/json\n",
      "../../../PythonBatchNovDec2024/.venv/lib/python3.12/site-packages/jedi/third_party/typeshed/third_party/2and3/slugify\n",
      "../../../PythonBatchNovDec2024/.venv/lib/python3.12/site-packages/jedi/third_party/typeshed/third_party/2and3/retry\n",
      "../../../PythonBatchNovDec2024/.venv/lib/python3.12/site-packages/jedi/third_party/typeshed/third_party/2and3/redis\n",
      "../../../PythonBatchNovDec2024/.venv/lib/python3.12/site-packages/jedi/third_party/typeshed/third_party/2and3/atomicwrites\n",
      "../../../PythonBatchNovDec2024/.venv/lib/python3.12/site-packages/jedi/third_party/typeshed/third_party/2and3/google\n",
      "../../../PythonBatchNovDec2024/.venv/lib/python3.12/site-packages/jedi/third_party/typeshed/third_party/2and3/google/protobuf\n",
      "../../../PythonBatchNovDec2024/.venv/lib/python3.12/site-packages/jedi/third_party/typeshed/third_party/2and3/google/protobuf/internal\n",
      "../../../PythonBatchNovDec2024/.venv/lib/python3.12/site-packages/jedi/third_party/typeshed/third_party/2and3/google/protobuf/compiler\n",
      "../../../PythonBatchNovDec2024/.venv/lib/python3.12/site-packages/jedi/third_party/typeshed/third_party/2and3/google/protobuf/util\n",
      "../../../PythonBatchNovDec2024/.venv/lib/python3.12/site-packages/jedi/third_party/typeshed/third_party/2and3/simplejson\n",
      "../../../PythonBatchNovDec2024/.venv/lib/python3.12/site-packages/jedi/third_party/typeshed/third_party/2and3/maxminddb\n",
      "../../../PythonBatchNovDec2024/.venv/lib/python3.12/site-packages/jedi/third_party/typeshed/third_party/2and3/nmap\n",
      "../../../PythonBatchNovDec2024/.venv/lib/python3.12/site-packages/jedi/third_party/typeshed/third_party/2and3/pymysql\n",
      "../../../PythonBatchNovDec2024/.venv/lib/python3.12/site-packages/jedi/third_party/typeshed/third_party/2and3/pymysql/constants\n",
      "../../../PythonBatchNovDec2024/.venv/lib/python3.12/site-packages/jedi/third_party/typeshed/stdlib\n",
      "../../../PythonBatchNovDec2024/.venv/lib/python3.12/site-packages/jedi/third_party/typeshed/stdlib/3.7\n",
      "../../../PythonBatchNovDec2024/.venv/lib/python3.12/site-packages/jedi/third_party/typeshed/stdlib/2\n",
      "../../../PythonBatchNovDec2024/.venv/lib/python3.12/site-packages/jedi/third_party/typeshed/stdlib/2/os\n",
      "../../../PythonBatchNovDec2024/.venv/lib/python3.12/site-packages/jedi/third_party/typeshed/stdlib/2/distutils\n",
      "../../../PythonBatchNovDec2024/.venv/lib/python3.12/site-packages/jedi/third_party/typeshed/stdlib/2/distutils/command\n",
      "../../../PythonBatchNovDec2024/.venv/lib/python3.12/site-packages/jedi/third_party/typeshed/stdlib/2/email\n",
      "../../../PythonBatchNovDec2024/.venv/lib/python3.12/site-packages/jedi/third_party/typeshed/stdlib/2/email/mime\n",
      "../../../PythonBatchNovDec2024/.venv/lib/python3.12/site-packages/jedi/third_party/typeshed/stdlib/2/encodings\n",
      "../../../PythonBatchNovDec2024/.venv/lib/python3.12/site-packages/jedi/third_party/typeshed/stdlib/2/multiprocessing\n",
      "../../../PythonBatchNovDec2024/.venv/lib/python3.12/site-packages/jedi/third_party/typeshed/stdlib/2/multiprocessing/dummy\n",
      "../../../PythonBatchNovDec2024/.venv/lib/python3.12/site-packages/jedi/third_party/typeshed/stdlib/3.9\n",
      "../../../PythonBatchNovDec2024/.venv/lib/python3.12/site-packages/jedi/third_party/typeshed/stdlib/3.9/zoneinfo\n",
      "../../../PythonBatchNovDec2024/.venv/lib/python3.12/site-packages/jedi/third_party/typeshed/stdlib/3\n",
      "../../../PythonBatchNovDec2024/.venv/lib/python3.12/site-packages/jedi/third_party/typeshed/stdlib/3/html\n",
      "../../../PythonBatchNovDec2024/.venv/lib/python3.12/site-packages/jedi/third_party/typeshed/stdlib/3/os\n",
      "../../../PythonBatchNovDec2024/.venv/lib/python3.12/site-packages/jedi/third_party/typeshed/stdlib/3/dbm\n",
      "../../../PythonBatchNovDec2024/.venv/lib/python3.12/site-packages/jedi/third_party/typeshed/stdlib/3/distutils\n",
      "../../../PythonBatchNovDec2024/.venv/lib/python3.12/site-packages/jedi/third_party/typeshed/stdlib/3/distutils/command\n",
      "../../../PythonBatchNovDec2024/.venv/lib/python3.12/site-packages/jedi/third_party/typeshed/stdlib/3/tkinter\n",
      "../../../PythonBatchNovDec2024/.venv/lib/python3.12/site-packages/jedi/third_party/typeshed/stdlib/3/concurrent\n",
      "../../../PythonBatchNovDec2024/.venv/lib/python3.12/site-packages/jedi/third_party/typeshed/stdlib/3/concurrent/futures\n",
      "../../../PythonBatchNovDec2024/.venv/lib/python3.12/site-packages/jedi/third_party/typeshed/stdlib/3/urllib\n",
      "../../../PythonBatchNovDec2024/.venv/lib/python3.12/site-packages/jedi/third_party/typeshed/stdlib/3/venv\n",
      "../../../PythonBatchNovDec2024/.venv/lib/python3.12/site-packages/jedi/third_party/typeshed/stdlib/3/email\n",
      "../../../PythonBatchNovDec2024/.venv/lib/python3.12/site-packages/jedi/third_party/typeshed/stdlib/3/email/mime\n",
      "../../../PythonBatchNovDec2024/.venv/lib/python3.12/site-packages/jedi/third_party/typeshed/stdlib/3/asyncio\n",
      "../../../PythonBatchNovDec2024/.venv/lib/python3.12/site-packages/jedi/third_party/typeshed/stdlib/3/collections\n",
      "../../../PythonBatchNovDec2024/.venv/lib/python3.12/site-packages/jedi/third_party/typeshed/stdlib/3/xmlrpc\n",
      "../../../PythonBatchNovDec2024/.venv/lib/python3.12/site-packages/jedi/third_party/typeshed/stdlib/3/http\n",
      "../../../PythonBatchNovDec2024/.venv/lib/python3.12/site-packages/jedi/third_party/typeshed/stdlib/3/unittest\n",
      "../../../PythonBatchNovDec2024/.venv/lib/python3.12/site-packages/jedi/third_party/typeshed/stdlib/3/encodings\n",
      "../../../PythonBatchNovDec2024/.venv/lib/python3.12/site-packages/jedi/third_party/typeshed/stdlib/3/multiprocessing\n",
      "../../../PythonBatchNovDec2024/.venv/lib/python3.12/site-packages/jedi/third_party/typeshed/stdlib/3/multiprocessing/dummy\n",
      "../../../PythonBatchNovDec2024/.venv/lib/python3.12/site-packages/jedi/third_party/typeshed/stdlib/3/importlib\n",
      "../../../PythonBatchNovDec2024/.venv/lib/python3.12/site-packages/jedi/third_party/typeshed/stdlib/3/json\n",
      "../../../PythonBatchNovDec2024/.venv/lib/python3.12/site-packages/jedi/third_party/typeshed/stdlib/2and3\n",
      "../../../PythonBatchNovDec2024/.venv/lib/python3.12/site-packages/jedi/third_party/typeshed/stdlib/2and3/ctypes\n",
      "../../../PythonBatchNovDec2024/.venv/lib/python3.12/site-packages/jedi/third_party/typeshed/stdlib/2and3/sqlite3\n",
      "../../../PythonBatchNovDec2024/.venv/lib/python3.12/site-packages/jedi/third_party/typeshed/stdlib/2and3/lib2to3\n",
      "../../../PythonBatchNovDec2024/.venv/lib/python3.12/site-packages/jedi/third_party/typeshed/stdlib/2and3/lib2to3/pgen2\n",
      "../../../PythonBatchNovDec2024/.venv/lib/python3.12/site-packages/jedi/third_party/typeshed/stdlib/2and3/pyexpat\n",
      "../../../PythonBatchNovDec2024/.venv/lib/python3.12/site-packages/jedi/third_party/typeshed/stdlib/2and3/msilib\n",
      "../../../PythonBatchNovDec2024/.venv/lib/python3.12/site-packages/jedi/third_party/typeshed/stdlib/2and3/logging\n",
      "../../../PythonBatchNovDec2024/.venv/lib/python3.12/site-packages/jedi/third_party/typeshed/stdlib/2and3/curses\n",
      "../../../PythonBatchNovDec2024/.venv/lib/python3.12/site-packages/jedi/third_party/typeshed/stdlib/2and3/_typeshed\n",
      "../../../PythonBatchNovDec2024/.venv/lib/python3.12/site-packages/jedi/third_party/typeshed/stdlib/2and3/xml\n",
      "../../../PythonBatchNovDec2024/.venv/lib/python3.12/site-packages/jedi/third_party/typeshed/stdlib/2and3/xml/dom\n",
      "../../../PythonBatchNovDec2024/.venv/lib/python3.12/site-packages/jedi/third_party/typeshed/stdlib/2and3/xml/etree\n",
      "../../../PythonBatchNovDec2024/.venv/lib/python3.12/site-packages/jedi/third_party/typeshed/stdlib/2and3/xml/sax\n",
      "../../../PythonBatchNovDec2024/.venv/lib/python3.12/site-packages/jedi/third_party/typeshed/stdlib/2and3/xml/parsers\n",
      "../../../PythonBatchNovDec2024/.venv/lib/python3.12/site-packages/jedi/third_party/typeshed/stdlib/2and3/xml/parsers/expat\n",
      "../../../PythonBatchNovDec2024/.venv/lib/python3.12/site-packages/jedi/third_party/typeshed/stdlib/2and3/pydoc_data\n",
      "../../../PythonBatchNovDec2024/.venv/lib/python3.12/site-packages/jedi/third_party/typeshed/stdlib/2and3/ensurepip\n",
      "../../../PythonBatchNovDec2024/.venv/lib/python3.12/site-packages/jedi/third_party/typeshed/stdlib/2and3/wsgiref\n",
      "../../../PythonBatchNovDec2024/.venv/lib/python3.12/site-packages/jedi/__pycache__\n",
      "../../../PythonBatchNovDec2024/.venv/lib/python3.12/site-packages/jedi/api\n",
      "../../../PythonBatchNovDec2024/.venv/lib/python3.12/site-packages/jedi/api/__pycache__\n",
      "../../../PythonBatchNovDec2024/.venv/lib/python3.12/site-packages/jedi/api/refactoring\n",
      "../../../PythonBatchNovDec2024/.venv/lib/python3.12/site-packages/jedi/api/refactoring/__pycache__\n",
      "../../../PythonBatchNovDec2024/.venv/lib/python3.12/site-packages/jedi/plugins\n",
      "../../../PythonBatchNovDec2024/.venv/lib/python3.12/site-packages/jedi/plugins/__pycache__\n",
      "../../../PythonBatchNovDec2024/.venv/lib/python3.12/site-packages/jedi/inference\n",
      "../../../PythonBatchNovDec2024/.venv/lib/python3.12/site-packages/jedi/inference/gradual\n",
      "../../../PythonBatchNovDec2024/.venv/lib/python3.12/site-packages/jedi/inference/gradual/__pycache__\n",
      "../../../PythonBatchNovDec2024/.venv/lib/python3.12/site-packages/jedi/inference/compiled\n",
      "../../../PythonBatchNovDec2024/.venv/lib/python3.12/site-packages/jedi/inference/compiled/subprocess\n",
      "../../../PythonBatchNovDec2024/.venv/lib/python3.12/site-packages/jedi/inference/compiled/subprocess/__pycache__\n",
      "../../../PythonBatchNovDec2024/.venv/lib/python3.12/site-packages/jedi/inference/compiled/__pycache__\n",
      "../../../PythonBatchNovDec2024/.venv/lib/python3.12/site-packages/jedi/inference/value\n",
      "../../../PythonBatchNovDec2024/.venv/lib/python3.12/site-packages/jedi/inference/value/__pycache__\n",
      "../../../PythonBatchNovDec2024/.venv/lib/python3.12/site-packages/jedi/inference/__pycache__\n",
      "../../../PythonBatchNovDec2024/.venv/lib/python3.12/site-packages/debugpy\n",
      "../../../PythonBatchNovDec2024/.venv/lib/python3.12/site-packages/debugpy/server\n",
      "../../../PythonBatchNovDec2024/.venv/lib/python3.12/site-packages/debugpy/server/__pycache__\n",
      "../../../PythonBatchNovDec2024/.venv/lib/python3.12/site-packages/debugpy/__pycache__\n",
      "../../../PythonBatchNovDec2024/.venv/lib/python3.12/site-packages/debugpy/common\n",
      "../../../PythonBatchNovDec2024/.venv/lib/python3.12/site-packages/debugpy/common/__pycache__\n",
      "../../../PythonBatchNovDec2024/.venv/lib/python3.12/site-packages/debugpy/adapter\n",
      "../../../PythonBatchNovDec2024/.venv/lib/python3.12/site-packages/debugpy/adapter/__pycache__\n",
      "../../../PythonBatchNovDec2024/.venv/lib/python3.12/site-packages/debugpy/launcher\n",
      "../../../PythonBatchNovDec2024/.venv/lib/python3.12/site-packages/debugpy/launcher/__pycache__\n",
      "../../../PythonBatchNovDec2024/.venv/lib/python3.12/site-packages/debugpy/_vendored\n",
      "../../../PythonBatchNovDec2024/.venv/lib/python3.12/site-packages/debugpy/_vendored/pydevd\n",
      "../../../PythonBatchNovDec2024/.venv/lib/python3.12/site-packages/debugpy/_vendored/pydevd/pydevd_plugins\n",
      "../../../PythonBatchNovDec2024/.venv/lib/python3.12/site-packages/debugpy/_vendored/pydevd/pydevd_plugins/extensions\n",
      "../../../PythonBatchNovDec2024/.venv/lib/python3.12/site-packages/debugpy/_vendored/pydevd/pydevd_plugins/extensions/types\n",
      "../../../PythonBatchNovDec2024/.venv/lib/python3.12/site-packages/debugpy/_vendored/pydevd/pydevd_plugins/extensions/types/__pycache__\n",
      "../../../PythonBatchNovDec2024/.venv/lib/python3.12/site-packages/debugpy/_vendored/pydevd/pydevd_plugins/extensions/__pycache__\n",
      "../../../PythonBatchNovDec2024/.venv/lib/python3.12/site-packages/debugpy/_vendored/pydevd/pydevd_plugins/__pycache__\n",
      "../../../PythonBatchNovDec2024/.venv/lib/python3.12/site-packages/debugpy/_vendored/pydevd/pydevd_attach_to_process\n",
      "../../../PythonBatchNovDec2024/.venv/lib/python3.12/site-packages/debugpy/_vendored/pydevd/pydevd_attach_to_process/windows\n",
      "../../../PythonBatchNovDec2024/.venv/lib/python3.12/site-packages/debugpy/_vendored/pydevd/pydevd_attach_to_process/linux_and_mac\n",
      "../../../PythonBatchNovDec2024/.venv/lib/python3.12/site-packages/debugpy/_vendored/pydevd/pydevd_attach_to_process/linux_and_mac/__pycache__\n",
      "../../../PythonBatchNovDec2024/.venv/lib/python3.12/site-packages/debugpy/_vendored/pydevd/pydevd_attach_to_process/__pycache__\n",
      "../../../PythonBatchNovDec2024/.venv/lib/python3.12/site-packages/debugpy/_vendored/pydevd/pydevd_attach_to_process/common\n",
      "../../../PythonBatchNovDec2024/.venv/lib/python3.12/site-packages/debugpy/_vendored/pydevd/pydevd_attach_to_process/winappdbg\n",
      "../../../PythonBatchNovDec2024/.venv/lib/python3.12/site-packages/debugpy/_vendored/pydevd/pydevd_attach_to_process/winappdbg/__pycache__\n",
      "../../../PythonBatchNovDec2024/.venv/lib/python3.12/site-packages/debugpy/_vendored/pydevd/pydevd_attach_to_process/winappdbg/win32\n",
      "../../../PythonBatchNovDec2024/.venv/lib/python3.12/site-packages/debugpy/_vendored/pydevd/pydevd_attach_to_process/winappdbg/win32/__pycache__\n",
      "../../../PythonBatchNovDec2024/.venv/lib/python3.12/site-packages/debugpy/_vendored/pydevd/_pydevd_sys_monitoring\n",
      "../../../PythonBatchNovDec2024/.venv/lib/python3.12/site-packages/debugpy/_vendored/pydevd/_pydevd_sys_monitoring/__pycache__\n",
      "../../../PythonBatchNovDec2024/.venv/lib/python3.12/site-packages/debugpy/_vendored/pydevd/_pydevd_frame_eval\n",
      "../../../PythonBatchNovDec2024/.venv/lib/python3.12/site-packages/debugpy/_vendored/pydevd/_pydevd_frame_eval/vendored\n",
      "../../../PythonBatchNovDec2024/.venv/lib/python3.12/site-packages/debugpy/_vendored/pydevd/_pydevd_frame_eval/vendored/__pycache__\n",
      "../../../PythonBatchNovDec2024/.venv/lib/python3.12/site-packages/debugpy/_vendored/pydevd/_pydevd_frame_eval/vendored/bytecode\n",
      "../../../PythonBatchNovDec2024/.venv/lib/python3.12/site-packages/debugpy/_vendored/pydevd/_pydevd_frame_eval/vendored/bytecode/__pycache__\n",
      "../../../PythonBatchNovDec2024/.venv/lib/python3.12/site-packages/debugpy/_vendored/pydevd/_pydevd_frame_eval/vendored/bytecode/tests\n",
      "../../../PythonBatchNovDec2024/.venv/lib/python3.12/site-packages/debugpy/_vendored/pydevd/_pydevd_frame_eval/vendored/bytecode/tests/__pycache__\n",
      "../../../PythonBatchNovDec2024/.venv/lib/python3.12/site-packages/debugpy/_vendored/pydevd/_pydevd_frame_eval/__pycache__\n",
      "../../../PythonBatchNovDec2024/.venv/lib/python3.12/site-packages/debugpy/_vendored/pydevd/__pycache__\n",
      "../../../PythonBatchNovDec2024/.venv/lib/python3.12/site-packages/debugpy/_vendored/pydevd/_pydev_bundle\n",
      "../../../PythonBatchNovDec2024/.venv/lib/python3.12/site-packages/debugpy/_vendored/pydevd/_pydev_bundle/__pycache__\n",
      "../../../PythonBatchNovDec2024/.venv/lib/python3.12/site-packages/debugpy/_vendored/pydevd/_pydev_bundle/fsnotify\n",
      "../../../PythonBatchNovDec2024/.venv/lib/python3.12/site-packages/debugpy/_vendored/pydevd/_pydev_bundle/fsnotify/__pycache__\n",
      "../../../PythonBatchNovDec2024/.venv/lib/python3.12/site-packages/debugpy/_vendored/pydevd/pydev_sitecustomize\n",
      "../../../PythonBatchNovDec2024/.venv/lib/python3.12/site-packages/debugpy/_vendored/pydevd/pydev_sitecustomize/__pycache__\n",
      "../../../PythonBatchNovDec2024/.venv/lib/python3.12/site-packages/debugpy/_vendored/pydevd/_pydevd_bundle\n",
      "../../../PythonBatchNovDec2024/.venv/lib/python3.12/site-packages/debugpy/_vendored/pydevd/_pydevd_bundle/pydevd_concurrency_analyser\n",
      "../../../PythonBatchNovDec2024/.venv/lib/python3.12/site-packages/debugpy/_vendored/pydevd/_pydevd_bundle/pydevd_concurrency_analyser/__pycache__\n",
      "../../../PythonBatchNovDec2024/.venv/lib/python3.12/site-packages/debugpy/_vendored/pydevd/_pydevd_bundle/__pycache__\n",
      "../../../PythonBatchNovDec2024/.venv/lib/python3.12/site-packages/debugpy/_vendored/pydevd/_pydevd_bundle/_debug_adapter\n",
      "../../../PythonBatchNovDec2024/.venv/lib/python3.12/site-packages/debugpy/_vendored/pydevd/_pydevd_bundle/_debug_adapter/__pycache__\n",
      "../../../PythonBatchNovDec2024/.venv/lib/python3.12/site-packages/debugpy/_vendored/pydevd/_pydev_runfiles\n",
      "../../../PythonBatchNovDec2024/.venv/lib/python3.12/site-packages/debugpy/_vendored/pydevd/_pydev_runfiles/__pycache__\n",
      "../../../PythonBatchNovDec2024/.venv/lib/python3.12/site-packages/debugpy/_vendored/pydevd/pydev_ipython\n",
      "../../../PythonBatchNovDec2024/.venv/lib/python3.12/site-packages/debugpy/_vendored/pydevd/pydev_ipython/__pycache__\n",
      "../../../PythonBatchNovDec2024/.venv/lib/python3.12/site-packages/debugpy/_vendored/__pycache__\n",
      "../../../PythonBatchNovDec2024/.venv/lib/python3.12/site-packages/packaging-24.2.dist-info\n",
      "../../../PythonBatchNovDec2024/.venv/lib/python3.12/site-packages/prompt_toolkit\n",
      "../../../PythonBatchNovDec2024/.venv/lib/python3.12/site-packages/prompt_toolkit/key_binding\n",
      "../../../PythonBatchNovDec2024/.venv/lib/python3.12/site-packages/prompt_toolkit/key_binding/__pycache__\n",
      "../../../PythonBatchNovDec2024/.venv/lib/python3.12/site-packages/prompt_toolkit/key_binding/bindings\n",
      "../../../PythonBatchNovDec2024/.venv/lib/python3.12/site-packages/prompt_toolkit/key_binding/bindings/__pycache__\n",
      "../../../PythonBatchNovDec2024/.venv/lib/python3.12/site-packages/prompt_toolkit/input\n",
      "../../../PythonBatchNovDec2024/.venv/lib/python3.12/site-packages/prompt_toolkit/input/__pycache__\n",
      "../../../PythonBatchNovDec2024/.venv/lib/python3.12/site-packages/prompt_toolkit/eventloop\n",
      "../../../PythonBatchNovDec2024/.venv/lib/python3.12/site-packages/prompt_toolkit/eventloop/__pycache__\n",
      "../../../PythonBatchNovDec2024/.venv/lib/python3.12/site-packages/prompt_toolkit/filters\n",
      "../../../PythonBatchNovDec2024/.venv/lib/python3.12/site-packages/prompt_toolkit/filters/__pycache__\n",
      "../../../PythonBatchNovDec2024/.venv/lib/python3.12/site-packages/prompt_toolkit/widgets\n",
      "../../../PythonBatchNovDec2024/.venv/lib/python3.12/site-packages/prompt_toolkit/widgets/__pycache__\n",
      "../../../PythonBatchNovDec2024/.venv/lib/python3.12/site-packages/prompt_toolkit/clipboard\n",
      "../../../PythonBatchNovDec2024/.venv/lib/python3.12/site-packages/prompt_toolkit/clipboard/__pycache__\n",
      "../../../PythonBatchNovDec2024/.venv/lib/python3.12/site-packages/prompt_toolkit/lexers\n",
      "../../../PythonBatchNovDec2024/.venv/lib/python3.12/site-packages/prompt_toolkit/lexers/__pycache__\n",
      "../../../PythonBatchNovDec2024/.venv/lib/python3.12/site-packages/prompt_toolkit/__pycache__\n",
      "../../../PythonBatchNovDec2024/.venv/lib/python3.12/site-packages/prompt_toolkit/layout\n",
      "../../../PythonBatchNovDec2024/.venv/lib/python3.12/site-packages/prompt_toolkit/layout/__pycache__\n",
      "../../../PythonBatchNovDec2024/.venv/lib/python3.12/site-packages/prompt_toolkit/shortcuts\n",
      "../../../PythonBatchNovDec2024/.venv/lib/python3.12/site-packages/prompt_toolkit/shortcuts/progress_bar\n",
      "../../../PythonBatchNovDec2024/.venv/lib/python3.12/site-packages/prompt_toolkit/shortcuts/progress_bar/__pycache__\n",
      "../../../PythonBatchNovDec2024/.venv/lib/python3.12/site-packages/prompt_toolkit/shortcuts/__pycache__\n",
      "../../../PythonBatchNovDec2024/.venv/lib/python3.12/site-packages/prompt_toolkit/styles\n",
      "../../../PythonBatchNovDec2024/.venv/lib/python3.12/site-packages/prompt_toolkit/styles/__pycache__\n",
      "../../../PythonBatchNovDec2024/.venv/lib/python3.12/site-packages/prompt_toolkit/completion\n",
      "../../../PythonBatchNovDec2024/.venv/lib/python3.12/site-packages/prompt_toolkit/completion/__pycache__\n",
      "../../../PythonBatchNovDec2024/.venv/lib/python3.12/site-packages/prompt_toolkit/output\n",
      "../../../PythonBatchNovDec2024/.venv/lib/python3.12/site-packages/prompt_toolkit/output/__pycache__\n",
      "../../../PythonBatchNovDec2024/.venv/lib/python3.12/site-packages/prompt_toolkit/formatted_text\n",
      "../../../PythonBatchNovDec2024/.venv/lib/python3.12/site-packages/prompt_toolkit/formatted_text/__pycache__\n",
      "../../../PythonBatchNovDec2024/.venv/lib/python3.12/site-packages/prompt_toolkit/application\n",
      "../../../PythonBatchNovDec2024/.venv/lib/python3.12/site-packages/prompt_toolkit/application/__pycache__\n",
      "../../../PythonBatchNovDec2024/.venv/lib/python3.12/site-packages/prompt_toolkit/contrib\n",
      "../../../PythonBatchNovDec2024/.venv/lib/python3.12/site-packages/prompt_toolkit/contrib/ssh\n",
      "../../../PythonBatchNovDec2024/.venv/lib/python3.12/site-packages/prompt_toolkit/contrib/ssh/__pycache__\n",
      "../../../PythonBatchNovDec2024/.venv/lib/python3.12/site-packages/prompt_toolkit/contrib/__pycache__\n",
      "../../../PythonBatchNovDec2024/.venv/lib/python3.12/site-packages/prompt_toolkit/contrib/completers\n",
      "../../../PythonBatchNovDec2024/.venv/lib/python3.12/site-packages/prompt_toolkit/contrib/completers/__pycache__\n",
      "../../../PythonBatchNovDec2024/.venv/lib/python3.12/site-packages/prompt_toolkit/contrib/regular_languages\n",
      "../../../PythonBatchNovDec2024/.venv/lib/python3.12/site-packages/prompt_toolkit/contrib/regular_languages/__pycache__\n",
      "../../../PythonBatchNovDec2024/.venv/lib/python3.12/site-packages/prompt_toolkit/contrib/telnet\n",
      "../../../PythonBatchNovDec2024/.venv/lib/python3.12/site-packages/prompt_toolkit/contrib/telnet/__pycache__\n",
      "../../../PythonBatchNovDec2024/.venv/lib/python3.12/site-packages/psutil-6.1.1.dist-info\n",
      "../../../PythonBatchNovDec2024/.venv/lib/python3.12/site-packages/ptyprocess-0.7.0.dist-info\n",
      "../../../PythonBatchNovDec2024/.venv/lib/python3.12/site-packages/pyzmq.libs\n",
      "../../../PythonBatchNovDec2024/.venv/lib/python3.12/site-packages/ipython-8.31.0.dist-info\n",
      "../../../PythonBatchNovDec2024/.venv/lib/python3.12/site-packages/__pycache__\n",
      "../../../PythonBatchNovDec2024/.venv/lib/python3.12/site-packages/zmq\n",
      "../../../PythonBatchNovDec2024/.venv/lib/python3.12/site-packages/zmq/green\n",
      "../../../PythonBatchNovDec2024/.venv/lib/python3.12/site-packages/zmq/green/eventloop\n",
      "../../../PythonBatchNovDec2024/.venv/lib/python3.12/site-packages/zmq/green/eventloop/__pycache__\n",
      "../../../PythonBatchNovDec2024/.venv/lib/python3.12/site-packages/zmq/green/__pycache__\n",
      "../../../PythonBatchNovDec2024/.venv/lib/python3.12/site-packages/zmq/devices\n",
      "../../../PythonBatchNovDec2024/.venv/lib/python3.12/site-packages/zmq/devices/__pycache__\n",
      "../../../PythonBatchNovDec2024/.venv/lib/python3.12/site-packages/zmq/eventloop\n",
      "../../../PythonBatchNovDec2024/.venv/lib/python3.12/site-packages/zmq/eventloop/__pycache__\n",
      "../../../PythonBatchNovDec2024/.venv/lib/python3.12/site-packages/zmq/ssh\n",
      "../../../PythonBatchNovDec2024/.venv/lib/python3.12/site-packages/zmq/ssh/__pycache__\n",
      "../../../PythonBatchNovDec2024/.venv/lib/python3.12/site-packages/zmq/sugar\n",
      "../../../PythonBatchNovDec2024/.venv/lib/python3.12/site-packages/zmq/sugar/__pycache__\n",
      "../../../PythonBatchNovDec2024/.venv/lib/python3.12/site-packages/zmq/utils\n",
      "../../../PythonBatchNovDec2024/.venv/lib/python3.12/site-packages/zmq/utils/__pycache__\n",
      "../../../PythonBatchNovDec2024/.venv/lib/python3.12/site-packages/zmq/log\n",
      "../../../PythonBatchNovDec2024/.venv/lib/python3.12/site-packages/zmq/log/__pycache__\n",
      "../../../PythonBatchNovDec2024/.venv/lib/python3.12/site-packages/zmq/__pycache__\n",
      "../../../PythonBatchNovDec2024/.venv/lib/python3.12/site-packages/zmq/auth\n",
      "../../../PythonBatchNovDec2024/.venv/lib/python3.12/site-packages/zmq/auth/__pycache__\n",
      "../../../PythonBatchNovDec2024/.venv/lib/python3.12/site-packages/zmq/tests\n",
      "../../../PythonBatchNovDec2024/.venv/lib/python3.12/site-packages/zmq/tests/__pycache__\n",
      "../../../PythonBatchNovDec2024/.venv/lib/python3.12/site-packages/zmq/backend\n",
      "../../../PythonBatchNovDec2024/.venv/lib/python3.12/site-packages/zmq/backend/cython\n",
      "../../../PythonBatchNovDec2024/.venv/lib/python3.12/site-packages/zmq/backend/cython/__pycache__\n",
      "../../../PythonBatchNovDec2024/.venv/lib/python3.12/site-packages/zmq/backend/__pycache__\n",
      "../../../PythonBatchNovDec2024/.venv/lib/python3.12/site-packages/zmq/backend/cffi\n",
      "../../../PythonBatchNovDec2024/.venv/lib/python3.12/site-packages/zmq/backend/cffi/__pycache__\n",
      "../../../PythonBatchNovDec2024/.venv/lib/python3.12/site-packages/wcwidth-0.2.13.dist-info\n",
      "../../../PythonBatchNovDec2024/.venv/lib/python3.12/site-packages/decorator-5.1.1.dist-info\n",
      "../../../PythonBatchNovDec2024/.venv/lib/python3.12/site-packages/stack_data-0.6.3.dist-info\n",
      "../../../PythonBatchNovDec2024/.venv/lib/python3.12/site-packages/dateutil\n",
      "../../../PythonBatchNovDec2024/.venv/lib/python3.12/site-packages/dateutil/parser\n",
      "../../../PythonBatchNovDec2024/.venv/lib/python3.12/site-packages/dateutil/parser/__pycache__\n",
      "../../../PythonBatchNovDec2024/.venv/lib/python3.12/site-packages/dateutil/zoneinfo\n",
      "../../../PythonBatchNovDec2024/.venv/lib/python3.12/site-packages/dateutil/zoneinfo/__pycache__\n",
      "../../../PythonBatchNovDec2024/.venv/lib/python3.12/site-packages/dateutil/tz\n",
      "../../../PythonBatchNovDec2024/.venv/lib/python3.12/site-packages/dateutil/tz/__pycache__\n",
      "../../../PythonBatchNovDec2024/.venv/lib/python3.12/site-packages/dateutil/__pycache__\n",
      "../../../PythonBatchNovDec2024/.venv/lib/python3.12/site-packages/jupyter_core-5.7.2.dist-info\n",
      "../../../PythonBatchNovDec2024/.venv/lib/python3.12/site-packages/jupyter_core-5.7.2.dist-info/licenses\n",
      "../../../PythonBatchNovDec2024/.venv/lib/python3.12/site-packages/tornado\n",
      "../../../PythonBatchNovDec2024/.venv/lib/python3.12/site-packages/tornado/__pycache__\n",
      "../../../PythonBatchNovDec2024/.venv/lib/python3.12/site-packages/tornado/test\n",
      "../../../PythonBatchNovDec2024/.venv/lib/python3.12/site-packages/tornado/test/csv_translations\n",
      "../../../PythonBatchNovDec2024/.venv/lib/python3.12/site-packages/tornado/test/gettext_translations\n",
      "../../../PythonBatchNovDec2024/.venv/lib/python3.12/site-packages/tornado/test/gettext_translations/fr_FR\n",
      "../../../PythonBatchNovDec2024/.venv/lib/python3.12/site-packages/tornado/test/gettext_translations/fr_FR/LC_MESSAGES\n",
      "../../../PythonBatchNovDec2024/.venv/lib/python3.12/site-packages/tornado/test/static\n",
      "../../../PythonBatchNovDec2024/.venv/lib/python3.12/site-packages/tornado/test/static/dir\n",
      "../../../PythonBatchNovDec2024/.venv/lib/python3.12/site-packages/tornado/test/__pycache__\n",
      "../../../PythonBatchNovDec2024/.venv/lib/python3.12/site-packages/tornado/test/templates\n",
      "../../../PythonBatchNovDec2024/.venv/lib/python3.12/site-packages/tornado/platform\n",
      "../../../PythonBatchNovDec2024/.venv/lib/python3.12/site-packages/tornado/platform/__pycache__\n",
      "../../../PythonBatchNovDec2024/.venv/lib/python3.12/site-packages/ipykernel\n",
      "../../../PythonBatchNovDec2024/.venv/lib/python3.12/site-packages/ipykernel/resources\n",
      "../../../PythonBatchNovDec2024/.venv/lib/python3.12/site-packages/ipykernel/inprocess\n",
      "../../../PythonBatchNovDec2024/.venv/lib/python3.12/site-packages/ipykernel/inprocess/__pycache__\n",
      "../../../PythonBatchNovDec2024/.venv/lib/python3.12/site-packages/ipykernel/__pycache__\n",
      "../../../PythonBatchNovDec2024/.venv/lib/python3.12/site-packages/ipykernel/pylab\n",
      "../../../PythonBatchNovDec2024/.venv/lib/python3.12/site-packages/ipykernel/pylab/__pycache__\n",
      "../../../PythonBatchNovDec2024/.venv/lib/python3.12/site-packages/ipykernel/comm\n",
      "../../../PythonBatchNovDec2024/.venv/lib/python3.12/site-packages/ipykernel/comm/__pycache__\n",
      "../../../PythonBatchNovDec2024/.venv/lib/python3.12/site-packages/ipykernel/gui\n",
      "../../../PythonBatchNovDec2024/.venv/lib/python3.12/site-packages/ipykernel/gui/__pycache__\n",
      "../../../PythonBatchNovDec2024/.venv/lib/python3.12/site-packages/comm\n",
      "../../../PythonBatchNovDec2024/.venv/lib/python3.12/site-packages/comm/__pycache__\n",
      "../../../PythonBatchNovDec2024/.venv/lib/python3.12/site-packages/comm-0.2.2.dist-info\n",
      "../../../PythonBatchNovDec2024/.venv/lib/python3.12/site-packages/comm-0.2.2.dist-info/licenses\n",
      "../../../PythonBatchNovDec2024/.venv/lib/python3.12/site-packages/psutil\n",
      "../../../PythonBatchNovDec2024/.venv/lib/python3.12/site-packages/psutil/__pycache__\n",
      "../../../PythonBatchNovDec2024/.venv/lib/python3.12/site-packages/psutil/tests\n",
      "../../../PythonBatchNovDec2024/.venv/lib/python3.12/site-packages/psutil/tests/__pycache__\n",
      "../../../PythonBatchNovDec2024/.venv/lib/python3.12/site-packages/jupyter_client-8.6.3.dist-info\n",
      "../../../PythonBatchNovDec2024/.venv/lib/python3.12/site-packages/jupyter_client-8.6.3.dist-info/licenses\n",
      "../../../PythonBatchNovDec2024/.venv/lib/python3.12/site-packages/jedi-0.19.2.dist-info\n",
      "../../../PythonBatchNovDec2024/.venv/lib/python3.12/site-packages/platformdirs-4.3.6.dist-info\n",
      "../../../PythonBatchNovDec2024/.venv/lib/python3.12/site-packages/platformdirs-4.3.6.dist-info/licenses\n",
      "../../../PythonBatchNovDec2024/.venv/lib/python3.12/site-packages/pexpect-4.9.0.dist-info\n",
      "../../../PythonBatchNovDec2024/.venv/lib/python3.12/site-packages/python_dateutil-2.9.0.post0.dist-info\n",
      "../../../PythonBatchNovDec2024/.venv/lib/python3.12/site-packages/executing-2.1.0.dist-info\n",
      "../../../PythonBatchNovDec2024/.venv/lib/python3.12/site-packages/parso\n",
      "../../../PythonBatchNovDec2024/.venv/lib/python3.12/site-packages/parso/__pycache__\n",
      "../../../PythonBatchNovDec2024/.venv/lib/python3.12/site-packages/parso/python\n",
      "../../../PythonBatchNovDec2024/.venv/lib/python3.12/site-packages/parso/python/__pycache__\n",
      "../../../PythonBatchNovDec2024/.venv/lib/python3.12/site-packages/parso/pgen2\n",
      "../../../PythonBatchNovDec2024/.venv/lib/python3.12/site-packages/parso/pgen2/__pycache__\n",
      "../../../PythonBatchNovDec2024/.venv/lib/python3.12/site-packages/platformdirs\n",
      "../../../PythonBatchNovDec2024/.venv/lib/python3.12/site-packages/platformdirs/__pycache__\n",
      "../../../PythonBatchNovDec2024/.venv/lib/python3.12/site-packages/ipykernel-6.29.5.dist-info\n",
      "../../../PythonBatchNovDec2024/.venv/lib/python3.12/site-packages/ipykernel-6.29.5.dist-info/licenses\n",
      "../../../PythonBatchNovDec2024/.venv/lib/python3.12/site-packages/IPython\n",
      "../../../PythonBatchNovDec2024/.venv/lib/python3.12/site-packages/IPython/testing\n",
      "../../../PythonBatchNovDec2024/.venv/lib/python3.12/site-packages/IPython/testing/plugin\n",
      "../../../PythonBatchNovDec2024/.venv/lib/python3.12/site-packages/IPython/testing/plugin/__pycache__\n",
      "../../../PythonBatchNovDec2024/.venv/lib/python3.12/site-packages/IPython/testing/__pycache__\n",
      "../../../PythonBatchNovDec2024/.venv/lib/python3.12/site-packages/IPython/testing/tests\n",
      "../../../PythonBatchNovDec2024/.venv/lib/python3.12/site-packages/IPython/testing/tests/__pycache__\n",
      "../../../PythonBatchNovDec2024/.venv/lib/python3.12/site-packages/IPython/sphinxext\n",
      "../../../PythonBatchNovDec2024/.venv/lib/python3.12/site-packages/IPython/sphinxext/__pycache__\n",
      "../../../PythonBatchNovDec2024/.venv/lib/python3.12/site-packages/IPython/extensions\n",
      "../../../PythonBatchNovDec2024/.venv/lib/python3.12/site-packages/IPython/extensions/__pycache__\n",
      "../../../PythonBatchNovDec2024/.venv/lib/python3.12/site-packages/IPython/extensions/tests\n",
      "../../../PythonBatchNovDec2024/.venv/lib/python3.12/site-packages/IPython/extensions/tests/__pycache__\n",
      "../../../PythonBatchNovDec2024/.venv/lib/python3.12/site-packages/IPython/core\n",
      "../../../PythonBatchNovDec2024/.venv/lib/python3.12/site-packages/IPython/core/__pycache__\n",
      "../../../PythonBatchNovDec2024/.venv/lib/python3.12/site-packages/IPython/core/tests\n",
      "../../../PythonBatchNovDec2024/.venv/lib/python3.12/site-packages/IPython/core/tests/__pycache__\n",
      "../../../PythonBatchNovDec2024/.venv/lib/python3.12/site-packages/IPython/core/tests/daft_extension\n",
      "../../../PythonBatchNovDec2024/.venv/lib/python3.12/site-packages/IPython/core/tests/daft_extension/__pycache__\n",
      "../../../PythonBatchNovDec2024/.venv/lib/python3.12/site-packages/IPython/core/profile\n",
      "../../../PythonBatchNovDec2024/.venv/lib/python3.12/site-packages/IPython/core/magics\n",
      "../../../PythonBatchNovDec2024/.venv/lib/python3.12/site-packages/IPython/core/magics/__pycache__\n",
      "../../../PythonBatchNovDec2024/.venv/lib/python3.12/site-packages/IPython/utils\n",
      "../../../PythonBatchNovDec2024/.venv/lib/python3.12/site-packages/IPython/utils/__pycache__\n",
      "../../../PythonBatchNovDec2024/.venv/lib/python3.12/site-packages/IPython/utils/tests\n",
      "../../../PythonBatchNovDec2024/.venv/lib/python3.12/site-packages/IPython/utils/tests/__pycache__\n",
      "../../../PythonBatchNovDec2024/.venv/lib/python3.12/site-packages/IPython/__pycache__\n",
      "../../../PythonBatchNovDec2024/.venv/lib/python3.12/site-packages/IPython/external\n",
      "../../../PythonBatchNovDec2024/.venv/lib/python3.12/site-packages/IPython/external/__pycache__\n",
      "../../../PythonBatchNovDec2024/.venv/lib/python3.12/site-packages/IPython/external/tests\n",
      "../../../PythonBatchNovDec2024/.venv/lib/python3.12/site-packages/IPython/external/tests/__pycache__\n",
      "../../../PythonBatchNovDec2024/.venv/lib/python3.12/site-packages/IPython/terminal\n",
      "../../../PythonBatchNovDec2024/.venv/lib/python3.12/site-packages/IPython/terminal/pt_inputhooks\n",
      "../../../PythonBatchNovDec2024/.venv/lib/python3.12/site-packages/IPython/terminal/pt_inputhooks/__pycache__\n",
      "../../../PythonBatchNovDec2024/.venv/lib/python3.12/site-packages/IPython/terminal/__pycache__\n",
      "../../../PythonBatchNovDec2024/.venv/lib/python3.12/site-packages/IPython/terminal/shortcuts\n",
      "../../../PythonBatchNovDec2024/.venv/lib/python3.12/site-packages/IPython/terminal/shortcuts/__pycache__\n",
      "../../../PythonBatchNovDec2024/.venv/lib/python3.12/site-packages/IPython/terminal/tests\n",
      "../../../PythonBatchNovDec2024/.venv/lib/python3.12/site-packages/IPython/terminal/tests/__pycache__\n",
      "../../../PythonBatchNovDec2024/.venv/lib/python3.12/site-packages/IPython/lib\n",
      "../../../PythonBatchNovDec2024/.venv/lib/python3.12/site-packages/IPython/lib/__pycache__\n",
      "../../../PythonBatchNovDec2024/.venv/lib/python3.12/site-packages/IPython/lib/tests\n",
      "../../../PythonBatchNovDec2024/.venv/lib/python3.12/site-packages/IPython/lib/tests/__pycache__\n",
      "../../../PythonBatchNovDec2024/.venv/lib/python3.12/site-packages/asttokens\n",
      "../../../PythonBatchNovDec2024/.venv/lib/python3.12/site-packages/asttokens/__pycache__\n",
      "../../../PythonBatchNovDec2024/.venv/lib/python3.12/site-packages/matplotlib_inline\n",
      "../../../PythonBatchNovDec2024/.venv/lib/python3.12/site-packages/matplotlib_inline/__pycache__\n",
      "../../../PythonBatchNovDec2024/.venv/lib/python3.12/site-packages/tornado-6.4.2.dist-info\n",
      "../../../PythonBatchNovDec2024/.venv/lib/python3.12/site-packages/ptyprocess\n",
      "../../../PythonBatchNovDec2024/.venv/lib/python3.12/site-packages/ptyprocess/__pycache__\n",
      "../../../PythonBatchNovDec2024/.venv/lib/python3.12/site-packages/debugpy-1.8.11.dist-info\n",
      "../../../PythonBatchNovDec2024/.venv/lib/python3.12/site-packages/pip-24.3.1.dist-info\n",
      "../../../PythonBatchNovDec2024/.venv/lib/python3.12/site-packages/six-1.17.0.dist-info\n",
      "../../../PythonBatchNovDec2024/.venv/lib/python3.12/site-packages/parso-0.8.4.dist-info\n",
      "../../../PythonBatchNovDec2024/.venv/lib/python3.12/site-packages/jupyter_core\n",
      "../../../PythonBatchNovDec2024/.venv/lib/python3.12/site-packages/jupyter_core/utils\n",
      "../../../PythonBatchNovDec2024/.venv/lib/python3.12/site-packages/jupyter_core/utils/__pycache__\n",
      "../../../PythonBatchNovDec2024/.venv/lib/python3.12/site-packages/jupyter_core/__pycache__\n",
      "../../../PythonBatchNovDec2024/.venv/lib/python3.12/site-packages/prompt_toolkit-3.0.48.dist-info\n",
      "../../../PythonBatchNovDec2024/.venv/lib/python3.12/site-packages/stack_data\n",
      "../../../PythonBatchNovDec2024/.venv/lib/python3.12/site-packages/stack_data/__pycache__\n",
      "../../../PythonBatchNovDec2024/.venv/share\n",
      "../../../PythonBatchNovDec2024/.venv/share/jupyter\n",
      "../../../PythonBatchNovDec2024/.venv/share/jupyter/kernels\n",
      "../../../PythonBatchNovDec2024/.venv/share/jupyter/kernels/python3\n",
      "../../../PythonBatchNovDec2024/.venv/share/man\n",
      "../../../PythonBatchNovDec2024/.venv/share/man/man1\n",
      "../../../PythonBatchNovDec2024/.venv/bin\n",
      "../../../PythonBatchNovDec2024/09_Iterators_generators_coroutines\n",
      "../../../PythonBatchNovDec2024/09_Iterators_generators_coroutines/03_generators\n",
      "../../../PythonBatchNovDec2024/09_Iterators_generators_coroutines/04_coroutines\n",
      "../../../PythonBatchNovDec2024/09_Iterators_generators_coroutines/01_Iterables\n",
      "../../../PythonBatchNovDec2024/09_Iterators_generators_coroutines/02_iterators\n",
      "../../../PythonBatchNovDec2024/05_Debugging\n",
      "../../../PythonBatchNovDec2024/04_Exceptions\n"
     ]
    }
   ],
   "source": [
    "for each_dir, list_of_folders, list_of_files in os.walk('../../../PythonBatchNovDec2024'):\n",
    "    print(each_dir)"
   ]
  },
  {
   "cell_type": "code",
   "execution_count": 83,
   "metadata": {},
   "outputs": [
    {
     "name": "stdout",
     "output_type": "stream",
     "text": [
      "['07_functions_decorators', '00_course_details', '10_modules', '01_Introduction', '03_Language_Components', '.git', '02_Basics', '06_Collections', '.venv', '09_Iterators_generators_coroutines', '05_Debugging', '04_Exceptions']\n",
      "['02_sys', '04c_pathlib', '03_argparse', '01_math', '04a_os_module', '04b_psutil']\n",
      "['css']\n",
      "['america']\n",
      "['asdas']\n",
      "['sad']\n",
      "['dfgd']\n",
      "['07_Conditional_Operations', '01_Relational_Operations', '09_Loops', '08_structural_Pattern_Matching', '03_Boolean_Operations', '05_Identity_Operations', '04_Bitwise_Operations', '06_Range_Function', '10_walrus_operator', '02_Logical_Operations']\n",
      "['objects', 'hooks', 'lfs', 'branches', 'refs', 'logs', 'info']\n",
      "['dd', '2b', '0a', 'a1', '95', '77', 'ae', '8c', '7f', 'bf', 'c8', 'b6', '4c', '07', 'e4', '59', 'a0', '8b', '1b', 'ab', '6c', '1d', '0b', 'd4', 'f1', '89', '34', '51', '1f', 'dc', 'ff', '90', 'be', '73', 'c9', '6e', '7c', '93', 'e5', '29', 'f0', 'fd', '4e', 'c5', '30', '45', '63', '4a', 'pack', 'a5', '3b', 'bc', 'df', '2c', 'a3', 'd5', '97', '43', 'f2', '3d', '00', '7b', 'b3', '21', '23', '24', '1a', 'ea', '54', 'b1', '40', '5a', '9b', '32', '53', '52', '17', '2d', '84', 'c0', '86', '1c', '83', '61', '01', '75', '22', '5d', '38', 'cc', 'af', '36', '81', 'b9', '7e', 'ee', '42', 'a7', 'f3', 'b8', '91', '71', '79', '9d', '12', '56', '18', 'd1', '6d', '1e', 'e3', 'f5', '33', '5f', '96', 'bb', '05', '72', '87', 'ef', '20', 'bd', '06', 'd2', 'c3', '92', '67', '6b', '41', '76', '0c', '9e', 'b2', 'e8', 'e1', '3f', '78', 'e9', '48', '99', '68', 'db', 'ba', '0f', '08', 'c6', '2a', '27', '8f', '82', '70', 'd7', 'a4', '0d', '31', '13', '4f', '47', 'fa', 'b5', '85', 'a9', '02', '19', 'eb', '09', '46', 'e2', '15', 'ec', '4d', 'cb', '6a', '44', '14', '74', '37', 'f7', '62', '11', '55', '50', 'info', 'fe', '7d']\n",
      "['tmp']\n",
      "['heads', 'tags', 'remotes']\n",
      "['origin']\n",
      "['refs']\n",
      "['heads', 'remotes']\n",
      "['origin']\n",
      "['02_String_Operations', '01_Arithmetic_Operations']\n",
      "['__pycache__']\n",
      "['04_Dicts', '03_Sets', '02_Tuples', '01_Lists']\n",
      "['lib', 'share', 'bin']\n",
      "['python3.12']\n",
      "['site-packages']\n",
      "['pure_eval', 'traitlets-5.14.3.dist-info', 'asttokens-3.0.0.dist-info', 'traitlets', 'matplotlib_inline-0.1.7.dist-info', 'jupyter_client', 'pure_eval-0.2.3.dist-info', 'pexpect', 'nest_asyncio-1.6.0.dist-info', 'pygments-2.18.0.dist-info', 'wcwidth', 'pygments', 'packaging', 'executing', 'pip', 'pyzmq-26.2.0.dist-info', 'jedi', 'debugpy', 'packaging-24.2.dist-info', 'prompt_toolkit', 'psutil-6.1.1.dist-info', 'ptyprocess-0.7.0.dist-info', 'pyzmq.libs', 'ipython-8.31.0.dist-info', '__pycache__', 'zmq', 'wcwidth-0.2.13.dist-info', 'decorator-5.1.1.dist-info', 'stack_data-0.6.3.dist-info', 'dateutil', 'jupyter_core-5.7.2.dist-info', 'tornado', 'ipykernel', 'comm', 'comm-0.2.2.dist-info', 'psutil', 'jupyter_client-8.6.3.dist-info', 'jedi-0.19.2.dist-info', 'platformdirs-4.3.6.dist-info', 'pexpect-4.9.0.dist-info', 'python_dateutil-2.9.0.post0.dist-info', 'executing-2.1.0.dist-info', 'parso', 'platformdirs', 'ipykernel-6.29.5.dist-info', 'IPython', 'asttokens', 'matplotlib_inline', 'tornado-6.4.2.dist-info', 'ptyprocess', 'debugpy-1.8.11.dist-info', 'pip-24.3.1.dist-info', 'six-1.17.0.dist-info', 'parso-0.8.4.dist-info', 'jupyter_core', 'prompt_toolkit-3.0.48.dist-info', 'stack_data']\n",
      "['__pycache__']\n",
      "['licenses']\n",
      "['config', 'utils', '__pycache__', 'tests']\n",
      "['__pycache__']\n",
      "['__pycache__']\n",
      "['__pycache__']\n",
      "['ssh', 'blocking', '__pycache__', 'provisioning', 'asynchronous', 'ioloop']\n",
      "['__pycache__']\n",
      "['__pycache__']\n",
      "['__pycache__']\n",
      "['__pycache__']\n",
      "['__pycache__']\n",
      "['__pycache__']\n",
      "['licenses']\n",
      "['__pycache__']\n",
      "['filters', 'lexers', 'formatters', '__pycache__', 'styles']\n",
      "['__pycache__']\n",
      "['__pycache__']\n",
      "['__pycache__']\n",
      "['__pycache__']\n",
      "['__pycache__', 'licenses']\n",
      "['__pycache__']\n",
      "['__pycache__']\n",
      "['_vendor', '_internal', '__pycache__']\n",
      "['pyproject_hooks', 'requests', 'cachecontrol', 'truststore', 'distro', 'pygments', 'packaging', 'msgpack', 'tomli', 'rich', 'resolvelib', '__pycache__', 'distlib', 'idna', 'urllib3', 'pkg_resources', 'platformdirs', 'certifi']\n",
      "['__pycache__', '_in_process']\n",
      "['__pycache__']\n",
      "['__pycache__']\n",
      "['caches', '__pycache__']\n",
      "['__pycache__']\n",
      "['__pycache__']\n",
      "['__pycache__']\n",
      "['filters', 'lexers', 'formatters', '__pycache__', 'styles']\n",
      "['__pycache__']\n",
      "['__pycache__']\n",
      "['__pycache__']\n",
      "['__pycache__']\n",
      "['__pycache__']\n",
      "['__pycache__']\n",
      "['compat', '__pycache__']\n",
      "['__pycache__']\n",
      "['__pycache__']\n",
      "['__pycache__']\n",
      "['packages', '__pycache__', 'util', 'contrib']\n",
      "['__pycache__', 'backports']\n",
      "['__pycache__']\n",
      "['_securetransport', '__pycache__']\n",
      "['__pycache__']\n",
      "['__pycache__']\n",
      "['__pycache__']\n",
      "['resolution', 'operations', 'cli', 'distributions', 'locations', 'index', 'models', 'utils', '__pycache__', 'metadata', 'network', 'commands', 'vcs', 'req']\n",
      "['resolvelib', '__pycache__', 'legacy']\n",
      "['__pycache__']\n",
      "['__pycache__', 'install', 'build']\n",
      "['__pycache__']\n",
      "['__pycache__']\n",
      "['__pycache__']\n",
      "['__pycache__']\n",
      "['__pycache__']\n",
      "['__pycache__']\n",
      "['__pycache__']\n",
      "['__pycache__']\n",
      "['__pycache__', 'importlib']\n",
      "['__pycache__']\n",
      "['__pycache__']\n",
      "['__pycache__']\n",
      "['__pycache__']\n",
      "['__pycache__']\n",
      "['licenses']\n",
      "['licenses']\n",
      "['third_party', '__pycache__', 'api', 'plugins', 'inference']\n",
      "['django-stubs', 'typeshed']\n",
      "['django-stubs']\n",
      "['templatetags', 'views', 'core', 'dispatch', 'apps', 'utils', 'conf', 'test', 'urls', 'http', 'db', 'template', 'middleware', 'forms', 'contrib']\n",
      "['generic', 'decorators']\n",
      "['handlers', 'serializers', 'mail', 'files', 'management', 'checks', 'servers', 'cache']\n",
      "['backends']\n",
      "['commands']\n",
      "['security']\n",
      "['backends']\n",
      "['translation']\n",
      "['locale', 'urls']\n",
      "['models', 'migrations', 'backends']\n",
      "['functions', 'fields', 'sql']\n",
      "['operations']\n",
      "['base', 'sqlite3', 'dummy', 'mysql', 'postgresql']\n",
      "['backends', 'loaders']\n",
      "['admindocs', 'sessions', 'admin', 'staticfiles', 'postgres', 'messages', 'auth', 'sitemaps', 'sites', 'humanize', 'syndication', 'redirects', 'contenttypes', 'gis', 'flatpages']\n",
      "['backends', 'management']\n",
      "['commands']\n",
      "['templatetags', 'views']\n",
      "['templatetags', 'management']\n",
      "['commands']\n",
      "['fields', 'aggregates']\n",
      "['storage']\n",
      "['handlers', 'management']\n",
      "['commands']\n",
      "['management']\n",
      "['commands']\n",
      "['templatetags']\n",
      "['management']\n",
      "['commands']\n",
      "['db']\n",
      "['models']\n",
      "['templatetags']\n",
      "['third_party', 'stdlib']\n",
      "['2', '3', '2and3']\n",
      "['scribe', 'routes', 'concurrent', 'fb303', 'tornado', 'kazoo', 'OpenSSL', 'six']\n",
      "['futures']\n",
      "['recipe']\n",
      "['moves']\n",
      "['urllib']\n",
      "['freezegun', 'docutils', 'jwt', 'waitress', 'filelock', 'pkg_resources', 'pyrfc3339', 'typed_ast', 'six', 'aiofiles']\n",
      "['parsers']\n",
      "['rst']\n",
      "['contrib']\n",
      "['algorithms']\n",
      "['moves']\n",
      "['urllib']\n",
      "['threadpool']\n",
      "['requests', 'pytz', 'pyVmomi', 'deprecated', 'characteristic', 'boto', 'tzlocal', 'attr', 'datetimerange', 'cachetools', 'chardet', 'markdown', 'cryptography', 'werkzeug', 'bleach', 'pynamodb', 'yaml', 'backports', 'dateutil', 'jinja2', 'emoji', 'click', 'markupsafe', 'paramiko', 'geoip2', 'flask', 'slugify', 'retry', 'redis', 'atomicwrites', 'google', 'simplejson', 'maxminddb', 'nmap', 'pymysql']\n",
      "['packages']\n",
      "['urllib3']\n",
      "['packages', 'util', 'contrib']\n",
      "['ssl_match_hostname']\n",
      "['vim', 'vmodl']\n",
      "['ec2', 's3', 'kms', 'elb']\n",
      "['extensions']\n",
      "['x509', 'hazmat']\n",
      "['primitives', 'backends', 'bindings']\n",
      "['kdf', 'serialization', 'ciphers', 'asymmetric', 'twofactor']\n",
      "['openssl']\n",
      "['debug', 'middleware', 'contrib']\n",
      "['connection']\n",
      "['tz']\n",
      "['json']\n",
      "['protobuf']\n",
      "['internal', 'compiler', 'util']\n",
      "['constants']\n",
      "['3.7', '2', '3.9', '3', '2and3']\n",
      "['os', 'distutils', 'email', 'encodings', 'multiprocessing']\n",
      "['command']\n",
      "['mime']\n",
      "['dummy']\n",
      "['zoneinfo']\n",
      "['html', 'os', 'dbm', 'distutils', 'tkinter', 'concurrent', 'urllib', 'venv', 'email', 'asyncio', 'collections', 'xmlrpc', 'http', 'unittest', 'encodings', 'multiprocessing', 'importlib', 'json']\n",
      "['command']\n",
      "['futures']\n",
      "['mime']\n",
      "['dummy']\n",
      "['ctypes', 'sqlite3', 'lib2to3', 'pyexpat', 'msilib', 'logging', 'curses', '_typeshed', 'xml', 'pydoc_data', 'ensurepip', 'wsgiref']\n",
      "['pgen2']\n",
      "['dom', 'etree', 'sax', 'parsers']\n",
      "['expat']\n",
      "['__pycache__', 'refactoring']\n",
      "['__pycache__']\n",
      "['__pycache__']\n",
      "['gradual', 'compiled', 'value', '__pycache__']\n",
      "['__pycache__']\n",
      "['subprocess', '__pycache__']\n",
      "['__pycache__']\n",
      "['__pycache__']\n",
      "['server', '__pycache__', 'common', 'adapter', 'launcher', '_vendored']\n",
      "['__pycache__']\n",
      "['__pycache__']\n",
      "['__pycache__']\n",
      "['__pycache__']\n",
      "['pydevd', '__pycache__']\n",
      "['pydevd_plugins', 'pydevd_attach_to_process', '_pydevd_sys_monitoring', '_pydevd_frame_eval', '__pycache__', '_pydev_bundle', 'pydev_sitecustomize', '_pydevd_bundle', '_pydev_runfiles', 'pydev_ipython']\n",
      "['extensions', '__pycache__']\n",
      "['types', '__pycache__']\n",
      "['__pycache__']\n",
      "['windows', 'linux_and_mac', '__pycache__', 'common', 'winappdbg']\n",
      "['__pycache__']\n",
      "['__pycache__', 'win32']\n",
      "['__pycache__']\n",
      "['__pycache__']\n",
      "['vendored', '__pycache__']\n",
      "['__pycache__', 'bytecode']\n",
      "['__pycache__', 'tests']\n",
      "['__pycache__']\n",
      "['__pycache__', 'fsnotify']\n",
      "['__pycache__']\n",
      "['__pycache__']\n",
      "['pydevd_concurrency_analyser', '__pycache__', '_debug_adapter']\n",
      "['__pycache__']\n",
      "['__pycache__']\n",
      "['__pycache__']\n",
      "['__pycache__']\n",
      "['key_binding', 'input', 'eventloop', 'filters', 'widgets', 'clipboard', 'lexers', '__pycache__', 'layout', 'shortcuts', 'styles', 'completion', 'output', 'formatted_text', 'application', 'contrib']\n",
      "['__pycache__', 'bindings']\n",
      "['__pycache__']\n",
      "['__pycache__']\n",
      "['__pycache__']\n",
      "['__pycache__']\n",
      "['__pycache__']\n",
      "['__pycache__']\n",
      "['__pycache__']\n",
      "['__pycache__']\n",
      "['progress_bar', '__pycache__']\n",
      "['__pycache__']\n",
      "['__pycache__']\n",
      "['__pycache__']\n",
      "['__pycache__']\n",
      "['__pycache__']\n",
      "['__pycache__']\n",
      "['ssh', '__pycache__', 'completers', 'regular_languages', 'telnet']\n",
      "['__pycache__']\n",
      "['__pycache__']\n",
      "['__pycache__']\n",
      "['__pycache__']\n",
      "['green', 'devices', 'eventloop', 'ssh', 'sugar', 'utils', 'log', '__pycache__', 'auth', 'tests', 'backend']\n",
      "['eventloop', '__pycache__']\n",
      "['__pycache__']\n",
      "['__pycache__']\n",
      "['__pycache__']\n",
      "['__pycache__']\n",
      "['__pycache__']\n",
      "['__pycache__']\n",
      "['__pycache__']\n",
      "['__pycache__']\n",
      "['__pycache__']\n",
      "['cython', '__pycache__', 'cffi']\n",
      "['__pycache__']\n",
      "['__pycache__']\n",
      "['parser', 'zoneinfo', 'tz', '__pycache__']\n",
      "['__pycache__']\n",
      "['__pycache__']\n",
      "['__pycache__']\n",
      "['licenses']\n",
      "['__pycache__', 'test', 'platform']\n",
      "['csv_translations', 'gettext_translations', 'static', '__pycache__', 'templates']\n",
      "['fr_FR']\n",
      "['LC_MESSAGES']\n",
      "['dir']\n",
      "['__pycache__']\n",
      "['resources', 'inprocess', '__pycache__', 'pylab', 'comm', 'gui']\n",
      "['__pycache__']\n",
      "['__pycache__']\n",
      "['__pycache__']\n",
      "['__pycache__']\n",
      "['__pycache__']\n",
      "['licenses']\n",
      "['__pycache__', 'tests']\n",
      "['__pycache__']\n",
      "['licenses']\n",
      "['licenses']\n",
      "['__pycache__', 'python', 'pgen2']\n",
      "['__pycache__']\n",
      "['__pycache__']\n",
      "['__pycache__']\n",
      "['licenses']\n",
      "['testing', 'sphinxext', 'extensions', 'core', 'utils', '__pycache__', 'external', 'terminal', 'lib']\n",
      "['plugin', '__pycache__', 'tests']\n",
      "['__pycache__']\n",
      "['__pycache__']\n",
      "['__pycache__']\n",
      "['__pycache__', 'tests']\n",
      "['__pycache__']\n",
      "['__pycache__', 'tests', 'profile', 'magics']\n",
      "['__pycache__', 'daft_extension']\n",
      "['__pycache__']\n",
      "['__pycache__']\n",
      "['__pycache__', 'tests']\n",
      "['__pycache__']\n",
      "['__pycache__', 'tests']\n",
      "['__pycache__']\n",
      "['pt_inputhooks', '__pycache__', 'shortcuts', 'tests']\n",
      "['__pycache__']\n",
      "['__pycache__']\n",
      "['__pycache__']\n",
      "['__pycache__', 'tests']\n",
      "['__pycache__']\n",
      "['__pycache__']\n",
      "['__pycache__']\n",
      "['__pycache__']\n",
      "['utils', '__pycache__']\n",
      "['__pycache__']\n",
      "['__pycache__']\n",
      "['jupyter', 'man']\n",
      "['kernels']\n",
      "['python3']\n",
      "['man1']\n",
      "['03_generators', '04_coroutines', '01_Iterables', '02_iterators']\n"
     ]
    }
   ],
   "source": [
    "for each_dir, list_of_folders, list_of_files in os.walk('../../../PythonBatchNovDec2024'):\n",
    "    if list_of_folders:\n",
    "        print(list_of_folders)"
   ]
  },
  {
   "cell_type": "code",
   "execution_count": 84,
   "metadata": {},
   "outputs": [
    {
     "name": "stdout",
     "output_type": "stream",
     "text": [
      "['.gitignore', 'README.md']\n",
      "['b_advanced.ipynb', 'a_functional_programming.ipynb']\n",
      "['course_content.txt', 'explanation.txt']\n",
      "['a_sys_module.ipynb', 'b_command_line_args.py']\n",
      "['a_pathlib.ipynb']\n",
      "['a_arg_parse.py']\n",
      "['a_math_module.ipynb']\n",
      "['a_os_module.ipynb']\n",
      "['a_psutil.ipynb']\n",
      "['f_print_syntax.py', 'd_indentation_issue.py', 'g2_print_syntax.ipynb', 'a_first.py', 'l_multiline_statements.py', 'm_semicoln_operator.py', 'i_keywords.txt', 'e_bulit_in_functions.txt', 'b_hello_world.py', 'j_identifiers.py', 'h_comments.py', 'k_identifier_casing.py', 'c_dynamic_typing.py', 'g_print_syntax.py']\n",
      "['a_even_or_odd.py', 'f_temperature_conversion.py', 'e_celsius_to_fahrenheit_conversion.py', 'b_number_guessing_game.py', 'd_vowels_n_consonants.py', 'g_electricity_bill_generation.py', 'c_office_schedule.py']\n",
      "['a_relational_operations.py']\n",
      "['e_multiplication_table.py', 'i_loops.py', 'b_progress_bar_implementation.py', 'd_while_loop.ipynb', 'c_progress_bar.py', 'a_for_loop.ipynb']\n",
      "['b_vowel_char_check.py', 'a_check_number.ipynb', 'c_office_schedule.py']\n",
      "['a_boolean_operations..ipynb']\n",
      "['a_identity_operations.ipynb']\n",
      "['a_bitwise_operations.ipynb']\n",
      "['a_range_function.ipynb']\n",
      "['a_simple_usage.ipynb']\n",
      "['c_short_circuit.py', 'a_logical_operations.py', 'b_logical_operations.py']\n",
      "['config', 'index', 'packed-refs', 'ORIG_HEAD', 'HEAD', 'FETCH_HEAD', 'COMMIT_EDITMSG', 'description']\n",
      "['5a541a075626e9c014dfaa7fb8a792eba0b17b']\n",
      "['c2c2da06290e642dcf547626b380fe87cec180', '10cfba8b71973bf4fabcd7badb964ce6522d63']\n",
      "['2282e0608771aa0e48fdbf9b61d12fd18a1488']\n",
      "['80afedfcc9b6aa1a1e2780bba63c920f9a2aa5']\n",
      "['daff122ac46bb338fcdab73d5457c99ac6e49d', '9fa27f466b910682b99c8115badf902abc35aa']\n",
      "['ee5c6c1b8ad8d1496290f0d1578956869f3d3c']\n",
      "['b31f874c206b14d450bac9b879da5e3e79e4f1', '49d963ea5df76533fa486f45ca28a8150d1d9e', 'c2028c65e3b6492304cfeb33a6fde388ccd0d8']\n",
      "['22d93ea3df1989373425baa1d56a7043f7f954', 'f1678a76915098d781d373220dafa35aff50ea']\n",
      "['3ed75d471c017bc556c7aa42d2287d8a6f46da']\n",
      "['d36723a6fe39a3c29be8f2118aa63e2e284f8a']\n",
      "['c19a5e2685aec95f7a84c706e9f33e7dd3bbb0', 'd39c2f1a7709a10c1ace70e236ae33ad96b145']\n",
      "['e3fe8ff1930e44236082922646d7630db35afb', '852f65cfc74067a8fcfb5afbd34234c1a7fa64']\n",
      "['41f32b96c9d5b85802fa4d580dbd5ff1f3a34b', '3fbee5933901b772e5ed9d008bbfacc5dd3efa', 'cdea993639fc1d57b7a13b4042937351eb0637', '15a1086be3c3c82712d7b3905220160fd97259', '1e3b2a7065d0645fe773eb1b6589528fb7c376', '2fe0da5d37ef264b4a85c339324c29dbb645d6']\n",
      "['05a5a825de0b6cd59568c8e3416d7581708a84']\n",
      "['2ac0a870aea5566e2cbfb0e0b8725cbbbb77db', 'cca00fac7c622722bc403049b8abe9d516687d', '798d84beca138880cdf1b4b2b91d73dbacc2cf']\n",
      "['7cb590e8372ba329f034758b60523980553a69']\n",
      "['96d68b359e2fdd3b6c311f629933e623a0055d', '15327d8007d61d313e5f6f9916df956f71672e']\n",
      "['e5ebea43099acb6b62c1eb768993e8a626ce55', '10ce2f90c76d1f9957970e13234fe6110c27b2']\n",
      "['3e9c0fbd720c9f3a0b442f5c451223d8f58bdc', 'a40a44f190cebef8541507c48f2ce9e1bdbb4b']\n",
      "['dce8c68dbafa9c5f0a6ca2db45c7c14b785a52', '4c3f897c007ed51bf47d1ff584ad3944c523e8']\n",
      "['488839aeb8ea45b7297960fb45f305a62e0d18']\n",
      "['a830645dc573998f7f7a871ec90825dcf03b9b', '3ea0edbba37b3c5ae1e11d25c0475ea4d8b636']\n",
      "['06aebfdfba83273218cd8012f3e4bb3892d401', 'e32ace511baa8d39414b929e22c15ec8bd3c38', 'c3ee35358669b82c08db820b72a894edc1db29']\n",
      "['4c1f83b91aac145f12f7ed87a0edfe55136f67']\n",
      "['9914e65cf651803f56e3122416934003b09415', 'a74c279a8d954649dc33ccdac8669df9c973f1']\n",
      "['006a8f324fd1f6d482fd8303ff497ddb3746ad']\n",
      "['7b9523981ffde6ce914e6ac7042f47db9e4ddf', '0b6bdb0ce70078548d669a07655314e2d76e18']\n",
      "['dbdf8fc5bd39461f13fc6f38062681e4a1b1a8']\n",
      "['8ad9697112c513acb6786e2c14c9f7c9a40450', '2a0f61479dff7eabebad5366a57e98a83c2489']\n",
      "['af046e671c25ecf609ed32e9e36d569f1ab57a', '008afd7b7fb1d90ee0dcb79a311dec1ca06da4']\n",
      "['7dc5a216ae1b0767d98ec07259a79ea0798eee']\n",
      "['11997998e8c155a15231fd79dc2685081ddfdc', '8154c1f7d25be349d96f788af40542ff2f5456']\n",
      "['e3eea9d2599f9c5bac9e1ec770797364b4bd2a']\n",
      "['62c19a34412290a85047344c7a7efbebbb29a0']\n",
      "['a903ed7143eb9ea3243f4a47bf198c1c68771f']\n",
      "['0efcbb6bf8e531158c30000b825945cc0224d2']\n",
      "['04b9821d9fd15b6fcb10b4c91c596496a0ac45']\n",
      "['451310c751a9c537b73f78c27813dfb8946924']\n",
      "['3b5f756f224bb3450541c94c940d3a72b3ccd6']\n",
      "['4eaa330753610491fe3bcd27ba2d94cfb9eac3']\n",
      "['9d3960d4e56a321b3091da63c7026503c4531c', 'f5a8c3d1dc53c5c1650a193edefdae3be91f47']\n",
      "['383874b1d6b0615d910a80e4ff6ccc56eb56af']\n",
      "['d6ae8eee85058c4e4ede12a6f6867c0acf62df']\n",
      "['6e25ec134c1c964c865213ae299cb9c8c4e9cd', 'a6a1e6734e56a83ab226cf3414161fee8beb5d']\n",
      "['9b8481c6528abceffa672622265558cf66e9e9', 'ad46e571c39e9332961dfc3f3ea04c248a13e1', 'd6535d39d5697b4cb4274c47694e62df95a6f7']\n",
      "['87bfd99448c3d97e1e1a3614fab8e0d6b6b646', 'c0edad45d15ebdbadde7b8dd10d4a1bb436d45']\n",
      "['e38b8e0fcfa65767a24db73ec4465bfbc053fe']\n",
      "['3393ef132e1ece9684b1748eaac407ad95951c', '5a28b7addd9d60c312194242716ad80ee37843']\n",
      "['pack-b58137258375745ef8485bfa308ad22b509c337e.idx', 'pack-b58137258375745ef8485bfa308ad22b509c337e.pack', 'pack-b58137258375745ef8485bfa308ad22b509c337e.rev']\n",
      "['cd621273e6b83995ee96732a8a661262f9e726', '8e139a69da1890f9a201cd7bcf796f49c7655b']\n",
      "['daac889f64016cfc76cfe773633b38d92dcccf']\n",
      "['c85fba9b86af44b3307491edc8f732505d95a7', '1547ef4b86b5fe4f7f203f8aeeb422b5fd7fd5']\n",
      "['53b1ace686cdeceda98a6b926c41223e1451ec']\n",
      "['18daad132ad6aea09b6b4e0b0272305e6f342e']\n",
      "['6c02e02057226de17e807b27391cef41e54d2f']\n",
      "['45ba3c7f9d9444c1863acf915e2b568d0f3ca3', '3f1935f9a9415251f7b919cf86547269c936e0']\n",
      "['16be7cf9dedd118f337d54e67d950d5f4b2248', '1f611f5a319d5c0d1ae3ccbb37083c3b21a216']\n",
      "['970b710a3729066fd8a5e348d41baa64196574']\n",
      "['a825fa7eb3a7d4b7fbb7e3a54c6179d12c4975', '10db14f25dcc28129095d8eaac12cff4fd077b', 'd574cd05f98405607ca27d2de9fd68d97590a0']\n",
      "['68c1cb97e178f71dd4b3a0bb43b57ab590ff64']\n",
      "['38bd054e3fcf29339c36b1e38367b698b5ddf1']\n",
      "['068de70d9ef5fc2f7fbf59ec6c7eb8e5c35313']\n",
      "['8d8f6f366cb2e4e3ec16b866b298ab0ef334ff', '9fe62f2c31d0d9b504e5fa8ec434cb4014df4b']\n",
      "['4172602433d4a3bc8e3abf1034d99e99d0ec0a', '3675e6d822f2940b4a8c913a3bda110f154859']\n",
      "['8fee03604f143bf4791e41b3a703f0260c7f62']\n",
      "['94b3b7b607c8976d759be846fe92e7ae3a0fc6', '69b1626453ac7c45863f10cb504a722641fa2f']\n",
      "['e275cd456e98e791a685f578204265f0d7938c']\n",
      "['8d6dee6848881085b76ddf7e3fed0edf9da012']\n",
      "['d7a34351e1018c95057813a60d3e5b9d46e867', '509506621e246ef532ed253e62cd76d2c8b68b']\n",
      "['7299001656bac293370952c90833d9aff111ba']\n",
      "['92990e0702adfa464dcb3e4a708ee491485173']\n",
      "['aeda4633092f8f8f71344423921cfb91e1bd48', '17267339d6716dc57598c760cf945885d12844']\n",
      "['9265a9447bd63b8ea0fe398d1f272fef72524f']\n",
      "['426f576f4085234ffda8a03b7f678c1d4c6c1c']\n",
      "['cc10012505776cb2d10910b7417042ba196100', 'a22578ee486ce0cc5aa344c33af8a04e2ca86e']\n",
      "['12d99708f16da60aa765e319aa59cbbb9b40e5', '1329f93feece3788f2d1ea341f07984750fc37']\n",
      "['e4cb8e23ee0fb7a550c74a264d5654cfbaf22f']\n",
      "['b86c12b6b05c2dbdec70af9f5bbbf4c6a07a5f', '8b5660fda5f14a86d870dc05b7f56052a53c4e', 'ec6154efacf12504b973fd3a580f96811c43d5', '97d5b529b4375422d55495c98a3717f332b868']\n",
      "['7ec3273f1e6ecedb3ace35ecd90e9a7f8360fa']\n",
      "['e63e36223cc4415fbdcca33456d36bbfa9e673']\n",
      "['89229c7bae7d8ab59810be867c974987a12e55', '78dbbbcdbf117f7b4092ac10ed52650bcdbe24', '7dcc947283e8e47bc954fffeb9e42718282dfd', '11d99ee72b6943245a511154fcde5951a402fb']\n",
      "['08399e8c88243973f2e41b1ca9eb5f7d1e2524']\n",
      "['eb1effc03b4395f37affa49f8f1fe59edeeee6']\n",
      "['5af8ed40cdc67a414f22b532ff1e8168413046', '2cd8c05e989eed25e81e89a86c4c4725f763e0']\n",
      "['ba39ec50fea0f713e897d0eced36cd8c898209', '9e6b9161679606c55354b2d9060280dd479451']\n",
      "['5b70b53331eeb5cefc021a347d0d32907ba6a1', 'e5cddd5fa04a8c0aaaa25774d80df49d43f15d', 'e1382578b3d37965bf413579514f31845739a7', 'ab3a1b9e81262cec58d52754897c95744a40a4']\n",
      "['3d248b621fc1cbc8190b160b3882de5d48f8f3', '88602da94f3c21f4ea8108df38d75e5a9f36ed']\n",
      "['2fb9b381adc14bad5c696943f23cd6ec7c48de', 'daa98ede7924a5ba1adfea60580daa2ddc069c']\n",
      "['e795edbbeae40a5e7c3e67f1efa751aa18d595']\n",
      "['eb56e52b06ab2c91ba7357a8569d9d55463528', '5f7f8d817cfacb36a45f4e4c25f5212f9bd2f0', '310495ccc82b32f1bd6d5252b6a318ed7532ef', 'f91dd696ab620aec642c2473b62bd54f7aa29b', '15d94329c1eb426dae539b509e390bc577231a']\n",
      "['621e6b7b671205b10c919e7604e66a2a37c9a7']\n",
      "['d9bf0c8669c491f58d5ff7faa3e5a0a206cd46']\n",
      "['a6480b92deb01199338ee2360e45a535e17f0c', '1bdb15395262f8c6ba457da064800ce502fd54', 'c0bca445426503efff6a0ddee9dedb520246d2']\n",
      "['a48965108a52c3e1cb2fd5dec3c4a3b9f60373', '9d7e9e8f41cf286ae32cef05ecc2f105597bd5']\n",
      "['35a9ec0ac5033d24c01c52a5b98321f1369d04']\n",
      "['75fa38bed1112dae158b727c158a09d3494b5b']\n",
      "['afb0026b73b9c32f22123dfdeaae23b045530b', 'ee5da07feaf2e820a36be08a5860f6f080523e']\n",
      "['4e2366f0d5d98fc4b5e40838949353e9169c36', 'aa815cad9d13cd6d511a726b7bc6cb8d5d6d46']\n",
      "['67fb9a2bfec9818d397761d2750b8c869fe910', '61440db1edba5db79184c6a703b0b7c832619f']\n",
      "['3b06d6d93d7a1aea878c0fee0e9b4988b7cdc6']\n",
      "['a6eeea479b8d0319bc91bce4d4a8a822ffdd5c', '346b2d0621285306de3c710864e3218fc4f903']\n",
      "['9ecd9969a59c0860967079de7b8f943c24b741', 'e3f531759f17a33dca46252242e0cd2e2f9e14']\n",
      "['d102dfdeebbe645f54ecd702873abdfbc1f4ae']\n",
      "['f355db2e31f19a24cb302c683786b45f00e1a7', 'bee32c98dc0b2df535aab921108cd24113d341', 'f6ab60c8b833676be231c21f72eb77b61e00c2', 'a2a49b8478c127d68393d63bb1868223a49dfa']\n",
      "['e9884580dd11195d515abee53cec119badeb49']\n",
      "['5f7e2ab1d2898c1895f58f09b73065d682acbc', 'c60435d59831d49923ee3fde6e0fae66b36fc1']\n",
      "['5c6a457b761903cd612243aa1c66d58432c8cb', 'f1d227682d32dd5863e94f5d2ef193d8cadf90', '501fa7fbd57de42651fc53e5ef07bb0c58db53']\n",
      "['9d03d2346b09be2f8d7bf0b87080082c76027c']\n",
      "['734e34a65b082f68e4e12af097dadd6d39bf0f', '64a40b557ded7e7456a83c06451d2762882651']\n",
      "['2621354f026eb57b8c559ad694c1f2a57e1b29']\n",
      "['f531accc3b4799186522002cce81aa34b694d2']\n",
      "['04934f4d6b07f3e754ad17d25fe24560776813', 'a810bc9d1576dbcb30c7fb40dc3aa54c5db819', '4bb704f6cdf2db48d349489f27781e862a2625']\n",
      "['b23c5bfd51ea6ce2ea620606a987e8d9bf31de']\n",
      "['6306097175be44d2fa1115799ad97773b05b8f', 'de02655c0c7987cc2808920ea13ce2e9cd68a1']\n",
      "['5d564824cfb688e91925b444a74bd9d818df9f', '612f5cc587c46ed5fc71cac62d569d67a3961f', '881b886e8dea04c27f64725c5ef21eb076a7fc']\n",
      "['c81c543493ab87c222a984bf2611682a35c136']\n",
      "['984a01f1a50d89ab5ae1bd1df81b15b9ad0306']\n",
      "['09166959c4d1eb87f95a6d1b2fee2e32dd54df', 'e66db549331ecc110afcb2f983efdb190206b9']\n",
      "['20c5d2d440e6a14e6b25be7a487d898e73a25b']\n",
      "['147c050aa452f5e6704d760183db882e0ea6b7', '6052a7a5ac41d56a0c2973ffa01fd85fcd58bd']\n",
      "['7ef9e72df02e54beabf3c1347aa7071a1e66a9']\n",
      "['e4d61817e04bcbd2927833569a15fcf374d3be', 'dca6ae504b73cc096332f51792973cbaa32fbc']\n",
      "['19ca3955d74c0c036745b06954905d94aa280c']\n",
      "['7470393fae3261031de44fbf38c6d933ee49bb']\n",
      "['42e7f1195d3c03655b34df9c204a237b815eab']\n",
      "['d63038db927ae7d131782a775c80733e697421', '4b65c62ec5fb009c1518282e7d04c00b2be02c', '11e362498bd465128fbe099d6980139ead8c12']\n",
      "['12e5e029e9b12b937a2bedee6bffe24cd006e9']\n",
      "['0513d7de5a9080131f96e0451841d05b78da4d', '7c8f90dce95a3d2ea3300cdf35a0aa0687dbcf', 'adee19e05894b07ad49039197cc58b941bcd4b']\n",
      "['6eb5ac501d9e387916475cba5160bb720ce2af', '61f114fd134a87e542dfdc46846cd20161d9c8']\n",
      "['4cbb4911697f22235c30395c6c75c7d25430f9', '188e33200b5406d1b12ed4cc2f7be2e22437b1']\n",
      "['abb271e210ab2533c3d36a8dec789c5bfaf3a2', 'a4a68d4f2027b22c99e7d8a42207865013d089']\n",
      "['825d8260ef1cc941df540e3ce8f29badcd5b8d']\n",
      "['67c5dc1ca437ae90ab2ec7cdaff49f57b2fa20', '5fe355aee4fc9ff9f0a3ec1e55b4e493203146', '1121f2bb0b69b7d7a0db7ed1b84fecc0851778', 'c78e614bc84a9874b89592677709d059765ca3']\n",
      "['d2e7fe0dd86f81097dc3687970514da763b59b']\n",
      "['35166e2732c9b33a0db85b6ea2efcff601830a', '606181131897c91cf0ca68f3bf73bfdbba299e']\n",
      "['f619f5a2988ac72f22e33874f1d9eac9f6fcb0', '6a0c8121c5e502d5ade3a5c15d7594b2d0b6f8']\n",
      "['96d28fb5d9f7b1dbaba5046f1577009702202d']\n",
      "['89c644e63911e1efb9375c4510eacd07ee31cf']\n",
      "['47696dc8f7cd5a220501f3e810a2d28d8fa9a6']\n",
      "['03d268ee2a1b828d768b838aec19e3ca7b96ee', 'e05302ec629dcc06a2b9a476fd188ccc5170cc']\n",
      "['992d6cca354ae5ab24ce00642e6dc4efd594f2']\n",
      "['7967629b64700cc3882c423c3729edcccdb9ae']\n",
      "['cc2f3761b05edb9cac284056c928afb8d65043']\n",
      "['97be606c47540473cbcfb476ab0e043cadf6dc', '94e08c0f2108028b60e5f845fb77f1e11ca5eb']\n",
      "['357d2226e5c13061f8c8a8378c4191b3150a2a', 'f73248b6da3e16fe7c69d590a2d55bd5a6b063', '120e46460704fd67a3ca78089c2bd8f446b156', '61794cf96bd9616f79cb6889b5e780377b66ec']\n",
      "['e4b78470b65a44227523302fb96f28b942d655', '0f1d1de7e17e10fa8ef50772b478365c9c6c3f', '2be6514085aecff15ebfb4230f73e0c1774de2', 'cbc53faa722e561519057ef39307197ac7c0a6']\n",
      "['e03b9c40b4eb7e0554ea57afd2bdb0beca2cb9']\n",
      "['a0a058c582b29b4004fb3cd1bd9d03bf819e64', 'c48ad0d8ec04b25268e687ac0560c8b1d7e82e', 'e80664670c841ce8dd0c4a46ef1b6d0d771080', 'c43328765a594e47bc67fa2b8e79420b47ffda']\n",
      "['07dc62c648b00cc959bc035d3dd33d493aad8f']\n",
      "['ca6250584f61e1324e5a4975ba2eefbcce0f2b', '1fb637bd32fc5c2bd725bbabb92ec43662d2b0']\n",
      "['9f5a71b8b482c2e91006baf6b13dd4a1c357a1']\n",
      "['97b2f0dcb67310a5ea5289c3685b0c2f998aab']\n",
      "['fba60ec29daeb2c9514552255cb2fb572000b3']\n",
      "['0088317b47fce975c3db6e667dad6076ef5818']\n",
      "['fc07829da3ecd0bdb4815d69f4d826bf806224', '66e248a8e11a01768a86e1eea810c64be5f70f', 'f844976026ef32d7322ae5d902795382a907f3']\n",
      "['2f7ee4a18a547420f2054f6b0444b99a5c884a']\n",
      "['2898936b83336dcd5f9c8a1c58fc231e034980']\n",
      "['b8ee7bbbe0a7db5f1f2bb5ad0a04c68b5de34b']\n",
      "['01af8c74b91ca8827d146bdcc19b0b3f682d63']\n",
      "['39175cd36349f3f03c4610b66ebb110076d7a7', '37beca28414daef929640948ef8383ddd00ede']\n",
      "['e8c79a59f216edb8e83a0a3c2033357c0f1131', '97c43239c5102d168ba16f7a6d8bea215b4395', '42977c15b7556e63802191c5cd2c4b556ed6a1']\n",
      "['c0525036453266cc7b3c0b1e8459b1eba53b21', 'ee23c48948d4c3c541bbcdf3a41290c6d5a87a', '3a046cbafeed30a2901363953eeb6dc0710c0a']\n",
      "['70dc70b8be0c0e031e63cb2f699ee99ef966cb']\n",
      "['2f8e019a0c5d52bb36fa33f75be3f4462df7e4', '9102cf7269b5cfcb8591620696ac052ad98029', '3bcfb9ef29e044a2106b95bc83c6c586b3d529']\n",
      "['7c23bd224ba8b81cbc7d6df5cb07ae12eff7c8']\n",
      "['d1e3f731e6eae4392e0ac6fdf5b31447bdea6b']\n",
      "['37bb0ceb69055bdbc41776c9b4bbf1edd4191a']\n",
      "['02fe95c8fe7a0f437f079881d463e8b872a940', '067dacdefa905badd668c33047d3d1f82666a9']\n",
      "['32cb4955ca3225b613b72a86d928a02da77b37']\n",
      "['a7d2464304498a23ff692021465c8e76c0b461']\n",
      "['80c508c0f581b3a0768c444bf5b7fdd03d273a', '65e5ad04589eb6745998fcd9573f40fb84b068', 'b25e2c0d25a665e44cb47f9b9db23680b6e0e0', '286ed13ee03f77e0ed88f6fae36ec14f5a3da6']\n",
      "['79d293dcaac39b2fb2de72eae2db099b050401', '4ad648ee0677f154e85b84faa6bbeeb3e95667']\n",
      "['db682365366f1d6b788c05e2d356c0d80f6039']\n",
      "['abda6bc5692bd1906343084519a6b7c5b2d420']\n",
      "['c016014fd6c886fb917c45f55e31764cec0e7d', '89e784acc7b464630c47142e3632a552b84d65', 'fb07d41c7b0b52fd4fd06a6063c946d62fe7bf']\n",
      "['2c0c00693abb18c0fbdeac3d26cb2c8a619ca1']\n",
      "['9492078017190dafd22317de2e9ef6e60cf4d1']\n",
      "['ba5a2450b829f898822b81c0b2726276db849d']\n",
      "['94e7c176f928101a10774a3abaa7b721c2a336', 'af3b9e9fce418250e2abe3c9cc4f679b7dbf3f']\n",
      "['9025db3086621c75e8178f03f957de7a0dfbed']\n",
      "['5510f9075347cf6696ac1b7f49284b8a4d81fd']\n",
      "['dbb824da9154c9fdc216a96e785e438279886a', '4bc8c0332ae4b401de0f7f6f995b24741a6d07']\n",
      "['995c13b16260a28e36893f159cf33e267cc785']\n",
      "['7bbc3b03ad3f1cee2c8d5627d81dad73fd49b4']\n",
      "['sendemail-validate.sample', 'post-update.sample', 'pre-push.sample', 'update.sample', 'pre-receive.sample', 'pre-rebase.sample', 'push-to-checkout.sample', 'applypatch-msg.sample', 'commit-msg.sample', 'pre-commit.sample', 'prepare-commit-msg.sample', 'pre-applypatch.sample', 'fsmonitor-watchman.sample', 'pre-merge-commit.sample']\n",
      "['class05', 'class17', 'class14', 'class13', 'class01', 'class04', 'main', 'class21', 'class08', 'class16', 'class06', 'class19', 'class15', 'class02', 'class20', 'class18', 'class23', 'class09', 'class10', 'class22', 'class12', 'class03', 'class07', 'class11']\n",
      "['class05', 'class17', 'class14', 'class13', 'class01', 'class04', 'main', 'class21', 'class08', 'class16', 'class06', 'class19', 'class15', 'class02', 'HEAD', 'class20', 'class18', 'class23', 'class09', 'class10', 'class22', 'class12', 'class03', 'class07', 'class11']\n",
      "['HEAD']\n",
      "['class05', 'class17', 'class14', 'class13', 'class01', 'class04', 'main', 'class21', 'class08', 'class16', 'class06', 'class19', 'class15', 'class02', 'class20', 'class18', 'class23', 'class09', 'class10', 'class22', 'class12', 'class03', 'class07', 'class11']\n",
      "['class05', 'class17', 'class14', 'class13', 'class01', 'class04', 'main', 'class21', 'class08', 'class16', 'class06', 'class19', 'class15', 'class02', 'HEAD', 'class20', 'class18', 'class23', 'class09', 'class10', 'class22', 'class12', 'class03', 'class07', 'class11']\n",
      "['exclude']\n",
      "['usage_of_pydoc.txt', 'b_ration_store.html', 'usage_of_help.py']\n",
      "['c_string_attributes.ipynb', 'b_palindrome_check.py', 'e_unicode_strings.ipynb', 'f_bytes_operations.ipynb', 'a_string_operations.ipynb', 'd_string_Formatting.ipynb']\n",
      "['operator_precedence', 'arithmetic_operations.ipynb', 'f_bank_loan.py', 'g_feet_to_cms_conversion.py', 'b_ration_store.py', 'type_conversions.ipynb', 'complex_numbers.ipynb', 'c_fruit_store.py', 'e_savings_bank.py', 'd_grocery_store.py']\n",
      "['b_ration_store.cpython-312.pyc']\n",
      "['comprehensions.ipynb', 'iterables_operations.ipynb']\n",
      "['a_dict_operations.ipynb']\n",
      "['c_set_operators.ipynb', 'a_set_opertaions.ipynb', 'b_frozenset.ipynb']\n",
      "['a_tuples.ipynb']\n",
      "['a_list_operations.ipynb', 'b_copy_problem.ipynb']\n",
      "['CACHEDIR.TAG', '.gitignore', 'pyvenv.cfg']\n",
      "['pip-24.3.1.virtualenv', '_virtualenv.py', 'ipykernel_launcher.py', '_virtualenv.pth', 'six.py', 'jupyter.py', 'decorator.py', 'nest_asyncio.py']\n",
      "['my_getattr_static.py', '__init__.py', 'utils.py', 'core.py', 'py.typed', 'version.py']\n",
      "['utils.cpython-312.pyc', 'core.cpython-312.pyc', 'version.cpython-312.pyc', '__init__.cpython-312.pyc', 'my_getattr_static.cpython-312.pyc']\n",
      "['RECORD', 'INSTALLER', 'WHEEL', 'METADATA']\n",
      "['LICENSE']\n",
      "['RECORD', 'INSTALLER', 'top_level.txt', 'WHEEL', 'LICENSE', 'METADATA']\n",
      "['__init__.py', 'py.typed', 'log.py', '_version.py', 'traitlets.py']\n",
      "['argcomplete_config.py', '__init__.py', 'application.py', 'configurable.py', 'loader.py', 'manager.py', 'sphinxdoc.py']\n",
      "['configurable.cpython-312.pyc', 'loader.cpython-312.pyc', 'argcomplete_config.cpython-312.pyc', 'application.cpython-312.pyc', '__init__.cpython-312.pyc', 'manager.cpython-312.pyc', 'sphinxdoc.cpython-312.pyc']\n",
      "['importstring.py', '__init__.py', 'warnings.py', 'nested_update.py', 'sentinel.py', 'decorators.py', 'text.py', 'getargspec.py', 'bunch.py', 'descriptions.py']\n",
      "['text.cpython-312.pyc', 'sentinel.cpython-312.pyc', 'warnings.cpython-312.pyc', 'nested_update.cpython-312.pyc', 'descriptions.cpython-312.pyc', 'bunch.cpython-312.pyc', '__init__.cpython-312.pyc', 'importstring.cpython-312.pyc', 'getargspec.cpython-312.pyc', 'decorators.cpython-312.pyc']\n",
      "['_version.cpython-312.pyc', 'log.cpython-312.pyc', '__init__.cpython-312.pyc', 'traitlets.cpython-312.pyc']\n",
      "['test_traitlets.py', '__init__.py', 'utils.py']\n",
      "['utils.cpython-312.pyc', '__init__.cpython-312.pyc', 'test_traitlets.cpython-312.pyc']\n",
      "['entry_points.txt', 'RECORD', 'INSTALLER', 'top_level.txt', 'WHEEL', 'LICENSE', 'METADATA']\n",
      "['clientabc.py', 'connect.py', 'channelsabc.py', '__init__.py', 'utils.py', 'runapp.py', 'consoleapp.py', 'restarter.py', 'launcher.py', 'channels.py', 'threaded.py', 'jsonutil.py', 'kernelapp.py', 'localinterfaces.py', 'py.typed', 'adapter.py', 'kernelspecapp.py', 'client.py', 'managerabc.py', 'multikernelmanager.py', 'win_interrupt.py', 'kernelspec.py', '_version.py', 'session.py', 'manager.py']\n",
      "['__init__.py', 'tunnel.py', 'forward.py']\n",
      "['tunnel.cpython-312.pyc', 'forward.cpython-312.pyc', '__init__.cpython-312.pyc']\n",
      "['__init__.py', 'client.py']\n",
      "['client.cpython-312.pyc', '__init__.cpython-312.pyc']\n",
      "['kernelspec.cpython-312.pyc', '_version.cpython-312.pyc', 'kernelspecapp.cpython-312.pyc', 'utils.cpython-312.pyc', 'restarter.cpython-312.pyc', 'client.cpython-312.pyc', 'connect.cpython-312.pyc', 'clientabc.cpython-312.pyc', 'managerabc.cpython-312.pyc', 'launcher.cpython-312.pyc', 'jsonutil.cpython-312.pyc', 'channels.cpython-312.pyc', 'win_interrupt.cpython-312.pyc', 'adapter.cpython-312.pyc', 'consoleapp.cpython-312.pyc', 'multikernelmanager.cpython-312.pyc', 'kernelapp.cpython-312.pyc', 'channelsabc.cpython-312.pyc', 'localinterfaces.cpython-312.pyc', '__init__.cpython-312.pyc', 'manager.cpython-312.pyc', 'threaded.cpython-312.pyc', 'session.cpython-312.pyc', 'runapp.cpython-312.pyc']\n",
      "['__init__.py', 'local_provisioner.py', 'factory.py', 'provisioner_base.py']\n",
      "['factory.cpython-312.pyc', '__init__.cpython-312.pyc', 'provisioner_base.cpython-312.pyc', 'local_provisioner.cpython-312.pyc']\n",
      "['__init__.py', 'client.py']\n",
      "['client.cpython-312.pyc', '__init__.cpython-312.pyc']\n",
      "['__init__.py', 'restarter.py', 'manager.py']\n",
      "['restarter.cpython-312.pyc', '__init__.cpython-312.pyc', 'manager.cpython-312.pyc']\n",
      "['RECORD', 'INSTALLER', 'LICENSE.txt', 'top_level.txt', 'WHEEL', 'METADATA']\n",
      "['expect.py', '__init__.py', 'utils.py', 'pxssh.py', 'fdpexpect.py', 'replwrap.py', 'pty_spawn.py', 'run.py', '_async_pre_await.py', 'bashrc.sh', 'popen_spawn.py', 'screen.py', '_async.py', 'ANSI.py', 'spawnbase.py', 'exceptions.py', '_async_w_await.py', 'FSM.py', 'socket_pexpect.py']\n",
      "['pxssh.cpython-312.pyc', '_async_pre_await.cpython-312.pyc', 'utils.cpython-312.pyc', 'exceptions.cpython-312.pyc', 'ANSI.cpython-312.pyc', 'pty_spawn.cpython-312.pyc', 'expect.cpython-312.pyc', 'run.cpython-312.pyc', 'popen_spawn.cpython-312.pyc', '_async.cpython-312.pyc', 'spawnbase.cpython-312.pyc', '_async_w_await.cpython-312.pyc', 'socket_pexpect.cpython-312.pyc', 'replwrap.cpython-312.pyc', '__init__.cpython-312.pyc', 'FSM.cpython-312.pyc', 'fdpexpect.cpython-312.pyc', 'screen.cpython-312.pyc']\n",
      "['RECORD', 'INSTALLER', 'top_level.txt', 'WHEEL', 'LICENSE', 'METADATA']\n",
      "['entry_points.txt', 'RECORD', 'INSTALLER', 'WHEEL', 'METADATA']\n",
      "['AUTHORS', 'LICENSE']\n",
      "['unicode_versions.py', '__init__.py', 'table_wide.py', 'wcwidth.py', 'table_zero.py', 'table_vs16.py']\n",
      "['table_zero.cpython-312.pyc', 'unicode_versions.cpython-312.pyc', '__init__.cpython-312.pyc', 'table_wide.cpython-312.pyc', 'table_vs16.cpython-312.pyc', 'wcwidth.cpython-312.pyc']\n",
      "['token.py', 'regexopt.py', 'console.py', 'modeline.py', 'formatter.py', 'filter.py', 'util.py', '__init__.py', '__main__.py', 'scanner.py', 'cmdline.py', 'unistring.py', 'plugin.py', 'sphinxext.py', 'lexer.py', 'style.py']\n",
      "['__init__.py']\n",
      "['__init__.cpython-312.pyc']\n",
      "['ada.py', 'textedit.py', 'arrow.py', 'boa.py', 'console.py', 'html.py', 'monte.py', 'clean.py', 'mosel.py', 'c_like.py', 'parsers.py', 'qvt.py', 'trafficscript.py', 'minecraft.py', 'templates.py', 'grammar_notation.py', 'yara.py', 'tls.py', 'modeling.py', 'slash.py', 'automation.py', 'data.py', 'jslt.py', 'oberon.py', 'tnt.py', 'dsls.py', 'int_fiction.py', 'lilypond.py', 'nix.py', 'perl.py', 'floscript.py', 'hexdump.py', 'verifpal.py', 'scdoc.py', 'promql.py', 'q.py', 'roboconf.py', 'mips.py', 'macaulay2.py', 'srcinfo.py', '_usd_builtins.py', 'ezhil.py', 'smv.py', 'objective.py', 'smithy.py', 'pascal.py', 'wgsl.py', 'asc.py', 'ride.py', 'graphql.py', '_php_builtins.py', '__init__.py', '_csound_builtins.py', '_vim_builtins.py', 'graphics.py', '_openedge_builtins.py', 'sophia.py', 'math.py', 'prolog.py', 'zig.py', 'dotnet.py', 'ambient.py', 'thingsdb.py', 'ncl.py', 'felix.py', 'spice.py', 'csound.py', 'compiled.py', 'x10.py', 'scripting.py', 'apdlexer.py', 'unicon.py', 'ruby.py', '_mysql_builtins.py', 'snobol.py', '_lua_builtins.py', 'iolang.py', 'shell.py', 'webmisc.py', 'css.py', 'robotframework.py', '_vbscript_builtins.py', 'stata.py', 'graph.py', 'basic.py', 'pointless.py', 'c_cpp.py', 'ampl.py', 'teraterm.py', 'maxima.py', '_sourcemod_builtins.py', 'qlik.py', '_mql_builtins.py', 'vip.py', 'forth.py', 'd.py', 'praat.py', 'webassembly.py', 'web.py', 'go.py', 'j.py', 'other.py', 'cddl.py', 'solidity.py', 'sieve.py', 'foxpro.py', 'pawn.py', 'bqn.py', 'hdl.py', '_tsql_builtins.py', 'r.py', 'actionscript.py', 'archetype.py', 'capnproto.py', 'gdscript.py', 'php.py', 'sas.py', 'wowtoc.py', 'textfmts.py', 'teal.py', '_css_builtins.py', 'blueprint.py', 'verification.py', 'theorem.py', 'diff.py', 'rnc.py', '_cocoa_builtins.py', 'erlang.py', 'jsx.py', 'modula2.py', 'nimrod.py', 'kuin.py', 'fortran.py', 'chapel.py', 'ml.py', 'parasail.py', 'comal.py', 'mime.py', 'phix.py', 'func.py', 'pony.py', 'dax.py', 'asn1.py', 'agile.py', 'procfile.py', 'inferno.py', 'jvm.py', 'xorg.py', 'savi.py', 'gcodelexer.py', '_qlik_builtins.py', 'sql.py', 'usd.py', 'jmespath.py', 'ptx.py', 'asm.py', 'special.py', 'amdgpu.py', 'crystal.py', '_luau_builtins.py', 'rita.py', 'functional.py', 'jsonnet.py', 'nit.py', 'webidl.py', 'matlab.py', 'factor.py', 'make.py', 'ooc.py', 'lisp.py', 'text.py', 'idl.py', 'gsql.py', 'freefem.py', 'igor.py', 'elm.py', 'carbon.py', 'cplint.py', 'dalvik.py', 'whiley.py', 'wren.py', '_asy_builtins.py', '_cl_builtins.py', '_lasso_builtins.py', 'graphviz.py', 'typst.py', 'tal.py', 'tlb.py', 'markup.py', 'supercollider.py', 'ldap.py', 'urbi.py', 'arturo.py', 'apl.py', 'lean.py', 'prql.py', '_scilab_builtins.py', 'fantom.py', 'mojo.py', '_stan_builtins.py', 'devicetree.py', 'julia.py', 'fift.py', 'resource.py', 'smalltalk.py', 'berry.py', 'bare.py', 'business.py', 'javascript.py', '_scheme_builtins.py', '_lilypond_builtins.py', 'yang.py', 'tcl.py', 'vyper.py', 'soong.py', 'bibtex.py', '_julia_builtins.py', 'rebol.py', '_postgres_builtins.py', 'varnish.py', '_ada_builtins.py', 'algebra.py', 'haxe.py', 'typoscript.py', 'kusto.py', 'futhark.py', '_stata_builtins.py', 'ecl.py', 'sgf.py', 'dns.py', 'esoteric.py', 'bdd.py', 'tact.py', 'meson.py', 'configs.py', 'installers.py', 'eiffel.py', 'ul4.py', 'openscad.py', 'testing.py', 'python.py', 'haskell.py', 'dylan.py', 'elpi.py', 'rust.py', '_mapping.py', 'rdf.py', 'email.py']\n",
      "['sophia.cpython-312.pyc', 'business.cpython-312.pyc', 'console.cpython-312.pyc', 'asm.cpython-312.pyc', 'meson.cpython-312.pyc', 'nix.cpython-312.pyc', 'nit.cpython-312.pyc', 'dalvik.cpython-312.pyc', 'spice.cpython-312.pyc', 'modula2.cpython-312.pyc', 'urbi.cpython-312.pyc', 'ambient.cpython-312.pyc', 'email.cpython-312.pyc', 'eiffel.cpython-312.pyc', 'robotframework.cpython-312.pyc', 'teraterm.cpython-312.pyc', 'shell.cpython-312.pyc', 'zig.cpython-312.pyc', 'jslt.cpython-312.pyc', 'sas.cpython-312.pyc', 'pointless.cpython-312.pyc', 'verifpal.cpython-312.pyc', 'webassembly.cpython-312.pyc', 'sql.cpython-312.pyc', 'elpi.cpython-312.pyc', 'erlang.cpython-312.pyc', 'phix.cpython-312.pyc', 'objective.cpython-312.pyc', 'minecraft.cpython-312.pyc', 'yara.cpython-312.pyc', 'prolog.cpython-312.pyc', 'graphql.cpython-312.pyc', '_ada_builtins.cpython-312.pyc', 'pascal.cpython-312.pyc', '_mql_builtins.cpython-312.pyc', 'dsls.cpython-312.pyc', 'freefem.cpython-312.pyc', 'diff.cpython-312.pyc', 'qlik.cpython-312.pyc', 'ezhil.cpython-312.pyc', 'graph.cpython-312.pyc', '_qlik_builtins.cpython-312.pyc', 'compiled.cpython-312.pyc', 'templates.cpython-312.pyc', 'idl.cpython-312.pyc', '_csound_builtins.cpython-312.pyc', 'ml.cpython-312.pyc', 'arrow.cpython-312.pyc', 'd.cpython-312.pyc', '_vim_builtins.cpython-312.pyc', 'mime.cpython-312.pyc', 'csound.cpython-312.pyc', 'python.cpython-312.pyc', '_openedge_builtins.cpython-312.pyc', 'comal.cpython-312.pyc', 'archetype.cpython-312.pyc', 'parsers.cpython-312.pyc', 'perl.cpython-312.pyc', 'cddl.cpython-312.pyc', 'modeling.cpython-312.pyc', 'text.cpython-312.pyc', 'vyper.cpython-312.pyc', 'tnt.cpython-312.pyc', 'jvm.cpython-312.pyc', 'supercollider.cpython-312.pyc', 'wren.cpython-312.pyc', '_mapping.cpython-312.pyc', 'bare.cpython-312.pyc', 'kusto.cpython-312.pyc', 'ride.cpython-312.pyc', 'xorg.cpython-312.pyc', 'textfmts.cpython-312.pyc', 'dylan.cpython-312.pyc', 'bqn.cpython-312.pyc', 'amdgpu.cpython-312.pyc', 'foxpro.cpython-312.pyc', 'rdf.cpython-312.pyc', 'parasail.cpython-312.pyc', 'iolang.cpython-312.pyc', '_mysql_builtins.cpython-312.pyc', 'go.cpython-312.pyc', 'j.cpython-312.pyc', '_scheme_builtins.cpython-312.pyc', 'smalltalk.cpython-312.pyc', 'automation.cpython-312.pyc', 'qvt.cpython-312.pyc', '_cocoa_builtins.cpython-312.pyc', '_lasso_builtins.cpython-312.pyc', 'ampl.cpython-312.pyc', 'maxima.cpython-312.pyc', 'slash.cpython-312.pyc', 'lisp.cpython-312.pyc', 'soong.cpython-312.pyc', 'jsonnet.cpython-312.pyc', 'snobol.cpython-312.pyc', 'typst.cpython-312.pyc', 'asn1.cpython-312.pyc', 'praat.cpython-312.pyc', 'ooc.cpython-312.pyc', 'kuin.cpython-312.pyc', '_sourcemod_builtins.cpython-312.pyc', 'agile.cpython-312.pyc', 'gcodelexer.cpython-312.pyc', 'carbon.cpython-312.pyc', '_scilab_builtins.cpython-312.pyc', 'jsx.cpython-312.pyc', 'func.cpython-312.pyc', '_stan_builtins.cpython-312.pyc', 'futhark.cpython-312.pyc', 'gsql.cpython-312.pyc', 'graphics.cpython-312.pyc', 'tact.cpython-312.pyc', '_php_builtins.cpython-312.pyc', 'haskell.cpython-312.pyc', 'apdlexer.cpython-312.pyc', 'vip.cpython-312.pyc', 'installers.cpython-312.pyc', '_luau_builtins.cpython-312.pyc', 'tcl.cpython-312.pyc', 'resource.cpython-312.pyc', 'ul4.cpython-312.pyc', 'ptx.cpython-312.pyc', 'math.cpython-312.pyc', 'monte.cpython-312.pyc', 'berry.cpython-312.pyc', '_usd_builtins.cpython-312.pyc', 'ncl.cpython-312.pyc', 'openscad.cpython-312.pyc', 'usd.cpython-312.pyc', 'q.cpython-312.pyc', 'dotnet.cpython-312.pyc', 'algebra.cpython-312.pyc', 'markup.cpython-312.pyc', 'mojo.cpython-312.pyc', 'nimrod.cpython-312.pyc', 'html.cpython-312.pyc', 'wgsl.cpython-312.pyc', 'macaulay2.cpython-312.pyc', 'procfile.cpython-312.pyc', 'pony.cpython-312.pyc', '_stata_builtins.cpython-312.pyc', 'int_fiction.cpython-312.pyc', 'c_like.cpython-312.pyc', 'savi.cpython-312.pyc', 'dns.cpython-312.pyc', 'yang.cpython-312.pyc', 'fantom.cpython-312.pyc', 'hdl.cpython-312.pyc', 'ecl.cpython-312.pyc', 'mips.cpython-312.pyc', 'igor.cpython-312.pyc', 'fift.cpython-312.pyc', 'tlb.cpython-312.pyc', '_postgres_builtins.cpython-312.pyc', 'devicetree.cpython-312.pyc', 'other.cpython-312.pyc', 'chapel.cpython-312.pyc', '_css_builtins.cpython-312.pyc', 'thingsdb.cpython-312.pyc', 'smv.cpython-312.pyc', 'inferno.cpython-312.pyc', 'rnc.cpython-312.pyc', 'tls.cpython-312.pyc', 'unicon.cpython-312.pyc', 'basic.cpython-312.pyc', 'boa.cpython-312.pyc', 'scripting.cpython-312.pyc', 'esoteric.cpython-312.pyc', 'fortran.cpython-312.pyc', 'gdscript.cpython-312.pyc', 'testing.cpython-312.pyc', 'forth.cpython-312.pyc', 'clean.cpython-312.pyc', 'theorem.cpython-312.pyc', 'graphviz.cpython-312.pyc', 'x10.cpython-312.pyc', 'haxe.cpython-312.pyc', '__init__.cpython-312.pyc', '_lua_builtins.cpython-312.pyc', 'lean.cpython-312.pyc', 'wowtoc.cpython-312.pyc', 'prql.cpython-312.pyc', 'functional.cpython-312.pyc', 'oberon.cpython-312.pyc', 'r.cpython-312.pyc', 'bibtex.cpython-312.pyc', 'verification.cpython-312.pyc', 'textedit.cpython-312.pyc', 'capnproto.cpython-312.pyc', '_julia_builtins.cpython-312.pyc', 'data.cpython-312.pyc', 'bdd.cpython-312.pyc', 'apl.cpython-312.pyc', 'sieve.cpython-312.pyc', 'whiley.cpython-312.pyc', 'css.cpython-312.pyc', 'floscript.cpython-312.pyc', 'solidity.cpython-312.pyc', 'mosel.cpython-312.pyc', 'trafficscript.cpython-312.pyc', 'rita.cpython-312.pyc', 'factor.cpython-312.pyc', 'rust.cpython-312.pyc', 'arturo.cpython-312.pyc', 'teal.cpython-312.pyc', 'webmisc.cpython-312.pyc', 'stata.cpython-312.pyc', '_vbscript_builtins.cpython-312.pyc', 'special.cpython-312.pyc', 'promql.cpython-312.pyc', 'asc.cpython-312.pyc', 'roboconf.cpython-312.pyc', 'pawn.cpython-312.pyc', 'ruby.cpython-312.pyc', 'varnish.cpython-312.pyc', 'smithy.cpython-312.pyc', 'julia.cpython-312.pyc', 'matlab.cpython-312.pyc', 'grammar_notation.cpython-312.pyc', 'hexdump.cpython-312.pyc', 'elm.cpython-312.pyc', 'web.cpython-312.pyc', 'jmespath.cpython-312.pyc', 'ldap.cpython-312.pyc', 'felix.cpython-312.pyc', 'sgf.cpython-312.pyc', 'actionscript.cpython-312.pyc', 'php.cpython-312.pyc', '_asy_builtins.cpython-312.pyc', '_cl_builtins.cpython-312.pyc', '_tsql_builtins.cpython-312.pyc', 'blueprint.cpython-312.pyc', 'webidl.cpython-312.pyc', 'crystal.cpython-312.pyc', 'tal.cpython-312.pyc', 'dax.cpython-312.pyc', 'ada.cpython-312.pyc', 'lilypond.cpython-312.pyc', 'javascript.cpython-312.pyc', 'scdoc.cpython-312.pyc', 'cplint.cpython-312.pyc', '_lilypond_builtins.cpython-312.pyc', 'make.cpython-312.pyc', 'srcinfo.cpython-312.pyc', 'typoscript.cpython-312.pyc', 'rebol.cpython-312.pyc', 'configs.cpython-312.pyc', 'c_cpp.cpython-312.pyc']\n",
      "['html.py', 'terminal.py', '__init__.py', 'img.py', 'groff.py', 'other.py', 'svg.py', 'irc.py', 'bbcode.py', 'latex.py', 'terminal256.py', 'pangomarkup.py', 'rtf.py', '_mapping.py']\n",
      "['pangomarkup.cpython-312.pyc', 'irc.cpython-312.pyc', '_mapping.cpython-312.pyc', 'terminal256.cpython-312.pyc', 'img.cpython-312.pyc', 'bbcode.cpython-312.pyc', 'terminal.cpython-312.pyc', 'html.cpython-312.pyc', 'rtf.cpython-312.pyc', 'other.cpython-312.pyc', 'latex.cpython-312.pyc', '__init__.cpython-312.pyc', 'groff.cpython-312.pyc', 'svg.cpython-312.pyc']\n",
      "['console.cpython-312.pyc', 'formatter.cpython-312.pyc', 'style.cpython-312.pyc', 'token.cpython-312.pyc', '__main__.cpython-312.pyc', 'filter.cpython-312.pyc', 'modeline.cpython-312.pyc', 'scanner.cpython-312.pyc', 'cmdline.cpython-312.pyc', 'plugin.cpython-312.pyc', 'regexopt.cpython-312.pyc', 'lexer.cpython-312.pyc', 'unistring.cpython-312.pyc', 'sphinxext.cpython-312.pyc', '__init__.cpython-312.pyc', 'util.cpython-312.pyc']\n",
      "['friendly_grayscale.py', 'gruvbox.py', 'rrt.py', 'lilypond.py', 'tango.py', 'manni.py', 'onedark.py', 'bw.py', '__init__.py', 'staroffice.py', 'monokai.py', 'nord.py', 'material.py', 'algol.py', 'rainbow_dash.py', 'lovelace.py', 'solarized.py', 'default.py', 'perldoc.py', 'vim.py', 'fruity.py', 'vs.py', 'stata_dark.py', 'pastie.py', 'sas.py', 'colorful.py', 'paraiso_light.py', 'borland.py', 'friendly.py', 'abap.py', 'coffee.py', 'igor.py', 'murphy.py', 'inkpot.py', 'arduino.py', 'xcode.py', 'autumn.py', 'zenburn.py', 'stata_light.py', 'algol_nu.py', 'paraiso_dark.py', 'dracula.py', 'lightbulb.py', 'gh_dark.py', 'native.py', 'trac.py', 'emacs.py', '_mapping.py']\n",
      "['algol.cpython-312.pyc', 'bw.cpython-312.pyc', 'fruity.cpython-312.pyc', 'pastie.cpython-312.pyc', 'monokai.cpython-312.pyc', 'sas.cpython-312.pyc', 'staroffice.cpython-312.pyc', 'emacs.cpython-312.pyc', 'paraiso_dark.cpython-312.pyc', 'onedark.cpython-312.pyc', 'rrt.cpython-312.pyc', 'stata_dark.cpython-312.pyc', 'friendly.cpython-312.pyc', '_mapping.cpython-312.pyc', 'default.cpython-312.pyc', 'native.cpython-312.pyc', 'algol_nu.cpython-312.pyc', 'vim.cpython-312.pyc', 'material.cpython-312.pyc', 'coffee.cpython-312.pyc', 'vs.cpython-312.pyc', 'xcode.cpython-312.pyc', 'stata_light.cpython-312.pyc', 'friendly_grayscale.cpython-312.pyc', 'manni.cpython-312.pyc', 'abap.cpython-312.pyc', 'dracula.cpython-312.pyc', 'perldoc.cpython-312.pyc', 'nord.cpython-312.pyc', 'lovelace.cpython-312.pyc', 'rainbow_dash.cpython-312.pyc', 'borland.cpython-312.pyc', 'igor.cpython-312.pyc', '__init__.cpython-312.pyc', 'arduino.cpython-312.pyc', 'paraiso_light.cpython-312.pyc', 'colorful.cpython-312.pyc', 'trac.cpython-312.pyc', 'zenburn.cpython-312.pyc', 'gruvbox.cpython-312.pyc', 'gh_dark.cpython-312.pyc', 'solarized.cpython-312.pyc', 'lightbulb.cpython-312.pyc', 'lilypond.cpython-312.pyc', 'inkpot.cpython-312.pyc', 'murphy.cpython-312.pyc', 'autumn.cpython-312.pyc', 'tango.cpython-312.pyc']\n",
      "['_manylinux.py', '__init__.py', 'utils.py', 'specifiers.py', 'py.typed', 'version.py', '_tokenizer.py', 'metadata.py', '_structures.py', 'markers.py', '_musllinux.py', 'requirements.py', '_elffile.py', 'tags.py', '_parser.py']\n",
      "['tags.cpython-312.pyc', 'utils.cpython-312.pyc', '_parser.cpython-312.pyc', 'requirements.cpython-312.pyc', 'markers.cpython-312.pyc', 'metadata.cpython-312.pyc', '_musllinux.cpython-312.pyc', 'specifiers.cpython-312.pyc', 'version.cpython-312.pyc', '_elffile.cpython-312.pyc', '__init__.cpython-312.pyc', '_manylinux.cpython-312.pyc', '_structures.cpython-312.pyc', '_tokenizer.cpython-312.pyc']\n",
      "['__init__.py', '_spdx.py']\n",
      "['__init__.cpython-312.pyc', '_spdx.cpython-312.pyc']\n",
      "['__init__.py', 'py.typed', 'version.py', '_position_node_finder.py', 'executing.py', '_exceptions.py']\n",
      "['_position_node_finder.cpython-312.pyc', '_exceptions.cpython-312.pyc', 'version.cpython-312.pyc', '__init__.cpython-312.pyc', 'executing.cpython-312.pyc']\n",
      "['__pip-runner__.py', '__init__.py', '__main__.py', 'py.typed']\n",
      "['__init__.py', 'typing_extensions.py', 'vendor.txt']\n",
      "['__init__.py', '_impl.py', '_compat.py']\n",
      "['_impl.cpython-312.pyc', '__init__.cpython-312.pyc']\n",
      "['_in_process.py', '__init__.py']\n",
      "['__init__.cpython-312.pyc']\n",
      "['api.py', 'help.py', 'status_codes.py', 'packages.py', 'cookies.py', '__init__.py', 'utils.py', '_internal_utils.py', 'sessions.py', '__version__.py', 'adapters.py', 'hooks.py', 'auth.py', 'exceptions.py', 'structures.py', 'certs.py', 'models.py', 'compat.py']\n",
      "['utils.cpython-312.pyc', '__version__.cpython-312.pyc', 'exceptions.cpython-312.pyc', 'status_codes.cpython-312.pyc', 'adapters.cpython-312.pyc', '_internal_utils.cpython-312.pyc', 'cookies.cpython-312.pyc', 'certs.cpython-312.pyc', 'api.cpython-312.pyc', 'models.cpython-312.pyc', '__init__.cpython-312.pyc', 'auth.cpython-312.pyc', 'hooks.cpython-312.pyc', 'structures.cpython-312.pyc', 'sessions.cpython-312.pyc', 'compat.cpython-312.pyc', 'packages.cpython-312.pyc']\n",
      "['heuristics.py', 'controller.py', 'serialize.py', '__init__.py', 'wrapper.py', 'py.typed', 'adapter.py', 'cache.py', 'filewrapper.py', '_cmd.py']\n",
      "['__init__.py', 'redis_cache.py', 'file_cache.py']\n",
      "['redis_cache.cpython-312.pyc', 'file_cache.cpython-312.pyc', '__init__.cpython-312.pyc']\n",
      "['controller.cpython-312.pyc', 'wrapper.cpython-312.pyc', 'filewrapper.cpython-312.pyc', 'serialize.cpython-312.pyc', 'adapter.cpython-312.pyc', '__init__.cpython-312.pyc', 'cache.cpython-312.pyc']\n",
      "['_openssl.py', '__init__.py', '_windows.py', 'py.typed', '_api.py', '_macos.py', '_ssl_constants.py']\n",
      "['__init__.cpython-312.pyc', '_ssl_constants.cpython-312.pyc', '_api.cpython-312.pyc', '_openssl.cpython-312.pyc']\n",
      "['distro.py', '__init__.py', '__main__.py', 'py.typed']\n",
      "['__init__.cpython-312.pyc', 'distro.cpython-312.pyc']\n",
      "['token.py', 'regexopt.py', 'console.py', 'modeline.py', 'formatter.py', 'filter.py', 'util.py', '__init__.py', '__main__.py', 'scanner.py', 'cmdline.py', 'unistring.py', 'plugin.py', 'sphinxext.py', 'lexer.py', 'style.py']\n",
      "['__init__.py']\n",
      "['__init__.cpython-312.pyc']\n",
      "['__init__.py', 'python.py', '_mapping.py']\n",
      "['_mapping.cpython-312.pyc', '__init__.cpython-312.pyc']\n",
      "['html.py', 'terminal.py', '__init__.py', 'img.py', 'groff.py', 'other.py', 'svg.py', 'irc.py', 'bbcode.py', 'latex.py', 'terminal256.py', 'pangomarkup.py', 'rtf.py', '_mapping.py']\n",
      "['style.cpython-312.pyc', 'token.cpython-312.pyc', 'filter.cpython-312.pyc', 'modeline.cpython-312.pyc', 'plugin.cpython-312.pyc', 'regexopt.cpython-312.pyc', 'lexer.cpython-312.pyc', '__init__.cpython-312.pyc', 'util.cpython-312.pyc']\n",
      "['__init__.py', '_mapping.py']\n",
      "['_mapping.cpython-312.pyc', '__init__.cpython-312.pyc']\n",
      "['_manylinux.py', '__init__.py', 'utils.py', 'specifiers.py', 'py.typed', 'version.py', '_tokenizer.py', 'metadata.py', '_structures.py', 'markers.py', '_musllinux.py', 'requirements.py', '_elffile.py', 'tags.py', '_parser.py']\n",
      "['tags.cpython-312.pyc', 'utils.cpython-312.pyc', '_parser.cpython-312.pyc', 'requirements.cpython-312.pyc', 'markers.cpython-312.pyc', '_musllinux.cpython-312.pyc', 'specifiers.cpython-312.pyc', 'version.cpython-312.pyc', '_elffile.cpython-312.pyc', '__init__.cpython-312.pyc', '_manylinux.cpython-312.pyc', '_structures.cpython-312.pyc', '_tokenizer.cpython-312.pyc']\n",
      "['fallback.py', '__init__.py', 'ext.py', 'exceptions.py']\n",
      "['exceptions.cpython-312.pyc', 'fallback.cpython-312.pyc', 'ext.cpython-312.pyc', '__init__.cpython-312.pyc']\n",
      "['__init__.py', '_types.py', '_re.py', 'py.typed', '_parser.py']\n",
      "['_cell_widths.py', 'pretty.py', 'palette.py', 'console.py', 'themes.py', 'abc.py', 'table.py', 'logging.py', '_fileno.py', 'live_render.py', '_null_file.py', 'measure.py', '_stack.py', 'color_triplet.py', 'traceback.py', '_log_render.py', 'rule.py', 'protocol.py', 'panel.py', 'live.py', '_win32_console.py', '_loop.py', 'default_styles.py', '_wrap.py', '__init__.py', 'terminal_theme.py', '_inspect.py', 'errors.py', '_emoji_codes.py', 'progress.py', 'columns.py', '_emoji_replace.py', '_windows.py', '_ratio.py', 'syntax.py', 'filesize.py', '__main__.py', '_windows_renderer.py', 'highlighter.py', 'containers.py', 'json.py', '_spinners.py', '_pick.py', 'py.typed', '_export_format.py', 'screen.py', 'pager.py', 'spinner.py', 'jupyter.py', 'segment.py', 'color.py', 'progress_bar.py', 'bar.py', '_timer.py', 'text.py', 'ansi.py', 'repr.py', 'style.py', '_extension.py', 'padding.py', 'diagnose.py', 'emoji.py', 'markup.py', 'styled.py', 'file_proxy.py', 'layout.py', 'constrain.py', 'prompt.py', 'box.py', 'scope.py', '_palettes.py', 'theme.py', 'status.py', 'control.py', 'region.py', 'align.py', 'cells.py', 'tree.py']\n",
      "['containers.cpython-312.pyc', 'console.cpython-312.pyc', 'box.cpython-312.pyc', 'repr.cpython-312.pyc', 'constrain.cpython-312.pyc', 'color.cpython-312.pyc', 'ansi.cpython-312.pyc', 'control.cpython-312.pyc', 'traceback.cpython-312.pyc', 'palette.cpython-312.pyc', 'syntax.cpython-312.pyc', 'panel.cpython-312.pyc', 'table.cpython-312.pyc', 'style.cpython-312.pyc', '_wrap.cpython-312.pyc', '_emoji_replace.cpython-312.pyc', 'padding.cpython-312.pyc', 'protocol.cpython-312.pyc', 'text.cpython-312.pyc', '_palettes.cpython-312.pyc', '_cell_widths.cpython-312.pyc', '_log_render.cpython-312.pyc', 'highlighter.cpython-312.pyc', 'theme.cpython-312.pyc', '_fileno.cpython-312.pyc', 'columns.cpython-312.pyc', '_emoji_codes.cpython-312.pyc', 'cells.cpython-312.pyc', 'segment.cpython-312.pyc', 'live.cpython-312.pyc', 'progress_bar.cpython-312.pyc', 'region.cpython-312.pyc', 'scope.cpython-312.pyc', 'errors.cpython-312.pyc', 'spinner.cpython-312.pyc', 'progress.cpython-312.pyc', 'markup.cpython-312.pyc', '_extension.cpython-312.pyc', '_pick.cpython-312.pyc', 'logging.cpython-312.pyc', '_null_file.cpython-312.pyc', 'themes.cpython-312.pyc', 'file_proxy.cpython-312.pyc', 'styled.cpython-312.pyc', 'terminal_theme.cpython-312.pyc', '__init__.cpython-312.pyc', 'live_render.cpython-312.pyc', '_loop.cpython-312.pyc', 'color_triplet.cpython-312.pyc', 'jupyter.cpython-312.pyc', 'pretty.cpython-312.pyc', 'emoji.cpython-312.pyc', 'default_styles.cpython-312.pyc', 'measure.cpython-312.pyc', 'pager.cpython-312.pyc', 'align.cpython-312.pyc', '_export_format.cpython-312.pyc', 'screen.cpython-312.pyc', 'filesize.cpython-312.pyc', 'abc.cpython-312.pyc', '_spinners.cpython-312.pyc', '_ratio.cpython-312.pyc']\n",
      "['__init__.py', 'py.typed', 'structs.py', 'providers.py', 'reporters.py', 'resolvers.py']\n",
      "['__init__.py', 'collections_abc.py']\n",
      "['collections_abc.cpython-312.pyc', '__init__.cpython-312.pyc']\n",
      "['structs.cpython-312.pyc', 'providers.cpython-312.pyc', 'reporters.cpython-312.pyc', '__init__.cpython-312.pyc', 'resolvers.cpython-312.pyc']\n",
      "['typing_extensions.cpython-312.pyc', '__init__.cpython-312.pyc']\n",
      "['t32.exe', 'database.py', 'util.py', 'resources.py', '__init__.py', 'w64-arm.exe', 't64.exe', 'w64.exe', 'locators.py', 'manifest.py', 'index.py', 'version.py', 't64-arm.exe', 'scripts.py', 'metadata.py', 'markers.py', 'w32.exe', 'wheel.py', 'compat.py']\n",
      "['resources.cpython-312.pyc', '__init__.cpython-312.pyc', 'util.cpython-312.pyc', 'compat.cpython-312.pyc', 'scripts.cpython-312.pyc']\n",
      "['intranges.py', '__init__.py', 'idnadata.py', 'package_data.py', 'core.py', 'py.typed', 'codec.py', 'uts46data.py', 'compat.py']\n",
      "['idnadata.cpython-312.pyc', 'package_data.cpython-312.pyc', 'core.cpython-312.pyc', '__init__.cpython-312.pyc', 'intranges.cpython-312.pyc']\n",
      "['response.py', 'connectionpool.py', '__init__.py', '_collections.py', 'exceptions.py', 'connection.py', '_version.py', 'fields.py', 'request.py', 'filepost.py', 'poolmanager.py']\n",
      "['__init__.py', 'six.py']\n",
      "['six.cpython-312.pyc', '__init__.cpython-312.pyc']\n",
      "['__init__.py', 'weakref_finalize.py', 'makefile.py']\n",
      "['_version.cpython-312.pyc', 'exceptions.cpython-312.pyc', 'response.cpython-312.pyc', 'connectionpool.cpython-312.pyc', '_collections.cpython-312.pyc', 'poolmanager.cpython-312.pyc', 'request.cpython-312.pyc', 'connection.cpython-312.pyc', 'fields.cpython-312.pyc', '__init__.cpython-312.pyc', 'filepost.cpython-312.pyc']\n",
      "['wait.py', 'response.py', 'ssl_.py', 'ssl_match_hostname.py', '__init__.py', 'timeout.py', 'ssltransport.py', 'proxy.py', 'retry.py', 'connection.py', 'request.py', 'queue.py', 'url.py']\n",
      "['ssltransport.cpython-312.pyc', 'retry.cpython-312.pyc', 'response.cpython-312.pyc', 'url.cpython-312.pyc', 'request.cpython-312.pyc', 'queue.cpython-312.pyc', 'connection.cpython-312.pyc', 'wait.cpython-312.pyc', 'ssl_.cpython-312.pyc', 'timeout.cpython-312.pyc', '__init__.cpython-312.pyc', 'ssl_match_hostname.cpython-312.pyc', 'proxy.cpython-312.pyc']\n",
      "['pyopenssl.py', '_appengine_environ.py', '__init__.py', 'appengine.py', 'socks.py', 'securetransport.py', 'ntlmpool.py']\n",
      "['bindings.py', '__init__.py', 'low_level.py']\n",
      "['_appengine_environ.cpython-312.pyc', 'socks.cpython-312.pyc', '__init__.cpython-312.pyc']\n",
      "['__init__.py']\n",
      "['__init__.cpython-312.pyc']\n",
      "['api.py', '__init__.py', '__main__.py', 'py.typed', 'version.py', 'windows.py', 'android.py', 'macos.py', 'unix.py']\n",
      "['unix.cpython-312.pyc', 'version.cpython-312.pyc', 'api.cpython-312.pyc', '__init__.cpython-312.pyc']\n",
      "['__init__.py', 'cacert.pem', '__main__.py', 'core.py', 'py.typed']\n",
      "['core.cpython-312.pyc', '__init__.cpython-312.pyc']\n",
      "['self_outdated_check.py', 'wheel_builder.py', '__init__.py', 'exceptions.py', 'build_env.py', 'cache.py', 'configuration.py', 'main.py', 'pyproject.py']\n",
      "['__init__.py', 'base.py']\n",
      "['reporter.py', 'resolver.py', '__init__.py', 'candidates.py', 'base.py', 'provider.py', 'found_candidates.py', 'factory.py', 'requirements.py']\n",
      "['requirements.cpython-312.pyc', 'resolver.cpython-312.pyc', 'reporter.cpython-312.pyc', 'base.cpython-312.pyc', 'factory.cpython-312.pyc', 'found_candidates.cpython-312.pyc', '__init__.cpython-312.pyc', 'provider.cpython-312.pyc', 'candidates.cpython-312.pyc']\n",
      "['base.cpython-312.pyc', '__init__.cpython-312.pyc']\n",
      "['resolver.py', '__init__.py']\n",
      "['check.py', '__init__.py', 'freeze.py', 'prepare.py']\n",
      "['prepare.cpython-312.pyc', '__init__.cpython-312.pyc', 'check.cpython-312.pyc']\n",
      "['editable_legacy.py', '__init__.py', 'wheel.py']\n",
      "['wheel.cpython-312.pyc', '__init__.cpython-312.pyc', 'editable_legacy.cpython-312.pyc']\n",
      "['metadata_editable.py', '__init__.py', 'metadata_legacy.py', 'wheel_editable.py', 'metadata.py', 'build_tracker.py', 'wheel.py', 'wheel_legacy.py']\n",
      "['wheel_legacy.cpython-312.pyc', 'metadata.cpython-312.pyc', 'wheel.cpython-312.pyc', 'build_tracker.cpython-312.pyc', 'wheel_editable.cpython-312.pyc', 'metadata_legacy.cpython-312.pyc', '__init__.cpython-312.pyc', 'metadata_editable.cpython-312.pyc']\n",
      "['req_command.py', 'status_codes.py', 'command_context.py', '__init__.py', 'base_command.py', 'main_parser.py', 'index_command.py', 'spinners.py', 'autocompletion.py', 'cmdoptions.py', 'progress_bars.py', 'main.py', 'parser.py']\n",
      "['progress_bars.cpython-312.pyc', 'command_context.cpython-312.pyc', 'parser.cpython-312.pyc', 'spinners.cpython-312.pyc', 'base_command.cpython-312.pyc', 'index_command.cpython-312.pyc', 'status_codes.cpython-312.pyc', 'main_parser.cpython-312.pyc', '__init__.cpython-312.pyc', 'cmdoptions.cpython-312.pyc', 'main.cpython-312.pyc', 'req_command.cpython-312.pyc', 'autocompletion.cpython-312.pyc']\n",
      "['installed.py', '__init__.py', 'sdist.py', 'base.py', 'wheel.py']\n",
      "['wheel.cpython-312.pyc', 'installed.cpython-312.pyc', 'base.cpython-312.pyc', 'sdist.cpython-312.pyc', '__init__.cpython-312.pyc']\n",
      "['__init__.py', 'base.py', '_distutils.py', '_sysconfig.py']\n",
      "['_sysconfig.cpython-312.pyc', 'base.cpython-312.pyc', '__init__.cpython-312.pyc']\n",
      "['collector.py', '__init__.py', 'sources.py', 'package_finder.py']\n",
      "['sources.cpython-312.pyc', 'collector.cpython-312.pyc', 'package_finder.cpython-312.pyc', '__init__.cpython-312.pyc']\n",
      "['__init__.py', 'installation_report.py', 'scheme.py', 'index.py', 'search_scope.py', 'format_control.py', 'candidate.py', 'direct_url.py', 'target_python.py', 'selection_prefs.py', 'wheel.py', 'link.py']\n",
      "['format_control.cpython-312.pyc', 'wheel.cpython-312.pyc', 'target_python.cpython-312.pyc', 'direct_url.cpython-312.pyc', 'index.cpython-312.pyc', 'search_scope.cpython-312.pyc', 'selection_prefs.cpython-312.pyc', 'scheme.cpython-312.pyc', 'installation_report.cpython-312.pyc', '__init__.cpython-312.pyc', 'candidate.cpython-312.pyc', 'link.cpython-312.pyc']\n",
      "['packaging.py', 'filesystem.py', 'logging.py', 'unpacking.py', '__init__.py', 'entrypoints.py', '_jaraco_text.py', 'deprecation.py', 'misc.py', 'encoding.py', 'datetime.py', 'egg_link.py', 'direct_url_helpers.py', 'appdirs.py', 'urls.py', 'setuptools_build.py', 'temp_dir.py', 'subprocess.py', 'hashes.py', 'retry.py', 'compatibility_tags.py', '_log.py', 'virtualenv.py', 'filetypes.py', 'glibc.py', 'wheel.py', 'compat.py']\n",
      "['setuptools_build.cpython-312.pyc', 'packaging.cpython-312.pyc', 'subprocess.cpython-312.pyc', 'urls.cpython-312.pyc', '_jaraco_text.cpython-312.pyc', 'retry.cpython-312.pyc', 'entrypoints.cpython-312.pyc', 'wheel.cpython-312.pyc', 'unpacking.cpython-312.pyc', 'appdirs.cpython-312.pyc', '_log.cpython-312.pyc', 'encoding.cpython-312.pyc', 'glibc.cpython-312.pyc', 'direct_url_helpers.cpython-312.pyc', 'logging.cpython-312.pyc', 'temp_dir.cpython-312.pyc', 'hashes.cpython-312.pyc', 'deprecation.cpython-312.pyc', 'virtualenv.cpython-312.pyc', '__init__.cpython-312.pyc', 'filesystem.cpython-312.pyc', 'egg_link.cpython-312.pyc', 'filetypes.cpython-312.pyc', 'misc.cpython-312.pyc', 'compat.cpython-312.pyc', 'compatibility_tags.cpython-312.pyc']\n",
      "['exceptions.cpython-312.pyc', 'configuration.cpython-312.pyc', 'build_env.cpython-312.pyc', 'pyproject.cpython-312.pyc', 'wheel_builder.cpython-312.pyc', 'self_outdated_check.cpython-312.pyc', '__init__.cpython-312.pyc', 'cache.cpython-312.pyc']\n",
      "['__init__.py', 'base.py', '_json.py', 'pkg_resources.py']\n",
      "['_json.cpython-312.pyc', 'base.cpython-312.pyc', 'pkg_resources.cpython-312.pyc', '__init__.cpython-312.pyc']\n",
      "['__init__.py', '_dists.py', '_envs.py', '_compat.py']\n",
      "['_envs.cpython-312.pyc', '_compat.cpython-312.pyc', '__init__.cpython-312.pyc', '_dists.cpython-312.pyc']\n",
      "['xmlrpc.py', 'lazy_wheel.py', '__init__.py', 'utils.py', 'auth.py', 'cache.py', 'session.py', 'download.py']\n",
      "['utils.cpython-312.pyc', 'download.cpython-312.pyc', 'lazy_wheel.cpython-312.pyc', '__init__.cpython-312.pyc', 'auth.cpython-312.pyc', 'session.cpython-312.pyc', 'cache.cpython-312.pyc']\n",
      "['check.py', 'help.py', 'uninstall.py', 'debug.py', 'search.py', '__init__.py', 'install.py', 'index.py', 'hash.py', 'freeze.py', 'show.py', 'inspect.py', 'cache.py', 'completion.py', 'wheel.py', 'list.py', 'download.py', 'configuration.py']\n",
      "['install.cpython-312.pyc', '__init__.cpython-312.pyc', 'list.cpython-312.pyc']\n",
      "['__init__.py', 'git.py', 'bazaar.py', 'subversion.py', 'versioncontrol.py', 'mercurial.py']\n",
      "['bazaar.cpython-312.pyc', 'versioncontrol.cpython-312.pyc', 'git.cpython-312.pyc', '__init__.cpython-312.pyc', 'subversion.cpython-312.pyc', 'mercurial.cpython-312.pyc']\n",
      "['req_file.py', '__init__.py', 'req_set.py', 'req_install.py', 'req_uninstall.py', 'constructors.py']\n",
      "['req_install.cpython-312.pyc', 'constructors.cpython-312.pyc', 'req_set.cpython-312.pyc', 'req_file.cpython-312.pyc', '__init__.cpython-312.pyc', 'req_uninstall.cpython-312.pyc']\n",
      "['__main__.cpython-312.pyc', '__init__.cpython-312.pyc']\n",
      "['RECORD', 'INSTALLER', 'WHEEL', 'METADATA']\n",
      "['LICENSE.md']\n",
      "['LICENSE.zeromq.txt', 'LICENSE.libsodium.txt']\n",
      "['debug.py', '__init__.py', 'utils.py', 'file_io.py', '__main__.py', 'parser_utils.py', 'settings.py', 'common.py', 'cache.py', '_compatibility.py']\n",
      "['LICENSE.txt']\n",
      "['shortcuts.pyi', '__init__.pyi']\n",
      "['tz.pyi', 'l10n.pyi', 'cache.pyi', 'static.pyi', 'i18n.pyi', '__init__.pyi']\n",
      "['debug.pyi', 'csrf.pyi', 'defaults.pyi', 'static.pyi', 'i18n.pyi', '__init__.pyi']\n",
      "['base.pyi', 'detail.pyi', 'edit.pyi', 'dates.pyi', 'list.pyi', '__init__.pyi']\n",
      "['debug.pyi', 'csrf.pyi', 'gzip.pyi', 'vary.pyi', 'cache.pyi', 'clickjacking.pyi', 'http.pyi', '__init__.pyi']\n",
      "['wsgi.pyi', 'exceptions.pyi', 'validators.pyi', 'signals.pyi', 'signing.pyi', 'paginator.pyi', '__init__.pyi']\n",
      "['base.pyi', 'wsgi.pyi', 'exception.pyi', '__init__.pyi']\n",
      "['base.pyi', 'json.pyi', 'python.pyi', '__init__.pyi']\n",
      "['message.pyi', 'utils.pyi', '__init__.pyi']\n",
      "['base.pyi', 'dummy.pyi', 'console.pyi', 'smtp.pyi', 'filebased.pyi', 'locmem.pyi', '__init__.pyi']\n",
      "['base.pyi', 'storage.pyi', 'uploadedfile.pyi', 'images.pyi', 'move.pyi', 'temp.pyi', 'locks.pyi', 'utils.pyi', 'uploadhandler.pyi', '__init__.pyi']\n",
      "['base.pyi', 'color.pyi', 'templates.pyi', 'utils.pyi', 'sql.pyi', '__init__.pyi']\n",
      "['makemessages.pyi', 'dumpdata.pyi', 'loaddata.pyi', 'runserver.pyi', 'testserver.pyi', '__init__.pyi']\n",
      "['registry.pyi', 'messages.pyi', 'caches.pyi', 'urls.pyi', 'templates.pyi', 'database.pyi', 'translation.pyi', 'model_checks.pyi', '__init__.pyi']\n",
      "['base.pyi', 'csrf.pyi', 'sessions.pyi', '__init__.pyi']\n",
      "['basehttp.pyi', '__init__.pyi']\n",
      "['utils.pyi', '__init__.pyi']\n",
      "['base.pyi', 'memcached.pyi', 'dummy.pyi', 'db.pyi', 'filebased.pyi', 'locmem.pyi', '__init__.pyi']\n",
      "['dispatcher.pyi', '__init__.pyi']\n",
      "['registry.pyi', 'config.pyi', '__init__.pyi']\n",
      "['xmlutils.pyi', 'numberformat.pyi', 'lorem_ipsum.pyi', 'autoreload.pyi', 'decorators.pyi', 'duration.pyi', 'hashable.pyi', 'html.pyi', 'ipv6.pyi', 'archive.pyi', 'inspect.pyi', 'version.pyi', 'safestring.pyi', '_os.pyi', 'deconstruct.pyi', 'functional.pyi', 'dateformat.pyi', 'timesince.pyi', 'deprecation.pyi', 'regex_helper.pyi', 'dateparse.pyi', 'text.pyi', 'encoding.pyi', 'jslex.pyi', 'formats.pyi', 'module_loading.pyi', 'itercompat.pyi', 'crypto.pyi', 'tree.pyi', 'timezone.pyi', 'feedgenerator.pyi', 'cache.pyi', 'log.pyi', 'termcolors.pyi', 'datastructures.pyi', 'datetime_safe.pyi', 'topological_sort.pyi', 'dates.pyi', 'http.pyi', 'six.pyi', 'baseconv.pyi', '__init__.pyi']\n",
      "['trans_null.pyi', 'template.pyi', 'reloader.pyi', 'trans_real.pyi', '__init__.pyi']\n",
      "['global_settings.pyi', '__init__.pyi']\n",
      "['__init__.pyi']\n",
      "['static.pyi', 'i18n.pyi', '__init__.pyi']\n",
      "['selenium.pyi', 'client.pyi', 'html.pyi', 'testcases.pyi', 'runner.pyi', 'signals.pyi', 'utils.pyi', '__init__.pyi']\n",
      "['base.pyi', 'converters.pyi', 'conf.pyi', 'exceptions.pyi', 'resolvers.pyi', 'utils.pyi', '__init__.pyi']\n",
      "['request.pyi', 'cookie.pyi', 'multipartparser.pyi', 'response.pyi', '__init__.pyi']\n",
      "['transaction.pyi', 'utils.pyi', '__init__.pyi']\n",
      "['base.pyi', 'query_utils.pyi', 'constraints.pyi', 'lookups.pyi', 'aggregates.pyi', 'query.pyi', 'options.pyi', 'expressions.pyi', 'indexes.pyi', 'deletion.pyi', 'manager.pyi', 'signals.pyi', 'utils.pyi', 'enums.pyi', '__init__.pyi']\n",
      "['math.pyi', 'text.pyi', 'mixins.pyi', 'comparison.pyi', 'datetime.pyi', 'window.pyi', '__init__.pyi']\n",
      "['related_lookups.pyi', 'reverse_related.pyi', 'files.pyi', 'related.pyi', 'mixins.pyi', 'related_descriptors.pyi', 'proxy.pyi', '__init__.pyi']\n",
      "['constants.pyi', 'subqueries.pyi', 'where.pyi', 'query.pyi', 'datastructures.pyi', 'compiler.pyi', '__init__.pyi']\n",
      "['optimizer.pyi', 'executor.pyi', 'autodetector.pyi', 'questioner.pyi', 'state.pyi', 'recorder.pyi', 'loader.pyi', 'serializer.pyi', 'exceptions.pyi', 'topological_sort.pyi', 'writer.pyi', 'migration.pyi', 'utils.pyi', 'graph.pyi', '__init__.pyi']\n",
      "['base.pyi', 'special.pyi', 'utils.pyi', 'models.pyi', 'fields.pyi', '__init__.pyi']\n",
      "['ddl_references.pyi', 'signals.pyi', 'utils.pyi', '__init__.pyi']\n",
      "['base.pyi', 'introspection.pyi', 'creation.pyi', 'schema.pyi', 'client.pyi', 'operations.pyi', 'features.pyi', 'validation.pyi', '__init__.pyi']\n",
      "['base.pyi', 'introspection.pyi', 'creation.pyi', 'schema.pyi', 'operations.pyi', 'features.pyi', '__init__.pyi']\n",
      "['base.pyi', '__init__.pyi']\n",
      "['client.pyi', '__init__.pyi']\n",
      "['base.pyi', 'creation.pyi', 'client.pyi', 'operations.pyi', '__init__.pyi']\n",
      "['base.pyi', 'loader_tags.pyi', 'defaulttags.pyi', 'defaultfilters.pyi', 'loader.pyi', 'exceptions.pyi', 'library.pyi', 'response.pyi', 'utils.pyi', 'context.pyi', 'engine.pyi', 'smartif.pyi', 'context_processors.pyi', '__init__.pyi']\n",
      "['base.pyi', 'dummy.pyi', 'jinja2.pyi', 'utils.pyi', 'django.pyi', '__init__.pyi']\n",
      "['base.pyi', 'cached.pyi', 'app_directories.pyi', 'filesystem.pyi', 'locmem.pyi', '__init__.pyi']\n",
      "['csrf.pyi', 'gzip.pyi', 'common.pyi', 'cache.pyi', 'security.pyi', 'clickjacking.pyi', 'locale.pyi', 'http.pyi', '__init__.pyi']\n",
      "['renderers.pyi', 'forms.pyi', 'widgets.pyi', 'formsets.pyi', 'utils.pyi', 'models.pyi', 'boundfield.pyi', 'fields.pyi', '__init__.pyi']\n",
      "['__init__.pyi']\n",
      "['views.pyi', 'middleware.pyi', 'urls.pyi', 'utils.pyi', '__init__.pyi']\n",
      "['middleware.pyi', 'exceptions.pyi', 'base_session.pyi', 'serializers.pyi', 'models.pyi', '__init__.pyi']\n",
      "['base.pyi', 'db.pyi', 'cache.pyi', 'cached_db.pyi', 'signed_cookies.pyi', 'file.pyi', '__init__.pyi']\n",
      "['__init__.pyi']\n",
      "['clearsessions.pyi', '__init__.pyi']\n",
      "['apps.pyi', 'forms.pyi', 'decorators.pyi', 'checks.pyi', 'widgets.pyi', 'options.pyi', 'filters.pyi', 'sites.pyi', 'tests.pyi', 'utils.pyi', 'helpers.pyi', 'models.pyi', 'actions.pyi', '__init__.pyi']\n",
      "['base.pyi', 'admin_modify.pyi', 'admin_static.pyi', 'log.pyi', 'admin_urls.pyi', 'admin_list.pyi', '__init__.pyi']\n",
      "['decorators.pyi', 'main.pyi', 'autocomplete.pyi', '__init__.pyi']\n",
      "['storage.pyi', 'apps.pyi', 'testing.pyi', 'checks.pyi', 'views.pyi', 'finders.pyi', 'handlers.pyi', 'urls.pyi', 'utils.pyi', '__init__.pyi']\n",
      "['staticfiles.pyi', '__init__.pyi']\n",
      "['__init__.pyi']\n",
      "['collectstatic.pyi', 'findstatic.pyi', 'runserver.pyi', '__init__.pyi']\n",
      "['constraints.pyi', 'lookups.pyi', 'search.pyi', 'operations.pyi', 'indexes.pyi', 'validators.pyi', 'signals.pyi', 'functions.pyi', '__init__.pyi']\n",
      "['hstore.pyi', 'jsonb.pyi', 'citext.pyi', 'array.pyi', 'mixins.pyi', 'ranges.pyi', '__init__.pyi']\n",
      "['general.pyi', 'mixins.pyi', 'statistics.pyi', '__init__.pyi']\n",
      "['constants.pyi', 'views.pyi', 'middleware.pyi', 'utils.pyi', 'api.pyi', 'context_processors.pyi', '__init__.pyi']\n",
      "['base.pyi', 'cookie.pyi', 'fallback.pyi', 'session.pyi', '__init__.pyi']\n",
      "['apps.pyi', 'hashers.pyi', 'forms.pyi', 'decorators.pyi', 'checks.pyi', 'views.pyi', 'tokens.pyi', 'admin.pyi', 'password_validation.pyi', 'middleware.pyi', 'mixins.pyi', 'validators.pyi', 'urls.pyi', 'signals.pyi', 'models.pyi', 'context_processors.pyi', 'base_user.pyi', 'backends.pyi', '__init__.pyi']\n",
      "['modwsgi.pyi', '__init__.pyi']\n",
      "['__init__.pyi']\n",
      "['changepassword.pyi', 'createsuperuser.pyi', '__init__.pyi']\n",
      "['views.pyi', '__init__.pyi']\n",
      "['__init__.pyi']\n",
      "['ping_google.pyi', '__init__.pyi']\n",
      "['apps.pyi', 'shortcuts.pyi', 'management.pyi', 'middleware.pyi', 'requests.pyi', 'managers.pyi', 'models.pyi', '__init__.pyi']\n",
      "['__init__.pyi']\n",
      "['humanize.pyi', '__init__.pyi']\n",
      "['views.pyi', '__init__.pyi']\n",
      "['middleware.pyi', 'models.pyi', '__init__.pyi']\n",
      "['apps.pyi', 'forms.pyi', 'checks.pyi', 'views.pyi', 'admin.pyi', 'models.pyi', 'fields.pyi', '__init__.pyi']\n",
      "['__init__.pyi']\n",
      "['remove_stale_contenttypes.pyi', '__init__.pyi']\n",
      "['__init__.pyi']\n",
      "['__init__.pyi']\n",
      "['fields.pyi', '__init__.pyi']\n",
      "['forms.pyi', 'views.pyi', 'sitemaps.pyi', 'middleware.pyi', 'urls.pyi', 'models.pyi', '__init__.pyi']\n",
      "['flatpages.pyi', '__init__.pyi']\n",
      "['LICENSE']\n",
      "['pymssql.pyi', 'pathlib2.pyi', 'enum.pyi', 'ipaddress.pyi']\n",
      "['scribe.pyi', 'ttypes.pyi', '__init__.pyi']\n",
      "['util.pyi', 'mapper.pyi', '__init__.pyi']\n",
      "['__init__.pyi']\n",
      "['thread.pyi', 'process.pyi', '_base.pyi', '__init__.pyi']\n",
      "['FacebookService.pyi', '__init__.pyi']\n",
      "['util.pyi', 'testing.pyi', 'httpserver.pyi', 'process.pyi', 'netutil.pyi', 'gen.pyi', 'httpclient.pyi', 'tcpserver.pyi', 'httputil.pyi', 'concurrent.pyi', 'locks.pyi', 'ioloop.pyi', 'web.pyi', '__init__.pyi']\n",
      "['client.pyi', 'exceptions.pyi', '__init__.pyi']\n",
      "['watchers.pyi', '__init__.pyi']\n",
      "['crypto.pyi', '__init__.pyi']\n",
      "['__init__.pyi']\n",
      "['configparser.pyi', 'queue.pyi', 'collections_abc.pyi', 'urllib_robotparser.pyi', 'html_entities.pyi', 'BaseHTTPServer.pyi', 'email_mime_text.pyi', 'html_parser.pyi', 'xmlrpc_client.pyi', 'SimpleHTTPServer.pyi', '_dummy_thread.pyi', 'urllib_response.pyi', 'http_client.pyi', 'socketserver.pyi', 'http_cookies.pyi', 'urllib_request.pyi', 'http_cookiejar.pyi', 'urllib_error.pyi', 'email_mime_base.pyi', 'cPickle.pyi', 'email_mime_multipart.pyi', 'CGIHTTPServer.pyi', 'reprlib.pyi', '_thread.pyi', 'urllib_parse.pyi', '__init__.pyi', 'email_mime_nonmultipart.pyi']\n",
      "['request.pyi', 'parse.pyi', 'error.pyi', 'robotparser.pyi', 'response.pyi', '__init__.pyi']\n",
      "['orjson.pyi', 'contextvars.pyi', 'frozendict.pyi', 'dataclasses.pyi']\n",
      "['api.pyi', '__init__.pyi']\n",
      "['examples.pyi', 'nodes.pyi', '__init__.pyi']\n",
      "['__init__.pyi']\n",
      "['roles.pyi', 'states.pyi', 'nodes.pyi', '__init__.pyi']\n",
      "['algorithms.pyi', '__init__.pyi']\n",
      "['__init__.pyi']\n",
      "['py_ecdsa.pyi', 'pycrypto.pyi', '__init__.pyi']\n",
      "['server.pyi', 'receiver.pyi', 'parser.pyi', 'rfc7230.pyi', 'compat.pyi', 'buffers.pyi', 'trigger.pyi', 'proxy_headers.pyi', 'runner.pyi', 'wasyncore.pyi', 'utilities.pyi', 'adjustments.pyi', 'channel.pyi', 'task.pyi', '__init__.pyi']\n",
      "['__init__.pyi']\n",
      "['py31compat.pyi', '__init__.pyi']\n",
      "['parser.pyi', 'generator.pyi', 'utils.pyi', '__init__.pyi']\n",
      "['conversions.pyi', 'ast3.pyi', 'ast27.pyi', '__init__.pyi']\n",
      "['__init__.pyi']\n",
      "['configparser.pyi', 'queue.pyi', 'tkinter_filedialog.pyi', 'collections_abc.pyi', 'urllib_robotparser.pyi', 'html_entities.pyi', 'BaseHTTPServer.pyi', 'email_mime_text.pyi', 'html_parser.pyi', 'tkinter_ttk.pyi', 'SimpleHTTPServer.pyi', 'tkinter_constants.pyi', '_dummy_thread.pyi', 'urllib_response.pyi', 'http_client.pyi', 'socketserver.pyi', 'http_cookies.pyi', 'urllib_request.pyi', 'http_cookiejar.pyi', 'builtins.pyi', 'urllib_error.pyi', 'email_mime_base.pyi', 'tkinter_commondialog.pyi', 'tkinter_tkfiledialog.pyi', 'cPickle.pyi', 'email_mime_multipart.pyi', 'CGIHTTPServer.pyi', 'reprlib.pyi', 'tkinter_dialog.pyi', '_thread.pyi', 'tkinter.pyi', 'urllib_parse.pyi', '__init__.pyi', 'email_mime_nonmultipart.pyi']\n",
      "['request.pyi', 'parse.pyi', 'error.pyi', 'robotparser.pyi', 'response.pyi', '__init__.pyi']\n",
      "['base.pyi', 'os.pyi', '__init__.pyi']\n",
      "['binary.pyi', 'text.pyi', '__init__.pyi']\n",
      "['termcolor.pyi', 'typing_extensions.pyi', 'mock.pyi', 'pyre_extensions.pyi', 'polib.pyi', 'decorator.pyi', 'certifi.pyi', 'singledispatch.pyi', 'dateparser.pyi', 'backports_abc.pyi', 'tabulate.pyi', 'gflags.pyi', 'ujson.pyi', 'croniter.pyi', 'itsdangerous.pyi', 'first.pyi', 'mypy_extensions.pyi', 'pycurl.pyi', 'toml.pyi']\n",
      "['status_codes.pyi', 'auth.pyi', 'hooks.pyi', 'compat.pyi', 'structures.pyi', 'cookies.pyi', 'exceptions.pyi', 'adapters.pyi', 'utils.pyi', 'api.pyi', 'sessions.pyi', 'models.pyi', '__init__.pyi']\n",
      "['__init__.pyi']\n",
      "['_collections.pyi', 'request.pyi', 'poolmanager.pyi', 'exceptions.pyi', 'filepost.pyi', 'response.pyi', 'connection.pyi', 'connectionpool.pyi', 'fields.pyi', '__init__.pyi']\n",
      "['__init__.pyi']\n",
      "['_implementation.pyi', '__init__.pyi']\n",
      "['request.pyi', 'timeout.pyi', 'ssl_.pyi', 'response.pyi', 'connection.pyi', 'url.pyi', 'retry.pyi', '__init__.pyi']\n",
      "['__init__.pyi']\n",
      "['__init__.pyi']\n",
      "['__init__.pyi']\n",
      "['option.pyi', 'view.pyi', 'event.pyi', 'fault.pyi', '__init__.pyi']\n",
      "['query.pyi', 'fault.pyi', '__init__.pyi']\n",
      "['classic.pyi', 'sphinx.pyi', '__init__.pyi']\n",
      "['__init__.pyi']\n",
      "['auth.pyi', 'compat.pyi', 'exception.pyi', 'regioninfo.pyi', 'utils.pyi', 'connection.pyi', 'auth_handler.pyi', 'plugin.pyi', '__init__.pyi']\n",
      "['__init__.pyi']\n",
      "['lifecycle.pyi', 'multipart.pyi', 'cors.pyi', 'key.pyi', 'acl.pyi', 'user.pyi', 'bucketlistresultset.pyi', 'multidelete.pyi', 'keyfile.pyi', 'deletemarker.pyi', 'bucket.pyi', 'website.pyi', 'connection.pyi', 'bucketlogging.pyi', 'tagging.pyi', 'prefix.pyi', '__init__.pyi']\n",
      "['layer1.pyi', 'exceptions.pyi', '__init__.pyi']\n",
      "['__init__.pyi']\n",
      "['__init__.pyi']\n",
      "['_version_info.pyi', 'converters.pyi', 'filters.pyi', 'exceptions.pyi', 'validators.pyi', '__init__.pyi']\n",
      "['__init__.pyi']\n",
      "['decorators.pyi', 'func.pyi', 'abc.pyi', 'ttl.pyi', 'lfu.pyi', 'rr.pyi', 'cache.pyi', 'lru.pyi', '__init__.pyi']\n",
      "['langbulgarianmodel.pyi', 'langturkishmodel.pyi', 'version.pyi', 'langthaimodel.pyi', 'langhebrewmodel.pyi', 'universaldetector.pyi', 'langcyrillicmodel.pyi', 'langgreekmodel.pyi', 'langhungarianmodel.pyi', 'enums.pyi', '__init__.pyi']\n",
      "['blockparser.pyi', 'pep562.pyi', 'util.pyi', 'preprocessors.pyi', '__meta__.pyi', 'serializers.pyi', 'treeprocessors.pyi', 'blockprocessors.pyi', 'inlinepatterns.pyi', 'postprocessors.pyi', 'core.pyi', '__init__.pyi']\n",
      "['smarty.pyi', 'def_list.pyi', 'footnotes.pyi', 'nl2br.pyi', 'legacy_attrs.pyi', 'codehilite.pyi', 'md_in_html.pyi', 'admonition.pyi', 'wikilinks.pyi', 'abbr.pyi', 'tables.pyi', 'extra.pyi', 'meta.pyi', 'fenced_code.pyi', 'sane_lists.pyi', 'attr_list.pyi', 'legacy_em.pyi', 'toc.pyi', '__init__.pyi']\n",
      "['fernet.pyi', 'exceptions.pyi', '__init__.pyi']\n",
      "['extensions.pyi', 'oid.pyi', '__init__.pyi']\n",
      "['__init__.pyi']\n",
      "['cmac.pyi', 'constant_time.pyi', 'keywrap.pyi', 'padding.pyi', 'hashes.pyi', 'poly1305.pyi', '__init__.pyi', 'hmac.pyi']\n",
      "['hkdf.pyi', 'concatkdf.pyi', 'kbkdf.pyi', 'scrypt.pyi', 'x963kdf.pyi', 'pbkdf2.pyi', '__init__.pyi']\n",
      "['pkcs12.pyi', '__init__.pyi']\n",
      "['modes.pyi', 'algorithms.pyi', 'aead.pyi', '__init__.pyi']\n",
      "['dh.pyi', 'dsa.pyi', 'x448.pyi', 'padding.pyi', 'rsa.pyi', 'ed448.pyi', 'x25519.pyi', 'ed25519.pyi', 'utils.pyi', 'ec.pyi', '__init__.pyi']\n",
      "['totp.pyi', 'hotp.pyi', '__init__.pyi']\n",
      "['interfaces.pyi', '__init__.pyi']\n",
      "['__init__.pyi']\n",
      "['binding.pyi', '__init__.pyi']\n",
      "['wsgi.pyi', 'formparser.pyi', 'script.pyi', 'serving.pyi', 'useragents.pyi', '_compat.pyi', 'routing.pyi', 'local.pyi', 'wrappers.pyi', 'testapp.pyi', 'posixemulation.pyi', 'exceptions.pyi', 'test.pyi', 'urls.pyi', 'security.pyi', '_reloader.pyi', 'datastructures.pyi', 'utils.pyi', '_internal.pyi', 'http.pyi', 'filesystem.pyi', '__init__.pyi']\n",
      "['console.pyi', 'tbtools.pyi', 'repr.pyi', '__init__.pyi']\n",
      "['proxy_fix.pyi', 'lint.pyi', 'shared_data.pyi', 'dispatcher.pyi', 'http_proxy.pyi', 'profiler.pyi', '__init__.pyi']\n",
      "['securecookie.pyi', 'fixers.pyi', 'jsrouting.pyi', 'wrappers.pyi', 'atom.pyi', 'lint.pyi', 'testtools.pyi', 'cache.pyi', 'sessions.pyi', 'limiter.pyi', 'iterio.pyi', 'profiler.pyi', '__init__.pyi']\n",
      "['linkifier.pyi', 'sanitizer.pyi', 'utils.pyi', 'callbacks.pyi', '__init__.pyi']\n",
      "['constants.pyi', 'attributes.pyi', 'exceptions.pyi', 'indexes.pyi', 'types.pyi', 'settings.pyi', 'models.pyi', 'throttle.pyi', '__init__.pyi']\n",
      "['base.pyi', 'table.pyi', 'util.pyi', '__init__.pyi']\n",
      "['representer.pyi', 'events.pyi', 'parser.pyi', 'constructor.pyi', 'resolver.pyi', 'tokens.pyi', 'error.pyi', 'loader.pyi', 'serializer.pyi', 'cyaml.pyi', 'reader.pyi', 'emitter.pyi', 'nodes.pyi', 'scanner.pyi', 'composer.pyi', 'dumper.pyi', '__init__.pyi']\n",
      "['ssl_match_hostname.pyi', '__init__.pyi']\n",
      "['relativedelta.pyi', '_common.pyi', 'parser.pyi', 'rrule.pyi', 'utils.pyi', 'easter.pyi', '__init__.pyi']\n",
      "['_common.pyi', 'tz.pyi', '__init__.pyi']\n",
      "['optimizer.pyi', 'debug.pyi', '_stringdefs.pyi', 'parser.pyi', 'constants.pyi', '_compat.pyi', 'ext.pyi', 'runtime.pyi', 'defaults.pyi', 'filters.pyi', 'tests.pyi', 'bccache.pyi', 'exceptions.pyi', 'environment.pyi', 'sandbox.pyi', 'meta.pyi', 'lexer.pyi', 'nodes.pyi', 'loaders.pyi', 'utils.pyi', 'compiler.pyi', 'visitor.pyi', '__init__.pyi']\n",
      "['unicode_codes.pyi', 'core.pyi', '__init__.pyi']\n",
      "['globals.pyi', 'testing.pyi', 'decorators.pyi', 'parser.pyi', 'exceptions.pyi', '_termui_impl.pyi', 'termui.pyi', 'formatting.pyi', 'types.pyi', 'utils.pyi', 'core.pyi', '__init__.pyi']\n",
      "['_constants.pyi', '_compat.pyi', '_native.pyi', '_speedups.pyi', '__init__.pyi']\n",
      "['server.pyi', 'ssh_exception.pyi', 'pipe.pyi', 'util.pyi', 'client.pyi', '_winapi.pyi', 'packet.pyi', '_version.pyi', 'primes.pyi', 'hostkeys.pyi', 'ed25519key.pyi', 'common.pyi', 'sftp.pyi', 'message.pyi', 'ber.pyi', 'kex_group1.pyi', 'ssh_gss.pyi', 'kex_gss.pyi', 'sftp_si.pyi', 'kex_gex.pyi', 'dsskey.pyi', 'sftp_file.pyi', 'agent.pyi', 'kex_group14.pyi', 'compress.pyi', 'transport.pyi', 'sftp_handle.pyi', 'ecdsakey.pyi', 'kex_group16.pyi', 'sftp_client.pyi', 'win_pageant.pyi', 'buffered_pipe.pyi', 'config.pyi', 'kex_curve25519.pyi', 'proxy.pyi', 'kex_ecdh_nist.pyi', 'file.pyi', 'sftp_attr.pyi', 'auth_handler.pyi', 'py3compat.pyi', 'rsakey.pyi', 'channel.pyi', 'pkey.pyi', 'sftp_server.pyi', '__init__.pyi']\n",
      "['errors.pyi', 'records.pyi', 'mixins.pyi', 'database.pyi', 'models.pyi', '__init__.pyi']\n",
      "['globals.pyi', 'testing.pyi', 'app.pyi', 'views.pyi', 'debughelpers.pyi', 'wrappers.pyi', 'blueprints.pyi', 'templating.pyi', 'cli.pyi', 'ctx.pyi', 'logging.pyi', 'signals.pyi', 'config.pyi', 'sessions.pyi', 'helpers.pyi', '__init__.pyi']\n",
      "['tag.pyi', '__init__.pyi']\n",
      "['special.pyi', 'slugify.pyi', '__init__.pyi']\n",
      "['api.pyi', '__init__.pyi']\n",
      "['client.pyi', 'exceptions.pyi', 'utils.pyi', 'connection.pyi', '__init__.pyi']\n",
      "['__init__.pyi']\n",
      "['__init__.pyi']\n",
      "['empty_pb2.pyi', 'type_pb2.pyi', 'json_format.pyi', 'source_context_pb2.pyi', 'reflection.pyi', 'struct_pb2.pyi', 'message.pyi', 'duration_pb2.pyi', 'field_mask_pb2.pyi', 'service.pyi', 'api_pb2.pyi', 'timestamp_pb2.pyi', 'any_pb2.pyi', 'symbol_database.pyi', 'descriptor_pool.pyi', 'message_factory.pyi', 'descriptor_pb2.pyi', 'descriptor.pyi', 'wrappers_pb2.pyi', '__init__.pyi']\n",
      "['enum_type_wrapper.pyi', 'well_known_types.pyi', 'wire_format.pyi', 'message_listener.pyi', 'encoder.pyi', 'decoder.pyi', 'extension_dict.pyi', 'containers.pyi', 'python_message.pyi', '__init__.pyi']\n",
      "['plugin_pb2.pyi', '__init__.pyi']\n",
      "['__init__.pyi']\n",
      "['encoder.pyi', 'decoder.pyi', 'scanner.pyi', '__init__.pyi']\n",
      "['errors.pyi', 'extension.pyi', 'compat.pyi', 'decoder.pyi', 'const.pyi', 'reader.pyi', '__init__.pyi']\n",
      "['nmap.pyi', '__init__.pyi']\n",
      "['times.pyi', 'cursors.pyi', 'util.pyi', 'converters.pyi', 'charset.pyi', 'err.pyi', 'connections.pyi', '__init__.pyi']\n",
      "['ER.pyi', 'FLAG.pyi', 'COMMAND.pyi', 'CLIENT.pyi', 'FIELD_TYPE.pyi', 'SERVER_STATUS.pyi', '__init__.pyi']\n",
      "['contextvars.pyi', '_py_abc.pyi', 'dataclasses.pyi']\n",
      "['_collections.pyi', '_ast.pyi', 'mimetools.pyi', 'tempfile.pyi', 'strop.pyi', 'random.pyi', '_sha256.pyi', 'io.pyi', 'sre_constants.pyi', 'toaiff.pyi', 'dircache.pyi', 'urllib2.pyi', 'stat.pyi', 'cookielib.pyi', 'glob.pyi', 'collections.pyi', 'shlex.pyi', 'smtplib.pyi', 'posixpath.pyi', 'BaseHTTPServer.pyi', 'commands.pyi', '_socket.pyi', 'future_builtins.pyi', 'whichdb.pyi', 'inspect.pyi', 'thread.pyi', 'resource.pyi', 'gzip.pyi', 'xmlrpclib.pyi', 'shelve.pyi', 'SimpleHTTPServer.pyi', '_functools.pyi', 'sha.pyi', '_sre.pyi', '_json.pyi', 'heapq.pyi', 'json.pyi', 'getopt.pyi', 'sre_parse.pyi', '_winreg.pyi', 'textwrap.pyi', 'getpass.pyi', 'unittest.pyi', 'compileall.pyi', 'StringIO.pyi', 'copy_reg.pyi', 'urllib.pyi', 'abc.pyi', '_symtable.pyi', 'dummy_thread.pyi', 'typing.pyi', 'sys.pyi', 'md5.pyi', 'user.pyi', 'urlparse.pyi', 'os2emxpath.pyi', 'exceptions.pyi', 'symbol.pyi', 'HTMLParser.pyi', 'ntpath.pyi', 'stringold.pyi', 'fcntl.pyi', 'repr.pyi', 'builtins.pyi', 'itertools.pyi', 'subprocess.pyi', '_md5.pyi', 'htmlentitydefs.pyi', 'fnmatch.pyi', '_sha.pyi', 'spwd.pyi', 'types.pyi', 'rfc822.pyi', '_io.pyi', 'popen2.pyi', 'nturl2path.pyi', '_hotshot.pyi', 'mutex.pyi', 'posix.pyi', 'importlib.pyi', 'pipes.pyi', 'UserDict.pyi', 'signal.pyi', 'robotparser.pyi', 'ConfigParser.pyi', 'hashlib.pyi', 'tokenize.pyi', 'markupbase.pyi', 'cPickle.pyi', 're.pyi', 'imp.pyi', 'UserList.pyi', 'Queue.pyi', '_struct.pyi', 'gc.pyi', 'string.pyi', 'SocketServer.pyi', 'UserString.pyi', 'CGIHTTPServer.pyi', 'Cookie.pyi', 'sets.pyi', 'platform.pyi', 'functools.pyi', '_threading_local.pyi', 'gettext.pyi', 'runpy.pyi', '__builtin__.pyi', 'atexit.pyi', 'ast.pyi', 'cStringIO.pyi', 'httplib.pyi', '_sha512.pyi']\n",
      "['path.pyi', '__init__.pyi']\n",
      "['debug.pyi', 'errors.pyi', 'archive_util.pyi', 'util.pyi', 'extension.pyi', 'bcppcompiler.pyi', 'filelist.pyi', 'version.pyi', 'cygwinccompiler.pyi', 'cmd.pyi', 'fancy_getopt.pyi', 'dist.pyi', 'ccompiler.pyi', 'text_file.pyi', 'sysconfig.pyi', 'unixccompiler.pyi', 'log.pyi', 'spawn.pyi', 'emxccompiler.pyi', 'msvccompiler.pyi', 'config.pyi', 'dir_util.pyi', 'dep_util.pyi', 'file_util.pyi', 'core.pyi', '__init__.pyi']\n",
      "['install_data.pyi', 'clean.pyi', 'check.pyi', 'bdist.pyi', 'bdist_msi.pyi', 'bdist_packager.pyi', 'bdist_rpm.pyi', 'upload.pyi', 'install_scripts.pyi', 'install_egg_info.pyi', 'sdist.pyi', 'build_clib.pyi', 'bdist_wininst.pyi', 'install.pyi', 'build_scripts.pyi', 'build.pyi', 'build_ext.pyi', 'register.pyi', 'config.pyi', 'build_py.pyi', 'install_lib.pyi', 'install_headers.pyi', 'bdist_dumb.pyi', '__init__.pyi']\n",
      "['MIMEText.pyi', 'parser.pyi', 'charset.pyi', 'header.pyi', 'quoprimime.pyi', 'message.pyi', 'generator.pyi', 'encoders.pyi', 'base64mime.pyi', 'utils.pyi', 'feedparser.pyi', '_parseaddr.pyi', 'iterators.pyi', '__init__.pyi']\n",
      "['base.pyi', 'multipart.pyi', 'message.pyi', 'nonmultipart.pyi', 'text.pyi', 'image.pyi', 'application.pyi', 'audio.pyi', '__init__.pyi']\n",
      "['utf_8.pyi', '__init__.pyi']\n",
      "['util.pyi', 'process.pyi', 'pool.pyi', '__init__.pyi']\n",
      "['connection.pyi', '__init__.pyi']\n",
      "['graphlib.pyi']\n",
      "['__init__.pyi']\n",
      "['_ast.pyi', 'configparser.pyi', 'tempfile.pyi', 'random.pyi', 'io.pyi', 'sre_constants.pyi', '_markupbase.pyi', '_imp.pyi', 'queue.pyi', '_posixsubprocess.pyi', '_tracemalloc.pyi', 'nntplib.pyi', 'tracemalloc.pyi', 'secrets.pyi', 'stat.pyi', '_compression.pyi', 'glob.pyi', '_winapi.pyi', '_compat_pickle.pyi', 'shlex.pyi', '_tkinter.pyi', 'smtplib.pyi', 'posixpath.pyi', '_operator.pyi', 'faulthandler.pyi', '_sitebuiltins.pyi', 'inspect.pyi', 'resource.pyi', 'gzip.pyi', 'pathlib.pyi', 'shelve.pyi', '_dummy_thread.pyi', '_json.pyi', 'heapq.pyi', 'getopt.pyi', 'sre_parse.pyi', '_bootlocale.pyi', 'textwrap.pyi', 'getpass.pyi', 'winreg.pyi', 'compileall.pyi', 'socketserver.pyi', 'abc.pyi', 'typing.pyi', 'sys.pyi', '_pydecimal.pyi', 'symbol.pyi', '_importlib_modulespec.pyi', 'copyreg.pyi', 'ntpath.pyi', 'macurl2path.pyi', 'fcntl.pyi', 'builtins.pyi', 'itertools.pyi', 'subprocess.pyi', 'fnmatch.pyi', 'spwd.pyi', 'enum.pyi', 'types.pyi', 'nturl2path.pyi', 'posix.pyi', 'pipes.pyi', 'signal.pyi', 'hashlib.pyi', 'tokenize.pyi', 'lzma.pyi', 're.pyi', 'imp.pyi', '_osx_support.pyi', 'gc.pyi', 'string.pyi', 'ipaddress.pyi', 'reprlib.pyi', 'statistics.pyi', '_stat.pyi', 'zipapp.pyi', '_decimal.pyi', 'platform.pyi', '_thread.pyi', 'functools.pyi', '_threading_local.pyi', 'gettext.pyi', 'runpy.pyi', 'selectors.pyi', 'atexit.pyi', 'ast.pyi', 'xxlimited.pyi']\n",
      "['parser.pyi', 'entities.pyi', '__init__.pyi']\n",
      "['path.pyi', '__init__.pyi']\n",
      "['gnu.pyi', '__init__.pyi', 'dumb.pyi', 'ndbm.pyi']\n",
      "['debug.pyi', 'errors.pyi', 'archive_util.pyi', 'util.pyi', 'extension.pyi', 'bcppcompiler.pyi', 'filelist.pyi', 'version.pyi', 'cygwinccompiler.pyi', 'cmd.pyi', 'fancy_getopt.pyi', 'dist.pyi', 'ccompiler.pyi', 'text_file.pyi', 'sysconfig.pyi', 'unixccompiler.pyi', 'log.pyi', 'spawn.pyi', 'msvccompiler.pyi', 'config.pyi', 'dir_util.pyi', 'dep_util.pyi', 'file_util.pyi', 'core.pyi', '__init__.pyi']\n",
      "['install_data.pyi', 'clean.pyi', 'check.pyi', 'bdist.pyi', 'bdist_msi.pyi', 'bdist_packager.pyi', 'bdist_rpm.pyi', 'upload.pyi', 'install_scripts.pyi', 'install_egg_info.pyi', 'sdist.pyi', 'build_clib.pyi', 'bdist_wininst.pyi', 'install.pyi', 'build_scripts.pyi', 'build.pyi', 'build_ext.pyi', 'register.pyi', 'config.pyi', 'build_py.pyi', 'install_lib.pyi', 'install_headers.pyi', 'bdist_dumb.pyi', '__init__.pyi']\n",
      "['constants.pyi', 'messagebox.pyi', 'commondialog.pyi', 'font.pyi', 'ttk.pyi', 'filedialog.pyi', 'dialog.pyi', '__init__.pyi']\n",
      "['__init__.pyi']\n",
      "['thread.pyi', 'process.pyi', '_base.pyi', '__init__.pyi']\n",
      "['request.pyi', 'parse.pyi', 'error.pyi', 'robotparser.pyi', 'response.pyi', '__init__.pyi']\n",
      "['__init__.pyi']\n",
      "['errors.pyi', 'policy.pyi', 'parser.pyi', 'charset.pyi', 'header.pyi', 'message.pyi', 'generator.pyi', 'headerregistry.pyi', 'encoders.pyi', 'utils.pyi', 'feedparser.pyi', 'contentmanager.pyi', 'iterators.pyi', '__init__.pyi']\n",
      "['base.pyi', 'multipart.pyi', 'message.pyi', 'nonmultipart.pyi', 'text.pyi', 'image.pyi', 'application.pyi', 'audio.pyi', '__init__.pyi']\n",
      "['selector_events.pyi', 'tasks.pyi', 'base_tasks.pyi', 'runners.pyi', 'proactor_events.pyi', 'streams.pyi', 'events.pyi', 'coroutines.pyi', 'windows_utils.pyi', 'constants.pyi', 'sslproto.pyi', 'base_subprocess.pyi', 'futures.pyi', 'compat.pyi', 'queues.pyi', 'protocols.pyi', 'exceptions.pyi', 'threads.pyi', 'trsock.pyi', 'base_futures.pyi', 'unix_events.pyi', 'subprocess.pyi', 'base_events.pyi', 'locks.pyi', 'log.pyi', 'transports.pyi', 'windows_events.pyi', 'staggered.pyi', 'format_helpers.pyi', '__init__.pyi']\n",
      "['abc.pyi', '__init__.pyi']\n",
      "['server.pyi', 'client.pyi', '__init__.pyi']\n",
      "['server.pyi', 'client.pyi', 'cookiejar.pyi', 'cookies.pyi', '__init__.pyi']\n",
      "['util.pyi', 'mock.pyi', 'main.pyi', 'suite.pyi', 'loader.pyi', 'result.pyi', 'async_case.pyi', 'runner.pyi', 'signals.pyi', 'case.pyi', '__init__.pyi']\n",
      "['utf_8.pyi', '__init__.pyi']\n",
      "['synchronize.pyi', 'sharedctypes.pyi', 'process.pyi', 'queues.pyi', 'pool.pyi', 'spawn.pyi', 'managers.pyi', 'context.pyi', 'connection.pyi', 'shared_memory.pyi', '__init__.pyi']\n",
      "['connection.pyi', '__init__.pyi']\n",
      "['metadata.pyi', 'util.pyi', 'abc.pyi', 'resources.pyi', 'machinery.pyi', '__init__.pyi']\n",
      "['encoder.pyi', 'decoder.pyi', 'tool.pyi', '__init__.pyi']\n",
      "['linecache.pyi', 'webbrowser.pyi', 'plistlib.pyi', 'colorsys.pyi', 'doctest.pyi', 'base64.pyi', 'binascii.pyi', 'csv.pyi', 'numbers.pyi', 'quopri.pyi', 'socket.pyi', 'rlcompleter.pyi', '_warnings.pyi', 'macpath.pyi', '_curses.pyi', 'uuid.pyi', 'sre_compile.pyi', 'termios.pyi', 'pickletools.pyi', 'fileinput.pyi', 'py_compile.pyi', 'xdrlib.pyi', 'telnetlib.pyi', 'chunk.pyi', 'symtable.pyi', 'msvcrt.pyi', 'parser.pyi', 'optparse.pyi', 'imaplib.pyi', 'math.pyi', 'codeop.pyi', 'winsound.pyi', 'codecs.pyi', 'tarfile.pyi', 'zipimport.pyi', 'cgitb.pyi', 'pkgutil.pyi', 'grp.pyi', 'smtpd.pyi', 'cmath.pyi', '_csv.pyi', 'cgi.pyi', 'mailbox.pyi', 'dummy_threading.pyi', 'turtle.pyi', 'ftplib.pyi', 'tabnanny.pyi', 'asynchat.pyi', 'copy.pyi', 'pty.pyi', 'sched.pyi', 'select.pyi', 'cmd.pyi', '__future__.pyi', 'threading.pyi', 'marshal.pyi', 'audioop.pyi', '_dummy_threading.pyi', 'dis.pyi', 'formatter.pyi', '_random.pyi', 'pprint.pyi', 'bdb.pyi', 'keyword.pyi', 'calendar.pyi', '_weakrefset.pyi', 'struct.pyi', 'array.pyi', 'argparse.pyi', 'errno.pyi', 'syslog.pyi', 'asyncore.pyi', 'weakref.pyi', 'trace.pyi', 'operator.pyi', 'netrc.pyi', 'zlib.pyi', 'pwd.pyi', 'pstats.pyi', 'sysconfig.pyi', 'token.pyi', '_codecs.pyi', 'decimal.pyi', 'this.pyi', 'site.pyi', 'pyclbr.pyi', 'cProfile.pyi', 'fractions.pyi', '_heapq.pyi', 'traceback.pyi', 'unicodedata.pyi', 'modulefinder.pyi', '_bisect.pyi', 'time.pyi', 'code.pyi', 'pydoc.pyi', 'crypt.pyi', '_msi.pyi', 'nis.pyi', 'mimetypes.pyi', 'sndhdr.pyi', 'binhex.pyi', 'pdb.pyi', 'pickle.pyi', 'genericpath.pyi', 'timeit.pyi', 'locale.pyi', 'datetime.pyi', 'readline.pyi', 'filecmp.pyi', 'imghdr.pyi', 'uu.pyi', 'profile.pyi', 'bz2.pyi', 'poplib.pyi', 'bisect.pyi', 'antigravity.pyi', 'mmap.pyi', 'contextlib.pyi', 'zipfile.pyi', 'shutil.pyi', 'wave.pyi', 'difflib.pyi', 'opcode.pyi', 'sunau.pyi', 'ssl.pyi', 'warnings.pyi', '_weakref.pyi', 'aifc.pyi', 'mailcap.pyi', 'tty.pyi', 'stringprep.pyi', 'hmac.pyi']\n",
      "['util.pyi', 'wintypes.pyi', '__init__.pyi']\n",
      "['dbapi2.pyi', '__init__.pyi']\n",
      "['pygram.pyi', 'pytree.pyi', '__init__.pyi']\n",
      "['parse.pyi', 'driver.pyi', 'grammar.pyi', 'pgen.pyi', 'token.pyi', 'tokenize.pyi', 'literals.pyi', '__init__.pyi']\n",
      "['errors.pyi', 'model.pyi', '__init__.pyi']\n",
      "['schema.pyi', 'sequence.pyi', 'text.pyi', '__init__.pyi']\n",
      "['handlers.pyi', 'config.pyi', '__init__.pyi']\n",
      "['textpad.pyi', 'panel.pyi', 'ascii.pyi', '__init__.pyi']\n",
      "['wsgi.pyi', 'xml.pyi', '__init__.pyi']\n",
      "['__init__.pyi']\n",
      "['minidom.pyi', 'pulldom.pyi', 'expatbuilder.pyi', 'minicompat.pyi', 'xmlbuilder.pyi', 'domreg.pyi', 'NodeFilter.pyi', '__init__.pyi']\n",
      "['ElementPath.pyi', 'ElementInclude.pyi', 'ElementTree.pyi', 'cElementTree.pyi', '__init__.pyi']\n",
      "['handler.pyi', 'saxutils.pyi', 'xmlreader.pyi', '__init__.pyi']\n",
      "['__init__.pyi']\n",
      "['errors.pyi', 'model.pyi', '__init__.pyi']\n",
      "['topics.pyi', '__init__.pyi']\n",
      "['__init__.pyi']\n",
      "['util.pyi', 'validate.pyi', 'headers.pyi', 'handlers.pyi', 'simple_server.pyi', 'types.pyi', '__init__.pyi']\n",
      "['_compatibility.cpython-312.pyc', 'utils.cpython-312.pyc', '__main__.cpython-312.pyc', 'file_io.cpython-312.pyc', '__init__.cpython-312.pyc', 'common.cpython-312.pyc', 'debug.cpython-312.pyc', 'parser_utils.cpython-312.pyc', 'settings.cpython-312.pyc', 'cache.cpython-312.pyc']\n",
      "['file_name.py', 'replstartup.py', 'completion_cache.py', '__init__.py', 'errors.py', 'environment.py', 'helpers.py', 'project.py', 'interpreter.py', 'exceptions.py', 'completion.py', 'classes.py', 'strings.py', 'keywords.py']\n",
      "['exceptions.cpython-312.pyc', 'strings.cpython-312.pyc', 'completion_cache.cpython-312.pyc', 'replstartup.cpython-312.pyc', 'helpers.cpython-312.pyc', 'interpreter.cpython-312.pyc', 'environment.cpython-312.pyc', 'completion.cpython-312.pyc', 'errors.cpython-312.pyc', 'project.cpython-312.pyc', 'keywords.cpython-312.pyc', '__init__.cpython-312.pyc', 'classes.cpython-312.pyc', 'file_name.cpython-312.pyc']\n",
      "['__init__.py', 'extract.py']\n",
      "['__init__.cpython-312.pyc', 'extract.cpython-312.pyc']\n",
      "['flask.py', 'django.py', 'stdlib.py', '__init__.py', 'registry.py', 'pytest.py']\n",
      "['stdlib.cpython-312.pyc', 'registry.cpython-312.pyc', 'pytest.cpython-312.pyc', 'flask.cpython-312.pyc', '__init__.cpython-312.pyc', 'django.cpython-312.pyc']\n",
      "['docstring_utils.py', 'arguments.py', 'flow_analysis.py', 'signature.py', '__init__.py', 'finder.py', 'utils.py', 'analysis.py', 'dynamic_params.py', 'star_args.py', 'helpers.py', 'names.py', 'recursion.py', 'context.py', 'param.py', 'filters.py', 'cache.py', 'docstrings.py', 'base_value.py', 'sys_path.py', 'references.py', 'lazy_value.py', 'imports.py', 'syntax_tree.py', 'parser_cache.py']\n",
      "['conversion.py', '__init__.py', 'utils.py', 'annotation.py', 'base.py', 'typing.py', 'stub_value.py', 'typeshed.py', 'type_var.py', 'generics.py']\n",
      "['utils.cpython-312.pyc', 'generics.cpython-312.pyc', 'typeshed.cpython-312.pyc', 'base.cpython-312.pyc', 'typing.cpython-312.pyc', 'type_var.cpython-312.pyc', '__init__.cpython-312.pyc', 'conversion.cpython-312.pyc', 'annotation.cpython-312.pyc', 'stub_value.cpython-312.pyc']\n",
      "['mixed.py', 'value.py', '__init__.py', 'access.py', 'getattr_static.py']\n",
      "['__init__.py', '__main__.py', 'functions.py']\n",
      "['__main__.cpython-312.pyc', 'functions.cpython-312.pyc', '__init__.cpython-312.pyc']\n",
      "['mixed.cpython-312.pyc', 'getattr_static.cpython-312.pyc', 'access.cpython-312.pyc', '__init__.cpython-312.pyc', 'value.cpython-312.pyc']\n",
      "['iterable.py', 'dynamic_arrays.py', '__init__.py', 'module.py', 'namespace.py', 'function.py', 'klass.py', 'decorator.py', 'instance.py']\n",
      "['module.cpython-312.pyc', 'klass.cpython-312.pyc', 'function.cpython-312.pyc', 'namespace.cpython-312.pyc', 'dynamic_arrays.cpython-312.pyc', '__init__.cpython-312.pyc', 'decorator.cpython-312.pyc', 'instance.cpython-312.pyc', 'iterable.cpython-312.pyc']\n",
      "['utils.cpython-312.pyc', 'signature.cpython-312.pyc', 'names.cpython-312.pyc', 'docstring_utils.cpython-312.pyc', 'lazy_value.cpython-312.pyc', 'analysis.cpython-312.pyc', 'sys_path.cpython-312.pyc', 'filters.cpython-312.pyc', 'helpers.cpython-312.pyc', 'docstrings.cpython-312.pyc', 'references.cpython-312.pyc', 'arguments.cpython-312.pyc', 'finder.cpython-312.pyc', 'base_value.cpython-312.pyc', 'imports.cpython-312.pyc', 'star_args.cpython-312.pyc', 'dynamic_params.cpython-312.pyc', 'syntax_tree.cpython-312.pyc', '__init__.cpython-312.pyc', 'parser_cache.cpython-312.pyc', 'flow_analysis.cpython-312.pyc', 'context.cpython-312.pyc', 'param.cpython-312.pyc', 'recursion.cpython-312.pyc', 'cache.cpython-312.pyc']\n",
      "['__init__.py', '__main__.py', 'ThirdPartyNotices.txt', 'public_api.py', '_version.py']\n",
      "['api.py', 'cli.py', '__init__.py', 'attach_pid_injected.py']\n",
      "['cli.cpython-312.pyc', 'attach_pid_injected.cpython-312.pyc', 'api.cpython-312.pyc', '__init__.cpython-312.pyc']\n",
      "['_version.cpython-312.pyc', 'public_api.cpython-312.pyc', '__main__.cpython-312.pyc', '__init__.cpython-312.pyc']\n",
      "['sockets.py', 'util.py', '__init__.py', 'singleton.py', 'messaging.py', 'json.py', 'timestamp.py', 'log.py', 'stacks.py']\n",
      "['timestamp.cpython-312.pyc', 'log.cpython-312.pyc', 'sockets.cpython-312.pyc', 'singleton.cpython-312.pyc', 'messaging.cpython-312.pyc', '__init__.cpython-312.pyc', 'util.cpython-312.pyc', 'stacks.cpython-312.pyc', 'json.cpython-312.pyc']\n",
      "['launchers.py', '__init__.py', 'sessions.py', '__main__.py', 'components.py', 'clients.py', 'servers.py']\n",
      "['__main__.cpython-312.pyc', 'launchers.cpython-312.pyc', 'servers.cpython-312.pyc', 'clients.cpython-312.pyc', 'components.cpython-312.pyc', '__init__.cpython-312.pyc', 'sessions.cpython-312.pyc']\n",
      "['__init__.py', '__main__.py', 'debuggee.py', 'output.py', 'winapi.py', 'handlers.py']\n",
      "['debuggee.cpython-312.pyc', '__main__.cpython-312.pyc', '__init__.cpython-312.pyc', 'handlers.cpython-312.pyc', 'winapi.cpython-312.pyc', 'output.cpython-312.pyc']\n",
      "['force_pydevd.py', '_pydevd_packaging.py', '__init__.py', '_util.py']\n",
      "['setup_pydevd_cython.py', 'pydev_app_engine_debug_startup.py', 'pydev_pysrc.py', 'pydev_run_in_console.py', 'pydevd_tracing.py', 'pydevd.py', 'pydev_coverage.py', 'pydevd_file_utils.py', 'pydevconsole.py']\n",
      "['jinja2_debug.py', '__init__.py', 'pydevd_line_validation.py', 'django_debug.py']\n",
      "['__init__.py', 'README.md']\n",
      "['pydevd_plugin_numpy_types.py', '__init__.py', 'pydevd_plugins_django_form_str.py', 'pydevd_plugin_pandas_types.py', 'pydevd_helpers.py']\n",
      "['pydevd_helpers.cpython-312.pyc', 'pydevd_plugin_pandas_types.cpython-312.pyc', '__init__.cpython-312.pyc', 'pydevd_plugins_django_form_str.cpython-312.pyc', 'pydevd_plugin_numpy_types.cpython-312.pyc']\n",
      "['__init__.cpython-312.pyc']\n",
      "['pydevd_line_validation.cpython-312.pyc', 'django_debug.cpython-312.pyc', 'jinja2_debug.cpython-312.pyc', '__init__.cpython-312.pyc']\n",
      "['attach_script.py', 'README.txt', 'attach_linux_amd64.so', '_test_attach_to_process.py', 'add_code_to_python_process.py', 'attach_pydevd.py', '_always_live_program.py', '_test_attach_to_process_linux.py', '_check.py']\n",
      "['attach.h', 'run_code_in_memory.hpp', 'py_win_helpers.hpp', 'attach.cpp', 'targetver.h', 'inject_dll.cpp', 'run_code_on_dllmain.cpp', 'compile_windows.bat', 'stdafx.h', 'stdafx.cpp']\n",
      "['compile_linux.sh', 'lldb_prepare.py', 'compile_manylinux.cmd', 'compile_mac.sh', 'attach.cpp', '.gitignore']\n",
      "['lldb_prepare.cpython-312.pyc']\n",
      "['attach_script.cpython-312.pyc', '_test_attach_to_process.cpython-312.pyc', 'attach_pydevd.cpython-312.pyc', 'add_code_to_python_process.cpython-312.pyc', '_check.cpython-312.pyc', '_always_live_program.cpython-312.pyc', '_test_attach_to_process_linux.cpython-312.pyc']\n",
      "['py_custom_pyeval_settrace_311.hpp', 'py_custom_pyeval_settrace_310.hpp', 'ref_utils.hpp', 'py_utils.hpp', 'py_custom_pyeval_settrace_common.hpp', 'py_settrace.hpp', 'py_custom_pyeval_settrace.hpp', 'python.h', 'py_version.hpp']\n",
      "['util.py', 'debug.py', 'textio.py', 'search.py', 'thread.py', '__init__.py', 'event.py', 'module.py', 'registry.py', 'system.py', 'crash.py', 'sql.py', 'disasm.py', 'interactive.py', 'breakpoint.py', 'window.py', 'compat.py', 'process.py']\n",
      "['system.cpython-312.pyc', 'search.cpython-312.pyc', 'sql.cpython-312.pyc', 'crash.cpython-312.pyc', 'disasm.cpython-312.pyc', 'registry.cpython-312.pyc', 'module.cpython-312.pyc', 'thread.cpython-312.pyc', 'event.cpython-312.pyc', 'interactive.cpython-312.pyc', '__init__.cpython-312.pyc', 'util.cpython-312.pyc', 'debug.cpython-312.pyc', 'breakpoint.cpython-312.pyc', 'window.cpython-312.pyc', 'process.cpython-312.pyc', 'textio.cpython-312.pyc', 'compat.cpython-312.pyc']\n",
      "['wtsapi32.py', 'psapi.py', '__init__.py', 'gdi32.py', 'advapi32.py', 'user32.py', 'context_amd64.py', 'shell32.py', 'kernel32.py', 'version.py', 'peb_teb.py', 'shlwapi.py', 'context_i386.py', 'dbghelp.py', 'ntdll.py', 'defines.py']\n",
      "['ntdll.cpython-312.pyc', 'user32.cpython-312.pyc', 'psapi.cpython-312.pyc', 'shlwapi.cpython-312.pyc', 'version.cpython-312.pyc', 'peb_teb.cpython-312.pyc', 'gdi32.cpython-312.pyc', 'advapi32.cpython-312.pyc', 'wtsapi32.cpython-312.pyc', 'kernel32.cpython-312.pyc', '__init__.cpython-312.pyc', 'defines.cpython-312.pyc', 'context_i386.cpython-312.pyc', 'dbghelp.cpython-312.pyc', 'context_amd64.cpython-312.pyc', 'shell32.cpython-312.pyc']\n",
      "['_pydevd_sys_monitoring_cython.pxd', '_pydevd_sys_monitoring.py', '_pydevd_sys_monitoring_cython.c', '_pydevd_sys_monitoring_cython.cpython-312-x86_64-linux-gnu.so', '_pydevd_sys_monitoring_cython.pyx', 'pydevd_sys_monitoring.py']\n",
      "['pydevd_sys_monitoring.cpython-312.pyc', '_pydevd_sys_monitoring.cpython-312.pyc']\n",
      "['pydevd_modify_bytecode.py', '__init__.py', 'pydevd_frame_tracing.py', 'pydevd_frame_evaluator.template.pyx', 'pydevd_frame_evaluator.pxd', '.gitignore', 'pydevd_frame_eval_cython_wrapper.py', 'release_mem.h', 'pydevd_frame_evaluator.c', 'pydevd_frame_eval_main.py']\n",
      "['pydevd_fix_code.py', 'README.txt', '__init__.py']\n",
      "['pydevd_fix_code.cpython-312.pyc', '__init__.cpython-312.pyc']\n",
      "['flags.py', 'concrete.py', '__init__.py', 'instr.py', 'peephole_opt.py', 'cfg.py', 'bytecode.py']\n",
      "['bytecode.cpython-312.pyc', 'flags.cpython-312.pyc', 'instr.cpython-312.pyc', 'concrete.cpython-312.pyc', 'cfg.cpython-312.pyc', 'peephole_opt.cpython-312.pyc', '__init__.cpython-312.pyc']\n",
      "['test_peephole_opt.py', 'test_misc.py', '__init__.py', 'test_flags.py', 'test_bytecode.py', 'test_concrete.py', 'test_instr.py', 'util_annotation.py', 'test_code.py', 'test_cfg.py']\n",
      "['test_misc.cpython-312.pyc', 'test_cfg.cpython-312.pyc', 'test_concrete.cpython-312.pyc', 'util_annotation.cpython-312.pyc', 'test_instr.cpython-312.pyc', 'test_bytecode.cpython-312.pyc', 'test_flags.cpython-312.pyc', '__init__.cpython-312.pyc', 'test_code.cpython-312.pyc', 'test_peephole_opt.cpython-312.pyc']\n",
      "['pydevd_frame_eval_cython_wrapper.cpython-312.pyc', 'pydevd_frame_tracing.cpython-312.pyc', 'pydevd_modify_bytecode.cpython-312.pyc', '__init__.cpython-312.pyc', 'pydevd_frame_eval_main.cpython-312.pyc']\n",
      "['pydevd_tracing.cpython-312.pyc', 'pydevd_file_utils.cpython-312.pyc', 'pydevconsole.cpython-312.pyc', 'pydev_pysrc.cpython-312.pyc', 'setup_pydevd_cython.cpython-312.pyc', 'pydev_coverage.cpython-312.pyc', 'pydev_app_engine_debug_startup.cpython-312.pyc', 'pydev_run_in_console.cpython-312.pyc', 'pydevd.cpython-312.pyc']\n",
      "['_pydev_execfile.py', '_pydev_sys_patch.py', 'pydev_log.py', '__init__.py', 'pydev_ipython_console.py', '_pydev_log.py', '_pydev_getopt.py', '_pydev_imports_tipper.py', 'pydev_import_hook.py', 'pydev_monkey_qt.py', 'pydev_imports.py', 'pydev_console_utils.py', '_pydev_filesystem_encoding.py', 'pydev_override.py', 'pydev_ipython_console_011.py', '_pydev_jy_imports_tipper.py', '_pydev_calltip_util.py', '_pydev_completer.py', 'pydev_umd.py', 'pydev_localhost.py', '_pydev_saved_modules.py', 'pydev_versioncheck.py', '_pydev_tipper_common.py', 'pydev_is_thread_alive.py', 'pydev_monkey.py']\n",
      "['_pydev_imports_tipper.cpython-312.pyc', '_pydev_tipper_common.cpython-312.pyc', 'pydev_import_hook.cpython-312.pyc', 'pydev_ipython_console_011.cpython-312.pyc', '_pydev_saved_modules.cpython-312.pyc', '_pydev_sys_patch.cpython-312.pyc', '_pydev_jy_imports_tipper.cpython-312.pyc', 'pydev_console_utils.cpython-312.pyc', '_pydev_getopt.cpython-312.pyc', 'pydev_localhost.cpython-312.pyc', 'pydev_is_thread_alive.cpython-312.pyc', '_pydev_filesystem_encoding.cpython-312.pyc', 'pydev_monkey.cpython-312.pyc', 'pydev_ipython_console.cpython-312.pyc', 'pydev_log.cpython-312.pyc', 'pydev_monkey_qt.cpython-312.pyc', '_pydev_execfile.cpython-312.pyc', '_pydev_log.cpython-312.pyc', '_pydev_completer.cpython-312.pyc', 'pydev_imports.cpython-312.pyc', '__init__.cpython-312.pyc', '_pydev_calltip_util.cpython-312.pyc', 'pydev_versioncheck.cpython-312.pyc', 'pydev_umd.cpython-312.pyc', 'pydev_override.cpython-312.pyc']\n",
      "['__init__.py']\n",
      "['__init__.cpython-312.pyc']\n",
      "['__not_in_default_pythonpath.txt', 'sitecustomize.py']\n",
      "['sitecustomize.cpython-312.pyc']\n",
      "['pydevd_collect_bytecode_info.py', 'pydevd_bytecode_utils.py', 'pydevd_vars.py', 'pydevd_exec2.py', 'pydevd_comm_constants.py', 'pydevd_referrers.py', 'pydevd_filtering.py', 'pydevd_signature.py', 'pydevd_reload.py', 'pydevd_utils.py', 'pydevd_plugin_utils.py', 'pydevd_frame_utils.py', 'pydevd_suspended_frames.py', '__init__.py', 'pydevd_additional_thread_info.py', 'pydevd_xml.py', 'pydevd_command_line_handling.py', 'pydevd_dont_trace_files.py', 'pydevd_import_class.py', 'pydevd_process_net_command_json.py', 'pydevd_process_net_command.py', 'pydevd_cython.cpython-312-x86_64-linux-gnu.so', 'pydevd_cython.pxd', 'pydevd_constants.py', 'pydevd_net_command.py', 'pydevd_trace_dispatch.py', 'pydevd_stackless.py', 'pydevd_source_mapping.py', 'pydevd_timeout.py', 'pydevd_custom_frames.py', 'pydevd_safe_repr.py', 'pydevd_resolver.py', 'pydevd_extension_utils.py', 'pydevd_cython.pyx', 'pydevd_vm_type.py', 'pydevd_io.py', 'pydevd_cython.c', 'pydevd_bytecode_utils_py311.py', 'pydevd_breakpoints.py', 'pydevd_runpy.py', 'pydevd_save_locals.py', 'pydevd_net_command_factory_xml.py', 'pydevd_daemon_thread.py', 'pydevd_additional_thread_info_regular.py', 'pydevd_console.py', 'pydevd_gevent_integration.py', 'pydevconsole_code.py', 'pydevd_defaults.py', 'pydevd_extension_api.py', 'pydevd_thread_lifecycle.py', 'pydevd_dont_trace.py', 'pydevd_cython_wrapper.py', 'pydevd_trace_dispatch_regular.py', 'pydevd_json_debug_options.py', 'pydevd_net_command_factory_json.py', 'pydevd_comm.py', 'pydevd_api.py', 'pydevd_code_to_source.py', 'pydevd_frame.py', 'pydevd_traceproperty.py']\n",
      "['pydevd_thread_wrappers.py', '__init__.py', 'pydevd_concurrency_logger.py']\n",
      "['pydevd_concurrency_logger.cpython-312.pyc', '__init__.cpython-312.pyc', 'pydevd_thread_wrappers.cpython-312.pyc']\n",
      "['pydevd_net_command_factory_json.cpython-312.pyc', 'pydevd_runpy.cpython-312.pyc', 'pydevd_code_to_source.cpython-312.pyc', 'pydevd_api.cpython-312.pyc', 'pydevd_additional_thread_info.cpython-312.pyc', 'pydevd_thread_lifecycle.cpython-312.pyc', 'pydevd_breakpoints.cpython-312.pyc', 'pydevd_trace_dispatch_regular.cpython-312.pyc', 'pydevd_bytecode_utils.cpython-312.pyc', 'pydevd_gevent_integration.cpython-312.pyc', 'pydevd_utils.cpython-312.pyc', 'pydevd_frame_utils.cpython-312.pyc', 'pydevd_defaults.cpython-312.pyc', 'pydevd_xml.cpython-312.pyc', 'pydevd_safe_repr.cpython-312.pyc', 'pydevd_custom_frames.cpython-312.pyc', 'pydevd_io.cpython-312.pyc', 'pydevd_dont_trace.cpython-312.pyc', 'pydevd_process_net_command_json.cpython-312.pyc', 'pydevd_cython_wrapper.cpython-312.pyc', 'pydevd_stackless.cpython-312.pyc', 'pydevd_timeout.cpython-312.pyc', 'pydevd_console.cpython-312.pyc', 'pydevd_extension_utils.cpython-312.pyc', 'pydevd_import_class.cpython-312.pyc', 'pydevd_extension_api.cpython-312.pyc', 'pydevd_frame.cpython-312.pyc', 'pydevd_signature.cpython-312.pyc', 'pydevd_filtering.cpython-312.pyc', 'pydevd_reload.cpython-312.pyc', 'pydevd_json_debug_options.cpython-312.pyc', 'pydevd_daemon_thread.cpython-312.pyc', 'pydevd_bytecode_utils_py311.cpython-312.pyc', 'pydevd_resolver.cpython-312.pyc', 'pydevd_trace_dispatch.cpython-312.pyc', 'pydevd_comm_constants.cpython-312.pyc', 'pydevd_net_command_factory_xml.cpython-312.pyc', 'pydevd_referrers.cpython-312.pyc', 'pydevd_net_command.cpython-312.pyc', '__init__.cpython-312.pyc', 'pydevd_comm.cpython-312.pyc', 'pydevd_exec2.cpython-312.pyc', 'pydevd_traceproperty.cpython-312.pyc', 'pydevd_process_net_command.cpython-312.pyc', 'pydevd_plugin_utils.cpython-312.pyc', 'pydevd_vm_type.cpython-312.pyc', 'pydevd_collect_bytecode_info.cpython-312.pyc', 'pydevconsole_code.cpython-312.pyc', 'pydevd_suspended_frames.cpython-312.pyc', 'pydevd_dont_trace_files.cpython-312.pyc', 'pydevd_vars.cpython-312.pyc', 'pydevd_command_line_handling.cpython-312.pyc', 'pydevd_constants.cpython-312.pyc', 'pydevd_save_locals.cpython-312.pyc', 'pydevd_additional_thread_info_regular.cpython-312.pyc', 'pydevd_source_mapping.cpython-312.pyc']\n",
      "['pydevd_base_schema.py', 'debugProtocol.json', '__init__.py', 'pydevd_schema_log.py', 'debugProtocolCustom.json', 'pydevd_schema.py', '__main__pydevd_gen_debug_adapter_protocol.py']\n",
      "['pydevd_schema.cpython-312.pyc', 'pydevd_schema_log.cpython-312.pyc', 'pydevd_base_schema.cpython-312.pyc', '__main__pydevd_gen_debug_adapter_protocol.cpython-312.pyc', '__init__.cpython-312.pyc']\n",
      "['pydev_runfiles_parallel_client.py', 'pydev_runfiles_parallel.py', '__init__.py', 'pydev_runfiles_unittest.py', 'pydev_runfiles_xml_rpc.py', 'pydev_runfiles_nose.py', 'pydev_runfiles_pytest2.py', 'pydev_runfiles.py', 'pydev_runfiles_coverage.py']\n",
      "['pydev_runfiles_coverage.cpython-312.pyc', 'pydev_runfiles_unittest.cpython-312.pyc', 'pydev_runfiles_pytest2.cpython-312.pyc', 'pydev_runfiles_xml_rpc.cpython-312.pyc', 'pydev_runfiles_parallel_client.cpython-312.pyc', '__init__.cpython-312.pyc', 'pydev_runfiles.cpython-312.pyc', 'pydev_runfiles_parallel.cpython-312.pyc', 'pydev_runfiles_nose.cpython-312.pyc']\n",
      "['inputhookglut.py', 'inputhookpyglet.py', 'inputhookqt5.py', '__init__.py', 'inputhookgtk.py', 'qt_loaders.py', 'qt.py', 'README', 'inputhookgtk3.py', 'inputhookqt6.py', 'version.py', 'qt_for_kernel.py', 'inputhook.py', 'matplotlibtools.py', 'inputhookqt4.py', 'inputhookwx.py', 'inputhooktk.py']\n",
      "['inputhookgtk3.cpython-312.pyc', 'inputhookqt4.cpython-312.pyc', 'inputhookqt5.cpython-312.pyc', 'inputhookwx.cpython-312.pyc', 'inputhooktk.cpython-312.pyc', 'qt_loaders.cpython-312.pyc', 'inputhookpyglet.cpython-312.pyc', 'version.cpython-312.pyc', 'inputhookgtk.cpython-312.pyc', '__init__.cpython-312.pyc', 'inputhookglut.cpython-312.pyc', 'inputhookqt6.cpython-312.pyc', 'qt_for_kernel.cpython-312.pyc', 'qt.cpython-312.pyc', 'matplotlibtools.cpython-312.pyc', 'inputhook.cpython-312.pyc']\n",
      "['force_pydevd.cpython-312.pyc', '_pydevd_packaging.cpython-312.pyc', '_util.cpython-312.pyc', '__init__.cpython-312.pyc']\n",
      "['LICENSE.BSD', 'RECORD', 'INSTALLER', 'WHEEL', 'LICENSE', 'METADATA', 'LICENSE.APACHE']\n",
      "['token.py', 'win32_types.py', 'validation.py', 'mouse_events.py', 'renderer.py', 'patch_stdout.py', 'search.py', '__init__.py', 'utils.py', 'enums.py', 'history.py', 'document.py', 'selection.py', 'py.typed', 'buffer.py', 'cursor_shapes.py', 'log.py', 'auto_suggest.py', 'data_structures.py', 'cache.py', 'keys.py']\n",
      "['__init__.py', 'digraphs.py', 'emacs_state.py', 'defaults.py', 'vi_state.py', 'key_bindings.py', 'key_processor.py']\n",
      "['key_processor.cpython-312.pyc', 'defaults.cpython-312.pyc', 'emacs_state.cpython-312.pyc', 'digraphs.cpython-312.pyc', 'vi_state.cpython-312.pyc', '__init__.cpython-312.pyc', 'key_bindings.cpython-312.pyc']\n",
      "['named_commands.py', 'search.py', '__init__.py', 'focus.py', 'basic.py', 'page_navigation.py', 'cpr.py', 'mouse.py', 'auto_suggest.py', 'completion.py', 'vi.py', 'scroll.py', 'open_in_editor.py', 'emacs.py']\n",
      "['search.cpython-312.pyc', 'auto_suggest.cpython-312.pyc', 'focus.cpython-312.pyc', 'emacs.cpython-312.pyc', 'vi.cpython-312.pyc', 'completion.cpython-312.pyc', 'named_commands.cpython-312.pyc', 'page_navigation.cpython-312.pyc', 'mouse.cpython-312.pyc', 'basic.cpython-312.pyc', 'scroll.cpython-312.pyc', '__init__.cpython-312.pyc', 'open_in_editor.cpython-312.pyc', 'cpr.cpython-312.pyc']\n",
      "['ansi_escape_sequences.py', 'posix_utils.py', '__init__.py', 'posix_pipe.py', 'vt100.py', 'base.py', 'win32.py', 'win32_pipe.py', 'defaults.py', 'typeahead.py', 'vt100_parser.py']\n",
      "['win32.cpython-312.pyc', 'defaults.cpython-312.pyc', 'ansi_escape_sequences.cpython-312.pyc', 'typeahead.cpython-312.pyc', 'posix_pipe.cpython-312.pyc', 'win32_pipe.cpython-312.pyc', 'base.cpython-312.pyc', '__init__.cpython-312.pyc', 'posix_utils.cpython-312.pyc', 'vt100_parser.cpython-312.pyc', 'vt100.cpython-312.pyc']\n",
      "['async_generator.py', '__init__.py', 'utils.py', 'win32.py', 'inputhook.py']\n",
      "['utils.cpython-312.pyc', 'win32.cpython-312.pyc', 'async_generator.cpython-312.pyc', '__init__.cpython-312.pyc', 'inputhook.cpython-312.pyc']\n",
      "['app.py', 'cli.py', '__init__.py', 'utils.py', 'base.py']\n",
      "['utils.cpython-312.pyc', 'cli.cpython-312.pyc', 'base.cpython-312.pyc', '__init__.cpython-312.pyc', 'app.cpython-312.pyc']\n",
      "['__init__.py', 'dialogs.py', 'base.py', 'menus.py', 'toolbars.py']\n",
      "['menus.cpython-312.pyc', 'dialogs.cpython-312.pyc', 'base.cpython-312.pyc', 'toolbars.cpython-312.pyc', '__init__.cpython-312.pyc']\n",
      "['__init__.py', 'base.py', 'in_memory.py', 'pyperclip.py']\n",
      "['pyperclip.cpython-312.pyc', 'base.cpython-312.pyc', '__init__.cpython-312.pyc', 'in_memory.cpython-312.pyc']\n",
      "['__init__.py', 'base.py', 'pygments.py']\n",
      "['base.cpython-312.pyc', 'pygments.cpython-312.pyc', '__init__.cpython-312.pyc']\n",
      "['mouse_events.cpython-312.pyc', 'search.cpython-312.pyc', 'utils.cpython-312.pyc', 'auto_suggest.cpython-312.pyc', 'data_structures.cpython-312.pyc', 'token.cpython-312.pyc', 'log.cpython-312.pyc', 'validation.cpython-312.pyc', 'renderer.cpython-312.pyc', 'patch_stdout.cpython-312.pyc', 'history.cpython-312.pyc', 'selection.cpython-312.pyc', 'cursor_shapes.cpython-312.pyc', 'keys.cpython-312.pyc', 'buffer.cpython-312.pyc', 'enums.cpython-312.pyc', '__init__.cpython-312.pyc', 'document.cpython-312.pyc', 'win32_types.cpython-312.pyc', 'cache.cpython-312.pyc']\n",
      "['dummy.py', 'controls.py', '__init__.py', 'utils.py', 'containers.py', 'scrollable_pane.py', 'mouse_handlers.py', 'margins.py', 'screen.py', 'dimension.py', 'processors.py', 'layout.py', 'menus.py']\n",
      "['containers.cpython-312.pyc', 'menus.cpython-312.pyc', 'utils.cpython-312.pyc', 'dimension.cpython-312.pyc', 'processors.cpython-312.pyc', 'scrollable_pane.cpython-312.pyc', 'layout.cpython-312.pyc', 'dummy.cpython-312.pyc', 'margins.cpython-312.pyc', 'controls.cpython-312.pyc', 'mouse_handlers.cpython-312.pyc', '__init__.cpython-312.pyc', 'screen.cpython-312.pyc']\n",
      "['__init__.py', 'utils.py', 'dialogs.py', 'prompt.py']\n",
      "['formatters.py', '__init__.py', 'base.py']\n",
      "['base.cpython-312.pyc', 'formatters.cpython-312.pyc', '__init__.cpython-312.pyc']\n",
      "['utils.cpython-312.pyc', 'dialogs.cpython-312.pyc', 'prompt.cpython-312.pyc', '__init__.cpython-312.pyc']\n",
      "['__init__.py', 'style_transformation.py', 'named_colors.py', 'base.py', 'style.py', 'pygments.py', 'defaults.py']\n",
      "['style.cpython-312.pyc', 'defaults.cpython-312.pyc', 'style_transformation.cpython-312.pyc', 'base.cpython-312.pyc', 'pygments.cpython-312.pyc', 'named_colors.cpython-312.pyc', '__init__.cpython-312.pyc']\n",
      "['filesystem.py', 'nested.py', '__init__.py', 'word_completer.py', 'fuzzy_completer.py', 'base.py', 'deduplicate.py']\n",
      "['base.cpython-312.pyc', 'nested.cpython-312.pyc', 'word_completer.cpython-312.pyc', 'fuzzy_completer.cpython-312.pyc', '__init__.cpython-312.pyc', 'filesystem.cpython-312.pyc', 'deduplicate.cpython-312.pyc']\n",
      "['windows10.py', '__init__.py', 'flush_stdout.py', 'color_depth.py', 'plain_text.py', 'vt100.py', 'base.py', 'win32.py', 'defaults.py', 'conemu.py']\n",
      "['conemu.cpython-312.pyc', 'win32.cpython-312.pyc', 'defaults.cpython-312.pyc', 'flush_stdout.cpython-312.pyc', 'base.cpython-312.pyc', 'windows10.cpython-312.pyc', '__init__.cpython-312.pyc', 'plain_text.cpython-312.pyc', 'vt100.cpython-312.pyc', 'color_depth.cpython-312.pyc']\n",
      "['html.py', '__init__.py', 'utils.py', 'base.py', 'ansi.py', 'pygments.py']\n",
      "['utils.cpython-312.pyc', 'ansi.cpython-312.pyc', 'base.cpython-312.pyc', 'pygments.cpython-312.pyc', 'html.cpython-312.pyc', '__init__.cpython-312.pyc']\n",
      "['dummy.py', '__init__.py', 'current.py', 'run_in_terminal.py', 'application.py']\n",
      "['current.cpython-312.pyc', 'run_in_terminal.cpython-312.pyc', 'dummy.cpython-312.pyc', 'application.cpython-312.pyc', '__init__.cpython-312.pyc']\n",
      "['__init__.py']\n",
      "['__init__.py', 'server.py']\n",
      "['server.cpython-312.pyc', '__init__.cpython-312.pyc']\n",
      "['__init__.cpython-312.pyc']\n",
      "['__init__.py', 'system.py']\n",
      "['system.cpython-312.pyc', '__init__.cpython-312.pyc']\n",
      "['validation.py', '__init__.py', 'regex_parser.py', 'compiler.py', 'lexer.py', 'completion.py']\n",
      "['compiler.cpython-312.pyc', 'validation.cpython-312.pyc', 'completion.cpython-312.pyc', 'lexer.cpython-312.pyc', 'regex_parser.cpython-312.pyc', '__init__.cpython-312.pyc']\n",
      "['protocol.py', '__init__.py', 'log.py', 'server.py']\n",
      "['log.cpython-312.pyc', 'protocol.cpython-312.pyc', 'server.cpython-312.pyc', '__init__.cpython-312.pyc']\n",
      "['RECORD', 'INSTALLER', 'top_level.txt', 'WHEEL', 'LICENSE', 'METADATA']\n",
      "['RECORD', 'INSTALLER', 'WHEEL', 'LICENSE', 'METADATA']\n",
      "['libsodium-1b1f72d5.so.26.1.0', 'libzmq-a430b4ce.so.5.2.5']\n",
      "['entry_points.txt', 'RECORD', 'INSTALLER', 'top_level.txt', 'WHEEL', 'LICENSE', 'METADATA']\n",
      "['_virtualenv.cpython-312.pyc', 'ipykernel_launcher.cpython-312.pyc', 'nest_asyncio.cpython-312.pyc', 'six.cpython-312.pyc', 'decorator.cpython-312.pyc', 'jupyter.cpython-312.pyc']\n",
      "['__init__.pxd', '__init__.py', '_future.py', 'asyncio.py', 'constants.py', 'py.typed', 'decorators.py', 'error.py', '_typing.py', '__init__.pyi']\n",
      "['__init__.py', 'poll.py', 'core.py', 'device.py']\n",
      "['ioloop.py', '__init__.py', 'zmqstream.py']\n",
      "['ioloop.cpython-312.pyc', 'zmqstream.cpython-312.pyc', '__init__.cpython-312.pyc']\n",
      "['device.cpython-312.pyc', 'core.cpython-312.pyc', 'poll.cpython-312.pyc', '__init__.cpython-312.pyc']\n",
      "['monitoredqueuedevice.py', '__init__.py', 'proxydevice.py', 'basedevice.py', 'proxysteerabledevice.py', 'monitoredqueue.py']\n",
      "['proxydevice.cpython-312.pyc', 'proxysteerabledevice.cpython-312.pyc', 'monitoredqueuedevice.cpython-312.pyc', '__init__.cpython-312.pyc', 'monitoredqueue.cpython-312.pyc', 'basedevice.cpython-312.pyc']\n",
      "['ioloop.py', '_deprecated.py', '__init__.py', 'future.py', 'zmqstream.py']\n",
      "['_deprecated.cpython-312.pyc', 'future.cpython-312.pyc', 'ioloop.cpython-312.pyc', 'zmqstream.cpython-312.pyc', '__init__.cpython-312.pyc']\n",
      "['__init__.py', 'tunnel.py', 'forward.py']\n",
      "['tunnel.cpython-312.pyc', 'forward.cpython-312.pyc', '__init__.cpython-312.pyc']\n",
      "['tracker.py', '__init__.py', 'poll.py', 'context.py', 'version.py', 'stopwatch.py', 'socket.py', 'frame.py', 'attrsettr.py', '__init__.pyi']\n",
      "['socket.cpython-312.pyc', 'frame.cpython-312.pyc', 'attrsettr.cpython-312.pyc', 'stopwatch.cpython-312.pyc', 'version.cpython-312.pyc', 'poll.cpython-312.pyc', '__init__.cpython-312.pyc', 'tracker.cpython-312.pyc', 'context.cpython-312.pyc']\n",
      "['getpid_compat.h', '__init__.py', 'strtypes.py', 'zmq_compat.h', 'z85.py', 'monitor.py', 'ipcmaxlen.h', 'jsonapi.py', 'win32.py', 'garbage.py', 'mutex.h', 'buffers.pxd', 'pyversion_compat.h', 'interop.py']\n",
      "['win32.cpython-312.pyc', 'jsonapi.cpython-312.pyc', 'garbage.cpython-312.pyc', '__init__.cpython-312.pyc', 'monitor.cpython-312.pyc', 'strtypes.cpython-312.pyc', 'z85.cpython-312.pyc', 'interop.cpython-312.pyc']\n",
      "['__init__.py', '__main__.py', 'handlers.py']\n",
      "['__main__.cpython-312.pyc', '__init__.cpython-312.pyc', 'handlers.cpython-312.pyc']\n",
      "['error.cpython-312.pyc', '_typing.cpython-312.pyc', 'asyncio.cpython-312.pyc', 'constants.cpython-312.pyc', '_future.cpython-312.pyc', '__init__.cpython-312.pyc', 'decorators.cpython-312.pyc']\n",
      "['ioloop.py', 'thread.py', '__init__.py', 'asyncio.py', 'base.py', 'certs.py']\n",
      "['ioloop.cpython-312.pyc', 'asyncio.cpython-312.pyc', 'certs.cpython-312.pyc', 'thread.cpython-312.pyc', 'base.cpython-312.pyc', '__init__.cpython-312.pyc']\n",
      "['__init__.py']\n",
      "['__init__.cpython-312.pyc']\n",
      "['__init__.py', 'select.py', '__init__.pyi']\n",
      "['__init__.pxd', '__init__.py', 'constant_enums.pxi', '_externs.pxd', '_zmq.cpython-312-x86_64-linux-gnu.so', 'libzmq.pxd', '_zmq.py', '_zmq.pxd']\n",
      "['_zmq.cpython-312.pyc', '__init__.cpython-312.pyc']\n",
      "['select.cpython-312.pyc', '__init__.cpython-312.pyc']\n",
      "['_cdefs.h', '__init__.py', 'utils.py', '_cffi_src.c', 'context.py', 'error.py', 'message.py', '_poll.py', 'devices.py', 'socket.py', 'README.md']\n",
      "['socket.cpython-312.pyc', 'utils.cpython-312.pyc', 'error.cpython-312.pyc', '_poll.cpython-312.pyc', 'message.cpython-312.pyc', '__init__.cpython-312.pyc', 'context.cpython-312.pyc', 'devices.cpython-312.pyc']\n",
      "['RECORD', 'INSTALLER', 'zip-safe', 'top_level.txt', 'WHEEL', 'LICENSE', 'METADATA']\n",
      "['RECORD', 'INSTALLER', 'LICENSE.txt', 'top_level.txt', 'WHEEL', 'pbr.json', 'METADATA']\n",
      "['RECORD', 'INSTALLER', 'LICENSE.txt', 'top_level.txt', 'WHEEL', 'METADATA']\n",
      "['_common.py', 'rrule.py', '__init__.py', 'utils.py', 'relativedelta.py', 'easter.py', 'tzwin.py', '_version.py']\n",
      "['isoparser.py', '__init__.py', '_parser.py']\n",
      "['_parser.cpython-312.pyc', 'isoparser.cpython-312.pyc', '__init__.cpython-312.pyc']\n",
      "['__init__.py', 'dateutil-zoneinfo.tar.gz', 'rebuild.py']\n",
      "['rebuild.cpython-312.pyc', '__init__.cpython-312.pyc']\n",
      "['_common.py', 'tz.py', '__init__.py', '_factories.py', 'win.py']\n",
      "['_common.cpython-312.pyc', 'tz.cpython-312.pyc', '__init__.cpython-312.pyc', 'win.cpython-312.pyc', '_factories.cpython-312.pyc']\n",
      "['_version.cpython-312.pyc', 'utils.cpython-312.pyc', 'rrule.cpython-312.pyc', '_common.cpython-312.pyc', 'easter.cpython-312.pyc', '__init__.cpython-312.pyc', 'relativedelta.cpython-312.pyc', 'tzwin.cpython-312.pyc']\n",
      "['entry_points.txt', 'RECORD', 'INSTALLER', 'WHEEL', 'METADATA']\n",
      "['LICENSE']\n",
      "['netutil.py', 'ioloop.py', 'template.py', 'httputil.py', 'util.py', 'wsgi.py', 'escape.py', 'concurrent.py', 'tcpclient.py', 'iostream.py', '__init__.py', 'queues.py', 'tcpserver.py', 'web.py', 'http1connection.py', 'simple_httpclient.py', 'py.typed', 'options.py', 'httpserver.py', 'locale.py', 'locks.py', 'websocket.py', 'httpclient.py', '_locale_data.py', 'auth.py', 'log.py', 'autoreload.py', 'routing.py', 'speedups.abi3.so', 'gen.py', 'curl_httpclient.py', 'speedups.pyi', 'testing.py', '__init__.pyi', 'process.py']\n",
      "['queues.cpython-312.pyc', 'httputil.cpython-312.pyc', 'wsgi.cpython-312.pyc', 'autoreload.cpython-312.pyc', 'ioloop.cpython-312.pyc', 'locale.cpython-312.pyc', 'httpclient.cpython-312.pyc', 'routing.cpython-312.pyc', '_locale_data.cpython-312.pyc', 'log.cpython-312.pyc', 'concurrent.cpython-312.pyc', 'options.cpython-312.pyc', 'simple_httpclient.cpython-312.pyc', 'locks.cpython-312.pyc', 'netutil.cpython-312.pyc', 'websocket.cpython-312.pyc', 'gen.cpython-312.pyc', 'tcpserver.cpython-312.pyc', 'testing.cpython-312.pyc', '__init__.cpython-312.pyc', 'template.cpython-312.pyc', 'auth.cpython-312.pyc', 'iostream.cpython-312.pyc', 'http1connection.cpython-312.pyc', 'util.cpython-312.pyc', 'httpserver.cpython-312.pyc', 'curl_httpclient.cpython-312.pyc', 'web.cpython-312.pyc', 'tcpclient.cpython-312.pyc', 'escape.cpython-312.pyc', 'process.cpython-312.pyc']\n",
      "['tcpserver_test.py', 'websocket_test.py', 'options_test.py', 'httpserver_test.py', 'util.py', 'netutil_test.py', 'iostream_test.py', 'options_test.cfg', '__init__.py', 'circlerefs_test.py', 'routing_test.py', 'template_test.py', 'auth_test.py', 'runtests.py', '__main__.py', 'gen_test.py', 'log_test.py', 'web_test.py', 'tcpclient_test.py', 'httpclient_test.py', 'http1connection_test.py', 'locks_test.py', 'asyncio_test.py', 'test.key', 'util_test.py', 'process_test.py', 'test.crt', 'curl_httpclient_test.py', 'import_test.py', 'escape_test.py', 'simple_httpclient_test.py', 'autoreload_test.py', 'twisted_test.py', 'concurrent_test.py', 'testing_test.py', 'locale_test.py', 'static_foo.txt', 'options_test_types.cfg', 'options_test_types_str.cfg', 'resolve_test_helper.py', 'queues_test.py', 'httputil_test.py', 'ioloop_test.py', 'wsgi_test.py']\n",
      "['fr_FR.csv']\n",
      "['tornado_test.mo', 'tornado_test.po']\n",
      "['sample.xml', 'sample.xml.bz2', 'robots.txt', 'sample.xml.gz']\n",
      "['index.html']\n",
      "['template_test.cpython-312.pyc', 'httpserver_test.cpython-312.pyc', '__main__.cpython-312.pyc', 'autoreload_test.cpython-312.pyc', 'curl_httpclient_test.cpython-312.pyc', 'websocket_test.cpython-312.pyc', 'simple_httpclient_test.cpython-312.pyc', 'testing_test.cpython-312.pyc', 'concurrent_test.cpython-312.pyc', 'asyncio_test.cpython-312.pyc', 'gen_test.cpython-312.pyc', 'iostream_test.cpython-312.pyc', 'ioloop_test.cpython-312.pyc', 'process_test.cpython-312.pyc', 'import_test.cpython-312.pyc', 'runtests.cpython-312.pyc', 'twisted_test.cpython-312.pyc', 'locks_test.cpython-312.pyc', 'routing_test.cpython-312.pyc', 'util_test.cpython-312.pyc', '__init__.cpython-312.pyc', 'circlerefs_test.cpython-312.pyc', 'httpclient_test.cpython-312.pyc', 'escape_test.cpython-312.pyc', 'wsgi_test.cpython-312.pyc', 'auth_test.cpython-312.pyc', 'http1connection_test.cpython-312.pyc', 'httputil_test.cpython-312.pyc', 'netutil_test.cpython-312.pyc', 'util.cpython-312.pyc', 'resolve_test_helper.cpython-312.pyc', 'tcpserver_test.cpython-312.pyc', 'options_test.cpython-312.pyc', 'tcpclient_test.cpython-312.pyc', 'web_test.cpython-312.pyc', 'queues_test.cpython-312.pyc', 'locale_test.cpython-312.pyc', 'log_test.cpython-312.pyc']\n",
      "['utf8.html']\n",
      "['twisted.py', '__init__.py', 'asyncio.py', 'caresresolver.py']\n",
      "['asyncio.cpython-312.pyc', 'caresresolver.cpython-312.pyc', 'twisted.cpython-312.pyc', '__init__.cpython-312.pyc']\n",
      "['connect.py', 'serialize.py', 'iostream.py', '__init__.py', 'zmqshell.py', '__main__.py', 'jsonutil.py', 'kernelapp.py', 'displayhook.py', 'parentpoller.py', 'py.typed', 'heartbeat.py', 'kernelbase.py', 'compiler.py', 'ipkernel.py', 'log.py', 'trio_runner.py', 'embed.py', 'kernelspec.py', 'eventloops.py', '_eventloop_macos.py', '_version.py', 'pickleutil.py', 'debugger.py', 'control.py', 'datapub.py']\n",
      "['logo-svg.svg', 'logo-64x64.png', 'logo-32x32.png']\n",
      "['__init__.py', 'blocking.py', 'constants.py', 'channels.py', 'ipkernel.py', 'client.py', 'socket.py', 'manager.py']\n",
      "['socket.cpython-312.pyc', 'client.cpython-312.pyc', 'blocking.cpython-312.pyc', 'constants.cpython-312.pyc', 'channels.cpython-312.pyc', 'ipkernel.cpython-312.pyc', '__init__.cpython-312.pyc', 'manager.cpython-312.pyc']\n",
      "['pickleutil.cpython-312.pyc', 'kernelspec.cpython-312.pyc', '_version.cpython-312.pyc', 'compiler.cpython-312.pyc', 'control.cpython-312.pyc', 'connect.cpython-312.pyc', '__main__.cpython-312.pyc', 'log.cpython-312.pyc', 'displayhook.cpython-312.pyc', 'zmqshell.cpython-312.pyc', 'eventloops.cpython-312.pyc', 'trio_runner.cpython-312.pyc', 'serialize.cpython-312.pyc', 'jsonutil.cpython-312.pyc', 'ipkernel.cpython-312.pyc', 'parentpoller.cpython-312.pyc', '_eventloop_macos.cpython-312.pyc', 'heartbeat.cpython-312.pyc', 'embed.cpython-312.pyc', 'kernelapp.cpython-312.pyc', '__init__.cpython-312.pyc', 'kernelbase.cpython-312.pyc', 'iostream.cpython-312.pyc', 'datapub.cpython-312.pyc', 'debugger.cpython-312.pyc']\n",
      "['__init__.py', 'config.py', 'backend_inline.py']\n",
      "['backend_inline.cpython-312.pyc', 'config.cpython-312.pyc', '__init__.cpython-312.pyc']\n",
      "['__init__.py', 'comm.py', 'manager.py']\n",
      "['__init__.cpython-312.pyc', 'comm.cpython-312.pyc', 'manager.cpython-312.pyc']\n",
      "['__init__.py', 'gtk3embed.py', 'gtkembed.py']\n",
      "['gtkembed.cpython-312.pyc', '__init__.cpython-312.pyc', 'gtk3embed.cpython-312.pyc']\n",
      "['base_comm.py', '__init__.py', 'py.typed']\n",
      "['__init__.cpython-312.pyc', 'base_comm.cpython-312.pyc']\n",
      "['RECORD', 'INSTALLER', 'WHEEL', 'METADATA']\n",
      "['LICENSE']\n",
      "['_common.py', '_psposix.py', '__init__.py', '_psbsd.py', '_psutil_linux.abi3.so', '_psaix.py', '_pssunos.py', '_pslinux.py', '_psutil_posix.abi3.so', '_psosx.py', '_compat.py', '_pswindows.py']\n",
      "['_pswindows.cpython-312.pyc', '_common.cpython-312.pyc', '_psaix.cpython-312.pyc', '_pslinux.cpython-312.pyc', '_psosx.cpython-312.pyc', '_pssunos.cpython-312.pyc', '_compat.cpython-312.pyc', '__init__.cpython-312.pyc', '_psposix.cpython-312.pyc', '_psbsd.cpython-312.pyc']\n",
      "['test_posix.py', 'test_misc.py', 'test_memleaks.py', 'test_osx.py', 'test_unicode.py', '__init__.py', 'test_windows.py', '__main__.py', 'test_sunos.py', 'test_testutils.py', 'test_process.py', 'test_linux.py', 'test_system.py', 'test_bsd.py', 'test_aix.py', 'test_contracts.py', 'test_connections.py', 'test_process_all.py']\n",
      "['test_misc.cpython-312.pyc', 'test_aix.cpython-312.pyc', 'test_windows.cpython-312.pyc', '__main__.cpython-312.pyc', 'test_osx.cpython-312.pyc', 'test_process_all.cpython-312.pyc', 'test_posix.cpython-312.pyc', 'test_testutils.cpython-312.pyc', 'test_process.cpython-312.pyc', 'test_contracts.cpython-312.pyc', 'test_linux.cpython-312.pyc', 'test_unicode.cpython-312.pyc', 'test_system.cpython-312.pyc', 'test_bsd.cpython-312.pyc', '__init__.cpython-312.pyc', 'test_connections.cpython-312.pyc', 'test_memleaks.cpython-312.pyc', 'test_sunos.cpython-312.pyc']\n",
      "['entry_points.txt', 'RECORD', 'INSTALLER', 'WHEEL', 'METADATA']\n",
      "['LICENSE']\n",
      "['RECORD', 'INSTALLER', 'AUTHORS.txt', 'LICENSE.txt', 'top_level.txt', 'WHEEL', 'METADATA']\n",
      "['RECORD', 'INSTALLER', 'WHEEL', 'METADATA']\n",
      "['LICENSE']\n",
      "['RECORD', 'INSTALLER', 'top_level.txt', 'WHEEL', 'LICENSE', 'METADATA']\n",
      "['RECORD', 'INSTALLER', 'zip-safe', 'top_level.txt', 'WHEEL', 'LICENSE', 'METADATA']\n",
      "['RECORD', 'INSTALLER', 'LICENSE.txt', 'top_level.txt', 'WHEEL', 'METADATA']\n",
      "['__init__.py', 'utils.py', 'normalizer.py', 'file_io.py', 'py.typed', 'cache.py', '_compatibility.py', 'grammar.py', 'tree.py', 'parser.py']\n",
      "['_compatibility.cpython-312.pyc', 'utils.cpython-312.pyc', 'parser.cpython-312.pyc', 'grammar.cpython-312.pyc', 'file_io.cpython-312.pyc', 'normalizer.cpython-312.pyc', 'tree.cpython-312.pyc', '__init__.cpython-312.pyc', 'cache.cpython-312.pyc']\n",
      "['token.py', 'grammar36.txt', 'grammar313.txt', 'grammar310.txt', '__init__.py', 'errors.py', 'diff.py', 'prefix.py', 'grammar311.txt', 'grammar38.txt', 'grammar39.txt', 'grammar312.txt', 'pep8.py', 'tokenize.py', 'grammar37.txt', 'tree.py', 'parser.py']\n",
      "['pep8.cpython-312.pyc', 'parser.cpython-312.pyc', 'diff.cpython-312.pyc', 'token.cpython-312.pyc', 'errors.cpython-312.pyc', 'tokenize.cpython-312.pyc', 'tree.cpython-312.pyc', '__init__.cpython-312.pyc', 'prefix.cpython-312.pyc']\n",
      "['grammar_parser.py', '__init__.py', 'generator.py']\n",
      "['grammar_parser.cpython-312.pyc', '__init__.cpython-312.pyc', 'generator.cpython-312.pyc']\n",
      "['api.py', '__init__.py', '__main__.py', 'py.typed', 'version.py', 'windows.py', 'android.py', 'macos.py', 'unix.py']\n",
      "['macos.cpython-312.pyc', '__main__.cpython-312.pyc', 'unix.cpython-312.pyc', 'version.cpython-312.pyc', 'api.cpython-312.pyc', '__init__.cpython-312.pyc', 'android.cpython-312.pyc', 'windows.cpython-312.pyc']\n",
      "['RECORD', 'INSTALLER', 'WHEEL', 'REQUESTED', 'METADATA']\n",
      "['LICENSE']\n",
      "['__init__.py', 'consoleapp.py', '__main__.py', 'conftest.py', 'py.typed', 'paths.py', 'display.py']\n",
      "['globalipapp.py', 'ipunittest.py', '__init__.py', 'tools.py', 'decorators.py', 'skipdoctest.py']\n",
      "['README.txt', '__init__.py', 'simple.py', 'pytest_ipdoctest.py', 'test_example.txt', 'test_ipdoctest.py', 'test_refs.py', 'test_exampleip.txt', 'ipdoctest.py', 'simplevars.py', 'setup.py', 'test_combo.txt', 'dtexample.py']\n",
      "['pytest_ipdoctest.cpython-312.pyc', 'ipdoctest.cpython-312.pyc', 'simplevars.cpython-312.pyc', 'dtexample.cpython-312.pyc', 'test_refs.cpython-312.pyc', 'setup.cpython-312.pyc', '__init__.cpython-312.pyc', 'test_ipdoctest.cpython-312.pyc', 'simple.cpython-312.pyc']\n",
      "['ipunittest.cpython-312.pyc', '__init__.cpython-312.pyc', 'tools.cpython-312.pyc', 'skipdoctest.cpython-312.pyc', 'decorators.cpython-312.pyc', 'globalipapp.cpython-312.pyc']\n",
      "['__init__.py', 'test_tools.py', 'test_decorators.py', 'test_ipunittest.py']\n",
      "['test_decorators.cpython-312.pyc', 'test_ipunittest.cpython-312.pyc', '__init__.cpython-312.pyc', 'test_tools.cpython-312.pyc']\n",
      "['__init__.py', 'ipython_console_highlighting.py', 'ipython_directive.py', 'custom_doctests.py']\n",
      "['ipython_directive.cpython-312.pyc', '__init__.cpython-312.pyc', 'ipython_console_highlighting.cpython-312.pyc', 'custom_doctests.cpython-312.pyc']\n",
      "['__init__.py', 'storemagic.py', 'autoreload.py']\n",
      "['autoreload.cpython-312.pyc', 'storemagic.cpython-312.pyc', '__init__.cpython-312.pyc']\n",
      "['__init__.py', 'test_autoreload.py', 'test_storemagic.py']\n",
      "['test_storemagic.cpython-312.pyc', '__init__.cpython-312.pyc', 'test_autoreload.cpython-312.pyc']\n",
      "['magic.py', 'interactiveshell.py', 'excolors.py', 'extensions.py', 'usage.py', 'profiledir.py', 'guarded_eval.py', 'prefilter.py', 'formatters.py', 'inputtransformer.py', 'autocall.py', 'displaypub.py', 'oinspect.py', '__init__.py', 'latex_symbols.py', 'shellapp.py', 'completerlib.py', 'builtin_trap.py', 'release.py', 'application.py', 'history.py', 'displayhook.py', 'error.py', 'events.py', 'inputtransformer2.py', 'compilerop.py', 'ultratb.py', 'hooks.py', 'completer.py', 'prompts.py', 'display_functions.py', 'payload.py', 'async_helpers.py', 'splitinput.py', 'getipython.py', 'inputsplitter.py', 'magic_arguments.py', 'payloadpage.py', 'macro.py', 'page.py', 'logger.py', 'historyapp.py', 'alias.py', 'crashhandler.py', 'profileapp.py', 'display.py', 'pylabtools.py', 'debugger.py', 'display_trap.py']\n",
      "['magic.cpython-312.pyc', 'prompts.cpython-312.pyc', 'error.cpython-312.pyc', 'pylabtools.cpython-312.pyc', 'getipython.cpython-312.pyc', 'prefilter.cpython-312.pyc', 'usage.cpython-312.pyc', 'inputsplitter.cpython-312.pyc', 'completerlib.cpython-312.pyc', 'compilerop.cpython-312.pyc', 'payload.cpython-312.pyc', 'builtin_trap.cpython-312.pyc', 'alias.cpython-312.pyc', 'displayhook.cpython-312.pyc', 'oinspect.cpython-312.pyc', 'history.cpython-312.pyc', 'page.cpython-312.pyc', 'display_trap.cpython-312.pyc', 'interactiveshell.cpython-312.pyc', 'display.cpython-312.pyc', 'historyapp.cpython-312.pyc', 'inputtransformer.cpython-312.pyc', 'guarded_eval.cpython-312.pyc', 'formatters.cpython-312.pyc', 'crashhandler.cpython-312.pyc', 'release.cpython-312.pyc', 'application.cpython-312.pyc', 'ultratb.cpython-312.pyc', 'splitinput.cpython-312.pyc', 'magic_arguments.cpython-312.pyc', 'display_functions.cpython-312.pyc', '__init__.cpython-312.pyc', 'latex_symbols.cpython-312.pyc', 'macro.cpython-312.pyc', 'shellapp.cpython-312.pyc', 'logger.cpython-312.pyc', 'hooks.cpython-312.pyc', 'completer.cpython-312.pyc', 'inputtransformer2.cpython-312.pyc', 'extensions.cpython-312.pyc', 'excolors.cpython-312.pyc', 'async_helpers.cpython-312.pyc', 'events.cpython-312.pyc', 'autocall.cpython-312.pyc', 'profileapp.cpython-312.pyc', 'payloadpage.cpython-312.pyc', 'displaypub.cpython-312.pyc', 'profiledir.cpython-312.pyc', 'debugger.cpython-312.pyc']\n",
      "['bad_all.py', 'test_extension.py', 'test_pylabtools.py', 'test_alias.py', 'test_prefilter.py', '2x2.jpg', 'test_hooks.py', 'test_autocall.py', 'test_exceptiongroup_tb.py', 'test_async_helpers.py', 'test_events.py', 'test_imports.py', '__init__.py', 'test_history.py', 'test_application.py', 'test_oinspect.py', 'test_iplib.py', 'test_debugger.py', 'test_page.py', 'test_displayhook.py', 'test_inputsplitter.py', 'test_magic.py', 'test_profile.py', 'test_splitinput.py', 'test_inputtransformer.py', 'test_logger.py', '2x2.png', 'test_handlers.py', 'test_inputtransformer2.py', 'test_inputtransformer2_line.py', 'test_completerlib.py', 'refbug.py', 'test_prompts.py', 'test_ultratb.py', 'test_paths.py', 'test_completer.py', 'tclass.py', 'test_display.py', 'nonascii2.py', 'test_guarded_eval.py', 'test_magic_arguments.py', 'simpleerr.py', 'test_formatters.py', 'nonascii.py', 'test_compilerop.py', 'test_run.py', 'test_shellapp.py', 'test_magic_terminal.py', 'test_interactiveshell.py', 'print_argv.py']\n",
      "['test_inputsplitter.cpython-312.pyc', 'test_completerlib.cpython-312.pyc', 'test_pylabtools.cpython-312.pyc', 'nonascii.cpython-312.pyc', 'test_magic_arguments.cpython-312.pyc', 'test_displayhook.cpython-312.pyc', 'test_imports.cpython-312.pyc', 'nonascii2.cpython-312.pyc', 'test_magic_terminal.cpython-312.pyc', 'test_debugger.cpython-312.pyc', 'test_exceptiongroup_tb.cpython-312.pyc', 'test_run.cpython-312.pyc', 'test_inputtransformer2_line.cpython-312.pyc', 'test_application.cpython-312.pyc', 'test_paths.cpython-312.pyc', 'test_alias.cpython-312.pyc', 'test_formatters.cpython-312.pyc', 'test_completer.cpython-312.pyc', 'test_ultratb.cpython-312.pyc', 'print_argv.cpython-312.pyc', 'refbug.cpython-312.pyc', 'test_compilerop.cpython-312.pyc', 'test_guarded_eval.cpython-312.pyc', 'test_display.cpython-312.pyc', 'test_prefilter.cpython-312.pyc', 'tclass.cpython-312.pyc', 'test_events.cpython-312.pyc', 'test_history.cpython-312.pyc', 'test_logger.cpython-312.pyc', 'test_interactiveshell.cpython-312.pyc', 'test_inputtransformer.cpython-312.pyc', 'test_async_helpers.cpython-312.pyc', 'test_autocall.cpython-312.pyc', '__init__.cpython-312.pyc', 'simpleerr.cpython-312.pyc', 'test_handlers.cpython-312.pyc', 'test_page.cpython-312.pyc', 'test_extension.cpython-312.pyc', 'bad_all.cpython-312.pyc', 'test_splitinput.cpython-312.pyc', 'test_inputtransformer2.cpython-312.pyc', 'test_shellapp.cpython-312.pyc', 'test_profile.cpython-312.pyc', 'test_prompts.cpython-312.pyc', 'test_iplib.cpython-312.pyc', 'test_oinspect.cpython-312.pyc', 'test_magic.cpython-312.pyc', 'test_hooks.cpython-312.pyc']\n",
      "['daft_extension.py']\n",
      "['daft_extension.cpython-312.pyc']\n",
      "['README_STARTUP']\n",
      "['packaging.py', 'logging.py', 'script.py', 'execution.py', '__init__.py', 'osm.py', 'config.py', 'history.py', 'basic.py', 'namespace.py', 'ast_mod.py', 'auto.py', 'extension.py', 'pylab.py', 'display.py', 'code.py']\n",
      "['pylab.cpython-312.pyc', 'packaging.cpython-312.pyc', 'ast_mod.cpython-312.pyc', 'auto.cpython-312.pyc', 'code.cpython-312.pyc', 'osm.cpython-312.pyc', 'history.cpython-312.pyc', 'display.cpython-312.pyc', 'config.cpython-312.pyc', 'logging.cpython-312.pyc', 'namespace.cpython-312.pyc', 'basic.cpython-312.pyc', '__init__.cpython-312.pyc', 'script.cpython-312.pyc', 'execution.cpython-312.pyc', 'extension.cpython-312.pyc']\n",
      "['py3compat.py', 'ipstruct.py', 'capture.py', 'data.py', 'timing.py', 'importstring.py', 'tz.py', 'terminal.py', 'colorable.py', 'shimmodule.py', '__init__.py', 'syspathcontext.py', 'path.py', 'PyColorize.py', 'ulinecache.py', 'coloransi.py', 'wildcard.py', 'module_paths.py', 'jsonutil.py', '_process_win32.py', 'encoding.py', 'tokenutil.py', 'dir2.py', 'sentinel.py', 'localinterfaces.py', 'tempdir.py', 'decorators.py', 'version.py', 'sysinfo.py', 'openpy.py', 'eventful.py', '_process_posix.py', '_process_emscripten.py', 'signatures.py', '_sysinfo.py', '_process_cli.py', 'text.py', 'log.py', 'frame.py', 'docs.py', 'strdispatch.py', 'io.py', 'traitlets.py', '_process_common.py', 'generics.py', 'contexts.py', '_process_win32_controller.py', 'daemonize.py', 'process.py']\n",
      "['openpy.cpython-312.pyc', 'ulinecache.cpython-312.pyc', 'frame.cpython-312.pyc', 'shimmodule.cpython-312.pyc', '_process_emscripten.cpython-312.pyc', 'ipstruct.cpython-312.pyc', 'generics.cpython-312.pyc', 'syspathcontext.cpython-312.pyc', 'log.cpython-312.pyc', 'text.cpython-312.pyc', 'timing.cpython-312.pyc', 'coloransi.cpython-312.pyc', 'strdispatch.cpython-312.pyc', '_process_cli.cpython-312.pyc', 'tz.cpython-312.pyc', 'signatures.cpython-312.pyc', 'sentinel.cpython-312.pyc', 'daemonize.cpython-312.pyc', 'terminal.cpython-312.pyc', 'jsonutil.cpython-312.pyc', 'sysinfo.cpython-312.pyc', '_process_common.cpython-312.pyc', 'encoding.cpython-312.pyc', 'version.cpython-312.pyc', 'io.cpython-312.pyc', 'tempdir.cpython-312.pyc', '_process_win32.cpython-312.pyc', 'module_paths.cpython-312.pyc', 'py3compat.cpython-312.pyc', 'eventful.cpython-312.pyc', 'wildcard.cpython-312.pyc', 'tokenutil.cpython-312.pyc', 'localinterfaces.cpython-312.pyc', '__init__.cpython-312.pyc', 'importstring.cpython-312.pyc', 'docs.cpython-312.pyc', 'data.cpython-312.pyc', 'capture.cpython-312.pyc', 'path.cpython-312.pyc', 'dir2.cpython-312.pyc', '_process_posix.cpython-312.pyc', '_process_win32_controller.cpython-312.pyc', 'colorable.cpython-312.pyc', 'PyColorize.cpython-312.pyc', 'contexts.cpython-312.pyc', 'decorators.cpython-312.pyc', '_sysinfo.cpython-312.pyc', 'process.cpython-312.pyc', 'traitlets.cpython-312.pyc']\n",
      "['test_module_paths.py', 'test_imports.py', '__init__.py', 'test_tempdir.py', 'test_wildcard.py', 'test_dir2.py', 'test_openpy.py', 'test_tokenutil.py', 'test_shimmodule.py', 'test_deprecated.py', 'test_process.py', 'test_io.py', 'test_text.py', 'test_capture.py', 'test_path.py', 'test_importstring.py', 'test_pycolorize.py', 'test_sysinfo.py', 'test_decorators.py']\n",
      "['test_importstring.cpython-312.pyc', 'test_path.cpython-312.pyc', 'test_decorators.cpython-312.pyc', 'test_tokenutil.cpython-312.pyc', 'test_imports.cpython-312.pyc', 'test_text.cpython-312.pyc', 'test_io.cpython-312.pyc', 'test_wildcard.cpython-312.pyc', 'test_process.cpython-312.pyc', 'test_tempdir.cpython-312.pyc', 'test_sysinfo.cpython-312.pyc', 'test_deprecated.cpython-312.pyc', 'test_shimmodule.cpython-312.pyc', '__init__.cpython-312.pyc', 'test_capture.cpython-312.pyc', 'test_dir2.cpython-312.pyc', 'test_pycolorize.cpython-312.pyc', 'test_module_paths.cpython-312.pyc', 'test_openpy.cpython-312.pyc']\n",
      "['__main__.cpython-312.pyc', 'conftest.cpython-312.pyc', 'display.cpython-312.pyc', 'consoleapp.cpython-312.pyc', '__init__.cpython-312.pyc', 'paths.cpython-312.pyc']\n",
      "['__init__.py', 'qt_loaders.py', 'qt_for_kernel.py']\n",
      "['qt_loaders.cpython-312.pyc', '__init__.cpython-312.pyc', 'qt_for_kernel.cpython-312.pyc']\n",
      "['__init__.py', 'test_qt_loaders.py']\n",
      "['test_qt_loaders.cpython-312.pyc', '__init__.cpython-312.pyc']\n",
      "['console.py', 'interactiveshell.py', '__init__.py', 'ptutils.py', 'prompts.py', 'magics.py', 'embed.py', 'ipapp.py', 'debugger.py']\n",
      "['gtk3.py', 'wx.py', '__init__.py', 'gtk4.py', 'qt.py', 'asyncio.py', 'glut.py', 'pyglet.py', 'tk.py', 'gtk.py', 'osx.py']\n",
      "['tk.cpython-312.pyc', 'glut.cpython-312.pyc', 'gtk4.cpython-312.pyc', 'gtk3.cpython-312.pyc', 'asyncio.cpython-312.pyc', 'osx.cpython-312.pyc', 'wx.cpython-312.pyc', '__init__.cpython-312.pyc', 'pyglet.cpython-312.pyc', 'gtk.cpython-312.pyc', 'qt.cpython-312.pyc']\n",
      "['console.cpython-312.pyc', 'prompts.cpython-312.pyc', 'ipapp.cpython-312.pyc', 'ptutils.cpython-312.pyc', 'interactiveshell.cpython-312.pyc', 'embed.cpython-312.pyc', '__init__.cpython-312.pyc', 'magics.cpython-312.pyc', 'debugger.cpython-312.pyc']\n",
      "['__init__.py', 'auto_match.py', 'auto_suggest.py', 'filters.py']\n",
      "['auto_suggest.cpython-312.pyc', 'filters.cpython-312.pyc', 'auto_match.cpython-312.pyc', '__init__.cpython-312.pyc']\n",
      "['test_shortcuts.py', '__init__.py', 'test_help.py', 'test_interactivshell.py', 'test_debug_magic.py', 'test_pt_inputhooks.py', 'test_embed.py']\n",
      "['test_embed.cpython-312.pyc', 'test_help.cpython-312.pyc', 'test_shortcuts.cpython-312.pyc', 'test_interactivshell.cpython-312.pyc', 'test_debug_magic.cpython-312.pyc', '__init__.cpython-312.pyc', 'test_pt_inputhooks.cpython-312.pyc']\n",
      "['pretty.py', 'demo.py', 'clipboard.py', '__init__.py', 'latextools.py', 'lexers.py', 'guisupport.py', 'deepreload.py', 'display.py', 'backgroundjobs.py', 'editorhooks.py']\n",
      "['guisupport.cpython-312.pyc', 'backgroundjobs.cpython-312.pyc', 'deepreload.cpython-312.pyc', 'demo.cpython-312.pyc', 'clipboard.cpython-312.pyc', 'latextools.cpython-312.pyc', 'display.cpython-312.pyc', '__init__.cpython-312.pyc', 'pretty.cpython-312.pyc', 'editorhooks.cpython-312.pyc', 'lexers.cpython-312.pyc']\n",
      "['test_latextools.py', 'test.wav', 'test_imports.py', 'test_clipboard.py', '__init__.py', 'test_deepreload.py', 'test_backgroundjobs.py', 'test_display.py', 'test_pygments.py', 'test_lexers.py', 'test_editorhooks.py', 'test_pretty.py']\n",
      "['test_imports.cpython-312.pyc', 'test_backgroundjobs.cpython-312.pyc', 'test_deepreload.cpython-312.pyc', 'test_clipboard.cpython-312.pyc', 'test_lexers.cpython-312.pyc', 'test_latextools.cpython-312.pyc', 'test_pretty.cpython-312.pyc', 'test_display.cpython-312.pyc', 'test_editorhooks.cpython-312.pyc', '__init__.cpython-312.pyc', 'test_pygments.cpython-312.pyc']\n",
      "['asttokens.py', 'util.py', '__init__.py', 'mark_tokens.py', 'py.typed', 'version.py', 'line_numbers.py', 'astroid_compat.py']\n",
      "['asttokens.cpython-312.pyc', 'astroid_compat.cpython-312.pyc', 'version.cpython-312.pyc', 'line_numbers.cpython-312.pyc', 'mark_tokens.cpython-312.pyc', '__init__.cpython-312.pyc', 'util.cpython-312.pyc']\n",
      "['__init__.py', 'config.py', 'backend_inline.py']\n",
      "['backend_inline.cpython-312.pyc', 'config.cpython-312.pyc', '__init__.cpython-312.pyc']\n",
      "['RECORD', 'INSTALLER', 'top_level.txt', 'WHEEL', 'LICENSE', 'METADATA']\n",
      "['ptyprocess.py', 'util.py', '__init__.py', '_fork_pty.py']\n",
      "['_fork_pty.cpython-312.pyc', 'ptyprocess.cpython-312.pyc', '__init__.cpython-312.pyc', 'util.cpython-312.pyc']\n",
      "['entry_points.txt', 'RECORD', 'INSTALLER', 'top_level.txt', 'WHEEL', 'LICENSE', 'METADATA']\n",
      "['entry_points.txt', 'RECORD', 'INSTALLER', 'AUTHORS.txt', 'LICENSE.txt', 'top_level.txt', 'WHEEL', 'METADATA']\n",
      "['RECORD', 'INSTALLER', 'top_level.txt', 'WHEEL', 'LICENSE', 'METADATA']\n",
      "['RECORD', 'INSTALLER', 'AUTHORS.txt', 'LICENSE.txt', 'top_level.txt', 'WHEEL', 'METADATA']\n",
      "['troubleshoot.py', '__init__.py', 'application.py', '__main__.py', 'migrate.py', 'py.typed', 'command.py', 'version.py', 'paths.py']\n",
      "['__init__.py']\n",
      "['__init__.cpython-312.pyc']\n",
      "['__main__.cpython-312.pyc', 'troubleshoot.cpython-312.pyc', 'migrate.cpython-312.pyc', 'version.cpython-312.pyc', 'application.cpython-312.pyc', '__init__.cpython-312.pyc', 'command.cpython-312.pyc', 'paths.cpython-312.pyc']\n",
      "['AUTHORS.rst', 'RECORD', 'INSTALLER', 'top_level.txt', 'WHEEL', 'LICENSE', 'METADATA']\n",
      "['__init__.py', 'utils.py', 'serializing.py', 'core.py', 'formatting.py', 'py.typed', 'version.py']\n",
      "['utils.cpython-312.pyc', 'core.cpython-312.pyc', 'version.cpython-312.pyc', 'serializing.cpython-312.pyc', 'formatting.cpython-312.pyc', '__init__.cpython-312.pyc']\n",
      "['logo-svg.svg', 'logo-64x64.png', 'logo-32x32.png', 'kernel.json']\n",
      "['ipython.1']\n",
      "['activate.fish', 'activate_this.py', 'ipython', 'jupyter-kernelspec', 'jupyter-kernel', 'activate', 'pip-3.12', 'jupyter-run', 'python3', 'jupyter-troubleshoot', 'activate.nu', 'pip', 'jupyter-migrate', 'debugpy', 'pygmentize', 'pip3', 'ipython3', 'jupyter', 'python3.12', 'python', 'activate.csh', 'activate.ps1', 'pip3.12']\n",
      "['a_generators.ipynb']\n",
      "['a_coroutines.ipynb']\n",
      "['a_iterables.ipynb', 'explanation.txt']\n",
      "['b_zip_map_filter.ipynb', 'a_range.ipynb', 'f_Itertools_module.ipynb', 'c_user_defined_iterators.ipynb']\n",
      "['c_breakpoint_function.py', 'd_using_ipdb.py', '0_explanation.txt', 'b_breakpoint_function.py', 'a_using_pdb.py']\n",
      "['01_exceptions_hierarchy.txt', 'myfile.txt', '02_exceptions_handling.ipynb', '00_explanation.txt', '03_exception_hooks.py']\n"
     ]
    }
   ],
   "source": [
    "for each_dir, list_of_folders, list_of_files in os.walk('../../../PythonBatchNovDec2024'):\n",
    "    if list_of_files:\n",
    "        print(list_of_files)"
   ]
  },
  {
   "cell_type": "code",
   "execution_count": 85,
   "metadata": {},
   "outputs": [
    {
     "name": "stdout",
     "output_type": "stream",
     "text": [
      "In this course, there are 1928 python files & 41 jupyter notebook files\n"
     ]
    }
   ],
   "source": [
    "py_files = []\n",
    "juypter_notebook_files = []\n",
    "\n",
    "for each_dir, list_of_folders, list_of_files in os.walk('../../../PythonBatchNovDec2024'):\n",
    "    if list_of_files:\n",
    "        for each_file in list_of_files:\n",
    "            file_name, file_extn = os.path.splitext(each_file)\n",
    "            if file_extn == '.py':\n",
    "                py_files.append(each_file)\n",
    "            elif file_extn == '.ipynb':\n",
    "                juypter_notebook_files.append(each_file)\n",
    "\n",
    "\n",
    "print(\n",
    "    f\"In this course, there are {len(py_files)} python files & {len(juypter_notebook_files)} jupyter notebook files\"\n",
    ")"
   ]
  },
  {
   "cell_type": "code",
   "execution_count": 86,
   "metadata": {},
   "outputs": [],
   "source": [
    "# assignment - like a anti-virus scan, scan all the executables in your operating system. Based on OS, executable need to be taken"
   ]
  },
  {
   "cell_type": "markdown",
   "metadata": {},
   "source": [
    "## Working with paths\n"
   ]
  },
  {
   "cell_type": "code",
   "execution_count": 87,
   "metadata": {},
   "outputs": [
    {
     "data": {
      "text/plain": [
       "'temp.txt'"
      ]
     },
     "execution_count": 87,
     "metadata": {},
     "output_type": "execute_result"
    }
   ],
   "source": [
    "os.path.basename(\"/home/user/temp.txt\")  # doesnt check for presence of file"
   ]
  },
  {
   "cell_type": "code",
   "execution_count": 88,
   "metadata": {},
   "outputs": [
    {
     "data": {
      "text/plain": [
       "'/home/user'"
      ]
     },
     "execution_count": 88,
     "metadata": {},
     "output_type": "execute_result"
    }
   ],
   "source": [
    "os.path.dirname(\"/home/user/temp.txt\")\n"
   ]
  },
  {
   "cell_type": "code",
   "execution_count": 89,
   "metadata": {},
   "outputs": [
    {
     "data": {
      "text/plain": [
       "'/workspaces/PythonBatchNovDec2024/10_modules/04a_os_module/temp.txt'"
      ]
     },
     "execution_count": 89,
     "metadata": {},
     "output_type": "execute_result"
    }
   ],
   "source": [
    "os.path.abspath(\"temp.txt\")\n"
   ]
  },
  {
   "cell_type": "code",
   "execution_count": 90,
   "metadata": {},
   "outputs": [
    {
     "data": {
      "text/plain": [
       "'/workspaces/PythonBatchNovDec2024/10_modules/04a_os_module'"
      ]
     },
     "execution_count": 90,
     "metadata": {},
     "output_type": "execute_result"
    }
   ],
   "source": [
    "os.getcwd()"
   ]
  },
  {
   "cell_type": "code",
   "execution_count": 91,
   "metadata": {},
   "outputs": [
    {
     "data": {
      "text/plain": [
       "'/workspaces/PythonBatchNovDec2024/10_modules/04a_os_module/temp.txt'"
      ]
     },
     "execution_count": 91,
     "metadata": {},
     "output_type": "execute_result"
    }
   ],
   "source": [
    "assert os.path.abspath(\"temp.txt\") == os.getcwd() + os.sep + \"temp.txt\"\n",
    "\n",
    "os.getcwd() + os.sep + \"temp.txt\""
   ]
  },
  {
   "cell_type": "code",
   "execution_count": 92,
   "metadata": {},
   "outputs": [
    {
     "data": {
      "text/plain": [
       "'/home/user/temp.txt'"
      ]
     },
     "execution_count": 92,
     "metadata": {},
     "output_type": "execute_result"
    }
   ],
   "source": [
    "os.path.realpath(\"/home/user/temp.txt\")  # no validation for presence of file\n"
   ]
  },
  {
   "cell_type": "code",
   "execution_count": 93,
   "metadata": {},
   "outputs": [
    {
     "data": {
      "text/plain": [
       "('/home/user/temp', '.log')"
      ]
     },
     "execution_count": 93,
     "metadata": {},
     "output_type": "execute_result"
    }
   ],
   "source": [
    "os.path.splitext(\"/home/user/temp.log\")"
   ]
  },
  {
   "cell_type": "code",
   "execution_count": 94,
   "metadata": {},
   "outputs": [
    {
     "data": {
      "text/plain": [
       "('temp', '.log')"
      ]
     },
     "execution_count": 94,
     "metadata": {},
     "output_type": "execute_result"
    }
   ],
   "source": [
    "os.path.splitext(\"temp.log\")"
   ]
  },
  {
   "cell_type": "code",
   "execution_count": 95,
   "metadata": {},
   "outputs": [
    {
     "data": {
      "text/plain": [
       "('', '/home/user/temp.txt')"
      ]
     },
     "execution_count": 95,
     "metadata": {},
     "output_type": "execute_result"
    }
   ],
   "source": [
    "os.path.splitdrive(\"/home/user/temp.txt\")"
   ]
  },
  {
   "cell_type": "code",
   "execution_count": 96,
   "metadata": {},
   "outputs": [
    {
     "data": {
      "text/plain": [
       "('', 'C:/home/user/temp.txt')"
      ]
     },
     "execution_count": 96,
     "metadata": {},
     "output_type": "execute_result"
    }
   ],
   "source": [
    "os.path.splitdrive(\"C:/home/user/temp.txt\")\n"
   ]
  },
  {
   "cell_type": "code",
   "execution_count": 97,
   "metadata": {},
   "outputs": [
    {
     "data": {
      "text/plain": [
       "'.'"
      ]
     },
     "execution_count": 97,
     "metadata": {},
     "output_type": "execute_result"
    }
   ],
   "source": [
    "os.path.extsep\n"
   ]
  },
  {
   "cell_type": "code",
   "execution_count": 98,
   "metadata": {},
   "outputs": [
    {
     "name": "stdout",
     "output_type": "stream",
     "text": [
      "/ /\n"
     ]
    }
   ],
   "source": [
    "import sys\n",
    "\n",
    "if sys.platform == \"win32\":\n",
    "    path_joiner = \"\\\\\"\n",
    "else:\n",
    "    path_joiner = \"/\"\n",
    "\n",
    "print(path_joiner, os.sep)\n",
    "assert path_joiner == os.sep\n"
   ]
  },
  {
   "cell_type": "code",
   "execution_count": 99,
   "metadata": {},
   "outputs": [
    {
     "data": {
      "text/plain": [
       "'css/america'"
      ]
     },
     "execution_count": 99,
     "metadata": {},
     "output_type": "execute_result"
    }
   ],
   "source": [
    "os.path.join(\"css\", \"america\")"
   ]
  },
  {
   "cell_type": "code",
   "execution_count": 100,
   "metadata": {},
   "outputs": [
    {
     "data": {
      "text/plain": [
       "'css/america/asdas/sad/dfgd'"
      ]
     },
     "execution_count": 100,
     "metadata": {},
     "output_type": "execute_result"
    }
   ],
   "source": [
    "os.path.join(\"css\", \"america\", \"asdas\", \"sad\", \"dfgd\")"
   ]
  },
  {
   "cell_type": "code",
   "execution_count": 101,
   "metadata": {},
   "outputs": [
    {
     "data": {
      "text/plain": [
       "'css\\\\america\\\\asdas\\\\sad\\\\dfgd'"
      ]
     },
     "execution_count": 101,
     "metadata": {},
     "output_type": "execute_result"
    }
   ],
   "source": [
    "\"\\\\\".join((\"css\", \"america\", \"asdas\", \"sad\", \"dfgd\"))"
   ]
  },
  {
   "cell_type": "code",
   "execution_count": 102,
   "metadata": {},
   "outputs": [
    {
     "data": {
      "text/plain": [
       "'css/america/asdas/sad/dfgd'"
      ]
     },
     "execution_count": 102,
     "metadata": {},
     "output_type": "execute_result"
    }
   ],
   "source": [
    "(os.sep).join((\"css\", \"america\", \"asdas\", \"sad\", \"dfgd\"))\n"
   ]
  },
  {
   "cell_type": "code",
   "execution_count": 103,
   "metadata": {},
   "outputs": [],
   "source": [
    "assert os.path.join(\"css\", \"america\", \"asdas\", \"sad\", \"dfgd\") == (os.sep).join(\n",
    "    (\"css\", \"america\", \"asdas\", \"sad\", \"dfgd\")\n",
    ")"
   ]
  },
  {
   "cell_type": "code",
   "execution_count": 104,
   "metadata": {},
   "outputs": [
    {
     "data": {
      "text/plain": [
       "'css/america/asdas/sad/dfgd'"
      ]
     },
     "execution_count": 104,
     "metadata": {},
     "output_type": "execute_result"
    }
   ],
   "source": [
    "new_path = os.path.join(\"css\", \"america\", \"asdas\", \"sad\", \"dfgd\")\n",
    "new_path"
   ]
  },
  {
   "cell_type": "code",
   "execution_count": 105,
   "metadata": {},
   "outputs": [
    {
     "data": {
      "text/plain": [
       "True"
      ]
     },
     "execution_count": 105,
     "metadata": {},
     "output_type": "execute_result"
    }
   ],
   "source": [
    "os.path.exists(new_path)"
   ]
  },
  {
   "cell_type": "code",
   "execution_count": 106,
   "metadata": {},
   "outputs": [
    {
     "ename": "FileExistsError",
     "evalue": "[Errno 17] File exists: 'css/america/asdas/sad/dfgd'",
     "output_type": "error",
     "traceback": [
      "\u001b[0;31m---------------------------------------------------------------------------\u001b[0m",
      "\u001b[0;31mFileExistsError\u001b[0m                           Traceback (most recent call last)",
      "Cell \u001b[0;32mIn[106], line 1\u001b[0m\n\u001b[0;32m----> 1\u001b[0m \u001b[43mos\u001b[49m\u001b[38;5;241;43m.\u001b[39;49m\u001b[43mmakedirs\u001b[49m\u001b[43m(\u001b[49m\u001b[43mnew_path\u001b[49m\u001b[43m,\u001b[49m\u001b[43m \u001b[49m\u001b[43mexist_ok\u001b[49m\u001b[38;5;241;43m=\u001b[39;49m\u001b[38;5;28;43;01mFalse\u001b[39;49;00m\u001b[43m)\u001b[49m\n",
      "File \u001b[0;32m<frozen os>:225\u001b[0m, in \u001b[0;36mmakedirs\u001b[0;34m(name, mode, exist_ok)\u001b[0m\n",
      "\u001b[0;31mFileExistsError\u001b[0m: [Errno 17] File exists: 'css/america/asdas/sad/dfgd'"
     ]
    }
   ],
   "source": [
    "os.makedirs(new_path, exist_ok=False)"
   ]
  },
  {
   "cell_type": "code",
   "execution_count": 107,
   "metadata": {},
   "outputs": [
    {
     "name": "stdout",
     "output_type": "stream",
     "text": [
      "\u001b[01;34m.\u001b[00m\n",
      "├── a_os_module.ipynb\n",
      "└── \u001b[01;34mcss\u001b[00m\n",
      "    └── \u001b[01;34mamerica\u001b[00m\n",
      "        └── \u001b[01;34masdas\u001b[00m\n",
      "            └── \u001b[01;34msad\u001b[00m\n",
      "                └── \u001b[01;34mdfgd\u001b[00m\n",
      "\n",
      "5 directories, 1 file\n"
     ]
    },
    {
     "data": {
      "text/plain": [
       "0"
      ]
     },
     "execution_count": 107,
     "metadata": {},
     "output_type": "execute_result"
    }
   ],
   "source": [
    "os.system('tree')"
   ]
  },
  {
   "cell_type": "code",
   "execution_count": 108,
   "metadata": {},
   "outputs": [
    {
     "data": {
      "text/plain": [
       "4096"
      ]
     },
     "execution_count": 108,
     "metadata": {},
     "output_type": "execute_result"
    }
   ],
   "source": [
    "os.path.getsize('css')"
   ]
  },
  {
   "cell_type": "code",
   "execution_count": 109,
   "metadata": {},
   "outputs": [
    {
     "data": {
      "text/plain": [
       "1735052194.9749105"
      ]
     },
     "execution_count": 109,
     "metadata": {},
     "output_type": "execute_result"
    }
   ],
   "source": [
    "os.path.getctime('css')"
   ]
  },
  {
   "cell_type": "code",
   "execution_count": 110,
   "metadata": {},
   "outputs": [
    {
     "data": {
      "text/plain": [
       "os.stat_result(st_mode=16895, st_ino=1842267, st_dev=1797, st_nlink=3, st_uid=1000, st_gid=1000, st_size=4096, st_atime=1735052196, st_mtime=1735052194, st_ctime=1735052194)"
      ]
     },
     "execution_count": 110,
     "metadata": {},
     "output_type": "execute_result"
    }
   ],
   "source": [
    "os.stat('css')"
   ]
  },
  {
   "cell_type": "code",
   "execution_count": 111,
   "metadata": {},
   "outputs": [
    {
     "data": {
      "text/plain": [
       "1735052194.9749105"
      ]
     },
     "execution_count": 111,
     "metadata": {},
     "output_type": "execute_result"
    }
   ],
   "source": [
    "os.stat('css').st_ctime"
   ]
  },
  {
   "cell_type": "markdown",
   "metadata": {},
   "source": [
    "### Attributes which work only on Linux\n"
   ]
  },
  {
   "cell_type": "code",
   "execution_count": 112,
   "metadata": {},
   "outputs": [
    {
     "data": {
      "text/plain": [
       "(18.73, 7.15, 2.71)"
      ]
     },
     "execution_count": 112,
     "metadata": {},
     "output_type": "execute_result"
    }
   ],
   "source": [
    "# os.getloadavg(): This function returns the system load average over the last 1, 5, and 15 minutes as a tuple.\n",
    "#  This function is not available on Windows.\n",
    "\n",
    "os.getloadavg()\n"
   ]
  },
  {
   "cell_type": "code",
   "execution_count": 113,
   "metadata": {},
   "outputs": [
    {
     "data": {
      "text/plain": [
       "os.statvfs_result(f_bsize=4096, f_frsize=4096, f_blocks=8211920, f_bfree=5418269, f_bavail=4994745, f_files=2097152, f_ffree=1788796, f_favail=1788796, f_flag=4100, f_namemax=255)"
      ]
     },
     "execution_count": 113,
     "metadata": {},
     "output_type": "execute_result"
    }
   ],
   "source": [
    "# os.statvfs(): This function returns information about a file system such as the total size, free space, and file system block size. This function is not available on Windows.\n",
    "\n",
    "os.statvfs('css')"
   ]
  },
  {
   "cell_type": "markdown",
   "metadata": {},
   "source": [
    "```\n",
    "os.pipe(): This function creates a pair of connected file descriptors, which can be used for interprocess communication. This function is not available on Windows.\n",
    "\n",
    "os.chroot(): This function changes the root directory of the current process to the specified directory. This function is not available on Windows.\n",
    "\n",
    "os.fchown(): This function changes the owner and group of a file, given the file descriptor. This function is not available on Windows.\n",
    "\n",
    "os.setresuid(): This function sets the real, effective, and saved user IDs of the current process. This function is not available on Windows.\n",
    "\n",
    "os.setresgid(): This function sets the real, effective, and saved group IDs of the current process. This function is not available on Windows.\n",
    "```"
   ]
  }
 ],
 "metadata": {
  "kernelspec": {
   "display_name": ".venv",
   "language": "python",
   "name": "python3"
  },
  "language_info": {
   "codemirror_mode": {
    "name": "ipython",
    "version": 3
   },
   "file_extension": ".py",
   "mimetype": "text/x-python",
   "name": "python",
   "nbconvert_exporter": "python",
   "pygments_lexer": "ipython3",
   "version": "3.12.1"
  }
 },
 "nbformat": 4,
 "nbformat_minor": 2
}
